{
 "cells": [
  {
   "cell_type": "code",
   "execution_count": 2,
   "metadata": {},
   "outputs": [],
   "source": [
    "import pandas as pd"
   ]
  },
  {
   "cell_type": "code",
   "execution_count": 3,
   "metadata": {},
   "outputs": [],
   "source": [
    "#Import Deer VertNet Data\n",
    "deer = pd.read_csv(\"https://de.cyverse.org/dl/d/126821C9-D23A-4B22-9B3F-25F19311066E/ODOVIRGCLEAN.csv\")"
   ]
  },
  {
   "cell_type": "code",
   "execution_count": 4,
   "metadata": {},
   "outputs": [],
   "source": [
    "#Rearrange columns so that template columns are first, followed by measurement values\n",
    "\n",
    "#Create column list\n",
    "cols = deer.columns.tolist()\n",
    "\n",
    "#Specify desired columns\n",
    "cols = ['catalognumber',\n",
    "        'collectioncode',\n",
    "        'decimallatitude',\n",
    "        'decimallongitude',\n",
    "        'eventdate',\n",
    "        'institutioncode',\n",
    "        'lifestage',\n",
    "        'locality',\n",
    "        'sex',\n",
    "        'scientificname',\n",
    "        '1st_body_mass',\n",
    "        '1st_ear_length',\n",
    "        '1st_hind_foot_length',\n",
    "        '1st_tail_length',\n",
    "        '1st_total_length']\n",
    "\n",
    "#Subset dataframe\n",
    "deer = deer[cols]"
   ]
  },
  {
   "cell_type": "code",
   "execution_count": 5,
   "metadata": {},
   "outputs": [],
   "source": [
    "#Matching template and column terms\n",
    "\n",
    "#Renaming columns \n",
    "deer = deer.rename(columns = {'catalognumber':'catalogNumber', \n",
    "                            'collectioncode':'collectionCode',\n",
    "                            'decimallatitude':'decimalLatitude',\n",
    "                            'decimallongitude':'decimalLongitude',\n",
    "                            'eventdate':'verbatimEventDate',\n",
    "                            'institutioncode' :'institutionCode',\n",
    "                            'lifestage':'verbatimAgeValue',\n",
    "                            'locality':'verbatimLocality',\n",
    "                            'scientificname':'scientificName'})\n"
   ]
  },
  {
   "cell_type": "code",
   "execution_count": 6,
   "metadata": {},
   "outputs": [],
   "source": [
    "#Matching trait and ontology terms\n",
    "\n",
    "#Renaming columns\n",
    "deer = deer.rename(columns={'1st_body_mass':'body mass',\n",
    "                            '1st_ear_length': 'ear length',\n",
    "                            '1st_hind_foot_length':'hind foot length',\n",
    "                            '1st_tail_length':'tail length',\n",
    "                            '1st_total_length':'full body length'})\n"
   ]
  },
  {
   "cell_type": "code",
   "execution_count": null,
   "metadata": {},
   "outputs": [],
   "source": [
    "#create new column individualID that has a unique identifer (e.g., collectionCode, insitutionCode, catalogNumber)"
   ]
  },
  {
   "cell_type": "code",
   "execution_count": null,
   "metadata": {},
   "outputs": [],
   "source": [
    "#create new column basisOfRecord which is \"preservedSpecimen\""
   ]
  },
  {
   "cell_type": "code",
   "execution_count": 7,
   "metadata": {},
   "outputs": [],
   "source": [
    "#create long version so that each trait has its own row\n",
    "\n",
    "#creating long version, first specifiying keep variables, then naming variable and value\n",
    "longVers=pd.melt(deer, \n",
    "                id_vars=['catalogNumber', \n",
    "                'collectionCode',\n",
    "                'decimalLatitude',\n",
    "                'decimalLongitude', \n",
    "                'verbatimEventDate', \n",
    "                'institutionCode',\n",
    "                'lifeStage',\n",
    "                'verbatimLocality',\n",
    "                'sex',\n",
    "                'scientificName'], \n",
    "        var_name = 'measurementType', \n",
    "        value_name = 'measurementValue')\n",
    "\n",
    "                                \n",
    "#Writing long data csv file\n",
    "longVers.to_csv('Deer_Data_Long.csv')"
   ]
  },
  {
   "cell_type": "code",
   "execution_count": null,
   "metadata": {},
   "outputs": [],
   "source": [
    "#create materialSampleID which is a UUID for each measurement"
   ]
  },
  {
   "cell_type": "code",
   "execution_count": null,
   "metadata": {},
   "outputs": [],
   "source": []
  }
 ],
 "metadata": {
  "kernelspec": {
   "display_name": "Python 3",
   "language": "python",
   "name": "python3"
  },
  "language_info": {
   "codemirror_mode": {
    "name": "ipython",
    "version": 3
   },
   "file_extension": ".py",
   "mimetype": "text/x-python",
   "name": "python",
   "nbconvert_exporter": "python",
   "pygments_lexer": "ipython3",
   "version": "3.7.1"
  }
 },
 "nbformat": 4,
 "nbformat_minor": 2
}
