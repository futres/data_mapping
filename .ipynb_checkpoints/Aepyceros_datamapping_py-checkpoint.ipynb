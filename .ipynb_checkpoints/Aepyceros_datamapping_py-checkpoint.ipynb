{
 "cells": [
  {
   "cell_type": "code",
   "execution_count": 2,
   "metadata": {},
   "outputs": [],
   "source": [
    "import pandas as pd"
   ]
  },
  {
   "cell_type": "code",
   "execution_count": 7,
   "metadata": {},
   "outputs": [],
   "source": [
    "#Import Aepyceros Data\n",
    "aepyceros = pd.read_csv(\"Aepyceros.csv\")"
   ]
  },
  {
   "cell_type": "code",
   "execution_count": null,
   "metadata": {},
   "outputs": [],
   "source": [
    "#Make necessary conversions\n",
    "\n",
    "\n"
   ]
  },
  {
   "cell_type": "code",
   "execution_count": 9,
   "metadata": {},
   "outputs": [],
   "source": [
    "#Rearrange columns so that template columns are first, followed by measurement values\n",
    "\n",
    "#Create column list\n",
    "cols = aepyceros.columns.tolist()\n",
    "\n",
    "#Specify desired columns\n",
    "cols = ['Museum',\n",
    "        'Specimen #',\n",
    "        'Species',\n",
    "        'SEX',\n",
    "        'Country/Continent',\n",
    "        'State/Province',\n",
    "        'Weight',\n",
    "        'Humerus Length',#fovt name?\n",
    "        'Medapodial Length',#fovt name?\n",
    "        'Medapodial Width AP',#fovt name?\n",
    "        'Medapodial Width ML',#fovt name?\n",
    "        'Astragalus Length',#fovt name?\n",
    "        'Astragalus Width',#fovt name?\n",
    "        'Femur Length']\n",
    "\n",
    "#Subset dataframe\n",
    "aepyceros = aepyceros[cols]"
   ]
  },
  {
   "cell_type": "code",
   "execution_count": 13,
   "metadata": {},
   "outputs": [],
   "source": [
    "#Matching template and column terms\n",
    "\n",
    "#Renaming columns \n",
    "aepyceros = aepyceros.rename(columns = {'Museum':'institutionCode',\n",
    "                                        'Specimen #':'individualID',\n",
    "                                        'Species':'scientificName',\n",
    "                                        'SEX':'sex'\n",
    "                                        'Country/Continent':'country'\n",
    "                                        'State/Province':'stateP'})"
   ]
  },
  {
   "cell_type": "code",
   "execution_count": 14,
   "metadata": {},
   "outputs": [],
   "source": [
    "#Matching trait and ontology terms\n",
    "\n",
    "#Renaming columns\n",
    "aepyceros = aepyceros.rename(columns={'Weight':'body mass'\n",
    "                                      'Femur Length':'femur length'})\n",
    "\n"
   ]
  },
  {
   "cell_type": "code",
   "execution_count": 15,
   "metadata": {},
   "outputs": [],
   "source": [
    "#create long version so that each trait has its own row\n",
    "\n",
    "#creating long version, first specifiying keep variables, then naming variable and value\n",
    "longVers=pd.melt(aepyceros, \n",
    "                id_vars=['institutionCode',\n",
    "                         'individualID',\n",
    "                         'scientificName',\n",
    "                         'sex',\n",
    "                         'country',\n",
    "                         'stateP'], \n",
    "                var_name = 'trait', \n",
    "                value_name = 'measurement')\n",
    "\n",
    "                                \n",
    "#Writing long data csv file\n",
    "longVers.to_csv('Aepyceros_Data_Long.csv')"
   ]
  },
  {
   "cell_type": "code",
   "execution_count": null,
   "metadata": {},
   "outputs": [],
   "source": []
  }
 ],
 "metadata": {
  "kernelspec": {
   "display_name": "Python 3",
   "language": "python",
   "name": "python3"
  },
  "language_info": {
   "codemirror_mode": {
    "name": "ipython",
    "version": 3
   },
   "file_extension": ".py",
   "mimetype": "text/x-python",
   "name": "python",
   "nbconvert_exporter": "python",
   "pygments_lexer": "ipython3",
   "version": "3.7.4"
  }
 },
 "nbformat": 4,
 "nbformat_minor": 2
}
