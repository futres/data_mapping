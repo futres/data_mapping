{
 "cells": [
  {
   "cell_type": "code",
   "execution_count": 32,
   "metadata": {},
   "outputs": [],
   "source": [
    "import pandas as pd"
   ]
  },
  {
   "cell_type": "code",
   "execution_count": 33,
   "metadata": {},
   "outputs": [],
   "source": [
    "#Import Biogeo Data\n",
    "biogeo = pd.read_csv(\"biogeo.csv\")"
   ]
  },
  {
   "cell_type": "code",
   "execution_count": 34,
   "metadata": {},
   "outputs": [],
   "source": [
    "#Make necessary conversions\n",
    "\n",
    "#Convert elevation.ft values from feet to meters\n",
    "#1 foot is exactly 0.3048 meters\n",
    "biogeo['elevation.ft']=biogeo['elevation.ft'].multiply(0.3048)\n",
    "\n",
    "#Add measurementUnit column \n",
    "\n",
    "\n",
    "\n",
    "\n",
    "\n",
    "\n"
   ]
  },
  {
   "cell_type": "code",
   "execution_count": 35,
   "metadata": {},
   "outputs": [],
   "source": [
    "#Rearrange columns so that template columns are first, followed by measurement values\n",
    "\n",
    "#Create column list\n",
    "cols = biogeo.columns.tolist()\n",
    "\n",
    "#Specify desired columns\n",
    "cols = ['Specimen.Number',\n",
    "        'dec.lat',\n",
    "        'dec.long',  \n",
    "        'max.error',\n",
    "        'datum',\n",
    "        'elevation.ft',\n",
    "        'ear.length.mm',\n",
    "        'hind.foot.length.mm',\n",
    "        'tail.length.mm',\n",
    "        'total.length.mm',\n",
    "        'body.mass.g']\n",
    "\n",
    "#Do these need conversions?\n",
    "#max.error\n",
    "#elevation.ft\n",
    "#ear.length.mm\n",
    "#hind.foot.length.mm\n",
    "#tail.length.mm\n",
    "#total.length.mm\n",
    "#body.mass.g\n",
    "\n",
    "#Subset dataframe\n",
    "biogeo = biogeo[cols]"
   ]
  },
  {
   "cell_type": "code",
   "execution_count": 36,
   "metadata": {},
   "outputs": [],
   "source": [
    "#Matching template and column terms\n",
    "\n",
    "#Renaming columns \n",
    "biogeo = biogeo.rename(columns = {'Specimen.Number':'individualID', \n",
    "                                  'dec.lat':'decimalLatitude', \n",
    "                                  'dec.long':'decimalLongitude',  \n",
    "                                  'max.error':'coordinateUncertaintyInMeters', \n",
    "                                  'elevation.ft':'pointElevationInMeters'})"
   ]
  },
  {
   "cell_type": "code",
   "execution_count": 37,
   "metadata": {},
   "outputs": [],
   "source": [
    "#Matching trait and ontology terms\n",
    "\n",
    "#Renaming columns\n",
    "biogeo = biogeo.rename(columns={'ear.length.mm':'ear length',\n",
    "                                'hind.foot.length.mm':'hind foot length',\n",
    "                                'tail.length.mm': 'tail length',\n",
    "                                'total.length.mm':'full body length',\n",
    "                                'body.mass.g':'body mass'})"
   ]
  },
  {
   "cell_type": "code",
   "execution_count": 39,
   "metadata": {},
   "outputs": [],
   "source": [
    "#create long version so that each trait has its own row\n",
    "\n",
    "#creating long version, first specifiying keep variables, then naming variable and value\n",
    "longVers=pd.melt(biogeo, \n",
    "                id_vars=['individualID',\n",
    "                'decimalLatitude',\n",
    "                'decimalLongitude',  \n",
    "                'coordinateUncertaintyInMeters',\n",
    "                'datum',\n",
    "                'pointElevationInMeters'], \n",
    "                var_name = 'trait', \n",
    "                value_name = 'measurement')\n",
    "                    \n",
    "#Writing long data csv file\n",
    "longVers.to_csv('Biogeo_Data_Long.csv')"
   ]
  },
  {
   "cell_type": "code",
   "execution_count": null,
   "metadata": {},
   "outputs": [],
   "source": []
  }
 ],
 "metadata": {
  "kernelspec": {
   "display_name": "Python 3",
   "language": "python",
   "name": "python3"
  },
  "language_info": {
   "codemirror_mode": {
    "name": "ipython",
    "version": 3
   },
   "file_extension": ".py",
   "mimetype": "text/x-python",
   "name": "python",
   "nbconvert_exporter": "python",
   "pygments_lexer": "ipython3",
   "version": "3.7.4"
  }
 },
 "nbformat": 4,
 "nbformat_minor": 2
}
