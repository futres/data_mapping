{
 "cells": [
  {
   "cell_type": "code",
   "execution_count": 2,
   "metadata": {},
   "outputs": [],
   "source": [
    "import pandas as pd\n",
    "import numpy"
   ]
  },
  {
   "cell_type": "code",
   "execution_count": 5,
   "metadata": {},
   "outputs": [],
   "source": [
    "#data\n",
    "ray = pd.read_csv(\"https://de.cyverse.org/dl/d/16030E74-A54F-44B2-AA03-76B1A49FCA49/1.FuTRESEquidDbase_6_24_2019.csv\", low_memory=False)\n",
    "\n",
    "#reference for bone abbreviations in the \"ray\" dataset\n",
    "boneAppr = pd.read_csv(\"https://de.cyverse.org/dl/d/C82D7659-5503-455B-8F7F-883DC3F1BAE0/BoneAbbr.csv\", low_memory=False)\n",
    "\n",
    "#reference for locality numbers in the \"ray\" dataset\n",
<<<<<<< HEAD
    "locality = pd.read_csv(\"https://de.cyverse.org/dl/d/736F420E-6474-45F0-82EE-6A43D1703DE2/2.LOCAL_6_24_2019FuTRESPROTECTED.csv\" low_memory=False)\n",
=======
    "locality = pd.read_csv(\"https://de.cyverse.org/dl/d/736F420E-6474-45F0-82EE-6A43D1703DE2/2.LOCAL_6_24_2019FuTRESPROTECTED.csv\", low_memory=False)\n",
>>>>>>> 43acf50b37534abdeaf86134bf2a5181d826f86a
    "\n"
   ]
  },
  {
   "cell_type": "code",
   "execution_count": 5,
   "metadata": {},
   "outputs": [],
   "source": [
    "#get rid of protected sites; these sites cannot yet be ingested\n",
    "notProtected = ray['PROTECTED = P']!= \"P\"\n",
    "ray_safe = ray[notProtected]\n"
   ]
  },
  {
   "cell_type": "code",
   "execution_count": 6,
   "metadata": {},
   "outputs": [
    {
     "ename": "NameError",
     "evalue": "name 'ray_safe' is not defined",
     "output_type": "error",
     "traceback": [
      "\u001b[0;31m---------------------------------------------------------------------------\u001b[0m",
      "\u001b[0;31mNameError\u001b[0m                                 Traceback (most recent call last)",
      "\u001b[0;32m<ipython-input-6-ea6d4a72f389>\u001b[0m in \u001b[0;36m<module>\u001b[0;34m\u001b[0m\n\u001b[1;32m      3\u001b[0m \u001b[0;32mfrom\u001b[0m \u001b[0mpandas\u001b[0m\u001b[0;34m.\u001b[0m\u001b[0mutil\u001b[0m\u001b[0;34m.\u001b[0m\u001b[0mtesting\u001b[0m \u001b[0;32mimport\u001b[0m \u001b[0massert_frame_equal\u001b[0m\u001b[0;34m\u001b[0m\u001b[0;34m\u001b[0m\u001b[0m\n\u001b[1;32m      4\u001b[0m \u001b[0;34m\u001b[0m\u001b[0m\n\u001b[0;32m----> 5\u001b[0;31m \u001b[0mray_ID\u001b[0m\u001b[0;34m=\u001b[0m\u001b[0mray_safe\u001b[0m\u001b[0;34m[\u001b[0m\u001b[0;34m[\u001b[0m\u001b[0;34m'COUNTRY'\u001b[0m\u001b[0;34m,\u001b[0m\u001b[0;34m'LOCALITY'\u001b[0m\u001b[0;34m]\u001b[0m\u001b[0;34m]\u001b[0m\u001b[0;34m\u001b[0m\u001b[0;34m\u001b[0m\u001b[0m\n\u001b[0m\u001b[1;32m      6\u001b[0m \u001b[0mlocality_ID\u001b[0m\u001b[0;34m=\u001b[0m\u001b[0mlocality\u001b[0m\u001b[0;34m[\u001b[0m\u001b[0;34m[\u001b[0m\u001b[0;34m'COUNTRY No'\u001b[0m\u001b[0;34m,\u001b[0m \u001b[0;34m'LOCALITY No.'\u001b[0m\u001b[0;34m]\u001b[0m\u001b[0;34m]\u001b[0m\u001b[0;34m\u001b[0m\u001b[0;34m\u001b[0m\u001b[0m\n\u001b[1;32m      7\u001b[0m \u001b[0;34m\u001b[0m\u001b[0m\n",
      "\u001b[0;31mNameError\u001b[0m: name 'ray_safe' is not defined"
     ]
    }
   ],
   "source": [
    "#replace locality and country #s with actual names\n",
    "\n",
    "from pandas.util.testing import assert_frame_equal\n",
    "\n",
    "ray_ID=ray_safe[['COUNTRY','LOCALITY']]\n",
    "locality_ID=locality[['COUNTRY No', 'LOCALITY No.']]\n",
    "\n",
    "ray_country=ray_ID[\"COUNTRY\"]\n",
    "print(ray_country)\n",
    "loc_country=locality_ID[\"COUNTRY No\"].tolist()\n",
    "#print(loc_country)\n",
    "\n",
    "compare=ray_ID==locality_ID\n",
    "print(compare)\n",
    "\n",
    "#print(ray_ID[[\"LOCALITY\"]])\n",
    "#print(locality_ID[[\"LOCALITY No.\"]])\n",
    "\n",
    "#Trying to loop through ray_country and comparing it to loc_country values\n",
    "#Error: Can only compare identically-labeled DataFrame objects\n",
    "#for x in range(1,len(ray_country)):\n",
    "#    for y in range(1,len(loc_country)):\n",
    "#        if ray_country[x]==loc_country[y]: \n",
    "#            print (ray_country[x])\n",
    "#            print (\"T\")\n",
    "#        else:\n",
    "#            print (\"F\")\n",
    "         \n",
    "\n",
    "#Trying to compare with boolean \n",
    "#Error: Can only compare identically-labeled DataFrame objects\n",
    "#compared_values= ray_ID==locality_ID\n",
    "#print(compared_values)\n",
    "#difference = ray_ID[ray_ID!=locality_ID]\n",
    "#print (difference)\n",
    "#print(ray_ID.reset_index(drop=True) == locality_ID.reset_index(drop=True))\n",
    "\n",
    "#Trying out dictionary method, was still having problems with comparing identically-labeled DataFrame error\n",
    "#creates lists from column values for each spreadsheet\n",
    "#country_ID=ray_safe['COUNTRY'].tolist()\n",
    "#locality_ID=ray_safe['LOCALITY'].tolist()\n",
    "#country_no=locality['COUNTRY No'].tolist()\n",
    "#locality_no=locality['LOCALITY No.'].tolist()\n",
    "\n",
    "#creates dictionaries of each pair of lists per spreadsheet\n",
    "#ray_dict=dict(zip(country_ID, locality_ID))\n",
    "#locality_dict=dict(zip(country_no, locality_no))\n",
    "\n",
    "#for seq in ray_dict:\n",
    "#    print(seq)\n",
    "#    print(\"mew\")\n",
    "#    for seql in locality_dict:\n",
    "#        m = re.search(seq, seql)\n",
    "#        if m:\n",
    "#           print(\"mew\")\n",
    "\n",
    "\n",
    "\n",
    "\n",
    "\n",
    "\n",
    "\n",
    "\n"
   ]
  },
  {
   "cell_type": "code",
   "execution_count": null,
   "metadata": {},
   "outputs": [],
   "source": []
  },
  {
   "cell_type": "code",
   "execution_count": null,
   "metadata": {},
   "outputs": [],
   "source": []
  }
 ],
 "metadata": {
  "kernelspec": {
   "display_name": "Python 3",
   "language": "python",
   "name": "python3"
  },
  "language_info": {
   "codemirror_mode": {
    "name": "ipython",
    "version": 2
   },
   "file_extension": ".py",
   "mimetype": "text/x-python",
   "name": "python",
   "nbconvert_exporter": "python",
   "pygments_lexer": "ipython2",
   "version": "2.7.16"
  }
 },
 "nbformat": 4,
 "nbformat_minor": 2
}
