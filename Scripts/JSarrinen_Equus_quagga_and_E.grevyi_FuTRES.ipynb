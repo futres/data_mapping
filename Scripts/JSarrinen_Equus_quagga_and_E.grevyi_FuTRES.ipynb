{
 "cells": [
  {
   "cell_type": "markdown",
   "id": "082d8718",
   "metadata": {},
   "source": [
    "Data Wrangling Notebook for JSaarinen Equus quagga and E.grevyi data\n",
    "<br />\n",
    "Neeka Sewnath\n",
    "<br />\n",
    "nsewnath@ufl.edu"
   ]
  },
  {
   "cell_type": "code",
   "execution_count": 11,
   "id": "89b86aa0",
   "metadata": {},
   "outputs": [],
   "source": [
    "import pandas as pd\n",
    "import numpy as np\n",
    "import uuid"
   ]
  },
  {
   "cell_type": "markdown",
   "id": "fb33dbd2",
   "metadata": {},
   "source": [
    "Silence unnecessary errors"
   ]
  },
  {
   "cell_type": "code",
   "execution_count": 12,
   "id": "65cc685e",
   "metadata": {},
   "outputs": [],
   "source": [
    "try:\n",
    "    import warnings\n",
    "    warnings.filterwarnings('ignore')\n",
    "except:\n",
    "    pass"
   ]
  },
  {
   "cell_type": "markdown",
   "id": "fa901814",
   "metadata": {},
   "source": [
    "Import JSarrinen Equus quagga and E.grevyi data"
   ]
  },
  {
   "cell_type": "code",
   "execution_count": 13,
   "id": "1d6ad62f",
   "metadata": {},
   "outputs": [],
   "source": [
    "data = pd.read_csv(\"../Original_Data/Equus_quagga_and_E._grevyi_measurement_data.csv\")"
   ]
  },
  {
   "cell_type": "markdown",
   "id": "a83be7b2",
   "metadata": {},
   "source": [
    "Adding additional required GEOME columns"
   ]
  },
  {
   "cell_type": "code",
   "execution_count": 14,
   "id": "1c51563c",
   "metadata": {},
   "outputs": [],
   "source": [
    "data = data.assign(country = \"Unknown\", yearCollected = \"Unknown\", locality = \"Unknown\", basisOfRecord = \"Unknown\")"
   ]
  },
  {
   "cell_type": "markdown",
   "id": "f0221996",
   "metadata": {},
   "source": [
    "Create scientificName column by combining the Genus and Species columns"
   ]
  },
  {
   "cell_type": "code",
   "execution_count": 15,
   "id": "65f61a38",
   "metadata": {},
   "outputs": [],
   "source": [
    "data = data.assign(scientificName = data[\"Genus\"] + \" \" + data[\"species\"])"
   ]
  },
  {
   "cell_type": "markdown",
   "id": "845c994a",
   "metadata": {},
   "source": [
    "Change specimen to individualID"
   ]
  },
  {
   "cell_type": "code",
   "execution_count": 16,
   "id": "1fca9668",
   "metadata": {},
   "outputs": [],
   "source": [
    "data = data.rename(columns = {\"specimen\": \"individualID\"})"
   ]
  },
  {
   "cell_type": "markdown",
   "id": "c8739217",
   "metadata": {},
   "source": [
    "Combine measurement description and measurement codes to form on measurementType column"
   ]
  },
  {
   "cell_type": "code",
   "execution_count": 35,
   "id": "645881a0",
   "metadata": {},
   "outputs": [],
   "source": [
    "#TODO get all these to combine with eachother without carrying \"nan\" over\n",
    "\n",
    "\n",
    "\n",
    "data[\"measurementType\"] = data[\"Measurement description\"].astype(str) + \";\" + data[\"Measurement code (Scott 1990)\"].astype(str) + \";\" + data[\"Measurement code (Alberdi et al. 1995)\"].astype(str)"
   ]
  },
  {
   "cell_type": "code",
   "execution_count": 36,
   "id": "abc2567a",
   "metadata": {},
   "outputs": [
    {
     "data": {
      "text/plain": [
       "Index(['Genus', 'species', 'individualID', 'Measurement description',\n",
       "       'Measurement code (Scott 1990)',\n",
       "       'Measurement code (Alberdi et al. 1995)', 'Measurement (mm)', 'country',\n",
       "       'yearCollected', 'locality', 'basisOfRecord', 'scientificName',\n",
       "       'measurementType'],\n",
       "      dtype='object')"
      ]
     },
     "execution_count": 36,
     "metadata": {},
     "output_type": "execute_result"
    }
   ],
   "source": [
    "data.columns"
   ]
  },
  {
   "cell_type": "code",
   "execution_count": 37,
   "id": "edf78f1f",
   "metadata": {},
   "outputs": [
    {
     "data": {
      "text/html": [
       "<div>\n",
       "<style scoped>\n",
       "    .dataframe tbody tr th:only-of-type {\n",
       "        vertical-align: middle;\n",
       "    }\n",
       "\n",
       "    .dataframe tbody tr th {\n",
       "        vertical-align: top;\n",
       "    }\n",
       "\n",
       "    .dataframe thead th {\n",
       "        text-align: right;\n",
       "    }\n",
       "</style>\n",
       "<table border=\"1\" class=\"dataframe\">\n",
       "  <thead>\n",
       "    <tr style=\"text-align: right;\">\n",
       "      <th></th>\n",
       "      <th>Genus</th>\n",
       "      <th>species</th>\n",
       "      <th>individualID</th>\n",
       "      <th>Measurement description</th>\n",
       "      <th>Measurement code (Scott 1990)</th>\n",
       "      <th>Measurement code (Alberdi et al. 1995)</th>\n",
       "      <th>Measurement (mm)</th>\n",
       "      <th>country</th>\n",
       "      <th>yearCollected</th>\n",
       "      <th>locality</th>\n",
       "      <th>basisOfRecord</th>\n",
       "      <th>scientificName</th>\n",
       "      <th>measurementType</th>\n",
       "    </tr>\n",
       "  </thead>\n",
       "  <tbody>\n",
       "    <tr>\n",
       "      <th>0</th>\n",
       "      <td>Equus</td>\n",
       "      <td>quagga</td>\n",
       "      <td>SMNS6708</td>\n",
       "      <td>Femur minimum diaphysis width</td>\n",
       "      <td>F6</td>\n",
       "      <td>NaN</td>\n",
       "      <td>37.09</td>\n",
       "      <td>Unknown</td>\n",
       "      <td>Unknown</td>\n",
       "      <td>Unknown</td>\n",
       "      <td>Unknown</td>\n",
       "      <td>Equus quagga</td>\n",
       "      <td>Femur minimum diaphysis width;F6;nan</td>\n",
       "    </tr>\n",
       "    <tr>\n",
       "      <th>1</th>\n",
       "      <td>Equus</td>\n",
       "      <td>quagga</td>\n",
       "      <td>SMNS6709</td>\n",
       "      <td>Femur minimum diaphysis width</td>\n",
       "      <td>F6</td>\n",
       "      <td>NaN</td>\n",
       "      <td>37.29</td>\n",
       "      <td>Unknown</td>\n",
       "      <td>Unknown</td>\n",
       "      <td>Unknown</td>\n",
       "      <td>Unknown</td>\n",
       "      <td>Equus quagga</td>\n",
       "      <td>Femur minimum diaphysis width;F6;nan</td>\n",
       "    </tr>\n",
       "    <tr>\n",
       "      <th>2</th>\n",
       "      <td>Equus</td>\n",
       "      <td>quagga</td>\n",
       "      <td>SMNS7335</td>\n",
       "      <td>Femur minimum diaphysis width</td>\n",
       "      <td>F6</td>\n",
       "      <td>NaN</td>\n",
       "      <td>38.54</td>\n",
       "      <td>Unknown</td>\n",
       "      <td>Unknown</td>\n",
       "      <td>Unknown</td>\n",
       "      <td>Unknown</td>\n",
       "      <td>Equus quagga</td>\n",
       "      <td>Femur minimum diaphysis width;F6;nan</td>\n",
       "    </tr>\n",
       "    <tr>\n",
       "      <th>3</th>\n",
       "      <td>Equus</td>\n",
       "      <td>quagga</td>\n",
       "      <td>SMNS6708</td>\n",
       "      <td>Femur maximum distal width</td>\n",
       "      <td>F5</td>\n",
       "      <td>NaN</td>\n",
       "      <td>89.28</td>\n",
       "      <td>Unknown</td>\n",
       "      <td>Unknown</td>\n",
       "      <td>Unknown</td>\n",
       "      <td>Unknown</td>\n",
       "      <td>Equus quagga</td>\n",
       "      <td>Femur maximum distal width;F5;nan</td>\n",
       "    </tr>\n",
       "    <tr>\n",
       "      <th>4</th>\n",
       "      <td>Equus</td>\n",
       "      <td>quagga</td>\n",
       "      <td>SMNS6709</td>\n",
       "      <td>Femur maximum distal width</td>\n",
       "      <td>F5</td>\n",
       "      <td>NaN</td>\n",
       "      <td>86.73</td>\n",
       "      <td>Unknown</td>\n",
       "      <td>Unknown</td>\n",
       "      <td>Unknown</td>\n",
       "      <td>Unknown</td>\n",
       "      <td>Equus quagga</td>\n",
       "      <td>Femur maximum distal width;F5;nan</td>\n",
       "    </tr>\n",
       "    <tr>\n",
       "      <th>...</th>\n",
       "      <td>...</td>\n",
       "      <td>...</td>\n",
       "      <td>...</td>\n",
       "      <td>...</td>\n",
       "      <td>...</td>\n",
       "      <td>...</td>\n",
       "      <td>...</td>\n",
       "      <td>...</td>\n",
       "      <td>...</td>\n",
       "      <td>...</td>\n",
       "      <td>...</td>\n",
       "      <td>...</td>\n",
       "      <td>...</td>\n",
       "    </tr>\n",
       "    <tr>\n",
       "      <th>379</th>\n",
       "      <td>Equus</td>\n",
       "      <td>grevyi</td>\n",
       "      <td>USNM182027</td>\n",
       "      <td>M1 length</td>\n",
       "      <td>NaN</td>\n",
       "      <td>NaN</td>\n",
       "      <td>23.70</td>\n",
       "      <td>Unknown</td>\n",
       "      <td>Unknown</td>\n",
       "      <td>Unknown</td>\n",
       "      <td>Unknown</td>\n",
       "      <td>Equus grevyi</td>\n",
       "      <td>M1 length;nan;nan</td>\n",
       "    </tr>\n",
       "    <tr>\n",
       "      <th>380</th>\n",
       "      <td>Equus</td>\n",
       "      <td>grevyi</td>\n",
       "      <td>USNM182028</td>\n",
       "      <td>M1 length</td>\n",
       "      <td>NaN</td>\n",
       "      <td>NaN</td>\n",
       "      <td>25.60</td>\n",
       "      <td>Unknown</td>\n",
       "      <td>Unknown</td>\n",
       "      <td>Unknown</td>\n",
       "      <td>Unknown</td>\n",
       "      <td>Equus grevyi</td>\n",
       "      <td>M1 length;nan;nan</td>\n",
       "    </tr>\n",
       "    <tr>\n",
       "      <th>381</th>\n",
       "      <td>Equus</td>\n",
       "      <td>grevyi</td>\n",
       "      <td>USNM182063</td>\n",
       "      <td>M1 length</td>\n",
       "      <td>NaN</td>\n",
       "      <td>NaN</td>\n",
       "      <td>27.70</td>\n",
       "      <td>Unknown</td>\n",
       "      <td>Unknown</td>\n",
       "      <td>Unknown</td>\n",
       "      <td>Unknown</td>\n",
       "      <td>Equus grevyi</td>\n",
       "      <td>M1 length;nan;nan</td>\n",
       "    </tr>\n",
       "    <tr>\n",
       "      <th>382</th>\n",
       "      <td>Equus</td>\n",
       "      <td>grevyi</td>\n",
       "      <td>USNM199079</td>\n",
       "      <td>M1 length</td>\n",
       "      <td>NaN</td>\n",
       "      <td>NaN</td>\n",
       "      <td>23.20</td>\n",
       "      <td>Unknown</td>\n",
       "      <td>Unknown</td>\n",
       "      <td>Unknown</td>\n",
       "      <td>Unknown</td>\n",
       "      <td>Equus grevyi</td>\n",
       "      <td>M1 length;nan;nan</td>\n",
       "    </tr>\n",
       "    <tr>\n",
       "      <th>383</th>\n",
       "      <td>Equus</td>\n",
       "      <td>grevyi</td>\n",
       "      <td>USNM241009</td>\n",
       "      <td>M1 length</td>\n",
       "      <td>NaN</td>\n",
       "      <td>NaN</td>\n",
       "      <td>21.70</td>\n",
       "      <td>Unknown</td>\n",
       "      <td>Unknown</td>\n",
       "      <td>Unknown</td>\n",
       "      <td>Unknown</td>\n",
       "      <td>Equus grevyi</td>\n",
       "      <td>M1 length;nan;nan</td>\n",
       "    </tr>\n",
       "  </tbody>\n",
       "</table>\n",
       "<p>384 rows × 13 columns</p>\n",
       "</div>"
      ],
      "text/plain": [
       "     Genus species individualID        Measurement description  \\\n",
       "0    Equus  quagga     SMNS6708  Femur minimum diaphysis width   \n",
       "1    Equus  quagga     SMNS6709  Femur minimum diaphysis width   \n",
       "2    Equus  quagga     SMNS7335  Femur minimum diaphysis width   \n",
       "3    Equus  quagga     SMNS6708     Femur maximum distal width   \n",
       "4    Equus  quagga     SMNS6709     Femur maximum distal width   \n",
       "..     ...     ...          ...                            ...   \n",
       "379  Equus  grevyi   USNM182027                      M1 length   \n",
       "380  Equus  grevyi   USNM182028                      M1 length   \n",
       "381  Equus  grevyi   USNM182063                      M1 length   \n",
       "382  Equus  grevyi   USNM199079                      M1 length   \n",
       "383  Equus  grevyi   USNM241009                      M1 length   \n",
       "\n",
       "    Measurement code (Scott 1990) Measurement code (Alberdi et al. 1995)  \\\n",
       "0                              F6                                    NaN   \n",
       "1                              F6                                    NaN   \n",
       "2                              F6                                    NaN   \n",
       "3                              F5                                    NaN   \n",
       "4                              F5                                    NaN   \n",
       "..                            ...                                    ...   \n",
       "379                           NaN                                    NaN   \n",
       "380                           NaN                                    NaN   \n",
       "381                           NaN                                    NaN   \n",
       "382                           NaN                                    NaN   \n",
       "383                           NaN                                    NaN   \n",
       "\n",
       "     Measurement (mm)  country yearCollected locality basisOfRecord  \\\n",
       "0               37.09  Unknown       Unknown  Unknown       Unknown   \n",
       "1               37.29  Unknown       Unknown  Unknown       Unknown   \n",
       "2               38.54  Unknown       Unknown  Unknown       Unknown   \n",
       "3               89.28  Unknown       Unknown  Unknown       Unknown   \n",
       "4               86.73  Unknown       Unknown  Unknown       Unknown   \n",
       "..                ...      ...           ...      ...           ...   \n",
       "379             23.70  Unknown       Unknown  Unknown       Unknown   \n",
       "380             25.60  Unknown       Unknown  Unknown       Unknown   \n",
       "381             27.70  Unknown       Unknown  Unknown       Unknown   \n",
       "382             23.20  Unknown       Unknown  Unknown       Unknown   \n",
       "383             21.70  Unknown       Unknown  Unknown       Unknown   \n",
       "\n",
       "    scientificName                       measurementType  \n",
       "0     Equus quagga  Femur minimum diaphysis width;F6;nan  \n",
       "1     Equus quagga  Femur minimum diaphysis width;F6;nan  \n",
       "2     Equus quagga  Femur minimum diaphysis width;F6;nan  \n",
       "3     Equus quagga     Femur maximum distal width;F5;nan  \n",
       "4     Equus quagga     Femur maximum distal width;F5;nan  \n",
       "..             ...                                   ...  \n",
       "379   Equus grevyi                     M1 length;nan;nan  \n",
       "380   Equus grevyi                     M1 length;nan;nan  \n",
       "381   Equus grevyi                     M1 length;nan;nan  \n",
       "382   Equus grevyi                     M1 length;nan;nan  \n",
       "383   Equus grevyi                     M1 length;nan;nan  \n",
       "\n",
       "[384 rows x 13 columns]"
      ]
     },
     "execution_count": 37,
     "metadata": {},
     "output_type": "execute_result"
    }
   ],
   "source": [
    "data"
   ]
  },
  {
   "cell_type": "code",
   "execution_count": null,
   "id": "d3e7b932",
   "metadata": {},
   "outputs": [],
   "source": []
  }
 ],
 "metadata": {
  "kernelspec": {
   "display_name": "Python 3",
   "language": "python",
   "name": "python3"
  },
  "language_info": {
   "codemirror_mode": {
    "name": "ipython",
    "version": 3
   },
   "file_extension": ".py",
   "mimetype": "text/x-python",
   "name": "python",
   "nbconvert_exporter": "python",
   "pygments_lexer": "ipython3",
   "version": "3.8.10"
  }
 },
 "nbformat": 4,
 "nbformat_minor": 5
}
