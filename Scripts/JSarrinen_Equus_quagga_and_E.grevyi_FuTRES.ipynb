{
 "cells": [
  {
   "cell_type": "markdown",
   "id": "e8dd3c76",
   "metadata": {},
   "source": [
    "Data Wrangling Notebook for JSaarinen Equus quagga and E.grevyi data\n",
    "<br />\n",
    "Neeka Sewnath\n",
    "<br />\n",
    "nsewnath@ufl.edu"
   ]
  },
  {
   "cell_type": "code",
   "execution_count": 3,
   "id": "92cb4c58",
   "metadata": {},
   "outputs": [],
   "source": [
    "import pandas as pd\n",
    "import numpy as np\n",
    "import uuid"
   ]
  },
  {
   "cell_type": "markdown",
   "id": "7e40ca9d",
   "metadata": {},
   "source": [
    "Silence unnecessary errors"
   ]
  },
  {
   "cell_type": "code",
   "execution_count": 4,
   "id": "a5aa6db9",
   "metadata": {},
   "outputs": [],
   "source": [
    "try:\n",
    "    import warnings\n",
    "    warnings.filterwarnings('ignore')\n",
    "except:\n",
    "    pass"
   ]
  },
  {
   "cell_type": "markdown",
   "id": "0248d767",
   "metadata": {},
   "source": [
    "Import JSarrinen Equus quagga and E.grevyi data"
   ]
  },
  {
   "cell_type": "code",
   "execution_count": 5,
   "id": "40eea4f3",
   "metadata": {},
   "outputs": [],
   "source": [
    "data = pd.read_csv(\"../Original_Data/Equus_quagga_and_E._grevyi_measurement_data.csv\")"
   ]
  },
  {
   "cell_type": "markdown",
   "id": "ad23cfa9",
   "metadata": {},
   "source": [
    "Adding additional required GEOME columns"
   ]
  },
  {
   "cell_type": "code",
   "execution_count": 6,
   "id": "5ed21d99",
   "metadata": {},
   "outputs": [],
   "source": [
    "data = data.assign(country = \"Unknown\", yearCollected = \"Unknown\", locality = \"Unknown\", basisOfRecord = \"Unknown\")"
   ]
  },
  {
   "cell_type": "markdown",
   "id": "7f8f4772",
   "metadata": {},
   "source": [
    "Create scientificName column by combining the Genus and Species columns"
   ]
  },
  {
   "cell_type": "code",
   "execution_count": 9,
   "id": "f7d48166",
   "metadata": {},
   "outputs": [],
   "source": [
    "data = data.assign(scientificName = data[\"Genus\"] + \" \" + data[\"species\"])"
   ]
  },
  {
   "cell_type": "markdown",
   "id": "fca2b238",
   "metadata": {},
   "source": [
    "Change specimen to individualID"
   ]
  },
  {
   "cell_type": "code",
   "execution_count": 8,
   "id": "b38b3e78",
   "metadata": {},
   "outputs": [],
   "source": [
    "data = data.rename(columns = {\"specimen\": \"individualID\"})"
   ]
  },
  {
   "cell_type": "markdown",
   "id": "ee685241",
   "metadata": {},
   "source": [
    "TODO: How to process individuals with two codes associated with it (from two sampling protocols?)"
   ]
  },
  {
   "cell_type": "code",
   "execution_count": null,
   "id": "2eb45183",
   "metadata": {},
   "outputs": [],
   "source": []
  }
 ],
 "metadata": {
  "kernelspec": {
   "display_name": "Python 3",
   "language": "python",
   "name": "python3"
  },
  "language_info": {
   "codemirror_mode": {
    "name": "ipython",
    "version": 3
   },
   "file_extension": ".py",
   "mimetype": "text/x-python",
   "name": "python",
   "nbconvert_exporter": "python",
   "pygments_lexer": "ipython3",
   "version": "3.8.10"
  }
 },
 "nbformat": 4,
 "nbformat_minor": 5
}
