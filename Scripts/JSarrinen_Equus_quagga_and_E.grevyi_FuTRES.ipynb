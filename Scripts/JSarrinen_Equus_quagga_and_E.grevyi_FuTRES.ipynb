{
 "cells": [
  {
   "cell_type": "markdown",
   "id": "082d8718",
   "metadata": {},
   "source": [
    "Data Wrangling Notebook for JSaarinen Equus quagga and E.grevyi data\n",
    "<br />\n",
    "Neeka Sewnath\n",
    "<br />\n",
    "nsewnath@ufl.edu"
   ]
  },
  {
   "cell_type": "code",
   "execution_count": 3,
   "id": "89b86aa0",
   "metadata": {},
   "outputs": [],
   "source": [
    "import pandas as pd\n",
    "import numpy as np\n",
    "import uuid"
   ]
  },
  {
   "cell_type": "markdown",
   "id": "fb33dbd2",
   "metadata": {},
   "source": [
    "Silence unnecessary errors"
   ]
  },
  {
   "cell_type": "code",
   "execution_count": 4,
   "id": "65cc685e",
   "metadata": {},
   "outputs": [],
   "source": [
    "try:\n",
    "    import warnings\n",
    "    warnings.filterwarnings('ignore')\n",
    "except:\n",
    "    pass"
   ]
  },
  {
   "cell_type": "markdown",
   "id": "fa901814",
   "metadata": {},
   "source": [
    "Import JSarrinen Equus quagga and E.grevyi data"
   ]
  },
  {
   "cell_type": "code",
   "execution_count": 5,
   "id": "1d6ad62f",
   "metadata": {},
   "outputs": [],
   "source": [
    "data = pd.read_csv(\"../Original_Data/Equus_quagga_and_E._grevyi_measurement_data.csv\")"
   ]
  },
  {
   "cell_type": "markdown",
   "id": "a83be7b2",
   "metadata": {},
   "source": [
    "Adding additional required GEOME columns"
   ]
  },
  {
   "cell_type": "code",
   "execution_count": 6,
   "id": "1c51563c",
   "metadata": {},
   "outputs": [],
   "source": [
    "data = data.assign(country = \"Unknown\", yearCollected = \"Unknown\", locality = \"Unknown\", basisOfRecord = \"Unknown\")"
   ]
  },
  {
   "cell_type": "markdown",
   "id": "f0221996",
   "metadata": {},
   "source": [
    "Create scientificName column by combining the Genus and Species columns"
   ]
  },
  {
   "cell_type": "code",
   "execution_count": 9,
   "id": "65f61a38",
   "metadata": {},
   "outputs": [],
   "source": [
    "data = data.assign(scientificName = data[\"Genus\"] + \" \" + data[\"species\"])"
   ]
  },
  {
   "cell_type": "markdown",
   "id": "845c994a",
   "metadata": {},
   "source": [
    "Change specimen to individualID"
   ]
  },
  {
   "cell_type": "code",
   "execution_count": 8,
   "id": "1fca9668",
   "metadata": {},
   "outputs": [],
   "source": [
    "data = data.rename(columns = {\"specimen\": \"individualID\"})"
   ]
  },
  {
   "cell_type": "markdown",
   "id": "90db13be",
   "metadata": {},
   "source": [
    "TODO: How to process individuals with two codes associated with it (from two sampling protocols?)"
   ]
  },
  {
   "cell_type": "markdown",
   "id": "84b58d82",
   "metadata": {},
   "source": [
    "TODO: Process traits with associated codes"
   ]
  },
  {
   "cell_type": "code",
   "execution_count": null,
   "id": "8381be11",
   "metadata": {},
   "outputs": [],
   "source": []
  }
 ],
 "metadata": {
  "kernelspec": {
   "display_name": "Python 3",
   "language": "python",
   "name": "python3"
  },
  "language_info": {
   "codemirror_mode": {
    "name": "ipython",
    "version": 3
   },
   "file_extension": ".py",
   "mimetype": "text/x-python",
   "name": "python",
   "nbconvert_exporter": "python",
   "pygments_lexer": "ipython3",
   "version": "3.8.10"
  }
 },
 "nbformat": 4,
 "nbformat_minor": 5
}
