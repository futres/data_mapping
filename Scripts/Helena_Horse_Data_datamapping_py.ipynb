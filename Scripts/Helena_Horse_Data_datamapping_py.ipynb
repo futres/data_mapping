{
 "cells": [
  {
   "cell_type": "markdown",
   "metadata": {},
   "source": [
    "# Manual Changes\n",
    "\n",
    "## template mapping files are in the git repository\n",
    "## original data in _CyVerse Discovery Environment_ \n",
    "### data file is: \"Horse data_Helena.csv\"\n",
    "\n",
    "### _decimalLatitude_\n",
    "- get rid of \"S\" and make sure it is a negative (\"-\") value\n",
    "\n",
    "### _decimalLongitude_\n",
    "- get ride of \"W\" and make sure it is a negative (\"-\") value\n",
    "\n",
    "### _unused columns_\n",
    "- specimenType\n",
    "\n",
    "## To Code:\n",
    "### _basisOfRecord_\n",
    "- change from \"fossil\" to \"fossilSpecimen\"\n",
    "\n",
    "### _measurementUnit_\n",
    "- change \"millimeters\" to \"mm\""
   ]
  },
  {
   "cell_type": "code",
   "execution_count": 1,
   "metadata": {},
   "outputs": [],
   "source": [
    "import pandas as pd"
   ]
  },
  {
   "cell_type": "code",
   "execution_count": 2,
   "metadata": {},
   "outputs": [],
   "source": [
    "#Import Horse Data\n",
    "\n",
    "#Importing horse data from a comma delimited file\n",
    "#horseData = pd.read_csv(\"Horse data_Helena.csv\")\n",
    "#horseData\n",
    "\n",
    "#Importing horse data from a tab delimited file\n",
    "horseData = pd.read_csv(\"Horse data_Helena.txt\", sep='\\t', engine = 'python')"
   ]
  },
  {
   "cell_type": "code",
   "execution_count": 36,
   "metadata": {},
   "outputs": [],
   "source": [
    "#Cleaning the data\n",
    "\n",
    "#Combining SpecimenType to MeasurementType Columns\n",
    "horseData['test'] = horseData['specimenType'].str.cat(horseData['measurementType'])\n",
    "\n",
    "#Standardization from fossil to FossilSpecimen\n",
    "horseData.loc[horseData['basisOfRecord'] == 'fossil', 'basisOfRecord'] = 'FossilSpecimen'\n",
    "#horseData['basisOfRecord']\n",
    "\n",
    "#Measurement unit from millimeters to mm\n",
    "horseData.loc[horseData['measurementUnit'] == 'millimeters', 'measurementUnit'] = 'mm'\n",
    "#horseData['measurementUnit']"
   ]
  },
  {
   "cell_type": "code",
   "execution_count": 37,
   "metadata": {},
   "outputs": [],
   "source": [
    "#Rearrange columns so that template columns are first, followed by measurement values\n",
    "\n",
    "#Create column list\n",
    "cols = horseData.columns.tolist()\n",
    "\n",
    "#Specify desired columns\n",
    "cols = ['institutionCode',\n",
    "        'collectionCode',\n",
    "        'specimenID',\n",
    "        'side',\n",
    "        'scientificName',\n",
    "        'decimalLatitude',\n",
    "        'decimalLongitude',\n",
    "        'sitename',\n",
    "        'verbatimLocality',\n",
    "        'basisOfRecord',\n",
    "        'test',\n",
    "        'measurementValue',\n",
    "        'measurementUnit',\n",
    "        'lithostratigraphicTerms',\n",
    "        'formation',\n",
    "        'member',\n",
    "        'references']\n",
    "\n",
    "#Subset dataframe\n",
    "horseData = horseData[cols]"
   ]
  },
  {
   "cell_type": "code",
   "execution_count": 38,
   "metadata": {},
   "outputs": [],
   "source": [
    "#Matching template and column terms\n",
    "\n",
    "#Renaming columns \n",
    "horseData = horseData.rename(columns = {'specimenID':'catalogNumber',\n",
    "                                        'specimenType':'skeletalElement',\n",
    "                                        'side':'measurementSide',\n",
    "                                        'sitename':'locality',\n",
    "                                        'test': 'measurementType'})"
   ]
  },
  {
   "cell_type": "code",
   "execution_count": 40,
   "metadata": {},
   "outputs": [],
   "source": [
    "#Writing the final dataframe as a tab delimited file\n",
    "horseData.to_csv('Horse_Data_Mapped.txt', sep = '\\t')\n",
    "\n",
    "#Writing the final dataframe as a tab delimited file\n",
    "horseData.to_csv('Horse_Data_Mapped.csv')\n"
   ]
  },
  {
   "cell_type": "code",
   "execution_count": 8,
   "metadata": {},
   "outputs": [],
   "source": []
  },
  {
   "cell_type": "code",
   "execution_count": null,
   "metadata": {},
   "outputs": [],
   "source": []
  },
  {
   "cell_type": "code",
   "execution_count": null,
   "metadata": {},
   "outputs": [],
   "source": []
  }
 ],
 "metadata": {
  "kernelspec": {
   "display_name": "Python 3",
   "language": "python",
   "name": "python3"
  },
  "language_info": {
   "codemirror_mode": {
    "name": "ipython",
    "version": 3
   },
   "file_extension": ".py",
   "mimetype": "text/x-python",
   "name": "python",
   "nbconvert_exporter": "python",
   "pygments_lexer": "ipython3",
   "version": "3.7.4"
  }
 },
 "nbformat": 4,
 "nbformat_minor": 2
}
