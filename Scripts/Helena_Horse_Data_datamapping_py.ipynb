{
 "cells": [
  {
   "cell_type": "markdown",
   "metadata": {},
   "source": [
    "# To Code:\n",
    "\n",
    "## template mapping files are in the git repository\n",
    "## original data in _CyVerse Discovery Environment_ \n",
    "### data file is: \"Horse data_Helena.csv\"\n",
    "\n",
    "### _decimalLatitude_\n",
    "- get rid of \"S\" and make sure it is a negative (\"-\") value\n",
    "\n",
    "### _decimalLongitude_\n",
    "- get ride of \"W\" and make sure it is a negative (\"-\") value\n",
    "\n",
    "### _unused columns_\n",
    "- specimenType\n",
    "\n",
    "### _basisOfRecord_\n",
    "- change from \"fossil\" to \"fossilSpecimen\"\n",
    "\n",
    "### _measurementUnit_\n",
    "- change \"millimeters\" to \"mm\""
   ]
  },
  {
   "cell_type": "code",
   "execution_count": 1,
   "metadata": {},
   "outputs": [],
   "source": [
    "import pandas as pd\n",
    "import uuid"
   ]
  },
  {
   "cell_type": "code",
   "execution_count": 2,
   "metadata": {},
   "outputs": [],
   "source": [
    "#Import Horse Data\n",
    "\n",
    "#Importing horse data from a comma delimited file\n",
    "horseData = pd.read_csv(\"../Original Data/Horse data_Helena.csv\")\n",
    "#horseData\n",
    "\n",
    "#Importing horse data from a tab delimited file\n",
    "#horseData = pd.read_csv(\"../Original Data/Horse data_Helena.txt\", sep='\\t', engine = 'python')"
   ]
  },
  {
   "cell_type": "code",
   "execution_count": 3,
   "metadata": {},
   "outputs": [
    {
     "name": "stderr",
     "output_type": "stream",
     "text": [
      "/Users/neeka/opt/anaconda3/lib/python3.7/site-packages/ipykernel_launcher.py:9: SettingWithCopyWarning: \n",
      "A value is trying to be set on a copy of a slice from a DataFrame\n",
      "\n",
      "See the caveats in the documentation: http://pandas.pydata.org/pandas-docs/stable/user_guide/indexing.html#returning-a-view-versus-a-copy\n",
      "  if __name__ == '__main__':\n",
      "/Users/neeka/opt/anaconda3/lib/python3.7/site-packages/ipykernel_launcher.py:17: SettingWithCopyWarning: \n",
      "A value is trying to be set on a copy of a slice from a DataFrame\n",
      "\n",
      "See the caveats in the documentation: http://pandas.pydata.org/pandas-docs/stable/user_guide/indexing.html#returning-a-view-versus-a-copy\n"
     ]
    }
   ],
   "source": [
    "#Preliminary cleaning of the data\n",
    "\n",
    "#Cleaning decimalLatitude by removing S and making value negative\n",
    "for ind in horseData.index:\n",
    "    a = horseData['decimalLatitude'][ind]\n",
    "    b = str(a)\n",
    "    c=b[:-1]\n",
    "    c=\"-\"+c\n",
    "    horseData['decimalLatitude'][ind] = c\n",
    "\n",
    "#Cleaning decimalLongitude by removing W and making value negative\n",
    "for ind in horseData.index:\n",
    "    a = horseData['decimalLongitude'][ind]\n",
    "    b = str(a)\n",
    "    c=b[:-1]\n",
    "    c=\"-\"+c\n",
    "    horseData['decimalLongitude'][ind] = c\n"
   ]
  },
  {
   "cell_type": "code",
   "execution_count": 4,
   "metadata": {},
   "outputs": [],
   "source": [
    "#Preliminary cleaning of the data\n",
    "\n",
    "#Combining SpecimenType to MeasurementType Columns\n",
    "horseData['test'] = horseData['specimenType'].str.cat(horseData['measurementType'])\n",
    "\n",
    "#Standardization from fossil to FossilSpecimen\n",
    "horseData.loc[horseData['basisOfRecord'] == 'fossil', 'basisOfRecord'] = 'FossilSpecimen'\n",
    "#horseData['basisOfRecord']\n",
    "\n",
    "#Measurement unit from millimeters to mm\n",
    "horseData.loc[horseData['measurementUnit'] == 'millimeters', 'measurementUnit'] = 'mm'\n",
    "#horseData['measurementUnit']"
   ]
  },
  {
   "cell_type": "code",
   "execution_count": 5,
   "metadata": {},
   "outputs": [],
   "source": [
    "#Rearrange columns so that template columns are first, followed by measurement values\n",
    "\n",
    "#Create column list\n",
    "cols = horseData.columns.tolist()\n",
    "\n",
    "#Specify desired columns\n",
    "cols = ['institutionCode',\n",
    "        'collectionCode',\n",
    "        'specimenID',\n",
    "        'side',\n",
    "        'test',\n",
    "        'scientificName',\n",
    "        'decimalLatitude',\n",
    "        'decimalLongitude',\n",
    "        'sitename',\n",
    "        'verbatimLocality',\n",
    "        'basisOfRecord',\n",
    "        'measurementValue',\n",
    "        'measurementUnit',\n",
    "        'lithostratigraphicTerms',\n",
    "        'formation',\n",
    "        'member',\n",
    "        'references']\n",
    "\n",
    "#Subset dataframe\n",
    "horseData = horseData[cols]"
   ]
  },
  {
   "cell_type": "code",
   "execution_count": 6,
   "metadata": {},
   "outputs": [],
   "source": [
    "#Matching template and column terms\n",
    "\n",
    "#Renaming columns \n",
    "horseData = horseData.rename(columns = {'specimenID':'catalogNumber',\n",
    "                                        'specimenType':'skeletalElement',\n",
    "                                        'side':'measurementSide',\n",
    "                                        'sitename':'locality',\n",
    "                                        'test': 'measurementType'})"
   ]
  },
  {
   "cell_type": "code",
   "execution_count": 7,
   "metadata": {},
   "outputs": [],
   "source": [
    "#create materialSampleID which is a UUID for each measurement\n",
    "horseData=horseData.assign(materialSampleID = '')\n",
    "horseData['materialSampleID'] = uuid.uuid4() "
   ]
  },
  {
   "cell_type": "code",
   "execution_count": 8,
   "metadata": {},
   "outputs": [],
   "source": [
    "#create diagnosticID which is a UUID for each measurement\n",
    "horseData=horseData.assign(diagnosticID = '')\n",
    "horseData['diagnosticID'] = [uuid.uuid4() for _ in range(len(horseData.index))]"
   ]
  },
  {
   "cell_type": "code",
   "execution_count": 9,
   "metadata": {},
   "outputs": [],
   "source": [
    "#Writing the final dataframe as a tab delimited file\n",
    "horseData.to_csv('../Mapped Data/Horse_Data_Mapped.txt', sep = '\\t')\n",
    "\n",
    "#Writing the final dataframe as a tab delimited file\n",
    "horseData.to_csv('../Mapped Data/Horse_Data_Mapped.csv')\n"
   ]
  },
  {
   "cell_type": "code",
   "execution_count": null,
   "metadata": {},
   "outputs": [],
   "source": []
  }
 ],
 "metadata": {
  "kernelspec": {
   "display_name": "Python 3",
   "language": "python",
   "name": "python3"
  },
  "language_info": {
   "codemirror_mode": {
    "name": "ipython",
    "version": 3
   },
   "file_extension": ".py",
   "mimetype": "text/x-python",
   "name": "python",
   "nbconvert_exporter": "python",
   "pygments_lexer": "ipython3",
   "version": "3.7.5"
  }
 },
 "nbformat": 4,
 "nbformat_minor": 2
}
