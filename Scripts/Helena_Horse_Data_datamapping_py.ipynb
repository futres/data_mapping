{
 "cells": [
  {
   "cell_type": "markdown",
   "metadata": {},
   "source": [
    "Data Wrangling Notebook for HMachado Equus Data\n",
    "<br />\n",
    "Neeka Sewnath\n",
    "<br />\n",
    "nsewnath@ufl.edu"
   ]
  },
  {
   "cell_type": "code",
   "execution_count": 7,
   "metadata": {},
   "outputs": [],
   "source": [
    "import pandas as pd\n",
    "import uuid"
   ]
  },
  {
   "cell_type": "code",
   "execution_count": 8,
   "metadata": {},
   "outputs": [],
   "source": [
    "#Import Horse Data\n",
    "\n",
    "#Importing horse data from a comma delimited file\n",
    "horseData = pd.read_csv(\"../Original_Data/Horse data_Helena.csv\")\n",
    "#horseData\n",
    "\n",
    "#Importing horse data from a tab delimited file\n",
    "#horseData = pd.read_csv(\"../Original Data/Horse data_Helena.txt\", sep='\\t', engine = 'python')"
   ]
  },
  {
   "cell_type": "code",
   "execution_count": 9,
   "metadata": {},
   "outputs": [
    {
     "name": "stderr",
     "output_type": "stream",
     "text": [
      "<ipython-input-9-dd4bea375013>:9: SettingWithCopyWarning: \n",
      "A value is trying to be set on a copy of a slice from a DataFrame\n",
      "\n",
      "See the caveats in the documentation: https://pandas.pydata.org/pandas-docs/stable/user_guide/indexing.html#returning-a-view-versus-a-copy\n",
      "  horseData['decimalLatitude'][ind] = c\n",
      "<ipython-input-9-dd4bea375013>:17: SettingWithCopyWarning: \n",
      "A value is trying to be set on a copy of a slice from a DataFrame\n",
      "\n",
      "See the caveats in the documentation: https://pandas.pydata.org/pandas-docs/stable/user_guide/indexing.html#returning-a-view-versus-a-copy\n",
      "  horseData['decimalLongitude'][ind] = c\n"
     ]
    }
   ],
   "source": [
    "#Preliminary cleaning of the data\n",
    "\n",
    "#Cleaning decimalLatitude by removing S and making value negative\n",
    "for ind in horseData.index:\n",
    "    a = horseData['decimalLatitude'][ind]\n",
    "    b = str(a)\n",
    "    c=b[:-1]\n",
    "    c=\"-\"+c\n",
    "    horseData['decimalLatitude'][ind] = c\n",
    "\n",
    "#Cleaning decimalLongitude by removing W and making value negative\n",
    "for ind in horseData.index:\n",
    "    a = horseData['decimalLongitude'][ind]\n",
    "    b = str(a)\n",
    "    c=b[:-1]\n",
    "    c=\"-\"+c\n",
    "    horseData['decimalLongitude'][ind] = c\n"
   ]
  },
  {
   "cell_type": "code",
   "execution_count": 10,
   "metadata": {},
   "outputs": [],
   "source": [
    "#Preliminary cleaning of the data\n",
    "\n",
    "#Combining SpecimenType to MeasurementType Columns\n",
    "horseData['test'] = horseData['specimenType'].str.cat(horseData['measurementType'])\n",
    "\n",
    "#Standardization from fossil to FossilSpecimen\n",
    "horseData.loc[horseData['basisOfRecord'] == 'fossil', 'basisOfRecord'] = 'FossilSpecimen'\n",
    "#horseData['basisOfRecord']\n",
    "\n",
    "#Measurement unit from millimeters to mm\n",
    "horseData.loc[horseData['measurementUnit'] == 'millimeters', 'measurementUnit'] = 'mm'\n",
    "#horseData['measurementUnit']"
   ]
  },
  {
   "cell_type": "code",
   "execution_count": 11,
   "metadata": {},
   "outputs": [],
   "source": [
    "#Rearrange columns so that template columns are first, followed by measurement values\n",
    "\n",
    "#Create column list\n",
    "cols = horseData.columns.tolist()\n",
    "\n",
    "#Specify desired columns\n",
    "cols = ['institutionCode',\n",
    "        'collectionCode',\n",
    "        'specimenID',\n",
    "        'side',\n",
    "        'test',\n",
    "        'scientificName',\n",
    "        'decimalLatitude',\n",
    "        'decimalLongitude',\n",
    "        'sitename',\n",
    "        'verbatimLocality',\n",
    "        'basisOfRecord',\n",
    "        'measurementValue',\n",
    "        'measurementUnit',\n",
    "        'lithostratigraphicTerms',\n",
    "        'formation',\n",
    "        'member',\n",
    "        'references']\n",
    "\n",
    "#Subset dataframe\n",
    "horseData = horseData[cols]"
   ]
  },
  {
   "cell_type": "code",
   "execution_count": 12,
   "metadata": {},
   "outputs": [],
   "source": [
    "#Matching template and column terms\n",
    "\n",
    "#Renaming columns \n",
    "horseData = horseData.rename(columns = {'specimenID':'catalogNumber',\n",
    "                                        'specimenType':'skeletalElement',\n",
    "                                        'side':'measurementSide',\n",
    "                                        'sitename':'locality',\n",
    "                                        'test': 'measurementType'})"
   ]
  },
  {
   "cell_type": "code",
   "execution_count": null,
   "metadata": {},
   "outputs": [],
   "source": [
    "#Sectioning off ingested data\n",
    "\n",
    "horseData = horseData[horseData[\"\"]]"
   ]
  },
  {
   "cell_type": "code",
   "execution_count": 13,
   "metadata": {},
   "outputs": [],
   "source": [
    "#create materialSampleID which is a UUID for each measurement\n",
    "horseData=horseData.assign(materialSampleID = '')\n",
    "horseData['materialSampleID'] = uuid.uuid4() "
   ]
  },
  {
   "cell_type": "code",
   "execution_count": 14,
   "metadata": {},
   "outputs": [],
   "source": [
    "#create diagnosticID which is a UUID for each measurement\n",
    "horseData=horseData.assign(diagnosticID = '')\n",
    "horseData['diagnosticID'] = [uuid.uuid4() for _ in range(len(horseData.index))]"
   ]
  },
  {
   "cell_type": "code",
   "execution_count": 16,
   "metadata": {},
   "outputs": [],
   "source": [
    "#Writing the final dataframe as a tab delimited file\n",
    "horseData.to_csv('../Mapped_Data/Horse_Data_Mapped.txt', sep = '\\t')\n",
    "\n",
    "#Writing the final dataframe as a tab delimited file\n",
    "horseData.to_csv('../Mapped_Data/Horse_Data_Mapped.csv')\n"
   ]
  },
  {
   "cell_type": "code",
   "execution_count": null,
   "metadata": {},
   "outputs": [],
   "source": []
  }
 ],
 "metadata": {
  "kernelspec": {
   "display_name": "Python 3",
   "language": "python",
   "name": "python3"
  },
  "language_info": {
   "codemirror_mode": {
    "name": "ipython",
    "version": 3
   },
   "file_extension": ".py",
   "mimetype": "text/x-python",
   "name": "python",
   "nbconvert_exporter": "python",
   "pygments_lexer": "ipython3",
   "version": "3.8.3"
  }
 },
 "nbformat": 4,
 "nbformat_minor": 2
}
