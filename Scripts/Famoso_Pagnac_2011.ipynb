{
 "cells": [
  {
   "cell_type": "markdown",
   "metadata": {},
   "source": [
    "Data Wrangling Notebook for Famoso and Pagnac 2011 Data\n",
    "<br />\n",
    "Neeka Sewnath\n",
    "<br />\n",
    "nsewnath@ufl.edu"
   ]
  },
  {
   "cell_type": "code",
   "execution_count": 15,
   "metadata": {},
   "outputs": [],
   "source": [
    "import pandas as pd\n",
    "import numpy as np\n",
    "import uuid"
   ]
  },
  {
   "cell_type": "markdown",
   "metadata": {},
   "source": [
    "Silence unnecessary errors"
   ]
  },
  {
   "cell_type": "code",
   "execution_count": 16,
   "metadata": {},
   "outputs": [],
   "source": [
    "try:\n",
    "    import warnings\n",
    "    warnings.filterwarnings('ignore')\n",
    "except:\n",
    "    pass"
   ]
  },
  {
   "cell_type": "markdown",
   "metadata": {},
   "source": [
    "Import Famoso and Pagnac 2011 data (Appendix A & B)"
   ]
  },
  {
   "cell_type": "code",
   "execution_count": 17,
   "metadata": {},
   "outputs": [],
   "source": [
    "data_a = pd.read_csv(\"../Original_Data/Famoso_and_Pagnac_2011_Appendix_A.csv\")\n",
    "data_b = pd.read_csv(\"../Original_Data/Famoso_and_Pagnac_2011_Appendix_B.csv\")"
   ]
  },
  {
   "cell_type": "markdown",
   "metadata": {},
   "source": [
    "Concatenate and remove empty rows in data A and B"
   ]
  },
  {
   "cell_type": "code",
   "execution_count": 18,
   "metadata": {},
   "outputs": [
    {
     "data": {
      "text/html": [
       "<div>\n",
       "<style scoped>\n",
       "    .dataframe tbody tr th:only-of-type {\n",
       "        vertical-align: middle;\n",
       "    }\n",
       "\n",
       "    .dataframe tbody tr th {\n",
       "        vertical-align: top;\n",
       "    }\n",
       "\n",
       "    .dataframe thead th {\n",
       "        text-align: right;\n",
       "    }\n",
       "</style>\n",
       "<table border=\"1\" class=\"dataframe\">\n",
       "  <thead>\n",
       "    <tr style=\"text-align: right;\">\n",
       "      <th></th>\n",
       "      <th>Spec. Num</th>\n",
       "      <th>Field Num</th>\n",
       "      <th>Taxon</th>\n",
       "      <th>Tooth</th>\n",
       "      <th>Locality</th>\n",
       "      <th>Side</th>\n",
       "      <th>Mesostyle Crwn hght</th>\n",
       "      <th>Length</th>\n",
       "      <th>Width</th>\n",
       "      <th>L x W</th>\n",
       "      <th>...</th>\n",
       "      <th>Pli prtlph</th>\n",
       "      <th>Pli prf</th>\n",
       "      <th>Pli psf</th>\n",
       "      <th>Pli hyst</th>\n",
       "      <th>Total  plications</th>\n",
       "      <th>Comments                                                              (Measurnments in mm)</th>\n",
       "      <th>Unnamed: 27</th>\n",
       "      <th>Unnamed: 28</th>\n",
       "      <th>Unnamed: 29</th>\n",
       "      <th>Unnamed: 30</th>\n",
       "    </tr>\n",
       "  </thead>\n",
       "  <tbody>\n",
       "  </tbody>\n",
       "</table>\n",
       "<p>0 rows × 31 columns</p>\n",
       "</div>"
      ],
      "text/plain": [
       "Empty DataFrame\n",
       "Columns: [Spec. Num, Field Num, Taxon, Tooth, Locality, Side, Mesostyle Crwn hght, Length, Width, L x W, L/W, Protoloph-Metaloph conn, Pre-fossette, Post-fossette, Hypocone open, Hypoconal groove, Nature of Protocone, Protocone Length, Protocone Width, Protocone L/W, Pli cab, Pli prtlph, Pli prf, Pli psf, Pli hyst, Total  plications, Comments                                                              (Measurnments in mm), Unnamed: 27, Unnamed: 28, Unnamed: 29, Unnamed: 30]\n",
       "Index: []\n",
       "\n",
       "[0 rows x 31 columns]"
      ]
     },
     "execution_count": 18,
     "metadata": {},
     "output_type": "execute_result"
    }
   ],
   "source": [
    "#Concatenate data A and B\n",
    "data = pd.concat([data_a, data_b], axis=0)\n",
    "\n",
    "#Drop Empty rows\n",
    "data.dropna()"
   ]
  },
  {
   "cell_type": "markdown",
   "metadata": {},
   "source": [
    "Process Spec. Num by splitting into institutionCode, collectionCode, and catalogNumber"
   ]
  },
  {
   "cell_type": "code",
   "execution_count": null,
   "metadata": {},
   "outputs": [],
   "source": [
    "# Assign columns for institutionCode, collectionCode, and catalogNumber\n",
    "data = data.assign(institutionCode = \"\", collectionCode = \"\", catalogNumber = \"\")\n",
    "\n",
    "# Split Spec. Num and designate values to the correct columns\n",
    "for ind in data[\"Spec. Num\"].index:\n",
    "    specimen = data[\"Spec. Num\"][ind].split()\n",
    "    if len(specimen) == 2:\n",
    "        data[\"institutionCode\"][ind] = specimen[0] \n",
    "        data[\"catalogNumber\"][ind] = specimen[1]\n",
    "    elif len(specimen) == 3:\n",
    "        data[\"institutionCode\"][ind] = specimen[0] \n",
    "        data[\"catalogNumber\"][ind] = specimen[1]\n",
    "        data[\"collectionCode\"][ind] = specimen[2]"
   ]
  },
  {
   "cell_type": "markdown",
   "metadata": {},
   "source": [
    "Create verbatimScientificName"
   ]
  },
  {
   "cell_type": "code",
   "execution_count": null,
   "metadata": {},
   "outputs": [],
   "source": [
    "# Create verbatimScientificName (Leave out of final dataset for now)\n",
    "#data = data.assign(verbatimScientificName = data['Taxon'])"
   ]
  },
  {
   "cell_type": "markdown",
   "metadata": {},
   "source": [
    "Clean Side column"
   ]
  },
  {
   "cell_type": "code",
   "execution_count": null,
   "metadata": {},
   "outputs": [],
   "source": [
    "left = data['Side']==\"L\"\n",
    "right = data['Side'] == \"R\"\n",
    "data['Side'][right == True]= \"right\"\n",
    "data['Side'][left == True]= \"left\""
   ]
  },
  {
   "cell_type": "code",
   "execution_count": null,
   "metadata": {},
   "outputs": [],
   "source": [
    "# Need more info for columns:\n",
    "#     -Field Num\n",
    "#     -Mesostyle Crwn Height\n",
    "#     -Length\n",
    "#     -Width\n",
    "#     -L x W\n",
    "#     -L/W\n",
    "#     -Protoloph-Metaloph conn\n",
    "#     -Pre-fossete\n",
    "#     -Post-fossette\n",
    "#     -Hypocone open\n",
    "#     -Hypoconal groove \n",
    "#     -Nature of Protocone\n",
    "#     -Protocone Length\n",
    "#     -Protocone Width\n",
    "#     -Protocone L/W\n",
    "#     -Pli cab\n",
    "#     -Pli prtlph\n",
    "#     -Pli prf\n",
    "#     -Pli psf\n",
    "#     -Pli hyst\n",
    "#     -Total  plications\n",
    "#     -Comments\n",
    "#         -basisOfRecord and Taxon?\n",
    "        \n",
    "# Need to locate:\n",
    "#     -country\n",
    "#         -\"To compare the equid assemblages from the two localities we analyzed \n",
    "#         \"a sample of 384 isolated teeth from the Mission Pit locality and 81 skulls \n",
    "#         \"with teeth from Ashfall Fossil Beds. Most of the specimens from Mission Pit \n",
    "#         \"are in the collections of the South Dakota School of Mines and Technology (SDSM), \n",
    "#         \"whereas most of those from Ashfall Fossil Beds are in the collections at the \n",
    "#         \"University of Nebraska State Museum (UNSM), Lincoln, Nebraska\"\n",
    "#         -going to assume USA\n",
    "#     -sampling protocol\n",
    "#         -citation?\n",
    "#     -measurementMethod\n",
    "#         -citation?\n",
    "#     -yearCollected\n",
    "#         -Probably Unknown\n",
    "#     -basisOfRecord\n",
    "#         -assuming Fossil Specimen"
   ]
  },
  {
   "cell_type": "markdown",
   "metadata": {},
   "source": [
    "Adding Geome Required Columns"
   ]
  },
  {
   "cell_type": "code",
   "execution_count": null,
   "metadata": {},
   "outputs": [],
   "source": [
    "#Adding country column and populationing it with \"USA\"\n",
    "data = data.assign(country = \"USA\")\n",
    "\n",
    "#Adding citation to samplingProtocol and measurementMethod\n",
    "citation = \"N. A. Famoso and D. Pagnac, “A Comparison of the Clarendonian Equid Assemblages from the Mission Pit, South Dakota and Ashfall Fossil Beds, Nebraska,” 2011, Accessed: Apr. 03, 2021. [Online]. Available: https://digitalcommons.unl.edu/tnas/9/.\"\n",
    "\n",
    "data = data.assign(samplingProtocol = citation, measurementMethod = citation)"
   ]
  },
  {
   "cell_type": "markdown",
   "metadata": {},
   "source": [
    "Rearrange columns so that template columns are first, followed by measurement values"
   ]
  },
  {
   "cell_type": "code",
   "execution_count": null,
   "metadata": {},
   "outputs": [],
   "source": [
    "# Create column list\n",
    "cols = data.columns.tolist()\n",
    "\n",
    "# Specify desired columns\n",
    "cols = ['Locality',\n",
    "        'Taxon',\n",
    "        'samplingProtocol',\n",
    "        'measurementMethod',\n",
    "        'institutionCode',\n",
    "        'collectionCode',\n",
    "        'catalogNumber']\n",
    "\n",
    "# Subset dataframe\n",
    "data = data[cols]"
   ]
  },
  {
   "cell_type": "code",
   "execution_count": null,
   "metadata": {},
   "outputs": [],
   "source": []
  }
 ],
 "metadata": {
  "kernelspec": {
   "display_name": "Python 3",
   "language": "python",
   "name": "python3"
  },
  "language_info": {
   "codemirror_mode": {
    "name": "ipython",
    "version": 3
   },
   "file_extension": ".py",
   "mimetype": "text/x-python",
   "name": "python",
   "nbconvert_exporter": "python",
   "pygments_lexer": "ipython3",
   "version": "3.8.3"
  }
 },
 "nbformat": 4,
 "nbformat_minor": 4
}
