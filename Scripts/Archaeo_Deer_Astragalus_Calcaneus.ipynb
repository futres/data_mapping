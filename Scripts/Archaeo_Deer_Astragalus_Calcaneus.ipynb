{
 "cells": [
  {
   "cell_type": "markdown",
   "id": "3f4e307f",
   "metadata": {},
   "source": [
    "Data Wrangling Notebook for Archaeo Deer Astragalus Calcaneus Data\n",
    "<br />\n",
    "Neeka Sewnath\n",
    "<br />\n",
    "nsewnath@ufl.edu"
   ]
  },
  {
   "cell_type": "code",
   "execution_count": 3,
   "id": "b8725dff",
   "metadata": {},
   "outputs": [],
   "source": [
    "import pandas as pd\n",
    "import numpy as np \n",
    "import uuid"
   ]
  },
  {
   "cell_type": "markdown",
   "id": "c4fa0435",
   "metadata": {},
   "source": [
    "To ask about:\n",
    "- multiple other catalog numbers (append them together)\n",
    "- what columns should be preserved under dynamic properties (field number, \n",
    "- locality is a website, is that okay?\n",
    "- what's locationID?\n",
    "- do I made up occurrenceIDs?\n",
    "- What's element referring to?"
   ]
  },
  {
   "cell_type": "markdown",
   "id": "150312eb",
   "metadata": {},
   "source": [
    "Silencing warnings that are unnecessary"
   ]
  },
  {
   "cell_type": "code",
   "execution_count": 4,
   "id": "311271d6",
   "metadata": {},
   "outputs": [],
   "source": [
    "try:\n",
    "    import warnings\n",
    "    warnings.filterwarnings('ignore')\n",
    "except:\n",
    "    pass"
   ]
  },
  {
   "cell_type": "markdown",
   "id": "12beba21",
   "metadata": {},
   "source": [
    "Import deer data"
   ]
  },
  {
   "cell_type": "code",
   "execution_count": 5,
   "id": "f9c4bfac",
   "metadata": {},
   "outputs": [],
   "source": [
    "data = pd.read_csv(\"../Original_Data/ArchaeoDeerAstragalusCalcaneus.csv\")"
   ]
  },
  {
   "cell_type": "markdown",
   "id": "e52df9e5",
   "metadata": {},
   "source": [
    "Add individualID and populate with UUID"
   ]
  },
  {
   "cell_type": "code",
   "execution_count": null,
   "id": "4f4bab5f",
   "metadata": {},
   "outputs": [],
   "source": [
    "data = data.assign(individualID = '')\n",
    "data['individualID'] = [uuid.uuid4().hex for _ in range(len(data.index))]"
   ]
  },
  {
   "cell_type": "code",
   "execution_count": null,
   "id": "7149b992",
   "metadata": {},
   "outputs": [],
   "source": []
  },
  {
   "cell_type": "code",
   "execution_count": null,
   "id": "c275410a",
   "metadata": {},
   "outputs": [],
   "source": []
  }
 ],
 "metadata": {
  "kernelspec": {
   "display_name": "Python 3",
   "language": "python",
   "name": "python3"
  },
  "language_info": {
   "codemirror_mode": {
    "name": "ipython",
    "version": 3
   },
   "file_extension": ".py",
   "mimetype": "text/x-python",
   "name": "python",
   "nbconvert_exporter": "python",
   "pygments_lexer": "ipython3",
   "version": "3.8.10"
  }
 },
 "nbformat": 4,
 "nbformat_minor": 5
}
