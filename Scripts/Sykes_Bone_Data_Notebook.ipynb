{
 "cells": [
  {
   "cell_type": "markdown",
   "id": "1cbb8b68",
   "metadata": {},
   "source": [
    "Data Wrangling Notebook for Sykes Bone Data\n",
    "<br />\n",
    "Neeka Sewnath\n",
    "<br />\n",
    "nsewnath@ufl.edu"
   ]
  },
  {
   "cell_type": "markdown",
   "id": "dd8bef5f",
   "metadata": {},
   "source": [
    "QUESTIONS: \n",
    "- Where should bone ID be perserved?\n",
    "\n",
    "- period_name -> cultural occupation period \n",
    "- bone_date -> capture it somewhere \n",
    "\n",
    "- MCI-II (c. 2,000-1,700 BC, MCI)\n",
    "- put it in 2000 BC is the youngest\n",
    "- 1700 BC is the latest \n",
    "- Pleistocene = earliestEpochOrLowestSeries And latestEpochOrHighestSeries\n",
    "- reference system : BC\n",
    "\n",
    "MEETING NOTES:\n",
    "- not using bone ID\n",
    "\n",
    "https://docs.google.com/spreadsheets/d/1AfmnouAnLVw0eWX3dpzm2zFw27nIfXCGUJfwf3aZFfc/edit#gid=787101794\n",
    "\n",
    "- site_code, reference_id, period_id, bone_id (test for uniqueness) \n"
   ]
  },
  {
   "cell_type": "code",
   "execution_count": 4,
   "id": "0f5430bf",
   "metadata": {},
   "outputs": [],
   "source": [
    "import pandas as pd\n",
    "import numpy as np\n",
    "import re\n",
    "import uuid "
   ]
  },
  {
   "cell_type": "markdown",
   "id": "8df4153f",
   "metadata": {},
   "source": [
    "Silencing warnings that are unnecessary"
   ]
  },
  {
   "cell_type": "code",
   "execution_count": 5,
   "id": "3a0a7ac1",
   "metadata": {},
   "outputs": [],
   "source": [
    "try:\n",
    "    import warnings\n",
    "    warnings.filterwarnings('ignore')\n",
    "except:\n",
    "    pass"
   ]
  },
  {
   "cell_type": "markdown",
   "id": "ce4ae2e8",
   "metadata": {},
   "source": [
    "Import Sykes Bone Data"
   ]
  },
  {
   "cell_type": "code",
   "execution_count": 6,
   "id": "09226195",
   "metadata": {},
   "outputs": [],
   "source": [
    "data = pd.read_csv(\"./../Original_Data/dama_bone_measurements_full.csv\")"
   ]
  },
  {
   "cell_type": "markdown",
   "id": "003243a8",
   "metadata": {},
   "source": [
    "TESTING: Checking individualID uniqueness"
   ]
  },
  {
   "cell_type": "code",
   "execution_count": 29,
   "id": "b1233c8c",
   "metadata": {},
   "outputs": [],
   "source": [
    "data[\"individID_test\"] = data[\"site_name\"].astype(str) + \",\" + data[\"period_name\"].astype(str) \\\n",
    "                         + \",\" + data[\"bone_id\"].astype(str)\n",
    "\n",
    "# print(data[\"individID_test\"])\n",
    "\n",
    "# len(data)\n",
    "# len(data[\"individID_test\"].unique())"
   ]
  },
  {
   "cell_type": "markdown",
   "id": "8ef0046b",
   "metadata": {},
   "source": [
    "Add individualID and populate with UUID"
   ]
  },
  {
   "cell_type": "code",
   "execution_count": null,
   "id": "1ec2666a",
   "metadata": {},
   "outputs": [],
   "source": [
    "# data = data.assign(individualID = '')\n",
    "# data['individualID'] = [uuid.uuid4().hex for _ in range(len(data.index))]"
   ]
  },
  {
   "cell_type": "markdown",
   "id": "4caad8b6",
   "metadata": {},
   "source": [
    "Set samplingProtocol and measurementMethod"
   ]
  },
  {
   "cell_type": "code",
   "execution_count": null,
   "id": "57a9d244",
   "metadata": {},
   "outputs": [],
   "source": [
    "data = data.assign(samplingProtocol = data[\"reference_details\"], measurementMethod = data[\"reference_details\"])"
   ]
  },
  {
   "cell_type": "markdown",
   "id": "0e7a0291",
   "metadata": {},
   "source": [
    "Adding additional required GEOME columns"
   ]
  },
  {
   "cell_type": "code",
   "execution_count": null,
   "id": "5b12cefa",
   "metadata": {},
   "outputs": [],
   "source": [
    "data = data.assign(country = \"unknown\", \n",
    "                   yearCollected = \"unknown\", \n",
    "                   locality = data[\"site_name\"], \n",
    "                   basisOfRecord = \"PreservedSpecimen\")"
   ]
  },
  {
   "cell_type": "markdown",
   "id": "0f063bb2",
   "metadata": {},
   "source": [
    "Updating scientificName by removing paranthesis from latin name "
   ]
  },
  {
   "cell_type": "code",
   "execution_count": 33,
   "id": "74bb673b",
   "metadata": {},
   "outputs": [],
   "source": [
    "# Adding latin name to dynamicProperties because there's no verbatimScientificName\n",
    "data[\"dynamicProperties\"] = data[\"latin_name\"]\n",
    "\n",
    "# Removing parenthesis elements from scientificName \n",
    "data[\"scientificName\"] = [i.rsplit(' ', 1)[0] if ')' in i else i for i in data[\"latin_name\"]]"
   ]
  },
  {
   "cell_type": "markdown",
   "id": "0d74c23d",
   "metadata": {},
   "source": [
    "Adding chronometric columns"
   ]
  },
  {
   "cell_type": "code",
   "execution_count": null,
   "id": "56edd302",
   "metadata": {},
   "outputs": [],
   "source": []
  },
  {
   "cell_type": "markdown",
   "id": "e40e4e12",
   "metadata": {},
   "source": [
    "Renaming columns"
   ]
  },
  {
   "cell_type": "code",
   "execution_count": null,
   "id": "dae2ff41",
   "metadata": {},
   "outputs": [],
   "source": [
    "data = data.rename(columns = {'':''})"
   ]
  },
  {
   "cell_type": "markdown",
   "id": "f44f94a0",
   "metadata": {},
   "source": [
    "Renaming measurementType values"
   ]
  },
  {
   "cell_type": "code",
   "execution_count": null,
   "id": "2043c2bf",
   "metadata": {},
   "outputs": [],
   "source": [
    "# Replace names of terms avaliable in GEOME\n",
    "# NOTE: Make sure mapping file is up to date before reprocessing (git pull from FuTRES Repo)\n",
    "\n",
    "# Read mapping file \n",
    "mapping_file = pd.read_csv(\"./../Mapping Files/ontology_codeBook.csv\")\n",
    "\n",
    "# Create subset of those within FOVT or OBA\n",
    "map_subset = mapping_file[(mapping_file[\"Status\"] == \"in FOVT\") | (mapping_file[\"Status\"] == \"in OBA\") ]\n",
    "\n",
    "# Create a subset of Joaquin data\n",
    "sykes_subset = map_subset[map_subset[\"name\"] == \"Sykes\"]\n",
    "\n",
    "# Isolating necessary columns\n",
    "sykes_subset = sykes_subset[[\"label\", \"term\"]]\n",
    "\n",
    "# Create dictionary of terms\n",
    "map_dict = sykes_subset.set_index('label').to_dict()['term']\n",
    "\n",
    "# Map the new terms onto the old terms in the dataframe \n",
    "data[\"measurementType\"] = (pd.Series(data[\"measurementType\"])).map(map_dict)"
   ]
  },
  {
   "cell_type": "markdown",
   "id": "9591b18d",
   "metadata": {},
   "source": [
    "Create materialSampleID which is a UUID for each measurement. Populate eventID with materialSampleID"
   ]
  },
  {
   "cell_type": "code",
   "execution_count": null,
   "id": "0946b9b3",
   "metadata": {},
   "outputs": [],
   "source": [
    "data['materialSampleID'] = [uuid.uuid4().hex for _ in range(len(data.index))]\n",
    "data = data.assign(eventID = data[\"materialSampleID\"])"
   ]
  },
  {
   "cell_type": "markdown",
   "id": "db797548",
   "metadata": {},
   "source": [
    "Create diagnosticID"
   ]
  },
  {
   "cell_type": "code",
   "execution_count": null,
   "id": "1b5386d9",
   "metadata": {},
   "outputs": [],
   "source": [
    "data['diagnosticID'] = data['diagnosticID'] = np.arange(len(data))"
   ]
  },
  {
   "cell_type": "markdown",
   "id": "eefe061e",
   "metadata": {},
   "source": [
    "Adding measurementUnit column"
   ]
  },
  {
   "cell_type": "code",
   "execution_count": null,
   "id": "e69a37f4",
   "metadata": {},
   "outputs": [],
   "source": [
    "data['measurementUnit'] = \"mm\""
   ]
  },
  {
   "cell_type": "markdown",
   "id": "40b52964",
   "metadata": {},
   "source": [
    "Write file to csv"
   ]
  },
  {
   "cell_type": "code",
   "execution_count": null,
   "id": "7194ebbc",
   "metadata": {},
   "outputs": [],
   "source": [
    "data.to_csv('../Mapped_Data/FuTRES_Cervid_Sykes_Eurasia_Zooarch.csv')"
   ]
  }
 ],
 "metadata": {
  "kernelspec": {
   "display_name": "Python 3",
   "language": "python",
   "name": "python3"
  },
  "language_info": {
   "codemirror_mode": {
    "name": "ipython",
    "version": 3
   },
   "file_extension": ".py",
   "mimetype": "text/x-python",
   "name": "python",
   "nbconvert_exporter": "python",
   "pygments_lexer": "ipython3",
   "version": "3.8.10"
  }
 },
 "nbformat": 4,
 "nbformat_minor": 5
}
