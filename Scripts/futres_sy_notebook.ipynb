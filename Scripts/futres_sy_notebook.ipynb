{
 "cells": [
  {
   "cell_type": "markdown",
   "metadata": {},
   "source": [
    "Data Wrangling Notebook for SY Data\n",
    "<br />\n",
    "Neeka Sewnath\n",
    "<br />\n",
    "nsewnath@ufl.edu"
   ]
  },
  {
   "cell_type": "code",
   "execution_count": 251,
   "metadata": {},
   "outputs": [],
   "source": [
    "import pandas as pd\n",
    "from pandas import Series\n",
    "import numpy as np\n",
    "import re\n",
    "import uuid "
   ]
  },
  {
   "cell_type": "markdown",
   "metadata": {},
   "source": [
    "Import Vertnet Mammal Data"
   ]
  },
  {
   "cell_type": "code",
   "execution_count": 252,
   "metadata": {},
   "outputs": [],
   "source": [
    "sy_data = pd.read_csv(\"./../Original Data/futres_sy_original.csv\")"
   ]
  },
  {
   "cell_type": "markdown",
   "metadata": {},
   "source": [
    "Subset test data"
   ]
  },
  {
   "cell_type": "code",
   "execution_count": 253,
   "metadata": {
    "scrolled": true
   },
   "outputs": [],
   "source": [
    "test = sy_data[sy_data.columns[-4:]]"
   ]
  },
  {
   "cell_type": "markdown",
   "metadata": {},
   "source": [
    "Rename Columns"
   ]
  },
  {
   "cell_type": "code",
   "execution_count": 254,
   "metadata": {},
   "outputs": [],
   "source": [
    "test = test.rename(columns={'Measurements (NAME;NAME;NAME...) divided by ;':'measurementType',\n",
    "                            'Values (mm;mm;mm...) divided by ;': 'measurementValue',\n",
    "                            'PROTOCOL':'protocol',\n",
    "                            'MEASUREMENTS':'measurements'})"
   ]
  },
  {
   "cell_type": "markdown",
   "metadata": {},
   "source": [
    "Separate by ; and expand "
   ]
  },
  {
   "cell_type": "code",
   "execution_count": 255,
   "metadata": {},
   "outputs": [
    {
     "name": "stdout",
     "output_type": "stream",
     "text": [
      "herro\n",
      "                                        0 measurementType measurementValue\n",
      "measurements                           SI              Dd             17,2\n",
      "protocol          L'Hereux y Borella 2011              Dd             17,2\n",
      "measurementType                     Bd;Dd              Dd             17,2\n",
      "measurementValue                29,5;17,2              Dd             17,2\n",
      "meow\n",
      "herro\n",
      "                                       1 measurementType measurementValue\n",
      "measurements                          SI              Dd                2\n",
      "protocol          Von den Driesch (1976)              Dd                2\n",
      "measurementType           GL;Bp;Bd;Dp;Dd              Dd                2\n",
      "measurementValue            14;4,5;4;4;2              Dd                2\n",
      "meow\n",
      "herro\n",
      "                                       2 measurementType measurementValue\n",
      "measurements                          SI            HFcr              2,2\n",
      "protocol          Von den Driesch (1976)            HFcr              2,2\n",
      "measurementType             PL;BFcr;HFcr            HFcr              2,2\n",
      "measurementValue               7;4,5;2,2            HFcr              2,2\n",
      "meow\n",
      "herro\n",
      "                                       3 measurementType measurementValue\n",
      "measurements                          SI              PL             13,1\n",
      "protocol          Von den Driesch (1976)              PL             13,1\n",
      "measurementType                       PL              PL             13,1\n",
      "measurementValue                    13,1              PL             13,1\n",
      "meow\n",
      "herro\n",
      "                                        4 measurementType measurementValue\n",
      "measurements                           SI              Dp             22,2\n",
      "protocol          L'Hereux y Borella 2011              Dp             22,2\n",
      "measurementType                     Bp;Dp              Dp             22,2\n",
      "measurementValue                27,5;22,2              Dp             22,2\n",
      "meow\n",
      "herro\n",
      "                                        5 measurementType measurementValue\n",
      "measurements                           SI              Dd               19\n",
      "protocol          L'Hereux y Borella 2011              Dd               19\n",
      "measurementType                        Dd              Dd               19\n",
      "measurementValue                       19              Dd               19\n",
      "meow\n",
      "herro\n",
      "                                       6 measurementType measurementValue\n",
      "measurements                          SI              Dd             3,85\n",
      "protocol          Von den Driesch (1976)              Dd             3,85\n",
      "measurementType       GL;La;Dip;SC;Bd;Dd              Dd             3,85\n",
      "measurementValue  47,2;46,8;7;2,9;4;3,85              Dd             3,85\n",
      "meow\n",
      "Error: Size Mismatch\n",
      "herro\n",
      "                                       8 measurementType measurementValue\n",
      "measurements                          SI              Dd              3,9\n",
      "protocol          Von den Driesch (1976)              Dd              3,9\n",
      "measurementType                    Bd;Dd              Dd              3,9\n",
      "measurementValue                   4;3,9              Dd              3,9\n",
      "meow\n",
      "herro\n",
      "                                         9 measurementType measurementValue\n",
      "measurements                            SI              Dd                3\n",
      "protocol            Von den Driesch (1976)              Dd                3\n",
      "measurementType       GL;Lm;Bp;Dp;SC;Bd;Dd              Dd                3\n",
      "measurementValue  26,5;25;4,9;2,9;2;5,25;3              Dd                3\n",
      "meow\n",
      "herro\n",
      "                                       10 measurementType measurementValue\n",
      "measurements                           SI              Dd                3\n",
      "protocol           Von den Driesch (1976)              Dd                3\n",
      "measurementType      GL;Lm;Bp;Dp;SC;Bd;Dd              Dd                3\n",
      "measurementValue  26,4;24,9;5;3;1,9;5,3;3              Dd                3\n",
      "meow\n",
      "herro\n",
      "                                      11 measurementType measurementValue\n",
      "measurements                          SI              Bd              3,6\n",
      "protocol          Von den Driesch (1976)              Bd              3,6\n",
      "measurementType              GL;Bp;SC;Bd              Bd              3,6\n",
      "measurementValue          35;4,1;1,7;3,6              Bd              3,6\n",
      "meow\n",
      "herro\n",
      "                                      12 measurementType measurementValue\n",
      "measurements                          SI             Did                3\n",
      "protocol          Von den Driesch (1976)             Did                3\n",
      "measurementType         GL;Dip;Bp;SC;Did             Did                3\n",
      "measurementValue      21,2;3,5;3,8;1,4;3             Did                3\n",
      "meow\n",
      "herro\n",
      "                                      13 measurementType measurementValue\n",
      "measurements                          SI             DiA              2,1\n",
      "protocol          Von den Driesch (1976)             DiA              2,1\n",
      "measurementType                      DiA             DiA              2,1\n",
      "measurementValue                     2,1             DiA              2,1\n",
      "meow\n",
      "herro\n",
      "                                      14 measurementType measurementValue\n",
      "measurements                          SI             DiA              2,1\n",
      "protocol          Von den Driesch (1976)             DiA              2,1\n",
      "measurementType                      DiA             DiA              2,1\n",
      "measurementValue                     2,1             DiA              2,1\n",
      "meow\n",
      "herro\n",
      "                                      15 measurementType measurementValue\n",
      "measurements                          SI              Dd                3\n",
      "protocol          Von den Driesch (1976)              Dd                3\n",
      "measurementType                 SD;Bd;Dd              Dd                3\n",
      "measurementValue               3,4;3,7;3              Dd                3\n",
      "meow\n",
      "herro\n",
      "                                      16 measurementType measurementValue\n",
      "measurements                          SI              SD              3,4\n",
      "protocol          Von den Driesch (1976)              SD              3,4\n",
      "measurementType                 Bp;DC;SD              SD              3,4\n",
      "measurementValue            11,4;3,6;3,4              SD              3,4\n",
      "meow\n",
      "herro\n",
      "                                      17 measurementType measurementValue\n",
      "measurements                          SI              DC             3,75\n",
      "protocol          Von den Driesch (1976)              DC             3,75\n",
      "measurementType             GL;GLC;Bp;DC              DC             3,75\n",
      "measurementValue     33,2;32,45;7,8;3,75              DC             3,75\n",
      "meow\n",
      "herro\n",
      "                                      18 measurementType measurementValue\n",
      "measurements                          SI              Bd              5,6\n",
      "protocol          Von den Driesch (1976)              Bd              5,6\n",
      "measurementType                    SD;Bd              Bd              5,6\n",
      "measurementValue                 3,5;5,6              Bd              5,6\n",
      "meow\n",
      "herro\n",
      "                                      19 measurementType measurementValue\n",
      "measurements                          SI              SB              2,6\n",
      "protocol          Von den Driesch (1976)              SB              2,6\n",
      "measurementType             LA;LAR;SH;SB              SB              2,6\n",
      "measurementValue           4,3;4;3,6;2,6              SB              2,6\n",
      "meow\n"
     ]
    }
   ],
   "source": [
    "def matching_size(row):\n",
    "    \"\"\"function to match size of measurement type and value\"\"\"\n",
    "    mtype = row[\"measurementType\"].split(';')\n",
    "    mval = row[\"measurementValue\"].split(';')\n",
    "    if len(mtype) == len(mval):\n",
    "        line_split(row)\n",
    "    else:\n",
    "        print (\"Error: Size Mismatch\")\n",
    "\n",
    "def line_split(row):\n",
    "    mtype = row[\"measurementType\"].split(';')\n",
    "    mval = row[\"measurementValue\"].split(';')\n",
    "    temp_df = pd.DataFrame(row) \n",
    "    for i in range(len(mval)):\n",
    "        temp_df[\"measurementType\"] = mtype[i]\n",
    "        temp_df[\"measurementValue\"] = mval[i]\n",
    "    print(\"herro\")\n",
    "    print(temp_df)\n",
    "    print(\"meow\")\n",
    "\n",
    "\n",
    "\n",
    "test = test.apply(matching_size,axis=1)\n",
    "\n",
    "\n",
    "\n",
    "#def calculate_area(row):\n",
    "#    return row['height'] * row['width']\n",
    "#rectangles_df.apply(calculate_area, axis=1)\n",
    "\n",
    "#rectangles_df['area'] = rectangles_df.apply(calculate_area, axis=1)\n",
    "#rectangles_df\n",
    "\n",
    "\n",
    "\n",
    "\n",
    "\n",
    "\n",
    "#This method might be major issue for more than one index row, test that next\n",
    "#I'd say this one is a possibility but it's not ideal \n",
    "#test_1 =  pd.concat([Series(row['protocol'], row['measurementValue'].split(';'))              \n",
    "#                   for _, row in test.iterrows()]).reset_index()\n",
    "#test_1 = test_1.rename(columns={'index':'measurementValue'})\n",
    "#mval = test_1[\"measurementValue\"]\n",
    "\n",
    "\n",
    "#test_2 = pd.concat([Series(row['protocol'], row['measurementType'].split(';'))              \n",
    "#                   for _, row in test.iterrows()]).reset_index()\n",
    "#test_2 = test_2.rename(columns={'index':'measurementType',\n",
    "#                                '0':'protocol'})\n",
    "\n",
    "#test_2['measurementValue'] = mval\n",
    "#test_2\n",
    "\n",
    "\n",
    "\n",
    "#Focus on working measurementType instead\n",
    "\n",
    "#test_1 = pd.concat([Series(row['var2'], row['var1'].split(','))              \n",
    "#                    for _, row in a.iterrows()]).reset_index()\n",
    "\n",
    "\n",
    "#test_1 = test.assign(var1=test['measurementType'].str.split(';')).explode('measurementType')\n",
    "\n",
    "#test_1\n",
    "\n",
    "#mtype = test['measurementType'].str.split(';').apply(Series, 1).stack()\n",
    "#mtype.index = mtype.index.droplevel(-1) \n",
    "#mtype.name = 'measurementType' \n",
    "\n",
    "#mval = test['measurementValue'].str.split(';').apply(Series, 1).stack()\n",
    "#mval.index = mval.index.droplevel(-1)\n",
    "#mval.name = 'measurementValue'\n",
    "\n",
    "#mval\n",
    "#mtype\n",
    "\n",
    "#del test['measurementType']\n",
    "#test = test.join(mtype)\n",
    "\n",
    "\n",
    "\n",
    "#Issue: caused same problem as the first one\n",
    "\n",
    "#test =  pd.concat([Series(row['measurementType'], row['measurementValue'].split(';'))              \n",
    "#                    for _, row in test.iterrows()]).reset_index()\n",
    "\n",
    "\n",
    "#Issue: too much duplication, must be a better way \n",
    "\n",
    "#mtype = test['measurementType'].str.split(';').apply(Series, 1).stack()\n",
    "#mval = test['measurementValue'].str.split(';').apply(Series, 1).stack()\n",
    "#mtype.index = mtype.index.droplevel(-1) \n",
    "#mval.index = mval.index.droplevel(-1)\n",
    "#mtype.name = 'measurementType' \n",
    "#mval.name = 'measurementValue'\n",
    "#del test['measurementType']\n",
    "#del test['measurementValue']\n",
    "#test = test.join(mtype)\n",
    "#test = test.join(mval)"
   ]
  },
  {
   "cell_type": "code",
   "execution_count": 235,
   "metadata": {},
   "outputs": [
    {
     "data": {
      "text/plain": [
       "0     None\n",
       "1     None\n",
       "2     None\n",
       "3     None\n",
       "4     None\n",
       "5     None\n",
       "6     None\n",
       "7     None\n",
       "8     None\n",
       "9     None\n",
       "10    None\n",
       "11    None\n",
       "12    None\n",
       "13    None\n",
       "14    None\n",
       "15    None\n",
       "16    None\n",
       "17    None\n",
       "18    None\n",
       "19    None\n",
       "dtype: object"
      ]
     },
     "execution_count": 235,
     "metadata": {},
     "output_type": "execute_result"
    }
   ],
   "source": [
    "test"
   ]
  },
  {
   "cell_type": "code",
   "execution_count": 236,
   "metadata": {},
   "outputs": [],
   "source": [
    "#test_new_val = test.join(test.pop('measurementValue').str.split(';',expand=True))\n",
    "#test_new_val = test_new_val.set_index(['protocol','measurementType']).stack().reset_index(level=[0,1],name='measurementValue')"
   ]
  },
  {
   "cell_type": "code",
   "execution_count": 237,
   "metadata": {},
   "outputs": [],
   "source": [
    "#test_new_type = test.join(test.pop('measurementType').str.split(';',expand=True))\n",
    "#test_new_type = test_new_type.set_index(['protocol','measurementValue']).stack().reset_index(level=[0,1],name='measurementType')"
   ]
  },
  {
   "cell_type": "code",
   "execution_count": 238,
   "metadata": {},
   "outputs": [
    {
     "ename": "NameError",
     "evalue": "name 'test_new_val' is not defined",
     "output_type": "error",
     "traceback": [
      "\u001b[0;31m---------------------------------------------------------------------------\u001b[0m",
      "\u001b[0;31mNameError\u001b[0m                                 Traceback (most recent call last)",
      "\u001b[0;32m<ipython-input-238-8c7eed8de20d>\u001b[0m in \u001b[0;36m<module>\u001b[0;34m\u001b[0m\n\u001b[0;32m----> 1\u001b[0;31m \u001b[0mtest_new_val\u001b[0m\u001b[0;34m\u001b[0m\u001b[0;34m\u001b[0m\u001b[0m\n\u001b[0m",
      "\u001b[0;31mNameError\u001b[0m: name 'test_new_val' is not defined"
     ]
    }
   ],
   "source": [
    "test_new_val"
   ]
  },
  {
   "cell_type": "code",
   "execution_count": null,
   "metadata": {},
   "outputs": [],
   "source": []
  },
  {
   "cell_type": "code",
   "execution_count": null,
   "metadata": {},
   "outputs": [],
   "source": []
  }
 ],
 "metadata": {
  "kernelspec": {
   "display_name": "Python 3",
   "language": "python",
   "name": "python3"
  },
  "language_info": {
   "codemirror_mode": {
    "name": "ipython",
    "version": 3
   },
   "file_extension": ".py",
   "mimetype": "text/x-python",
   "name": "python",
   "nbconvert_exporter": "python",
   "pygments_lexer": "ipython3",
   "version": "3.7.9"
  }
 },
 "nbformat": 4,
 "nbformat_minor": 4
}
