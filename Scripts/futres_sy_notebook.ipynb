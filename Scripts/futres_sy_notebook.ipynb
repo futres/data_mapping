{
 "cells": [
  {
   "cell_type": "markdown",
   "metadata": {},
   "source": [
    "Data Wrangling Notebook for SY Data\n",
    "<br />\n",
    "Neeka Sewnath\n",
    "<br />\n",
    "nsewnath@ufl.edu"
   ]
  },
  {
   "cell_type": "code",
   "execution_count": 41,
   "metadata": {},
   "outputs": [],
   "source": [
    "import pandas as pd\n",
    "from pandas import Series\n",
    "import numpy as np\n",
    "import re\n",
    "import uuid "
   ]
  },
  {
   "cell_type": "markdown",
   "metadata": {},
   "source": [
    "Silencing warnings that are unnecessary"
   ]
  },
  {
   "cell_type": "code",
   "execution_count": 42,
   "metadata": {},
   "outputs": [],
   "source": [
    "try:\n",
    "    import warnings\n",
    "    warnings.filterwarnings('ignore')\n",
    "except:\n",
    "    pass"
   ]
  },
  {
   "cell_type": "markdown",
   "metadata": {},
   "source": [
    "Import SY Data"
   ]
  },
  {
   "cell_type": "code",
   "execution_count": 43,
   "metadata": {},
   "outputs": [],
   "source": [
    "sy_data = pd.read_csv(\"./../Original_Data/futres_sy_mod.csv\")"
   ]
  },
  {
   "cell_type": "markdown",
   "metadata": {},
   "source": [
    "Rename Columns"
   ]
  },
  {
   "cell_type": "code",
   "execution_count": 44,
   "metadata": {},
   "outputs": [],
   "source": [
    "sy_data = sy_data.rename(columns={'ID': 'individualID',\n",
    "                                  'Taxa':'scientificName',\n",
    "                                  'Measurements (NAME;NAME;NAME...) divided by ;':'measurementType',\n",
    "                                  'Values (mm;mm;mm...) divided by ;':'measurementValue',\n",
    "                                  'Gender': 'sex',\n",
    "                                  'Age appearance':'lifeStage',\n",
    "                                  'Siding':'measurementSide'})"
   ]
  },
  {
   "cell_type": "markdown",
   "metadata": {},
   "source": [
    "Clean up lifeStage column"
   ]
  },
  {
   "cell_type": "code",
   "execution_count": 45,
   "metadata": {},
   "outputs": [],
   "source": [
    "# Create Filters\n",
    "adult = sy_data['lifeStage']==\"ADL\"\n",
    "juvenile = sy_data['lifeStage']==\"JUV\"\n",
    "\n",
    "# Assign correct terms using filters\n",
    "sy_data['lifeStage'][adult] = \"adult\"\n",
    "sy_data['lifeStage'][juvenile] = \"juvenile\""
   ]
  },
  {
   "cell_type": "markdown",
   "metadata": {},
   "source": [
    "Clean up sex column"
   ]
  },
  {
   "cell_type": "code",
   "execution_count": 46,
   "metadata": {},
   "outputs": [],
   "source": [
    "male = sy_data['sex']==\"M\"\n",
    "sy_data[\"sex\"][male==True]=\"male\"\n",
    "sy_data['sex'][male==False]=\"\""
   ]
  },
  {
   "cell_type": "markdown",
   "metadata": {},
   "source": [
    "Clean up side column"
   ]
  },
  {
   "cell_type": "code",
   "execution_count": 47,
   "metadata": {},
   "outputs": [],
   "source": [
    "right = sy_data['measurementSide'] == \"IZQ\"\n",
    "left = sy_data['measurementSide'] == \"DER\"\n",
    "sy_data['measurementSide'][(right == False) & (left == False)] = \"\"\n",
    "sy_data['measurementSide'][right == True] = \"right\"\n",
    "sy_data['measurementSide'][left == True] = \"left\""
   ]
  },
  {
   "cell_type": "markdown",
   "metadata": {},
   "source": [
    "Add samplingProtocol and set it to reference values"
   ]
  },
  {
   "cell_type": "code",
   "execution_count": 48,
   "metadata": {},
   "outputs": [],
   "source": [
    "sy_data = sy_data.assign(samplingProtocol = sy_data[\"PROTOCOL\"])"
   ]
  },
  {
   "cell_type": "markdown",
   "metadata": {},
   "source": [
    "Check is length of measurementType and measurementValue are the same "
   ]
  },
  {
   "cell_type": "code",
   "execution_count": 49,
   "metadata": {},
   "outputs": [],
   "source": [
    "#def matching_size(row):\n",
    "#    \"\"\"function to match size of measurement type and value\"\"\"\n",
    "#    mtype = row[\"measurementType\"].split(';')\n",
    "#    mval = row[\"measurementValue\"].split(';')\n",
    "#    if len(mtype) != len(mval):\n",
    "#        print (\"Error: Size Mismatch\")\n",
    "#        print(row.name)\n",
    "        \n",
    "#sy_data.apply(matching_size,  axis =1)"
   ]
  },
  {
   "cell_type": "markdown",
   "metadata": {},
   "source": [
    "JSON specific columns and add to dynamicProperties"
   ]
  },
  {
   "cell_type": "code",
   "execution_count": 50,
   "metadata": {},
   "outputs": [],
   "source": [
    "# Specify columns for dynamic properties\n",
    "json_columns = sy_data.iloc[:,19:45]\n",
    "\n",
    "# Create dynamicProperties\n",
    "sy_data = sy_data.assign(dynamicProperties=\"\")\n",
    "\n",
    "for i in json_columns.index:\n",
    "    sy_data[\"dynamicProperties\"][i] = json_columns.loc[i].to_json()"
   ]
  },
  {
   "cell_type": "markdown",
   "metadata": {},
   "source": [
    "Rename specimens and append Specimen to measurementType"
   ]
  },
  {
   "cell_type": "code",
   "execution_count": 51,
   "metadata": {},
   "outputs": [
    {
     "data": {
      "text/plain": [
       "0           metacarpalBd\n",
       "1           metacarpalDd\n",
       "2     proximal phalanxGL\n",
       "3     proximal phalanxBp\n",
       "4     proximal phalanxBd\n",
       "             ...        \n",
       "64               femurBd\n",
       "65            os coxaeLA\n",
       "66           os coxaeLAR\n",
       "67            os coxaeSH\n",
       "68            os coxaeSB\n",
       "Name: measurementType, Length: 69, dtype: object"
      ]
     },
     "execution_count": 51,
     "metadata": {},
     "output_type": "execute_result"
    }
   ],
   "source": [
    "# Rename Specimens (useful later down the line)\n",
    "sy_data[\"Specimen\"] = sy_data[\"Specimen\"].replace({'metacarpo': 'metacarpal', \n",
    "                                                   'falange 1º': 'proximal phalanx',\n",
    "                                                   'metatarso': 'metatarsal', \n",
    "                                                   'coxal':'os coxae'})\n",
    "\n",
    "# Append Specimen name to measurementType Column\n",
    "sy_data[\"measurementType\"] = sy_data[\"Specimen\"] + sy_data[\"measurementType\"]\n",
    "\n",
    "# Replace names of terms avaliable in GEOME\n",
    "sy_data[\"measurementType\"] = sy_data[\"measurementType\"].replace({'femurGL': 'femur length'})"
   ]
  },
  {
   "cell_type": "markdown",
   "metadata": {},
   "source": [
    "Subsetting by template terms"
   ]
  },
  {
   "cell_type": "code",
   "execution_count": 12,
   "metadata": {},
   "outputs": [],
   "source": [
    "#Create column list\n",
    "cols = sy_data.columns.tolist()\n",
    "\n",
    "#Specify desired columns\n",
    "cols = ['individualID',\n",
    "        'scientificName',\n",
    "        'measurementType',\n",
    "        'measurementValue',\n",
    "        'sex',\n",
    "        'lifeStage',\n",
    "        'dynamicProperties',\n",
    "        'samplingProtocol']\n",
    "\n",
    "#Subset dataframe\n",
    "sy_data = sy_data[cols]"
   ]
  },
  {
   "cell_type": "markdown",
   "metadata": {},
   "source": [
    "Subset by avaliable measurement terms"
   ]
  },
  {
   "cell_type": "code",
   "execution_count": 14,
   "metadata": {},
   "outputs": [],
   "source": [
    "sy_data = sy_data[sy_data['measurementType']==\"femur length\"]"
   ]
  },
  {
   "cell_type": "markdown",
   "metadata": {},
   "source": [
    "Drop Rows that contain NA in measurementValue"
   ]
  },
  {
   "cell_type": "code",
   "execution_count": null,
   "metadata": {},
   "outputs": [],
   "source": [
    "sy_data = sy_data.dropna(subset=['measurementValue'])"
   ]
  },
  {
   "cell_type": "markdown",
   "metadata": {},
   "source": [
    "Create necessary materialSampleID column and populate with UUID (use hex to remove dashes). Create necessary eventID column and populate with materialSampleID column"
   ]
  },
  {
   "cell_type": "code",
   "execution_count": 52,
   "metadata": {},
   "outputs": [],
   "source": [
    "sy_data = sy_data.assign(materialSampleID = '')\n",
    "sy_data['materialSampleID'] = [uuid.uuid4().hex for _ in range(len(sy_data.index))]\n",
    "\n",
    "sy_data = sy_data.assign(eventID = sy_data[\"materialSampleID\"])"
   ]
  },
  {
   "cell_type": "markdown",
   "metadata": {},
   "source": [
    "GEOME requires certain columns. Columns created and if unknown assign \"unknown\""
   ]
  },
  {
   "cell_type": "code",
   "execution_count": 53,
   "metadata": {},
   "outputs": [],
   "source": [
    "sy_data = sy_data.assign(basisOfRecord=\"Unknown\")\n",
    "sy_data = sy_data.assign(locality=\"Unknown\")\n",
    "sy_data = sy_data.assign(yearCollected=\"Unknown\")\n",
    "sy_data = sy_data.assign(measurementMethod=\"Unknown\")"
   ]
  },
  {
   "cell_type": "markdown",
   "metadata": {},
   "source": [
    "Assign diagnosticID with unique number"
   ]
  },
  {
   "cell_type": "code",
   "execution_count": 55,
   "metadata": {},
   "outputs": [],
   "source": [
    "# Create diagnosticID which is a unique number for each measurement\n",
    "sy_data = sy_data.assign(diagnosticID = '')\n",
    "sy_data['diagnosticID'] = np.arange(len(sy_data))"
   ]
  },
  {
   "cell_type": "markdown",
   "metadata": {},
   "source": [
    "Write file as csv for GEOME upload"
   ]
  },
  {
   "cell_type": "code",
   "execution_count": null,
   "metadata": {},
   "outputs": [],
   "source": [
    "# Writing long data csv file\n",
    "sy_data.to_csv('../Mapped_Data/sy_data.csv', index=False)"
   ]
  },
  {
   "cell_type": "code",
   "execution_count": null,
   "metadata": {},
   "outputs": [],
   "source": []
  }
 ],
 "metadata": {
  "kernelspec": {
   "display_name": "Python 3",
   "language": "python",
   "name": "python3"
  },
  "language_info": {
   "codemirror_mode": {
    "name": "ipython",
    "version": 3
   },
   "file_extension": ".py",
   "mimetype": "text/x-python",
   "name": "python",
   "nbconvert_exporter": "python",
   "pygments_lexer": "ipython3",
   "version": "3.8.3"
  }
 },
 "nbformat": 4,
 "nbformat_minor": 4
}
