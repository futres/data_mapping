{
 "cells": [
  {
   "cell_type": "markdown",
   "metadata": {},
   "source": [
    "Data Wrangling Notebook for SY Data\n",
    "<br />\n",
    "Neeka Sewnath\n",
    "<br />\n",
    "nsewnath@ufl.edu"
   ]
  },
  {
   "cell_type": "code",
   "execution_count": 1,
   "metadata": {},
   "outputs": [],
   "source": [
    "import pandas as pd\n",
    "from pandas import Series\n",
    "import numpy as np\n",
    "import re\n",
    "import uuid "
   ]
  },
  {
   "cell_type": "markdown",
   "metadata": {},
   "source": [
    "Silencing warnings that are unnecessary"
   ]
  },
  {
   "cell_type": "code",
   "execution_count": 2,
   "metadata": {},
   "outputs": [],
   "source": [
    "try:\n",
    "    import warnings\n",
    "    warnings.filterwarnings('ignore')\n",
    "except:\n",
    "    pass"
   ]
  },
  {
   "cell_type": "markdown",
   "metadata": {},
   "source": [
    "Import SY Data"
   ]
  },
  {
   "cell_type": "code",
   "execution_count": 3,
   "metadata": {},
   "outputs": [],
   "source": [
    "sy_data = pd.read_csv(\"./../Original_Data/futres_sy_mod.csv\")"
   ]
  },
  {
   "cell_type": "markdown",
   "metadata": {},
   "source": [
    "Rename Columns"
   ]
  },
  {
   "cell_type": "code",
   "execution_count": 4,
   "metadata": {},
   "outputs": [],
   "source": [
    "sy_data = sy_data.rename(columns={'ID': 'individualID',\n",
    "                                  'Taxa':'scientificName',\n",
    "                                  'Measurements (NAME;NAME;NAME...) divided by ;':'measurementType',\n",
    "                                  'Values (mm;mm;mm...) divided by ;':'measurementValue',\n",
    "                                  'Gender': 'sex',\n",
    "                                  'Age appearance':'lifeStage'})"
   ]
  },
  {
   "cell_type": "markdown",
   "metadata": {},
   "source": [
    "Clean up lifeStage column"
   ]
  },
  {
   "cell_type": "code",
   "execution_count": 5,
   "metadata": {},
   "outputs": [],
   "source": [
    "# Create Filters\n",
    "adult = sy_data['lifeStage']==\"ADL\"\n",
    "juvenile = sy_data['lifeStage']==\"JUV\"\n",
    "\n",
    "# Assign correct terms using filters\n",
    "sy_data['lifeStage'][adult] = \"adult\"\n",
    "sy_data['lifeStage'][juvenile] = \"juvenile\""
   ]
  },
  {
   "cell_type": "markdown",
   "metadata": {},
   "source": [
    "Clean up sex column"
   ]
  },
  {
   "cell_type": "code",
   "execution_count": 6,
   "metadata": {},
   "outputs": [],
   "source": [
    "male = sy_data['sex']==\"M\"\n",
    "sy_data[\"sex\"][male==True]=\"male\"\n",
    "sy_data['sex'][male==False]=\"\""
   ]
  },
  {
   "cell_type": "markdown",
   "metadata": {},
   "source": [
    "Check is length of measurementType and measurementValue are the same "
   ]
  },
  {
   "cell_type": "code",
   "execution_count": 7,
   "metadata": {},
   "outputs": [],
   "source": [
    "#def matching_size(row):\n",
    "#    \"\"\"function to match size of measurement type and value\"\"\"\n",
    "#    mtype = row[\"measurementType\"].split(';')\n",
    "#    mval = row[\"measurementValue\"].split(';')\n",
    "#    if len(mtype) != len(mval):\n",
    "#        print (\"Error: Size Mismatch\")\n",
    "#        print(row.name)\n",
    "        \n",
    "#sy_data.apply(matching_size,  axis =1)"
   ]
  },
  {
   "cell_type": "markdown",
   "metadata": {},
   "source": [
    "JSON specific columns and add to dynamicProperties"
   ]
  },
  {
   "cell_type": "code",
   "execution_count": 18,
   "metadata": {},
   "outputs": [],
   "source": [
    "# Specify columns for dynamic properties\n",
    "json_columns = sy_data.iloc[:,19:45]\n",
    "\n",
    "# Create dynamicProperties\n",
    "sy_data = sy_data.assign(dynamicProperties=\"\")\n",
    "\n",
    "for i in json_columns.index:\n",
    "    sy_data[\"dynamicProperties\"][i] = json_columns.loc[i].to_json()"
   ]
  },
  {
   "cell_type": "markdown",
   "metadata": {},
   "source": [
    "Subsetting by avaliable terms"
   ]
  },
  {
   "cell_type": "code",
   "execution_count": null,
   "metadata": {},
   "outputs": [],
   "source": []
  }
 ],
 "metadata": {
  "kernelspec": {
   "display_name": "Python 3",
   "language": "python",
   "name": "python3"
  },
  "language_info": {
   "codemirror_mode": {
    "name": "ipython",
    "version": 3
   },
   "file_extension": ".py",
   "mimetype": "text/x-python",
   "name": "python",
   "nbconvert_exporter": "python",
   "pygments_lexer": "ipython3",
   "version": "3.8.3"
  }
 },
 "nbformat": 4,
 "nbformat_minor": 4
}
