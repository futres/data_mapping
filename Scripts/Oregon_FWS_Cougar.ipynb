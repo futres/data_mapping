{
 "cells": [
  {
   "cell_type": "markdown",
   "metadata": {},
   "source": [
    "Data Wrangling Notebook for Oregon Cougar Data\n",
    "<br />\n",
    "Neeka Sewnath\n",
    "<br />\n",
    "nsewnath@ufl.edu"
   ]
  },
  {
   "cell_type": "markdown",
   "metadata": {},
   "source": [
    "Silence unnecessary warnings"
   ]
  },
  {
   "cell_type": "code",
   "execution_count": 1,
   "metadata": {},
   "outputs": [],
   "source": [
    "try:\n",
    "    import warnings\n",
    "    warnings.filterwarnings('ignore')\n",
    "except:\n",
    "    pass"
   ]
  },
  {
   "cell_type": "code",
   "execution_count": 2,
   "metadata": {},
   "outputs": [],
   "source": [
    "import pandas as pd\n",
    "import numpy as np \n",
    "import uuid\n",
    "import re"
   ]
  },
  {
   "cell_type": "markdown",
   "metadata": {},
   "source": [
    "Import cougar data"
   ]
  },
  {
   "cell_type": "code",
   "execution_count": 3,
   "metadata": {},
   "outputs": [],
   "source": [
    "# Import Oregon FWS Cougar Data \n",
    "cougar_data = pd.read_csv(\"../Original_Data/cougar_data.csv\")\n",
    "\n",
    "# Drop unnecessary rows \n",
    "cougar_data = cougar_data.iloc[4:]\n",
    "\n",
    "# Create new header\n",
    "new_header = cougar_data.iloc[0] \n",
    "cougar_data = cougar_data[1:] \n",
    "cougar_data.columns = new_header\n",
    "\n",
    "# Import locality data\n",
    "cougar_locality = pd.read_csv(\"../Original_Data/cougar_locality.csv\")"
   ]
  },
  {
   "cell_type": "markdown",
   "metadata": {},
   "source": [
    "Create verbatimLocality column by concatenating Management Unit and County"
   ]
  },
  {
   "cell_type": "code",
   "execution_count": 4,
   "metadata": {},
   "outputs": [],
   "source": [
    "# Create verbatimLocality column \n",
    "cougar_data=cougar_data.assign(verbatimLocality = cougar_data['Management Unit'] \n",
    "                                                + \", \"\n",
    "                                                + cougar_data['County'])"
   ]
  },
  {
   "cell_type": "markdown",
   "metadata": {},
   "source": [
    "Adjust locality information "
   ]
  },
  {
   "cell_type": "code",
   "execution_count": 5,
   "metadata": {},
   "outputs": [],
   "source": [
    "# Add lat and long columns\n",
    "cougar_data=cougar_data.assign(decimalLatitude = \"\")\n",
    "cougar_data=cougar_data.assign(decimalLongitude = \"\")\n",
    "\n",
    "unit_name=cougar_locality[\"Unit Name\"]\n",
    "management_name=cougar_data[\"Management Unit\"]\n",
    "\n",
    "#Add coordinateUncertaintyInMeters column\n",
    "cougar_data=cougar_data.assign(coordinateUncertaintyInMeters=50000)\n",
    "\n",
    "# Match unit_name to management_name and transfer coordinate information\n",
    "for i in management_name.index:\n",
    "    for j in unit_name.index:\n",
    "        if management_name[i]==unit_name[j]:\n",
    "            cougar_data[\"decimalLatitude\"][i]=cougar_locality[\"latitude\"][j]\n",
    "            cougar_data[\"decimalLongitude\"][i]=cougar_locality[\"longitude\"][j]\n",
    "        elif management_name[i]==\"McKenzie\":\n",
    "            cougar_data[\"decimalLatitude\"][i]=\"44.1083926996967\"\n",
    "            cougar_data[\"decimalLongitude\"][i]=\"-122.417312310006\"\n",
    "   "
   ]
  },
  {
   "cell_type": "markdown",
   "metadata": {},
   "source": [
    "Create yearCollected column to deer data"
   ]
  },
  {
   "cell_type": "code",
   "execution_count": 6,
   "metadata": {},
   "outputs": [],
   "source": [
    "cougar_data=cougar_data.assign(yearCollected = \"\")\n",
    "cougar_data['yearCollected'] = cougar_data.Date.str[-4:]"
   ]
  },
  {
   "cell_type": "markdown",
   "metadata": {},
   "source": [
    "Correct sex column"
   ]
  },
  {
   "cell_type": "code",
   "execution_count": 7,
   "metadata": {},
   "outputs": [],
   "source": [
    "female = cougar_data['Sex']==\"F\"\n",
    "male = cougar_data['Sex'] == \"M\"\n",
    "cougar_data['Sex'][(female == False)&(male==False)]=\"not collected\"\n",
    "cougar_data['Sex'][female == True]=\"female\"\n",
    "cougar_data['Sex'][male == True]=\"male\""
   ]
  },
  {
   "cell_type": "markdown",
   "metadata": {},
   "source": [
    "Create ageUnit Column and assign it to \"year\""
   ]
  },
  {
   "cell_type": "code",
   "execution_count": 8,
   "metadata": {},
   "outputs": [],
   "source": [
    "cougar_data = cougar_data.assign(ageUnit = \"year\")"
   ]
  },
  {
   "cell_type": "markdown",
   "metadata": {},
   "source": [
    "Fix status column to use GEOME terms "
   ]
  },
  {
   "cell_type": "code",
   "execution_count": 9,
   "metadata": {},
   "outputs": [],
   "source": [
    "whole = cougar_data['Status']==\"A\"\n",
    "gutted = cougar_data['Status']==\"B\"\n",
    "skinned = cougar_data['Status']==\"C\"\n",
    "skinned = cougar_data['Status']==\"c\"\n",
    "\n",
    "cougar_data['Status'][whole == True] = \"whole organism\"\n",
    "cougar_data['Status'][gutted == True] = \"part organism\"\n",
    "cougar_data['Status'][skinned == True] = \"part organism\""
   ]
  },
  {
   "cell_type": "markdown",
   "metadata": {},
   "source": [
    "Select specified columns for final dataset"
   ]
  },
  {
   "cell_type": "code",
   "execution_count": 10,
   "metadata": {},
   "outputs": [],
   "source": [
    "# Create column list\n",
    "cols = cougar_data.columns.tolist()\n",
    "\n",
    "# Specify desired columns\n",
    "cols = ['verbatimLocality',\n",
    "        'yearCollected',\n",
    "        'decimalLatitude', \n",
    "        'decimalLongitude',\n",
    "        'coordinateUncertaintyInMeters',\n",
    "        'Date',\n",
    "        'Sex',\n",
    "        'ageUnit',\n",
    "        'Status',\n",
    "        'Age',\n",
    "        'Weight',\n",
    "        'Length']\n",
    "\n",
    "# Subset dataframe\n",
    "cougar_data = cougar_data[cols]"
   ]
  },
  {
   "cell_type": "markdown",
   "metadata": {},
   "source": [
    "Matching column names to template "
   ]
  },
  {
   "cell_type": "code",
   "execution_count": 11,
   "metadata": {},
   "outputs": [],
   "source": [
    "# Matching template and column terms\n",
    "\n",
    "# Renaming columns \n",
    "cougar_data = cougar_data.rename(columns = {'Sex':'sex',\n",
    "                                            'Date':'verbatimEventDate',\n",
    "                                            'Status':'materialSampleType',\n",
    "                                            'Age': 'verbatimAgeValue'})"
   ]
  },
  {
   "cell_type": "code",
   "execution_count": 12,
   "metadata": {},
   "outputs": [],
   "source": [
    "# Matching trait and ontology terms\n",
    "\n",
    "# Renaming columns\n",
    "cougar_data = cougar_data.rename(columns={'Weight': 'body mass',\n",
    "                                          'Length': 'body length with tail'})"
   ]
  },
  {
   "cell_type": "markdown",
   "metadata": {},
   "source": [
    "Create measurementUnit column"
   ]
  },
  {
   "cell_type": "code",
   "execution_count": 13,
   "metadata": {},
   "outputs": [],
   "source": [
    "cougar_data = cougar_data.assign(measurementUnit=\"\")"
   ]
  },
  {
   "cell_type": "code",
   "execution_count": 14,
   "metadata": {},
   "outputs": [],
   "source": [
    "# Fill in blanks for required columns \n",
    "cougar_data=cougar_data.assign(country=\"USA\")\n",
    "cougar_data=cougar_data.assign(stateProvince=\"Oregon\")\n",
    "cougar_data=cougar_data.assign(basisOfRecord=\"PreservedSpecimen\")\n",
    "cougar_data=cougar_data.assign(scientificName=\"Puma concolor\")\n",
    "cougar_data=cougar_data.assign(locality=\"Unknown\")\n",
    "cougar_data=cougar_data.assign(samplingProtocol=\"Unknown\")\n",
    "cougar_data=cougar_data.assign(measurementMethod=\"Unknown\")"
   ]
  },
  {
   "cell_type": "markdown",
   "metadata": {},
   "source": [
    "Adding an additional column for ageValue"
   ]
  },
  {
   "cell_type": "code",
   "execution_count": 15,
   "metadata": {},
   "outputs": [],
   "source": [
    "cougar_data=cougar_data.assign(ageValue=\"\")\n",
    "cougar_data[\"ageValue\"]=cougar_data[\"verbatimAgeValue\"]"
   ]
  },
  {
   "cell_type": "markdown",
   "metadata": {},
   "source": [
    "Create necessary materialSampleID column and populate with UUID (use hex to remove dashes). Create necessary eventID column and populate with materialSampleID column"
   ]
  },
  {
   "cell_type": "code",
   "execution_count": 16,
   "metadata": {},
   "outputs": [],
   "source": [
    "cougar_data=cougar_data.assign(materialSampleID = '')\n",
    "cougar_data['materialSampleID'] = [uuid.uuid4().hex for _ in range(len(cougar_data.index))]\n",
    "\n",
    "cougar_data=cougar_data.assign(eventID = cougar_data[\"materialSampleID\"])"
   ]
  },
  {
   "cell_type": "markdown",
   "metadata": {},
   "source": [
    "Create a long version of the data frame"
   ]
  },
  {
   "cell_type": "code",
   "execution_count": 17,
   "metadata": {},
   "outputs": [],
   "source": [
    "# Creating long version, first specifiying keep variables, then naming variable and value\n",
    "longVers=pd.melt(cougar_data, \n",
    "                id_vars=['verbatimLocality',\n",
    "                         'yearCollected',\n",
    "                         'sex',\n",
    "                         'ageUnit',\n",
    "                         'materialSampleType',\n",
    "                         'verbatimAgeValue',\n",
    "                         'ageValue',\n",
    "                         'verbatimEventDate',\n",
    "                         'country',\n",
    "                         'stateProvince',\n",
    "                         'eventID',\n",
    "                         'locality',\n",
    "                         'decimalLatitude', \n",
    "                         'decimalLongitude',\n",
    "                         'coordinateUncertaintyInMeters',\n",
    "                         'measurementMethod',\n",
    "                         'samplingProtocol',\n",
    "                         'basisOfRecord',\n",
    "                         'scientificName',\n",
    "                         'materialSampleID',\n",
    "                         'measurementUnit'], \n",
    "                var_name = 'measurementType', \n",
    "                value_name = 'measurementValue')\n"
   ]
  },
  {
   "cell_type": "markdown",
   "metadata": {},
   "source": [
    "Remove rows containing NA in measurementValue column"
   ]
  },
  {
   "cell_type": "code",
   "execution_count": 18,
   "metadata": {},
   "outputs": [],
   "source": [
    "# If measurement value equals N/a, delete entire row\n",
    "longVers = longVers.dropna(subset=['measurementValue'])"
   ]
  },
  {
   "cell_type": "markdown",
   "metadata": {},
   "source": [
    "Populating measurementUnit column with appropriate measurement units in long version"
   ]
  },
  {
   "cell_type": "code",
   "execution_count": 19,
   "metadata": {},
   "outputs": [],
   "source": [
    "long_body_mass_filter=longVers['measurementType']==\"body mass\"\n",
    "long_no_body_filter=longVers['measurementType']!=\"body mass\"\n",
    "\n",
    "#Change \"lb\" to \"g\" and \"in\" to \"mm\". Conversion in next step\n",
    "longVers['measurementUnit'][long_body_mass_filter] = \"g\"\n",
    "longVers['measurementUnit'][long_no_body_filter] = \"mm\""
   ]
  },
  {
   "cell_type": "markdown",
   "metadata": {},
   "source": [
    "Converting \"in\" and \"lb\" to \"g\" and \"mm\""
   ]
  },
  {
   "cell_type": "code",
   "execution_count": 20,
   "metadata": {},
   "outputs": [],
   "source": [
    "def unit_clean(value, unit):\n",
    "    \"\"\"Cleans and converts measurementValue column\"\"\"\n",
    "    if unit == \"g\":\n",
    "    # Convert from pounds to grams  \n",
    "        return int(value) * 453.59237\n",
    "    else:\n",
    "    # Convert from inches to millimeters    \n",
    "        return int(value) * 25.4\n",
    "    \n",
    "# Clean and convert measurementValue column\n",
    "longVers['measurementValue'] = longVers.apply(lambda x: unit_clean(x.measurementValue, x.measurementUnit), axis=1)"
   ]
  },
  {
   "cell_type": "markdown",
   "metadata": {},
   "source": [
    "Create diagnosticID which is a unique number for each measurement"
   ]
  },
  {
   "cell_type": "code",
   "execution_count": 21,
   "metadata": {},
   "outputs": [],
   "source": [
    "longVers=longVers.assign(diagnosticID = '')\n",
    "longVers['diagnosticID'] = np.arange(len(longVers))"
   ]
  },
  {
   "cell_type": "markdown",
   "metadata": {},
   "source": [
    "Writing long data csv file"
   ]
  },
  {
   "cell_type": "code",
   "execution_count": 22,
   "metadata": {},
   "outputs": [],
   "source": [
    "longVers.to_csv('../Mapped_Data/FuTRES_Puma_concolor_ODFW_OR_USA_Modern.csv', index = False);"
   ]
  },
  {
   "cell_type": "code",
   "execution_count": null,
   "metadata": {},
   "outputs": [],
   "source": []
  }
 ],
 "metadata": {
  "kernelspec": {
   "display_name": "Python 3",
   "language": "python",
   "name": "python3"
  },
  "language_info": {
   "codemirror_mode": {
    "name": "ipython",
    "version": 3
   },
   "file_extension": ".py",
   "mimetype": "text/x-python",
   "name": "python",
   "nbconvert_exporter": "python",
   "pygments_lexer": "ipython3",
   "version": "3.8.3"
  }
 },
 "nbformat": 4,
 "nbformat_minor": 2
}
