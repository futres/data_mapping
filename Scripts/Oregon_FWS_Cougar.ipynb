{
 "cells": [
  {
   "cell_type": "markdown",
   "metadata": {},
   "source": [
    "# Manual Changes\n",
    "\n",
    "## template mapping files are in the git repository\n",
    "## original data in _CyVerse Discovery Environment_ \n",
    "### data file is: \"1987-2019 Cougar Weight-Length Public Request.xlsx\"\n",
    "\n",
    "### _verbatimLocality_\n",
    "- concatenation of \"Management Unit\" and \"County\"\n",
    "\n",
    "### _yearCollected_\n",
    "- in _Date_\n",
    "- create new column _yearCollected_\n",
    "- separate out year\n",
    "- include century as well (e.g., 1999)\n",
    "\n",
    "## To Code\n",
    "### _ageUnit_\n",
    "- all in \"year\" (spelled out and singular)\n",
    "\n",
    "### _measurementUnit_\n",
    "- Weight ({body mass}) is in \"lb\" (keep abbreviated)\n",
    "- Length ({body length}) is in \"in\" (keep abbreviated)\n",
    "\n",
    "### _materialSampleType_\n",
    "- in \"Status\" colum\n",
    "- \"A\" = Intact \n",
    "    - change \"A\" to \"whole\"\n",
    "- \"B\" = Field Dressed\n",
    "    - change \"B\" to \"part - gutted\"\n",
    "- \"C\" = Skinned\n",
    "    - change \"C\" to part - skinned"
   ]
  },
  {
   "cell_type": "code",
   "execution_count": null,
   "metadata": {},
   "outputs": [],
   "source": []
  }
 ],
 "metadata": {
  "kernelspec": {
   "display_name": "Python 3",
   "language": "python",
   "name": "python3"
  },
  "language_info": {
   "codemirror_mode": {
    "name": "ipython",
    "version": 3
   },
   "file_extension": ".py",
   "mimetype": "text/x-python",
   "name": "python",
   "nbconvert_exporter": "python",
   "pygments_lexer": "ipython3",
   "version": "3.7.4"
  }
 },
 "nbformat": 4,
 "nbformat_minor": 2
}
