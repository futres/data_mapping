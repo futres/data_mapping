{
 "cells": [
  {
   "cell_type": "markdown",
   "metadata": {},
   "source": [
    "# Manual Changes\n",
    "\n",
    "## template mapping files are in the git repository\n",
    "## original data in _CyVerse Discovery Environment_ \n",
    "### data file is: \"1987-2019 Cougar Weight-Length Public Request.xlsx\"\n",
    "\n",
    "### _verbatimLocality_\n",
    "- concatenation of \"Management Unit\" and \"County\"\n",
    "\n",
    "## To Code\n",
    "### _ageUnit_\n",
    "- all in years\n",
    "\n",
    "### _measurementUnit_\n",
    "- Weight ({body mass}) is in pounds (lbs.) \n",
    "- Length ({body length}) is in inches (in.)\n",
    "\n",
    "### _materialSampleType_\n",
    "- in \"Status\" colum\n",
    "- \"A\" = Intact \n",
    "    - change \"A\" to \"whole\"\n",
    "- \"B\" = Field Dressed\n",
    "    - change \"B\" to \"part - gutted\"\n",
    "- \"C\" = Skinned\n",
    "    - change \"C\" to part - skinned"
   ]
  },
  {
   "cell_type": "code",
   "execution_count": null,
   "metadata": {},
   "outputs": [],
   "source": []
  }
 ],
 "metadata": {
  "kernelspec": {
   "display_name": "Python 3",
   "language": "python",
   "name": "python3"
  },
  "language_info": {
   "codemirror_mode": {
    "name": "ipython",
    "version": 3
   },
   "file_extension": ".py",
   "mimetype": "text/x-python",
   "name": "python",
   "nbconvert_exporter": "python",
   "pygments_lexer": "ipython3",
   "version": "3.7.4"
  }
 },
 "nbformat": 4,
 "nbformat_minor": 2
}
