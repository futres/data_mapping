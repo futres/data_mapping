{
 "cells": [
  {
   "cell_type": "markdown",
   "metadata": {},
   "source": [
    "# Preprocessing\n",
    "The following code is for preprocessing legacy data to get it ready for the pipeline. Refer to [workflow](https://www.lucidchart.com/invitations/accept/f37251ae-abbe-4630-8192-f22350cf466a)\n",
    "1. put legacy data into the discovery environment\n",
    "2. update template and ontology mapping in [GitHub](https://github.com/futres/fovt-data-mapping)\n",
    "3. upload new template_mapping and ontology_mapping in the discovery environment\n",
    "4. map traits to ontology\n",
    "5. map columns to the template"
   ]
  },
  {
   "cell_type": "markdown",
   "metadata": {},
   "source": [
    "### Focused traits\n",
    "We are going to focus on certain traits for now, and add in the rest of the traits in this dataset later. These traits are based off [\"focused traits\"](https://docs.google.com/spreadsheets/d/1rU15rBo-JpopEqpxBXLWSqaecBXwtYpxBLjRImcCvDQ/edit#gid=0)"
   ]
  },
  {
   "cell_type": "code",
   "execution_count": 1,
   "metadata": {},
   "outputs": [
    {
     "name": "stderr",
     "output_type": "stream",
     "text": [
      "also installing the dependency ‘plyr’\n",
      "\n",
      "Updating HTML index of packages in '.Library'\n",
      "Making 'packages.html' ... done\n",
      "Updating HTML index of packages in '.Library'\n",
      "Making 'packages.html' ... done\n",
      "Loading required package: reshape2\n",
      "Warning message in library(package, lib.loc = lib.loc, character.only = TRUE, logical.return = TRUE, :\n",
      "“there is no package called ‘reshape2’”Loading required package: uuid\n"
     ]
    }
   ],
   "source": [
    "#install packages\n",
    "install.packages(\"reshape\") #package in R that helps to manipulate data\n",
    "install.packages(\"uuid\") #generate unique id for each row\n",
    "require(reshape2)\n",
    "require(uuid)"
   ]
  },
  {
   "cell_type": "code",
   "execution_count": 2,
   "metadata": {},
   "outputs": [],
   "source": [
    "#load mapping files\n",
    "#template_mapping in the DE and GitHub that helps maps column header from legacy data to the developed template for the processor\n",
    "template_map <- read.csv(\"template_mapping.csv\", stringsAsFactors = FALSE)\n",
    "#ontology_mapping in the DE and GitHub that maps legacy trait terms to the trait terms in the ontology\n",
    "ontology_map <- read.csv(\"ontology_mapping.csv\", stringsAsFactors = FALSE)\n",
    "#template used for the processor\n",
    "#in github: click on tags --> raw --> copy url\n",
    "template <- read.csv(\"https://raw.githubusercontent.com/futres/template/v1.0.4/template.csv\", stringsAsFactors = FALSE)"
   ]
  },
  {
   "cell_type": "markdown",
   "metadata": {},
   "source": [
    "## Ray Bernor Data\n",
    "This dataset includes measurements cranial, post-cranial, and tooth measurements from Fossil Horses for extant and extinct Equid species.\n",
    "This is a legacy dataset that has been actively collected and curated since 1980 by R. Bernor (currently at Howard University)"
   ]
  },
  {
   "cell_type": "code",
   "execution_count": 8,
   "metadata": {},
   "outputs": [
    {
     "data": {
      "text/html": [
       "<ol class=list-inline>\n",
       "\t<li>'SPEC_ID'</li>\n",
       "\t<li>'PROTECTED...P'</li>\n",
       "\t<li>'UPDATED...U'</li>\n",
       "\t<li>'GENUS'</li>\n",
       "\t<li>'SPECIES'</li>\n",
       "\t<li>'COUNTRY'</li>\n",
       "\t<li>'LOCALITY'</li>\n",
       "\t<li>'COLLECTION.PLACE'</li>\n",
       "\t<li>'DATE.COLLECTED'</li>\n",
       "\t<li>'SEX'</li>\n",
       "\t<li>'BONE'</li>\n",
       "\t<li>'SIDE'</li>\n",
       "\t<li>'AGE'</li>\n",
       "\t<li>'M1'</li>\n",
       "\t<li>'M2'</li>\n",
       "\t<li>'M3'</li>\n",
       "\t<li>'M4'</li>\n",
       "\t<li>'M5'</li>\n",
       "\t<li>'M6'</li>\n",
       "\t<li>'M7'</li>\n",
       "\t<li>'M8'</li>\n",
       "\t<li>'M9'</li>\n",
       "\t<li>'M10'</li>\n",
       "\t<li>'M11'</li>\n",
       "\t<li>'M12'</li>\n",
       "\t<li>'M13'</li>\n",
       "\t<li>'M14'</li>\n",
       "\t<li>'M15'</li>\n",
       "\t<li>'M16'</li>\n",
       "\t<li>'M17'</li>\n",
       "\t<li>'M18'</li>\n",
       "\t<li>'M19'</li>\n",
       "\t<li>'M20'</li>\n",
       "\t<li>'M21'</li>\n",
       "\t<li>'M22'</li>\n",
       "\t<li>'M23'</li>\n",
       "\t<li>'M24'</li>\n",
       "\t<li>'M25'</li>\n",
       "\t<li>'M26'</li>\n",
       "\t<li>'M27'</li>\n",
       "\t<li>'M28'</li>\n",
       "\t<li>'M29'</li>\n",
       "\t<li>'M30'</li>\n",
       "\t<li>'M31'</li>\n",
       "\t<li>'M32'</li>\n",
       "\t<li>'M33'</li>\n",
       "\t<li>'M34'</li>\n",
       "\t<li>'M35'</li>\n",
       "\t<li>'M36'</li>\n",
       "\t<li>'M37'</li>\n",
       "\t<li>'M38'</li>\n",
       "\t<li>'X'</li>\n",
       "\t<li>'X.1'</li>\n",
       "\t<li>'X.2'</li>\n",
       "</ol>\n"
      ],
      "text/latex": [
       "\\begin{enumerate*}\n",
       "\\item 'SPEC\\_ID'\n",
       "\\item 'PROTECTED...P'\n",
       "\\item 'UPDATED...U'\n",
       "\\item 'GENUS'\n",
       "\\item 'SPECIES'\n",
       "\\item 'COUNTRY'\n",
       "\\item 'LOCALITY'\n",
       "\\item 'COLLECTION.PLACE'\n",
       "\\item 'DATE.COLLECTED'\n",
       "\\item 'SEX'\n",
       "\\item 'BONE'\n",
       "\\item 'SIDE'\n",
       "\\item 'AGE'\n",
       "\\item 'M1'\n",
       "\\item 'M2'\n",
       "\\item 'M3'\n",
       "\\item 'M4'\n",
       "\\item 'M5'\n",
       "\\item 'M6'\n",
       "\\item 'M7'\n",
       "\\item 'M8'\n",
       "\\item 'M9'\n",
       "\\item 'M10'\n",
       "\\item 'M11'\n",
       "\\item 'M12'\n",
       "\\item 'M13'\n",
       "\\item 'M14'\n",
       "\\item 'M15'\n",
       "\\item 'M16'\n",
       "\\item 'M17'\n",
       "\\item 'M18'\n",
       "\\item 'M19'\n",
       "\\item 'M20'\n",
       "\\item 'M21'\n",
       "\\item 'M22'\n",
       "\\item 'M23'\n",
       "\\item 'M24'\n",
       "\\item 'M25'\n",
       "\\item 'M26'\n",
       "\\item 'M27'\n",
       "\\item 'M28'\n",
       "\\item 'M29'\n",
       "\\item 'M30'\n",
       "\\item 'M31'\n",
       "\\item 'M32'\n",
       "\\item 'M33'\n",
       "\\item 'M34'\n",
       "\\item 'M35'\n",
       "\\item 'M36'\n",
       "\\item 'M37'\n",
       "\\item 'M38'\n",
       "\\item 'X'\n",
       "\\item 'X.1'\n",
       "\\item 'X.2'\n",
       "\\end{enumerate*}\n"
      ],
      "text/markdown": [
       "1. 'SPEC_ID'\n",
       "2. 'PROTECTED...P'\n",
       "3. 'UPDATED...U'\n",
       "4. 'GENUS'\n",
       "5. 'SPECIES'\n",
       "6. 'COUNTRY'\n",
       "7. 'LOCALITY'\n",
       "8. 'COLLECTION.PLACE'\n",
       "9. 'DATE.COLLECTED'\n",
       "10. 'SEX'\n",
       "11. 'BONE'\n",
       "12. 'SIDE'\n",
       "13. 'AGE'\n",
       "14. 'M1'\n",
       "15. 'M2'\n",
       "16. 'M3'\n",
       "17. 'M4'\n",
       "18. 'M5'\n",
       "19. 'M6'\n",
       "20. 'M7'\n",
       "21. 'M8'\n",
       "22. 'M9'\n",
       "23. 'M10'\n",
       "24. 'M11'\n",
       "25. 'M12'\n",
       "26. 'M13'\n",
       "27. 'M14'\n",
       "28. 'M15'\n",
       "29. 'M16'\n",
       "30. 'M17'\n",
       "31. 'M18'\n",
       "32. 'M19'\n",
       "33. 'M20'\n",
       "34. 'M21'\n",
       "35. 'M22'\n",
       "36. 'M23'\n",
       "37. 'M24'\n",
       "38. 'M25'\n",
       "39. 'M26'\n",
       "40. 'M27'\n",
       "41. 'M28'\n",
       "42. 'M29'\n",
       "43. 'M30'\n",
       "44. 'M31'\n",
       "45. 'M32'\n",
       "46. 'M33'\n",
       "47. 'M34'\n",
       "48. 'M35'\n",
       "49. 'M36'\n",
       "50. 'M37'\n",
       "51. 'M38'\n",
       "52. 'X'\n",
       "53. 'X.1'\n",
       "54. 'X.2'\n",
       "\n",
       "\n"
      ],
      "text/plain": [
       " [1] \"SPEC_ID\"          \"PROTECTED...P\"    \"UPDATED...U\"      \"GENUS\"           \n",
       " [5] \"SPECIES\"          \"COUNTRY\"          \"LOCALITY\"         \"COLLECTION.PLACE\"\n",
       " [9] \"DATE.COLLECTED\"   \"SEX\"              \"BONE\"             \"SIDE\"            \n",
       "[13] \"AGE\"              \"M1\"               \"M2\"               \"M3\"              \n",
       "[17] \"M4\"               \"M5\"               \"M6\"               \"M7\"              \n",
       "[21] \"M8\"               \"M9\"               \"M10\"              \"M11\"             \n",
       "[25] \"M12\"              \"M13\"              \"M14\"              \"M15\"             \n",
       "[29] \"M16\"              \"M17\"              \"M18\"              \"M19\"             \n",
       "[33] \"M20\"              \"M21\"              \"M22\"              \"M23\"             \n",
       "[37] \"M24\"              \"M25\"              \"M26\"              \"M27\"             \n",
       "[41] \"M28\"              \"M29\"              \"M30\"              \"M31\"             \n",
       "[45] \"M32\"              \"M33\"              \"M34\"              \"M35\"             \n",
       "[49] \"M36\"              \"M37\"              \"M38\"              \"X\"               \n",
       "[53] \"X.1\"              \"X.2\"             "
      ]
     },
     "metadata": {},
     "output_type": "display_data"
    }
   ],
   "source": [
    "#data\n",
    "ray <- read.csv(\"https://de.cyverse.org/dl/d/225CDD84-1A47-4E8A-B5A1-8952BF2DC274/00_ExtantEquus_9_22_2019.csv\", stringsAsFactors = FALSE) #how to point to latest data version?\n",
    "#reference for bone abbreviations in the \"ray\" dataset\n",
    "boneAbbr <- read.csv(\"https://de.cyverse.org/dl/d/C82D7659-5503-455B-8F7F-883DC3F1BAE0/BoneAbbr.csv\", stringsAsFactors = FALSE)\n",
    "#reference for locality numbers in the \"ray\" dataset\n",
    "locality <- read.csv(\"https://de.cyverse.org/dl/d/736F420E-6474-45F0-82EE-6A43D1703DE2/2.LOCAL_6_24_2019FuTRESPROTECTED.csv\", stringsAsFactors = FALSE)\n",
    "\n",
    "colnames(ray)"
   ]
  },
  {
   "cell_type": "markdown",
   "metadata": {},
   "source": [
    "#### Data Cleaning"
   ]
  },
  {
   "cell_type": "code",
   "execution_count": 10,
   "metadata": {},
   "outputs": [
    {
     "name": "stdout",
     "output_type": "stream",
     "text": [
      "'data.frame':\t4 obs. of  54 variables:\n",
      " $ SPEC_ID         : chr  \"USNMA49944\" \"\" \"\" \"\"\n",
      " $ PROTECTED...P   : chr  \"\" \"\" \"\" \"\"\n",
      " $ UPDATED...U     : chr  \"\" \"\" \"\" \"\"\n",
      " $ GENUS           : chr  \"Equus\" \"\" \"\" \"\"\n",
      " $ SPECIES         : chr  \"grevyi\" \"\" \"\" \"\"\n",
      " $ COUNTRY         : chr  \"19\" \"\" \"\" \"\"\n",
      " $ LOCALITY        : chr  \"unknown\" \"\" \"\" \"\"\n",
      " $ COLLECTION.PLACE: chr  \"\" \"\" \"\" \"\"\n",
      " $ DATE.COLLECTED  : chr  \"1-Nov-1907\" \"\" \"\" \"\"\n",
      " $ SEX             : chr  \"female\" \"\" \"\" \"\"\n",
      " $ BONE            : chr  \"txP2\" \"\" \"\" \"\"\n",
      " $ SIDE            : chr  \"right\" \"\" \"\" \"\"\n",
      " $ AGE             : chr  \"recent\" \"\" \"\" \"\"\n",
      " $ M1              : num  36.3 NA NA NA\n",
      " $ M2              : num  NA NA NA NA\n",
      " $ M3              : num  26.3 NA NA NA\n",
      " $ M4              : num  NA NA NA NA\n",
      " $ M5              : num  NA NA NA NA\n",
      " $ M6              : chr  \"\" \"\" \"\" \"\"\n",
      " $ M7              : num  NA NA NA NA\n",
      " $ M8              : num  NA NA NA NA\n",
      " $ M9              : num  NA NA NA NA\n",
      " $ M10             : num  8.1 NA NA NA\n",
      " $ M11             : num  7 NA NA NA\n",
      " $ M12             : num  NA NA NA NA\n",
      " $ M13             : num  NA NA NA NA\n",
      " $ M14             : num  NA NA NA NA\n",
      " $ M15             : num  NA NA NA NA\n",
      " $ M16             : num  NA NA NA NA\n",
      " $ M17             : num  NA NA NA NA\n",
      " $ M18             : num  NA NA NA NA\n",
      " $ M19             : num  NA NA NA NA\n",
      " $ M20             : num  NA NA NA NA\n",
      " $ M21             : num  NA NA NA NA\n",
      " $ M22             : num  NA NA NA NA\n",
      " $ M23             : num  NA NA NA NA\n",
      " $ M24             : num  NA NA NA NA\n",
      " $ M25             : num  NA NA NA NA\n",
      " $ M26             : num  NA NA NA NA\n",
      " $ M27             : num  NA NA NA NA\n",
      " $ M28             : num  NA NA NA NA\n",
      " $ M29             : num  NA NA NA NA\n",
      " $ M30             : num  NA NA NA NA\n",
      " $ M31             : num  NA NA NA NA\n",
      " $ M32             : num  NA NA NA NA\n",
      " $ M33             : num  NA NA NA NA\n",
      " $ M34             : num  NA NA NA NA\n",
      " $ M35             : num  NA NA NA NA\n",
      " $ M36             : num  NA NA NA NA\n",
      " $ M37             : num  NA NA NA NA\n",
      " $ M38             : num  NA NA NA NA\n",
      " $ X               : logi  NA NA NA NA\n",
      " $ X.1             : logi  NA NA NA NA\n",
      " $ X.2             : logi  NA NA NA NA\n"
     ]
    },
    {
     "data": {
      "text/html": [
       "<ol class=list-inline>\n",
       "\t<li>'SPEC_ID'</li>\n",
       "\t<li>'PROTECTED...P'</li>\n",
       "\t<li>'UPDATED...U'</li>\n",
       "\t<li>'GENUS'</li>\n",
       "\t<li>'SPECIES'</li>\n",
       "\t<li>'COUNTRY'</li>\n",
       "\t<li>'LOCALITY'</li>\n",
       "\t<li>'COLLECTION.PLACE'</li>\n",
       "\t<li>'DATE.COLLECTED'</li>\n",
       "\t<li>'SEX'</li>\n",
       "\t<li>'BONE'</li>\n",
       "\t<li>'SIDE'</li>\n",
       "\t<li>'AGE'</li>\n",
       "\t<li>'M1'</li>\n",
       "\t<li>'M2'</li>\n",
       "\t<li>'M3'</li>\n",
       "\t<li>'M4'</li>\n",
       "\t<li>'M5'</li>\n",
       "\t<li>'M6'</li>\n",
       "\t<li>'M7'</li>\n",
       "\t<li>'M8'</li>\n",
       "\t<li>'M9'</li>\n",
       "\t<li>'M10'</li>\n",
       "\t<li>'M11'</li>\n",
       "\t<li>'M12'</li>\n",
       "\t<li>'M13'</li>\n",
       "\t<li>'M14'</li>\n",
       "\t<li>'M15'</li>\n",
       "\t<li>'M16'</li>\n",
       "\t<li>'M17'</li>\n",
       "\t<li>'M18'</li>\n",
       "\t<li>'M19'</li>\n",
       "\t<li>'M20'</li>\n",
       "\t<li>'M21'</li>\n",
       "\t<li>'M22'</li>\n",
       "\t<li>'M23'</li>\n",
       "\t<li>'M24'</li>\n",
       "\t<li>'M25'</li>\n",
       "\t<li>'M26'</li>\n",
       "\t<li>'M27'</li>\n",
       "\t<li>'M28'</li>\n",
       "\t<li>'M29'</li>\n",
       "\t<li>'M30'</li>\n",
       "\t<li>'M31'</li>\n",
       "\t<li>'M32'</li>\n",
       "\t<li>'M33'</li>\n",
       "\t<li>'M34'</li>\n",
       "\t<li>'M35'</li>\n",
       "\t<li>'M36'</li>\n",
       "\t<li>'M37'</li>\n",
       "\t<li>'M38'</li>\n",
       "\t<li>'X'</li>\n",
       "\t<li>'X.1'</li>\n",
       "\t<li>'X.2'</li>\n",
       "</ol>\n"
      ],
      "text/latex": [
       "\\begin{enumerate*}\n",
       "\\item 'SPEC\\_ID'\n",
       "\\item 'PROTECTED...P'\n",
       "\\item 'UPDATED...U'\n",
       "\\item 'GENUS'\n",
       "\\item 'SPECIES'\n",
       "\\item 'COUNTRY'\n",
       "\\item 'LOCALITY'\n",
       "\\item 'COLLECTION.PLACE'\n",
       "\\item 'DATE.COLLECTED'\n",
       "\\item 'SEX'\n",
       "\\item 'BONE'\n",
       "\\item 'SIDE'\n",
       "\\item 'AGE'\n",
       "\\item 'M1'\n",
       "\\item 'M2'\n",
       "\\item 'M3'\n",
       "\\item 'M4'\n",
       "\\item 'M5'\n",
       "\\item 'M6'\n",
       "\\item 'M7'\n",
       "\\item 'M8'\n",
       "\\item 'M9'\n",
       "\\item 'M10'\n",
       "\\item 'M11'\n",
       "\\item 'M12'\n",
       "\\item 'M13'\n",
       "\\item 'M14'\n",
       "\\item 'M15'\n",
       "\\item 'M16'\n",
       "\\item 'M17'\n",
       "\\item 'M18'\n",
       "\\item 'M19'\n",
       "\\item 'M20'\n",
       "\\item 'M21'\n",
       "\\item 'M22'\n",
       "\\item 'M23'\n",
       "\\item 'M24'\n",
       "\\item 'M25'\n",
       "\\item 'M26'\n",
       "\\item 'M27'\n",
       "\\item 'M28'\n",
       "\\item 'M29'\n",
       "\\item 'M30'\n",
       "\\item 'M31'\n",
       "\\item 'M32'\n",
       "\\item 'M33'\n",
       "\\item 'M34'\n",
       "\\item 'M35'\n",
       "\\item 'M36'\n",
       "\\item 'M37'\n",
       "\\item 'M38'\n",
       "\\item 'X'\n",
       "\\item 'X.1'\n",
       "\\item 'X.2'\n",
       "\\end{enumerate*}\n"
      ],
      "text/markdown": [
       "1. 'SPEC_ID'\n",
       "2. 'PROTECTED...P'\n",
       "3. 'UPDATED...U'\n",
       "4. 'GENUS'\n",
       "5. 'SPECIES'\n",
       "6. 'COUNTRY'\n",
       "7. 'LOCALITY'\n",
       "8. 'COLLECTION.PLACE'\n",
       "9. 'DATE.COLLECTED'\n",
       "10. 'SEX'\n",
       "11. 'BONE'\n",
       "12. 'SIDE'\n",
       "13. 'AGE'\n",
       "14. 'M1'\n",
       "15. 'M2'\n",
       "16. 'M3'\n",
       "17. 'M4'\n",
       "18. 'M5'\n",
       "19. 'M6'\n",
       "20. 'M7'\n",
       "21. 'M8'\n",
       "22. 'M9'\n",
       "23. 'M10'\n",
       "24. 'M11'\n",
       "25. 'M12'\n",
       "26. 'M13'\n",
       "27. 'M14'\n",
       "28. 'M15'\n",
       "29. 'M16'\n",
       "30. 'M17'\n",
       "31. 'M18'\n",
       "32. 'M19'\n",
       "33. 'M20'\n",
       "34. 'M21'\n",
       "35. 'M22'\n",
       "36. 'M23'\n",
       "37. 'M24'\n",
       "38. 'M25'\n",
       "39. 'M26'\n",
       "40. 'M27'\n",
       "41. 'M28'\n",
       "42. 'M29'\n",
       "43. 'M30'\n",
       "44. 'M31'\n",
       "45. 'M32'\n",
       "46. 'M33'\n",
       "47. 'M34'\n",
       "48. 'M35'\n",
       "49. 'M36'\n",
       "50. 'M37'\n",
       "51. 'M38'\n",
       "52. 'X'\n",
       "53. 'X.1'\n",
       "54. 'X.2'\n",
       "\n",
       "\n"
      ],
      "text/plain": [
       " [1] \"SPEC_ID\"          \"PROTECTED...P\"    \"UPDATED...U\"      \"GENUS\"           \n",
       " [5] \"SPECIES\"          \"COUNTRY\"          \"LOCALITY\"         \"COLLECTION.PLACE\"\n",
       " [9] \"DATE.COLLECTED\"   \"SEX\"              \"BONE\"             \"SIDE\"            \n",
       "[13] \"AGE\"              \"M1\"               \"M2\"               \"M3\"              \n",
       "[17] \"M4\"               \"M5\"               \"M6\"               \"M7\"              \n",
       "[21] \"M8\"               \"M9\"               \"M10\"              \"M11\"             \n",
       "[25] \"M12\"              \"M13\"              \"M14\"              \"M15\"             \n",
       "[29] \"M16\"              \"M17\"              \"M18\"              \"M19\"             \n",
       "[33] \"M20\"              \"M21\"              \"M22\"              \"M23\"             \n",
       "[37] \"M24\"              \"M25\"              \"M26\"              \"M27\"             \n",
       "[41] \"M28\"              \"M29\"              \"M30\"              \"M31\"             \n",
       "[45] \"M32\"              \"M33\"              \"M34\"              \"M35\"             \n",
       "[49] \"M36\"              \"M37\"              \"M38\"              \"X\"               \n",
       "[53] \"X.1\"              \"X.2\"             "
      ]
     },
     "metadata": {},
     "output_type": "display_data"
    },
    {
     "data": {
      "text/html": [
       "<ol class=list-inline>\n",
       "\t<li>'unknown'</li>\n",
       "\t<li>''</li>\n",
       "</ol>\n"
      ],
      "text/latex": [
       "\\begin{enumerate*}\n",
       "\\item 'unknown'\n",
       "\\item ''\n",
       "\\end{enumerate*}\n"
      ],
      "text/markdown": [
       "1. 'unknown'\n",
       "2. ''\n",
       "\n",
       "\n"
      ],
      "text/plain": [
       "[1] \"unknown\" \"\"       "
      ]
     },
     "metadata": {},
     "output_type": "display_data"
    }
   ],
   "source": [
    "#get rid of protected sites; these sites cannot yet be ingested\n",
    "ray_safe <- subset(ray, subset = ray$PROTECTED...P != \"P\")\n",
    "str(ray_safe)\n",
    "colnames(ray_safe)\n",
    "unique(ray_safe$LOCALITY)"
   ]
  },
  {
   "cell_type": "code",
   "execution_count": 4,
   "metadata": {},
   "outputs": [
    {
     "name": "stderr",
     "output_type": "stream",
     "text": [
      "Warning message in ray_safe$verbatimLocality[i] <- locality$LOCALITYName[locality$LOCALITY.No == :\n",
      "“number of items to replace is not a multiple of replacement length”Warning message in ray_safe$country[i] <- locality$COUNTRYName[locality$LOCALITY.No == :\n",
      "“number of items to replace is not a multiple of replacement length”Warning message in ray_safe$verbatimLocality[i] <- locality$LOCALITYName[locality$LOCALITY.No == :\n",
      "“number of items to replace is not a multiple of replacement length”Warning message in ray_safe$country[i] <- locality$COUNTRYName[locality$LOCALITY.No == :\n",
      "“number of items to replace is not a multiple of replacement length”Warning message in ray_safe$verbatimLocality[i] <- locality$LOCALITYName[locality$LOCALITY.No == :\n",
      "“number of items to replace is not a multiple of replacement length”Warning message in ray_safe$country[i] <- locality$COUNTRYName[locality$LOCALITY.No == :\n",
      "“number of items to replace is not a multiple of replacement length”"
     ]
    }
   ],
   "source": [
    "#replace locality and country #s with actual names\n",
    "for(i in 1:length(ray_safe[,1])){\n",
    "  if(isTRUE(ray_safe$LOCALITY[i] != \"NA\")){\n",
    "  #verbatim locality is a term in the template, this is for specific areas that match the locality and country number in the locality dataset\n",
    "    ray_safe$verbatimLocality[i] <- locality$LOCALITYName[locality$LOCALITY.No == ray_safe$LOCALITY[i] & locality$COUNTRY.No == ray_safe$COUNTRY[i]]\n",
    "    #match the country code with country in locality dataset\n",
    "    ray_safe$country[i] <- locality$COUNTRYName[locality$LOCALITY.No == ray_safe$LOCALITY[i] & locality$COUNTRY.No == ray_safe$COUNTRY[i]]\n",
    "  }\n",
    "  else{\n",
    "    next() #if NA or not in the locality dataset\n",
    "  }\n",
    "}"
   ]
  },
  {
   "cell_type": "code",
   "execution_count": null,
   "metadata": {},
   "outputs": [],
   "source": [
    "#create column for binomial\n",
    "ray_sub$scientificName <- paste(ray_sub$GENUS, ray_sub$SPECIES, sep = \" \")\n",
    "#clean up\n",
    "ray_sub$SPEC_ID <- gsub(\"^\\\\s+|\\\\s+$\", \"\", ray_sub$SPEC_ID) #^ at beginning\n",
    "ray_sub$scientificName <- gsub(\"  \", \" \", ray_sub$scientificName)\n",
    "ray_sub$scientificName <- gsub(\"sp..\", \"sp. \", ray_sub$scientificName)\n",
    "ray_sub$scientificName <- gsub(\"^\\\\s+|\\\\s+$\", \"\", ray_sub$scientificName)"
   ]
  },
  {
   "cell_type": "code",
   "execution_count": null,
   "metadata": {},
   "outputs": [],
   "source": [
    "#clean up AGE\n",
    "#split dates\n",
    "#Quarry should be verbatim locality\n",
    "## NOTE: THESE DATES ARE NOT IN CONSISTENT ORDER - CHECK W RAY\n",
    "## ALSO: FOR SINGLE AGES - WHERE DOES IT GO?\n",
    "## GET RID OF \"?\" AND \"recent\"\n",
    "## WHAT UNITES ARE AGES IN??\n",
    "ray_long_sub$minimumChronometricAge <- sapply(strsplit(as.character(ray_long_sub$AGE),';|-|:'), \"[\", 1)\n",
    "ray_long_sub$maximumChronometricAge <- sapply(strsplit(as.character(ray_long_sub$AGE),';|-|:'), \"[\", 2)"
   ]
  },
  {
   "cell_type": "code",
   "execution_count": null,
   "metadata": {},
   "outputs": [],
   "source": [
    "#clean up data\n",
    "#get rid of NAs\n",
    "ray_clean <- ray_long_sub[!(is.na(ray_long_sub$value)),]\n",
    "#for some reason variables are factors, and values are characters\n",
    "ray_clean$meas.no <- as.character(ray_clean$meas.no)\n",
    "ray_clean$value <- as.numeric(ray_clean$value)"
   ]
  },
  {
   "cell_type": "code",
   "execution_count": null,
   "metadata": {},
   "outputs": [],
   "source": [
    "#reorder columns: template columns first, followed by measurement columns\n",
    "ray_sub1 <- ray_sub[,c(1:12,53:55,13:51)]"
   ]
  },
  {
   "cell_type": "markdown",
   "metadata": {},
   "source": [
    "#### Create long version"
   ]
  },
  {
   "cell_type": "code",
   "execution_count": null,
   "metadata": {},
   "outputs": [],
   "source": [
    "#create long version where each measurement gets its own row\n",
    "#measurements are from 15:54\n",
    "ray_long <- melt(ray_sub1, id.vars = c(1:15), factorsAsStrings = FALSE, variable.name = \"meas.no\")\n",
    "#need to change variable name to something else otherwise it accidently repopulates it as measurementType.1\n",
    "#select out specific measurements / change measurement names and map to template and ontology\n",
    "ray_long$measurement <- paste(ray_long$BONE, ray_long$meas.no, sep = \" \")\n",
    "ray_long_sub <- subset(ray_long, ray_long$measurement %in% ontology_map$measurement[ontology_map$dataset == \"ray\"])"
   ]
  },
  {
   "cell_type": "markdown",
   "metadata": {},
   "source": [
    "#### Match column names to template"
   ]
  },
  {
   "cell_type": "code",
   "execution_count": null,
   "metadata": {},
   "outputs": [],
   "source": [
    "#next change names to match template\n",
    "for(i in 1:length(ray_clean[,1])){\n",
    "#select out traits (measurementType, which is a column header in the template) that match ontology terms\n",
    "  ray_clean$measurementType[i] <- ontology_map$ontologyTerm[ontology_map$measurement == ray_clean$measurement[i]]\n",
    "}\n",
    "cols <- colnames(ray_clean)\n",
    "x <- c()\n",
    "for(i in 1:length(cols)){\n",
    "  if(isTRUE(colnames(ray_clean)[i] %in% template_map$columnName)){ \n",
    "  #replace column names with those in the template from the template_mapping file\n",
    "  colnames(ray_clean)[i] <- template_map$templateTerm[template_map$columnName == cols[i]] \n",
    "  }\n",
    "  else if(isTRUE(colnames(ray_clean)[i] %in% template$column)){\n",
    "  #or, if they are the same as in the template, keep those\n",
    "    colnames(ray_clean)[i] <- template$column[template$column == cols[i]]\n",
    "  }\n",
    "  else{\n",
    "  #put all extra column headers into this vector\n",
    "    x[i] <- colnames(ray_clean)[i]\n",
    "  }\n",
    "}\n",
    "#get rid of extra columns that are in vector x\n",
    "z <- x[!is.na(x)]\n",
    "#subset ray's dataset to only include column headers we want (i.e., those in Z)\n",
    "ray_clean.1 <- ray_clean[,!(colnames(ray_clean) %in% z)]\n",
    "#add missing columns\n",
    "ray_clean.1$individualID <- ray_clean.1$materialSampleID\n",
    "ray_clean.1$measurementUnit <- rep(\"mm\", length(ray_clean.1[1]))"
   ]
  },
  {
   "cell_type": "markdown",
   "metadata": {},
   "source": [
    "#### Match traits to ontology terms"
   ]
  },
  {
   "cell_type": "code",
   "execution_count": null,
   "metadata": {},
   "outputs": [],
   "source": [
    "Rpattern <-  \"pre?molar|metacarpal|metatarsal|1st phalanx III\" #? allows it to be premolar or molar (note: need all three letters: p r e)\n",
    "Rx <- grep(Rpattern, boneAbbr$Bone, value = TRUE)\n",
    "#matching bones we want to those in the bone file\n",
    "boneAbbr_sub <- boneAbbr[boneAbbr$Bone %in% Rx,]\n",
    "#creating two datasets: \n",
    "#one containing the bones that are abbreviated and match in the bone file\n",
    "#one containing other bones that aren't abbreviated in the ray dataset that we're interested in\n",
    "ray_sub1 <- ray_safe[ray_safe$BONE %in% boneAbbr_sub$Abbreviation,]\n",
    "ray_sub2 <- subset(ray_safe, subset = c(ray_safe$BONE == \"tibia\" | \n",
    "                                          ray_safe$BONE == \"humerus\" | \n",
    "                                          ray_safe$BONE == \"femur\" | \n",
    "                                          ray_safe$BONE == \"radius\"))\n",
    "#combine datasets\n",
    "ray_sub <- rbind(ray_sub1, ray_sub2)"
   ]
  },
  {
   "cell_type": "markdown",
   "metadata": {},
   "source": [
    "#### Create unique identifier"
   ]
  },
  {
   "cell_type": "code",
   "execution_count": null,
   "metadata": {},
   "outputs": [],
   "source": [
    "#generate UUID\n",
    "for(i in 1:length(ray_clean.1[,1])){\n",
    "  ray_clean.1$observationID[i] <- UUIDgenerate(use.time = NA)\n",
    "}"
   ]
  },
  {
   "cell_type": "markdown",
   "metadata": {},
   "source": [
    "#### Generate new dataset"
   ]
  },
  {
   "cell_type": "code",
   "execution_count": null,
   "metadata": {},
   "outputs": [],
   "source": [
    "#write.csv(ray_clean.1, \"ray_data.csv\", row.names = FALSE, quote = FALSE)"
   ]
  },
  {
   "cell_type": "markdown",
   "metadata": {},
   "source": [
    "## Kitty Emery Data\n",
    "This datset includes zooarcheological data for ungulates and some comparative specimens"
   ]
  },
  {
   "cell_type": "code",
   "execution_count": null,
   "metadata": {},
   "outputs": [],
   "source": [
    "#data\n",
    "kitty <- read.csv(\"https://de.cyverse.org/dl/d/0152B269-3942-4BC4-8FDC-E60B48B17EBD/MayaDeerMetrics_Cantryll_Emeryedits.csv\", skip = 2, stringsAsFactors = FALSE)"
   ]
  },
  {
   "cell_type": "markdown",
   "metadata": {},
   "source": [
    "#### Data cleaning"
   ]
  },
  {
   "cell_type": "code",
   "execution_count": null,
   "metadata": {},
   "outputs": [],
   "source": [
    "#move modern to a different group from zooarch dates (each needs their own column)\n",
    "for(i in 1:length(kitty_clean$Period)){\n",
    "  if(isTRUE(kitty_clean$Period[i] == \"M\" | kitty_clean$Period[i] == \"F\" | kitty_clean$Date[i] == \"1993\")){\n",
    "    kitty_clean$Period[i] <- \"NA\"\n",
    "    kitty_clean$verbatimEventDate[i] <- kitty_clean$Date[i] \n",
    "  }\n",
    "  else {\n",
    "    kitty_clean$verbatimEventDate[i] <- \"NA\"\n",
    "  }\n",
    "}\n",
    "for(i in 1:length(kitty_clean$Period)){\n",
    "  if(isTRUE(kitty_clean$Date[i] == kitty_clean$verbatimEventDate[i])){\n",
    "    kitty_clean$Date[i] <- \"NA\"\n",
    "  }\n",
    "  else {\n",
    "    next()\n",
    "  }\n",
    "}\n",
    "#changing centuries to AD dates\n",
    "for(i in 1:length(kitty_clean$Date)) {\n",
    "  if(isTRUE(grepl(\"(?i)century\", kitty_clean$Date[i]))) {\n",
    "    kitty_clean$referenceSystem[i] <- \"century\"\n",
    "  }\n",
    "  else if(isTRUE(grepl(\"??????AD?????\", kitty_clean$Date[i]))) {\n",
    "    kitty_clean$referenceSystem[i] <- \"AD\"\n",
    "  }\n",
    "  else {\n",
    "    kitty_clean$referenceSystem[i] <- \"NA\"\n",
    "  }\n",
    "}\n",
    "#clean up\n",
    "kitty_clean$Date <- gsub(\"(?i)century|AD|th\", \"\", kitty_clean$Date)\n",
    "kitty_clean$Date <- gsub(\" to \", \"-\", kitty_clean$Date)\n",
    "#split dates to minimum and maximum\n",
    "kitty_clean$minimumChronometricAge <- sapply(strsplit(as.character(kitty_clean$Date),'-'), \"[\", 1)\n",
    "kitty_clean$maximumChronometricAge <- sapply(strsplit(as.character(kitty_clean$Date),'-'), \"[\", 2)"
   ]
  },
  {
   "cell_type": "markdown",
   "metadata": {},
   "source": [
    "#### Create long version"
   ]
  },
  {
   "cell_type": "code",
   "execution_count": null,
   "metadata": {},
   "outputs": [],
   "source": [
    "#create long version so each trait has its own row\n",
    "#measurements are: 16:101\n",
    "kitty_long <- melt(kitty, id.vars = 1:15, variable.name = \"meas.no\")"
   ]
  },
  {
   "cell_type": "markdown",
   "metadata": {},
   "source": [
    "#### Match columns names to template"
   ]
  },
  {
   "cell_type": "code",
   "execution_count": null,
   "metadata": {},
   "outputs": [],
   "source": [
    "#change variable & value\n",
    "kitty_clean$meas.no <- as.character(kitty_clean$meas.no)\n",
    "kitty_clean$value <- as.numeric(kitty_clean$value)\n",
    "#change measurementType (trait) to match ontology terms\n",
    "for(i in 1:length(kitty_clean[,1])){\n",
    "  kitty_clean$measurementType[i] <- ontology_map$ontologyTerm[ontology_map$measurement == kitty_clean$meas.no[i]]\n",
    "}\n",
    "\n",
    "#change column names to match template\n",
    "cols <- colnames(kitty_clean)\n",
    "x <- c()\n",
    "for(i in 1:length(cols)){\n",
    "  if(isTRUE(colnames(kitty_clean)[i] %in% template_map$columnName)){\n",
    "  #change column name to reflect template column as matched in template_mapping\n",
    "    colnames(kitty_clean)[i] <- template_map$templateTerm[template_map$columnName == cols[i]]\n",
    "  }\n",
    "  else if(isTRUE(colnames(kitty_clean)[i] %in% template$column)){\n",
    "  #keep columns that are already in the template\n",
    "    colnames(kitty_clean)[i] <- template$column[template$column == cols[i]]\n",
    "  }\n",
    "  else{\n",
    "  #put extra columns here\n",
    "    x[i] <- colnames(kitty_clean)[i]\n",
    "  }\n",
    "}\n",
    "#subset data to exclude extra columns that are in vector x\n",
    "z <- x[!is.na(x)]\n",
    "#subset dataset to only have those column names in template and no extra ones\n",
    "kitty_clean.1 <- kitty_clean[,!(colnames(kitty_clean) %in% z)]"
   ]
  },
  {
   "cell_type": "markdown",
   "metadata": {},
   "source": [
    "#### Match traits to ontology terms"
   ]
  },
  {
   "cell_type": "code",
   "execution_count": null,
   "metadata": {},
   "outputs": [],
   "source": [
    "#create pattern of traits that we want\n",
    "Kpattern <- \"(?i)humerus|metacarpal|femur|astragalus|calcaneum\" #(?i) makes it case insensitive\n",
    "Kx <- grep(Kpattern, kitty_long$meas.no, value = TRUE)\n",
    "#subset data to only include those bones\n",
    "kitty_sub <- kitty_long[kitty_long$meas.no %in% Kx,]\n",
    "#now select out traits of those bones that are in the ontology file\n",
    "kitty_long_sub <- subset(kitty_sub, kitty_sub$meas.no %in% ontology_map$measurement[ontology_map$dataset == \"kitty\"])\n",
    "#get rid of NAs\n",
    "kitty_clean <- kitty_long_sub[!(is.na(kitty_long_sub$value)),]"
   ]
  },
  {
   "cell_type": "markdown",
   "metadata": {},
   "source": [
    "#### Genertate unique identifier"
   ]
  },
  {
   "cell_type": "code",
   "execution_count": null,
   "metadata": {},
   "outputs": [],
   "source": [
    "#generate UUID\n",
    "for(i in 1:length(kitty_clean.1[,1])){\n",
    "  kitty_clean.1$observationID[i] <- UUIDgenerate(use.time = NA)\n",
    "}"
   ]
  },
  {
   "cell_type": "markdown",
   "metadata": {},
   "source": [
    "#### Generate new dataset"
   ]
  },
  {
   "cell_type": "code",
   "execution_count": null,
   "metadata": {},
   "outputs": [],
   "source": [
    "#write.csv(kitty_clean.1, \"kitty_data.csv\", row.names=FALSE, quote = FALSE)"
   ]
  },
  {
   "cell_type": "markdown",
   "metadata": {},
   "source": [
    "## VertNet Data\n",
    "This is all mammal data from VertNet. Selected traits are: hindfoot length, ear length, body length, & body mass."
   ]
  },
  {
   "cell_type": "code",
   "execution_count": null,
   "metadata": {},
   "outputs": [],
   "source": [
    "#data\n",
    "vertnet <- read.csv(\"https://de.cyverse.org/dl/d/338C987D-F776-4439-910F-3AD2CD1D06E2/mammals_no_bats_2019-03-13.csv\", \n",
    "                    stringsAsFactors = FALSE, nrows = 100)"
   ]
  },
  {
   "cell_type": "markdown",
   "metadata": {},
   "source": [
    "#### Data cleaning"
   ]
  },
  {
   "cell_type": "code",
   "execution_count": null,
   "metadata": {},
   "outputs": [],
   "source": [
    "#unneeded traits: testes [90:105]\n",
    "vertnet.2 <- vertnet[,-(90:105)]\n",
    "\n",
    "#rearrange columns so that template columns are first, followed by measurement values\n",
    "#need to put catalognumber [18], lat [20], long[21], collection code [19], institution code [59], scientific name [71], locality [63], occurrence id [65]\n",
    "df <- vertnet.2[,c(18:21,43,59,63:69,71,72,1:17,22:42,44:58,60:62,70,73:103)]\n",
    "#clean data\n",
    "#get rid of NAs\n",
    "vertnet_clean <- vertnet_long_sub[!is.na(vertnet_long_sub$value),]"
   ]
  },
  {
   "cell_type": "markdown",
   "metadata": {},
   "source": [
    "#### Create long version"
   ]
  },
  {
   "cell_type": "code",
   "execution_count": null,
   "metadata": {},
   "outputs": [],
   "source": [
    "#create long version so that each trait has its own row\n",
    "vertnet_long <-  melt(df, id.vars = 1:15, variable.name = \"meas.no\")"
   ]
  },
  {
   "cell_type": "markdown",
   "metadata": {},
   "source": [
    "#### Match column names to template"
   ]
  },
  {
   "cell_type": "code",
   "execution_count": null,
   "metadata": {},
   "outputs": [],
   "source": [
    "cols <- colnames(vertnet_clean)\n",
    "x <- c()\n",
    "for(i in 1:length(cols)){\n",
    "  if(isTRUE(colnames(vertnet_clean)[i] %in% template_map$columnName)){\n",
    "  #match column names to those in the template as defined in template_mapping\n",
    "    colnames(vertnet_clean)[i] <- template_map$templateTerm[template_map$columnName == cols[i]]\n",
    "  }\n",
    "  else if(isTRUE(colnames(vertnet_clean)[i] %in% template$column)){\n",
    "  #keep column names that already match the template\n",
    "    colnames(vertnet_clean)[i] <- template$column[template$column == cols[i]]\n",
    "  }\n",
    "  else{\n",
    "  #put all extra columns here\n",
    "    x[i] <- colnames(vertnet_clean)[i]\n",
    "  }\n",
    "}\n",
    "subset to exclude extra columns in vector x\n",
    "z <- x[!is.na(x)]\n",
    "#match column names as to get rid of extra column names\n",
    "vertnet_clean.1 <- vertnet_clean[,!(colnames(vertnet_clean) %in% z)]"
   ]
  },
  {
   "cell_type": "markdown",
   "metadata": {},
   "source": [
    "#### Match traits to ontology terms"
   ]
  },
  {
   "cell_type": "code",
   "execution_count": null,
   "metadata": {},
   "outputs": [],
   "source": [
    "#select out specific measurements / change measurement names and map to template\n",
    "#we only care about the 1st measurement, and not subsequent measurements\n",
    "Vpattern <- \"X1st_\"\n",
    "Vx <- grep(Vpattern, vertnet_long$meas.no, value = TRUE)\n",
    "#select columns that match pattern\n",
    "vertnet_long_sub <- vertnet_long[vertnet_long$meas.no %in% Vx,]\n",
    "vertnet_long_sub$meas.no <- gsub(Vpattern, \"\", vertnet_long_sub$meas.no)\n",
    "#create new column for unit type that matches with id and measurement type\n",
    "#first create gross regular expression\n",
    "#we don't care about these values related to the measurement/specimen for now\n",
    "V1pattern <- \"?????????????????????_high|?????????????????????_low|?????????????????????_ambiguous|?????????????????????_estimated\"\n",
    "#create pattern\n",
    "V1x <- grep(V1pattern, vertnet_long_sub$meas.no, value = TRUE)\n",
    "#exclude things that match the pattern\n",
    "vertnet_long_sub.1 <- vertnet_long_sub[!(vertnet_long_sub$meas.no %in% V1x),]\n",
    "#need to move some \"traits\" to column headers\n",
    "for(i in 1:length(vertnet_long_sub.1[,1])){\n",
    "  if(isTRUE(vertnet_long_sub.1$value[vertnet_long_sub.1$meas.no == \"sex_notation\"][i] != \"\")){\n",
    "  #sex is a template value\n",
    "    vertnet_long_sub.1$sex[i] <- vertnet_long_sub.1$value[vertnet_long_sub.1$meas.no == \"sex_notation\"][i]\n",
    "  }\n",
    "  if(isTRUE(grepl(V2pattern, vertnet_long_sub$meas.no[i]))){\n",
    "    x <- grep(V2pattern, vertnet_long_sub$meas.no[i], value = TRUE)\n",
    "    #unit is a template value\n",
    "    vertnet_long_sub$measurementUnit[i] <- x\n",
    "  }\n",
    "  if(isTRUE(vertnet_long_sub.1$value[vertnet_long_sub.1$meas.no == \"life_stage_notation\"][i] != \"\")){\n",
    "  #life stage is a template value\n",
    "    vertnet_long_sub$lifeStage[i] <- vertnet_long_sub.1$value[vertnet_long_sub.1$meas.no == \"life_stage_notation\"][i]\n",
    "  }\n",
    "  else {\n",
    "    next()\n",
    "  }\n",
    "}\n",
    "\n",
    "#match traits to ontology terms\n",
    "for(i in 1:length(vertnet_clean[,1])){\n",
    "  vertnet_clean$measurementType[i] <- ontology_map$ontologyTerm[ontology_map$measurement == vertnet_clean$meas.no[i]]\n",
    "}\n"
   ]
  },
  {
   "cell_type": "markdown",
   "metadata": {},
   "source": [
    "#### Generate unique identifier"
   ]
  },
  {
   "cell_type": "code",
   "execution_count": null,
   "metadata": {},
   "outputs": [],
   "source": [
    "#generate UUID\n",
    "for(i in 1:length(vertnet_clean.1 [,1])){\n",
    "  vertnet_clean.1$observationID[i] <- UUIDgenerate(use.time = NA)\n",
    "}"
   ]
  },
  {
   "cell_type": "markdown",
   "metadata": {},
   "source": [
    "#### Generate new dataset"
   ]
  },
  {
   "cell_type": "code",
   "execution_count": null,
   "metadata": {},
   "outputs": [],
   "source": [
    "#write.csv(vertnet_clean.1, \"vertnet_data.csv\", rownames = FALSE)"
   ]
  },
  {
   "cell_type": "markdown",
   "metadata": {},
   "source": [
    "## VerNet Deer Data\n",
    "This is all extact white-tailed deer (Odocoileus virginianus) data from VertNet. Selected traits are: hindfoot length, ear length, body length, & body mass."
   ]
  },
  {
   "cell_type": "code",
   "execution_count": null,
   "metadata": {},
   "outputs": [],
   "source": [
    "#data\n",
    "deer = read.csv(\"https://de.cyverse.org/dl/d/126821C9-D23A-4B22-9B3F-25F19311066E/ODOVIRGCLEAN.csv\", \n",
    "                stringsAsFactors = FALSE)"
   ]
  },
  {
   "cell_type": "markdown",
   "metadata": {},
   "source": [
    "#### Data cleaning"
   ]
  },
  {
   "cell_type": "code",
   "execution_count": null,
   "metadata": {},
   "outputs": [],
   "source": [
    "#Specify desired columns"
   ]
  },
  {
   "cell_type": "markdown",
   "metadata": {},
   "source": [
    "#### Match column names to template"
   ]
  },
  {
   "cell_type": "markdown",
   "metadata": {},
   "source": [
    "#### Match traits to ontology"
   ]
  },
  {
   "cell_type": "markdown",
   "metadata": {},
   "source": [
    "#### Create long version"
   ]
  },
  {
   "cell_type": "markdown",
   "metadata": {},
   "source": [
    "#### Generate unique identifier"
   ]
  },
  {
   "cell_type": "markdown",
   "metadata": {},
   "source": [
    "#### Generate new dataset"
   ]
  },
  {
   "cell_type": "markdown",
   "metadata": {},
   "source": [
    "## Amelia's Data\n",
    "This is extant impala (Aepyceros melampus) from Africa. Selected traits are those that over lap with Kitty and Ray's data."
   ]
  },
  {
   "cell_type": "code",
   "execution_count": null,
   "metadata": {},
   "outputs": [],
   "source": [
    "#data\n",
    "impala <- read.csv(\"https://de.cyverse.org/dl/d/BF527024-2E4A-4233-B8D5-823E1DC8DBDA/Extant Aepyceros database_updated 11_2016.csv\",\n",
    "                  stringsAsFactors = FALSE)"
   ]
  },
  {
   "cell_type": "markdown",
   "metadata": {},
   "source": [
    "## J. Blois's Data\n",
    "This is a dataset of Spermophilus beechyii from Blois et al. 2008. Selected traits are those that over lap with Kitty and Ray's data."
   ]
  },
  {
   "cell_type": "code",
   "execution_count": null,
   "metadata": {},
   "outputs": [],
   "source": [
    "blois <- read.csv(\"https://de.cyverse.org/dl/d/F51E59D4-8D9A-4EE9-87D2-F46D1E12F14D/J.Biogeo.2008.AllData.Final.csv\",\n",
    "                 stringsAsFactors = FALSE)"
   ]
  },
  {
   "cell_type": "markdown",
   "metadata": {},
   "source": [
    "## Joaquin's Data\n",
    "This is extinct horse data. Traits of interest need to overlap with Ray's data. Data file needs to be reorganized."
   ]
  },
  {
   "cell_type": "code",
   "execution_count": null,
   "metadata": {},
   "outputs": [],
   "source": []
  }
 ],
 "metadata": {
  "kernelspec": {
   "display_name": "Python 3",
   "language": "python",
   "name": "python3"
  },
  "language_info": {
   "codemirror_mode": {
    "name": "ipython",
    "version": 3
   },
   "file_extension": ".py",
   "mimetype": "text/x-python",
   "name": "python",
   "nbconvert_exporter": "python",
   "pygments_lexer": "ipython3",
   "version": "3.7.4"
  }
 },
 "nbformat": 4,
 "nbformat_minor": 2
}
