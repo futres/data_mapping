{
 "cells": [
  {
   "cell_type": "markdown",
   "metadata": {},
   "source": [
    "# To Code\n",
    "\n",
    "## template mapping files are in the git repository\n",
    "## original data in _CyVerse Discovery Environment_ \n",
    "### data file is: \"Extant Aepyceros database_updated 11_2016.csv\"\n",
    "\n",
    "### _verbatimAgeValue_\n",
    "- assign 'Age (juv, prime adult, older adult, old)' to verbatimAgeValue\n",
    "\n",
    "### _lifeStage_\n",
    "- assign lifeStage component of 'Age (juv, prime adult, older adult, old)' to lifeStage \n",
    "\n",
    "### _sex_\n",
    "- make lowercase\n",
    "\n",
    "### _basisOfRecord_\n",
    "- required in GEOME\n",
    "- create basisOfRecord column and assign \"FossilSpecimen\"\n",
    "\n",
    "### _locality_\n",
    "- required in GEOME\n",
    "- create locality column and assign \"Unknown\"\n",
    "\n",
    "### _sampleProtocol_\n",
    "- required in GEOME\n",
    "- create sampleProtocol column and assign \"Unknown\"\n",
    "\n",
    "### _yearCollected_\n",
    "- required in GEOME\n",
    "- create yearCollected column and assign \"Unknown\"\n",
    "\n",
    "### _materialSampleID_\n",
    "- create materialSampleID and assign it a UUID value for each row (before long version)\n",
    "\n",
    "### _diagnosticID\n",
    "- create diagnosticID and name \n",
    "\n",
    "### _eventID\n",
    "- create eventID and assign it to materialSampleID values\n",
    "\n",
    "### _measurementMethod_\n",
    "- required in GEOME\n",
    "- create measurementMethod column and assign \"Unknown\"\n",
    "\n",
    "### _measurementUnit_\n",
    "- linear measurements are in \"mm\"\n",
    "- separate unite from _Weight_\n",
    "    - Weight is in \"lb\"\n",
    "    "
   ]
  },
  {
   "cell_type": "markdown",
   "metadata": {},
   "source": [
    "Data Wrangling Notebook for Aepyceros Data\n",
    "<br />\n",
    "Neeka Sewnath\n",
    "<br />\n",
    "nsewnath@ufl.edu"
   ]
  },
  {
   "cell_type": "code",
   "execution_count": 201,
   "metadata": {},
   "outputs": [],
   "source": [
    "import pandas as pd\n",
    "import numpy as np\n",
    "import uuid"
   ]
  },
  {
   "cell_type": "code",
   "execution_count": 202,
   "metadata": {},
   "outputs": [],
   "source": [
    "# Import Aepyceros Data \n",
    "aepyceros = pd.read_csv(\"../Original_Data/Aepyceros.csv\")"
   ]
  },
  {
   "cell_type": "code",
   "execution_count": 203,
   "metadata": {},
   "outputs": [],
   "source": [
    "# Assign aepyceros[\"Age (juv, prime adult, older adult, old)\"] to verbatimAgeValue\n",
    "aepyceros = aepyceros.assign(verbatimAgeValue = aepyceros[\"Age (juv, prime adult, older adult, old)\"])"
   ]
  },
  {
   "cell_type": "code",
   "execution_count": 204,
   "metadata": {},
   "outputs": [
    {
     "name": "stderr",
     "output_type": "stream",
     "text": [
      "<ipython-input-204-754d02ec8a55>:10: SettingWithCopyWarning: \n",
      "A value is trying to be set on a copy of a slice from a DataFrame\n",
      "\n",
      "See the caveats in the documentation: https://pandas.pydata.org/pandas-docs/stable/user_guide/indexing.html#returning-a-view-versus-a-copy\n",
      "  aepyceros[\"lifeStage\"][adult_filter==True] = \"adult\"\n",
      "<ipython-input-204-754d02ec8a55>:11: SettingWithCopyWarning: \n",
      "A value is trying to be set on a copy of a slice from a DataFrame\n",
      "\n",
      "See the caveats in the documentation: https://pandas.pydata.org/pandas-docs/stable/user_guide/indexing.html#returning-a-view-versus-a-copy\n",
      "  aepyceros[\"lifeStage\"][juv_filter==True] = \"juvenile\"\n"
     ]
    }
   ],
   "source": [
    "# lifeStage modification\n",
    "\n",
    "# add lifeStage column\n",
    "aepyceros=aepyceros.assign(lifeStage=\"\")\n",
    "\n",
    "adult_filter=aepyceros[\"Age (juv, prime adult, older adult, old)\"].str.contains(\"Prime|Old|Young|Very|No\")\n",
    "juv_filter=aepyceros[\"Age (juv, prime adult, older adult, old)\"].str.contains(\"juvenile|Juvenile\")\n",
    "\n",
    "aepyceros[\"lifeStage\"] = aepyceros['Age (juv, prime adult, older adult, old)'].fillna(\"Not Collected\")\n",
    "aepyceros[\"lifeStage\"][adult_filter==True] = \"adult\"\n",
    "aepyceros[\"lifeStage\"][juv_filter==True] = \"juvenile\"\n",
    "        "
   ]
  },
  {
   "cell_type": "code",
   "execution_count": 205,
   "metadata": {},
   "outputs": [],
   "source": [
    "# sex column modification\n",
    "aepyceros['SEX'] = aepyceros['SEX'].str.lower()"
   ]
  },
  {
   "cell_type": "code",
   "execution_count": 206,
   "metadata": {},
   "outputs": [],
   "source": [
    "# Add GEOME required columns \n",
    "aepyceros=aepyceros.assign(basisOfRecord=\"FossilSpecimen\")\n",
    "aepyceros=aepyceros.assign(locality=\"Unknown\")\n",
    "aepyceros=aepyceros.assign(samplingProtocol=\"Unknown\")\n",
    "aepyceros=aepyceros.assign(yearCollected=\"Unknown\")\n",
    "aepyceros=aepyceros.assign(measurementMethod=\"Unknown\")"
   ]
  },
  {
   "cell_type": "code",
   "execution_count": 207,
   "metadata": {},
   "outputs": [],
   "source": [
    "#Rearrange columns so that template columns are first, followed by measurement values\n",
    "\n",
    "#Create column list\n",
    "cols = aepyceros.columns.tolist()\n",
    "\n",
    "#Specify desired columns\n",
    "cols = ['Museum',\n",
    "        'Specimen #',\n",
    "        'Species',\n",
    "        'SEX',\n",
    "        'Country/Continent',\n",
    "        'State/Province',\n",
    "        'lifeStage',\n",
    "        'verbatimAgeValue',\n",
    "        'Weight',\n",
    "        'Humerus Length',\n",
    "        'locality',\n",
    "        'basisOfRecord',\n",
    "        'samplingProtocol',\n",
    "        'yearCollected',\n",
    "        'measurementMethod',\n",
    "        'Humerus Length',\n",
    "        'Humerus Width Shaft  AP',\n",
    "        'Humerus Width Shaft ML',\n",
    "        'Femur Length',\n",
    "        'Femur Width Shaft AP',\n",
    "        'Femur Width ML',\n",
    "        'Medapodial Length',\n",
    "        'Medapodial Width AP',\n",
    "        'Medapodial Width ML',\n",
    "        'Astragalus Length',\n",
    "        'Astragalus Width']\n",
    "\n",
    "#Subset dataframe\n",
    "aepyceros = aepyceros[cols]"
   ]
  },
  {
   "cell_type": "code",
   "execution_count": 208,
   "metadata": {},
   "outputs": [],
   "source": [
    "#Matching template and column terms\n",
    "\n",
    "#Renaming columns \n",
    "aepyceros = aepyceros.rename(columns = {'Museum':'institutionCode',\n",
    "                                        'Specimen #':'individualID',\n",
    "                                        'Species':'scientificName',\n",
    "                                        'SEX':'sex',\n",
    "                                        'Country/Continent':'country',\n",
    "                                        'State/Province':'stateProvince'})"
   ]
  },
  {
   "cell_type": "code",
   "execution_count": 209,
   "metadata": {},
   "outputs": [],
   "source": [
    "#Matching trait and ontology terms\n",
    "\n",
    "#Renaming columns\n",
    "aepyceros = aepyceros.rename(columns={'Weight':'body mass',\n",
    "                                      #'Occlusal length M3':'M3 length',\n",
    "                                      #'Occlusal width M3':'M3 width',\n",
    "                                      #'Occlusal width M3_ remeasured 11_2016':'M3 width',\n",
    "                                      #'Occlusal length M2':'M2 length',\n",
    "                                      #'Occlusal length M2_remeasured 11_2016':'M2 length',\n",
    "                                      #'Occlusal width M2':'M2 width',\n",
    "                                      #'Occlusal width M2_remeasured 11_2016':'M2 width',\n",
    "                                      #'Occlusal length M1':'M1 length',\n",
    "                                      #'Occlusal width M1':'M1 width',\n",
    "                                      #'Occlusal length P4':'P4 length',\n",
    "                                      #'Occlusal Width P4':'P4 width',\n",
    "                                      #'Occlusal length P2':'P2 length',\n",
    "                                      #'Occlusal Width P2':'P2 width',\n",
    "                                      #'Occlusal length M3':'m3 length',\n",
    "                                      #'Occlusal length M3_remeasured 11_2016':'m3 length',\n",
    "                                      #'Occlusal width M3':'m3 width',\n",
    "                                      #'Occlusal width M3_remeasured 11_2016':'m3 width',\n",
    "                                      #'Occlusal length M2':'m2 length', \n",
    "                                      #'Occlusal length M2_remeasured 11_2016': 'm2 length',\n",
    "                                      #'Occlusal width M2':'m2 width',\n",
    "                                      #'Occlusal width M2_remeasured 11_2016':'m2 width',\n",
    "                                      #'Occlusal length M1':'m1 length',\n",
    "                                      #'Occlusal length M1_remeasured 11_2016':'m1 length',\n",
    "                                      #'m1 length':'m1 width',\n",
    "                                      #'Occlusal width M1_remeasured 11_2016':'m1 width',\n",
    "                                      #'Occlusal length P4':'p4 length',\n",
    "                                      #'Occlusal width P4':'p4 width',\n",
    "                                      #'Occlusal length P2':'p2 length',\n",
    "                                      #'Occlusal width P2':'p2 width',\n",
    "                                      'Humerus Length':'humerus length',\n",
    "                                      #'Humerus Width Shaft  AP':'humerus diaphysis depth',\n",
    "                                      #'Humerus Width Shaft ML':'humerus diaphysis breadth',\n",
    "                                      'Femur Length':'femur length',\n",
    "                                      #'Femur Width Shaft AP':'femur diaphysis depth',\n",
    "                                      #'Femur Width ML':'femur diaphysis breadth',\n",
    "                                      #'Medapodial Length':'metapodial length',\n",
    "                                      #'Medapodial Width AP':'metapodial depth',\n",
    "                                      #'Medapodial Width ML':'metapodial breadth',\n",
    "                                      'Astragalus Length':'talus length'\n",
    "                                      #'Astragalus Width':'talus breadth'\n",
    "                                      })\n"
   ]
  },
  {
   "cell_type": "code",
   "execution_count": 210,
   "metadata": {},
   "outputs": [],
   "source": [
    "#Create measurementUnit column\n",
    "aepyceros=aepyceros.assign(measurementUnit=\"\")"
   ]
  },
  {
   "cell_type": "markdown",
   "metadata": {},
   "source": [
    "Creating verbatimScientificName and modifying scientificName"
   ]
  },
  {
   "cell_type": "code",
   "execution_count": 211,
   "metadata": {},
   "outputs": [],
   "source": [
    "# Create verbatim scientificName [not accepted by GEOME yet]\n",
    "#aepyceros=aepyceros.assign(verbatimScientificName = aepyceros[\"scientificName\"]) \n",
    "\n",
    "def clean_name(name):\n",
    "    \"\"\"Converts scientific name to binomial nomenclature format\"\"\"\n",
    "    name = str(name).split()\n",
    "    new_name = \" \".join(name[:-1])\n",
    "    return new_name\n",
    "\n",
    "# Clean scientificName\n",
    "aepyceros[\"scientificName\"]  = aepyceros[\"scientificName\"].apply(clean_name)"
   ]
  },
  {
   "cell_type": "code",
   "execution_count": 212,
   "metadata": {},
   "outputs": [],
   "source": [
    "#Create materialSampleID which is a UUID for each measurement\n",
    "#Create eventID and populate it with materialSampleID\n",
    "\n",
    "aepyceros=aepyceros.assign(materialSampleID = '')\n",
    "aepyceros['materialSampleID'] = [uuid.uuid4().hex for _ in range(len(aepyceros.index))]\n",
    "\n",
    "aepyceros=aepyceros.assign(eventID = aepyceros[\"materialSampleID\"])"
   ]
  },
  {
   "cell_type": "code",
   "execution_count": 213,
   "metadata": {},
   "outputs": [],
   "source": [
    "#Create long version so that each trait has its own row\n",
    "\n",
    "#Creating long version, first specifiying keep variables, then naming variable and value\n",
    "longVers=pd.melt(aepyceros, \n",
    "                id_vars=['institutionCode',\n",
    "                         'individualID',\n",
    "                         'scientificName',\n",
    "                         #'verbatimScientificName',\n",
    "                         'sex',\n",
    "                         'country',\n",
    "                         'stateProvince',\n",
    "                         'lifeStage',\n",
    "                         'verbatimAgeValue',\n",
    "                         'eventID',\n",
    "                         'basisOfRecord',\n",
    "                         'locality',\n",
    "                         'samplingProtocol',\n",
    "                         'yearCollected',\n",
    "                         'measurementMethod',\n",
    "                         'measurementUnit',\n",
    "                         'materialSampleID'], \n",
    "                var_name = 'measurementType', \n",
    "                value_name = 'measurementValue')"
   ]
  },
  {
   "cell_type": "code",
   "execution_count": 214,
   "metadata": {},
   "outputs": [],
   "source": [
    "#Populating measurementUnit column with appropriate measurement units in long version\n",
    "long_body_mass_filter=longVers['measurementType']==\"body mass\"\n",
    "long_no_body_filter=longVers['measurementType']!=\"body mass\"\n",
    "longVers['measurementUnit'][long_body_mass_filter] = \"g\"\n",
    "longVers['measurementUnit'][long_no_body_filter] = \"in\""
   ]
  },
  {
   "cell_type": "markdown",
   "metadata": {},
   "source": [
    "Converting and cleaning measurementValue column"
   ]
  },
  {
   "cell_type": "code",
   "execution_count": 223,
   "metadata": {},
   "outputs": [
    {
     "name": "stderr",
     "output_type": "stream",
     "text": [
      "IOPub data rate exceeded.\n",
      "The notebook server will temporarily stop sending output\n",
      "to the client in order to avoid crashing it.\n",
      "To change this limit, set the config variable\n",
      "`--NotebookApp.iopub_data_rate_limit`.\n",
      "\n",
      "Current values:\n",
      "NotebookApp.iopub_data_rate_limit=1000000.0 (bytes/sec)\n",
      "NotebookApp.rate_limit_window=3.0 (secs)\n",
      "\n"
     ]
    }
   ],
   "source": [
    "#If measurement value equals N/a, delete entire row\n",
    "longVers = longVers.dropna(subset=['measurementValue'])\n",
    "longVers = longVers.drop(longVers.index[0])\n",
    "\n",
    "# Creating verbatimMeasurementUnit [currently not accepted by GEOME]\n",
    "longVers=longVers.assign(verbatimMeasurementUnit = longVers[\"measurementValue\"])\n",
    "\n",
    "def unit_clean(value, unit):\n",
    "    \"\"\"Cleans and converts measurementValue column\"\"\"\n",
    "    if unit == \"g\":\n",
    "        print(value)\n",
    "    # Isolate value, convert from pounds to grams \n",
    "        #if value == \"2400 oz/ 150lbs\":\n",
    "        #    value = 150 * 454\n",
    "        #    return value\n",
    "        #elif value == \"70lbs\":\n",
    "        #    value = 70 * 454\n",
    "        #    return value\n",
    "        #else: \n",
    "        #    value = str(value).split()\n",
    "        #    value = value[0] * 454\n",
    "        #    return value\n",
    "    #print(value)\n",
    "        \n",
    "# Clean and convert measurementValue column\n",
    "longVers['measurementValue'] = longVers.apply(lambda x: unit_clean(x.measurementValue, x.measurementUnit), axis=1)"
   ]
  },
  {
   "cell_type": "code",
   "execution_count": 109,
   "metadata": {},
   "outputs": [],
   "source": [
    "#Create diagnosticID which is a unique number for each measurement\n",
    "longVers=longVers.assign(diagnosticID = '')\n",
    "longVers['diagnosticID'] = np.arange(len(longVers))"
   ]
  },
  {
   "cell_type": "code",
   "execution_count": 111,
   "metadata": {},
   "outputs": [],
   "source": [
    "#Writing long data csv file\n",
    "longVers.to_csv('../Mapped_Data/FuTRES_Aepyceros_Africa_Modern.csv', index=False)"
   ]
  }
 ],
 "metadata": {
  "kernelspec": {
   "display_name": "Python 3",
   "language": "python",
   "name": "python3"
  },
  "language_info": {
   "codemirror_mode": {
    "name": "ipython",
    "version": 3
   },
   "file_extension": ".py",
   "mimetype": "text/x-python",
   "name": "python",
   "nbconvert_exporter": "python",
   "pygments_lexer": "ipython3",
   "version": "3.8.3"
  }
 },
 "nbformat": 4,
 "nbformat_minor": 2
}
