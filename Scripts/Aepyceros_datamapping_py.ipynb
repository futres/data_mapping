{
 "cells": [
  {
   "cell_type": "markdown",
   "metadata": {},
   "source": [
    "Data Wrangling Notebook for Aepyceros Data\n",
    "<br />\n",
    "Neeka Sewnath\n",
    "<br />\n",
    "nsewnath@ufl.edu"
   ]
  },
  {
   "cell_type": "code",
   "execution_count": 77,
   "metadata": {},
   "outputs": [],
   "source": [
    "import pandas as pd\n",
    "import numpy as np\n",
    "import uuid\n",
    "import json "
   ]
  },
  {
   "cell_type": "markdown",
   "metadata": {},
   "source": [
    "Silencing warnings that are unnecessary"
   ]
  },
  {
   "cell_type": "code",
   "execution_count": 78,
   "metadata": {},
   "outputs": [],
   "source": [
    "try:\n",
    "    import warnings\n",
    "    warnings.filterwarnings('ignore')\n",
    "except:\n",
    "    pass"
   ]
  },
  {
   "cell_type": "markdown",
   "metadata": {},
   "source": [
    "Import Aepyceros Data "
   ]
  },
  {
   "cell_type": "code",
   "execution_count": 79,
   "metadata": {},
   "outputs": [],
   "source": [
    "aepyceros = pd.read_csv(\"../Original_Data/Aepyceros.csv\")"
   ]
  },
  {
   "cell_type": "markdown",
   "metadata": {},
   "source": [
    "Set dynamic properties "
   ]
  },
  {
   "cell_type": "code",
   "execution_count": 86,
   "metadata": {},
   "outputs": [
    {
     "data": {
      "text/plain": [
       "0      {\"Location Code\":{\"0\":\"B1\",\"1\":\"S3\",\"2\":\"A1\",\"...\n",
       "1      {\"Location Code\":{\"0\":\"B1\",\"1\":\"S3\",\"2\":\"A1\",\"...\n",
       "2      {\"Location Code\":{\"0\":\"B1\",\"1\":\"S3\",\"2\":\"A1\",\"...\n",
       "3      {\"Location Code\":{\"0\":\"B1\",\"1\":\"S3\",\"2\":\"A1\",\"...\n",
       "4      {\"Location Code\":{\"0\":\"B1\",\"1\":\"S3\",\"2\":\"A1\",\"...\n",
       "                             ...                        \n",
       "101    {\"Location Code\":{\"0\":\"B1\",\"1\":\"S3\",\"2\":\"A1\",\"...\n",
       "102    {\"Location Code\":{\"0\":\"B1\",\"1\":\"S3\",\"2\":\"A1\",\"...\n",
       "103    {\"Location Code\":{\"0\":\"B1\",\"1\":\"S3\",\"2\":\"A1\",\"...\n",
       "104    {\"Location Code\":{\"0\":\"B1\",\"1\":\"S3\",\"2\":\"A1\",\"...\n",
       "105    {\"Location Code\":{\"0\":\"B1\",\"1\":\"S3\",\"2\":\"A1\",\"...\n",
       "Name: dynamicProperties, Length: 106, dtype: object"
      ]
     },
     "execution_count": 86,
     "metadata": {},
     "output_type": "execute_result"
    }
   ],
   "source": [
    "#aepyceros[\"dynamicProperties\"] = aepyceros[[\"Location Code\", \"Notes\"]].to_json()\n",
    "\n",
    "\n",
    "aepyceros['dynamicProperties'] = aepyceros[[\"Location Code\", \"Notes\"]].apply(lambda x: x.to_json(), axis=1)"
   ]
  },
  {
   "cell_type": "markdown",
   "metadata": {},
   "source": [
    "Create verbatimAgeValue and modify lifeStage column"
   ]
  },
  {
   "cell_type": "code",
   "execution_count": 53,
   "metadata": {},
   "outputs": [],
   "source": [
    "# Assign aepyceros[\"Age (juv, prime adult, older adult, old)\"] to verbatimAgeValue\n",
    "aepyceros = aepyceros.assign(verbatimAgeValue = aepyceros[\"Age (juv, prime adult, older adult, old)\"])\n",
    "\n",
    "# add lifeStage column\n",
    "aepyceros=aepyceros.assign(lifeStage=\"\")\n",
    "\n",
    "adult_filter=aepyceros[\"Age (juv, prime adult, older adult, old)\"].str.contains(\"Prime|Old|Young|Very|No\")\n",
    "juv_filter=aepyceros[\"Age (juv, prime adult, older adult, old)\"].str.contains(\"juvenile|Juvenile\")\n",
    "\n",
    "aepyceros[\"lifeStage\"] = aepyceros['Age (juv, prime adult, older adult, old)'].fillna(\"Not Collected\")\n",
    "aepyceros[\"lifeStage\"][adult_filter==True] = \"adult\"\n",
    "aepyceros[\"lifeStage\"][juv_filter==True] = \"juvenile\""
   ]
  },
  {
   "cell_type": "markdown",
   "metadata": {},
   "source": [
    "Modify sex column"
   ]
  },
  {
   "cell_type": "code",
   "execution_count": 54,
   "metadata": {},
   "outputs": [],
   "source": [
    "# Sex column modification\n",
    "aepyceros['SEX'] = aepyceros['SEX'].str.lower()"
   ]
  },
  {
   "cell_type": "markdown",
   "metadata": {},
   "source": [
    "GEOME requires certain columns. Columns created and if unknown assign \"unknown\""
   ]
  },
  {
   "cell_type": "code",
   "execution_count": 55,
   "metadata": {},
   "outputs": [],
   "source": [
    "# Add GEOME required columns \n",
    "aepyceros=aepyceros.assign(basisOfRecord=\"FossilSpecimen\")\n",
    "aepyceros=aepyceros.assign(locality=\"Unknown\")\n",
    "aepyceros=aepyceros.assign(samplingProtocol=\"Unknown\")\n",
    "aepyceros=aepyceros.assign(yearCollected=\"Unknown\")\n",
    "aepyceros=aepyceros.assign(measurementMethod=\"Unknown\")"
   ]
  },
  {
   "cell_type": "markdown",
   "metadata": {},
   "source": [
    "Select specified columns for final dataset"
   ]
  },
  {
   "cell_type": "code",
   "execution_count": 56,
   "metadata": {},
   "outputs": [],
   "source": [
    "#Create column list\n",
    "cols = aepyceros.columns.tolist()\n",
    "\n",
    "#Specify desired columns\n",
    "cols = ['Museum','Specimen #','Species','SEX','Country/Continent','State/Province',\n",
    "        'lifeStage','verbatimAgeValue','locality','basisOfRecord','samplingProtocol',\n",
    "        'yearCollected','measurementMethod','Humerus Length','Weight','Humerus Width Shaft  AP',\n",
    "        'Humerus Width Shaft ML','Humerus Width Distal 1 (capitulum)',\n",
    "        'Humerus Width Distal 2 (epicondyles)','Humerus Width Proximal (humeral head)',\n",
    "        'Femur Width Distal 1 (region above condyles and below patellar surface)',\n",
    "        'Femur Length','Femur Width Shaft AP','Femur Width ML','Femur Width Distal 2 (condyles)',\n",
    "        'Medapodial Length','Medapodial Width AP','Medapodial Width ML','Astragalus Length',\n",
    "        'Astragalus Width', 'Occlusal length M3', 'Occlusal width M3',\n",
    "        'Occlusal width M3_ remeasured 11_2016', 'Occlusal length M2',\n",
    "        'Occlusal length M2_remeasured 11_2016', 'Occlusal width M2',\n",
    "        'Occlusal width M2_remeasured 11_2016', 'Occlusal length M1',\n",
    "        'Occlusal width M1', 'Occlusal length P4', 'Occlusal Width P4',\n",
    "        'Occlusal length P2', 'Occlusal Width P2', 'Occlusal length M3_remeasured 11_2016', \n",
    "        'Occlusal width M3_remeasured 11_2016', 'Occlusal length M2_remeasured 11_2016.1', \n",
    "        'Occlusal width M2_remeasured 11_2016.1', 'Occlusal length M1_remeasured 11_2016', \n",
    "        'Occlusal width M1_remeasured 11_2016', 'Occlusal width P4', \n",
    "       ]\n",
    "\n",
    "#Subset dataframe\n",
    "aepyceros = aepyceros[cols]"
   ]
  },
  {
   "cell_type": "markdown",
   "metadata": {},
   "source": [
    "Matching column names to template "
   ]
  },
  {
   "cell_type": "code",
   "execution_count": 57,
   "metadata": {},
   "outputs": [],
   "source": [
    "#Matching template and column terms\n",
    "\n",
    "#Renaming columns \n",
    "aepyceros = aepyceros.rename(columns = {'Museum':'institutionCode',\n",
    "                                        'Specimen #':'individualID',\n",
    "                                        'Species':'scientificName',\n",
    "                                        'SEX':'sex',\n",
    "                                        'Country/Continent':'country',\n",
    "                                        'State/Province':'stateProvince'})"
   ]
  },
  {
   "cell_type": "markdown",
   "metadata": {},
   "source": [
    "Creating necessary measurementUnit column"
   ]
  },
  {
   "cell_type": "code",
   "execution_count": 58,
   "metadata": {},
   "outputs": [],
   "source": [
    "#Create measurementUnit column\n",
    "aepyceros=aepyceros.assign(measurementUnit=\"\")"
   ]
  },
  {
   "cell_type": "markdown",
   "metadata": {},
   "source": [
    "Creating verbatimScientificName and modifying scientificName"
   ]
  },
  {
   "cell_type": "code",
   "execution_count": 59,
   "metadata": {},
   "outputs": [],
   "source": [
    "# Create verbatim scientificName [not accepted by GEOME yet]\n",
    "#aepyceros=aepyceros.assign(verbatimScientificName = aepyceros[\"scientificName\"]) \n",
    "\n",
    "def clean_name(name):\n",
    "    \"\"\"Converts scientific name to binomial nomenclature format\"\"\"\n",
    "    name = str(name).split()\n",
    "    new_name = \" \".join(name[:-1])\n",
    "    return new_name\n",
    "\n",
    "# Clean scientificName\n",
    "aepyceros[\"scientificName\"]  = aepyceros[\"scientificName\"].apply(clean_name)"
   ]
  },
  {
   "cell_type": "markdown",
   "metadata": {},
   "source": [
    "Create a long version of the data frame"
   ]
  },
  {
   "cell_type": "code",
   "execution_count": 60,
   "metadata": {},
   "outputs": [],
   "source": [
    "#Creating long version, first specifiying keep variables, then naming variable and value\n",
    "long_data=pd.melt(aepyceros, \n",
    "                id_vars=['institutionCode',\n",
    "                         'individualID',\n",
    "                         'scientificName',\n",
    "                         #'verbatimScientificName',\n",
    "                         'sex',\n",
    "                         'country',\n",
    "                         'stateProvince',\n",
    "                         'lifeStage',\n",
    "                         'verbatimAgeValue',\n",
    "                         'basisOfRecord',\n",
    "                         'locality',\n",
    "                         'samplingProtocol',\n",
    "                         'yearCollected',\n",
    "                         'measurementMethod',\n",
    "                         'measurementUnit'], \n",
    "                var_name = 'measurementType', \n",
    "                value_name = 'measurementValue')"
   ]
  },
  {
   "cell_type": "markdown",
   "metadata": {},
   "source": [
    "Matching trait names to ontology terms"
   ]
  },
  {
   "cell_type": "code",
   "execution_count": 61,
   "metadata": {},
   "outputs": [],
   "source": [
    "mapping_file = pd.read_csv(\"./../Mapping Files/ontology_codeBook.csv\")\n",
    "\n",
    "# Create subset of those within FOVT or OBA\n",
    "map_subset = mapping_file[(mapping_file[\"Status\"] == \"in FOVT\") | (mapping_file[\"Status\"] == \"in OBA\") ]\n",
    "\n",
    "# Create a subset of Ray data\n",
    "aep_subset = map_subset[map_subset[\"name\"] == \"aepyceros\"]\n",
    "\n",
    "# Isolating necessary columns\n",
    "aep_subset = aep_subset[[\"bone\",\"label\", \"term\"]]\n",
    "\n",
    "# Create dictionary of terms\n",
    "map_dict = map_dict = dict(zip(aep_subset.label , aep_subset.term))\n",
    "\n",
    "# Map the new terms onto the old terms in the dataframe \n",
    "long_data[\"measurementType\"] = long_data[\"measurementType\"].map(map_dict)\n",
    "long_data = long_data.dropna(subset=['measurementType','measurementValue'])"
   ]
  },
  {
   "cell_type": "markdown",
   "metadata": {},
   "source": [
    "Assigning materialSampleID for each bone"
   ]
  },
  {
   "cell_type": "code",
   "execution_count": 62,
   "metadata": {},
   "outputs": [],
   "source": [
    "map_dict = dict(zip(aep_subset.term , aep_subset.bone))\n",
    "\n",
    "long_data[\"temp_bone\"] = long_data[\"measurementType\"].map(map_dict)\n",
    "long_data[\"materialSampleID\"] = long_data.groupby(\"temp_bone\").ngroup()\n",
    "long_data = long_data.drop(\"temp_bone\", axis = 1)"
   ]
  },
  {
   "cell_type": "markdown",
   "metadata": {},
   "source": [
    "Populating measurementUnit column with appropriate measurement units in long version"
   ]
  },
  {
   "cell_type": "code",
   "execution_count": 63,
   "metadata": {},
   "outputs": [],
   "source": [
    "# Assigning appropriate units (lb changed to g, in changed to mm)\n",
    "long_body_mass_filter=long_data['measurementType']==\"body mass\"\n",
    "long_no_body_filter=long_data['measurementType']!=\"body mass\"\n",
    "long_data['measurementUnit'][long_body_mass_filter] = \"g\"\n",
    "long_data['measurementUnit'][long_no_body_filter] = \"mm\""
   ]
  },
  {
   "cell_type": "markdown",
   "metadata": {},
   "source": [
    "Remove measurementValue rows that do not have an assigned value"
   ]
  },
  {
   "cell_type": "code",
   "execution_count": 76,
   "metadata": {},
   "outputs": [],
   "source": [
    "# If measurement value equals N/a, delete entire row\n",
    "long_data = long_data.dropna(subset=['measurementValue'])\n",
    "long_data = long_data.drop(long_data.index[0])"
   ]
  },
  {
   "cell_type": "markdown",
   "metadata": {},
   "source": [
    "Converting and cleaning measurementValue column"
   ]
  },
  {
   "cell_type": "code",
   "execution_count": 71,
   "metadata": {},
   "outputs": [
    {
     "data": {
      "text/plain": [
       "array(['78 lb', '112 lb', '2400 oz/ 150lbs', '70lbs', '48.2', '10.29',\n",
       "       '7.71', '8.96', '7.93', '10.01', '8.73', '10.5', '9.3', '8.55',\n",
       "       '9.45', '8.72', '10.03', '9.87', '6.45', '9.82', '8.93', '10.15',\n",
       "       '8.42', '9.01', '10.82', '9.13', '9.08', '9.23', '9.06', '8.23',\n",
       "       '8.06', '8.69', '5.6', '9.07', '10.4', '8.07', '9.57', '8.51',\n",
       "       '10.04', '11.23', '7.19', '10.06', '10.19', '12.77', '10.21',\n",
       "       '16.28', '8.45', '11.33', '8.91', '10.08', '8.82', '10.59', '10.2',\n",
       "       '6.64', '6.59', '10.62', '9.84', '9.16', '8.35', '9.51', '8.94',\n",
       "       '8.28', '8.84', '7.78', '11.04', '10.95', '10.23', '13.2', '11.5',\n",
       "       '8.9', '9.38', '12.67', '9.74', '12.95', '12.91', '13.39', '10.14',\n",
       "       '14.24', '11.69', '8.87', '10.64', '8.75', '9.63', '11.03',\n",
       "       '10.09', '10.3', '10.25', '11.63', '9.7', '11.11', '11.16',\n",
       "       '10.46', '11.35', '9.96', '10.84', '10.74', '10.38', '10.53',\n",
       "       '11.58', '8.92', '8.89', '9.33', '10.63', '9.77', '11.46', '11.93',\n",
       "       '11.22', '11.56', '10.76', '10.88', '11.1', '11.07', '7.82',\n",
       "       '11.45', '11.29', '11.68', '11.79', '11.65', '12.43', '11.84',\n",
       "       '11.14', '16.15', '11.34', '12.85', '10.45', '9.88', '11.72',\n",
       "       '11.2', '11.55', '10.66', '10.47', '11', '10.87', '10.91', '11.12',\n",
       "       '9.93', '11.96', '11.05', '12.9', '12.5', '11.92', '11.15',\n",
       "       '13.37', '10.49', '13.53', '13.33', '11.74', '13.43'], dtype=object)"
      ]
     },
     "execution_count": 71,
     "metadata": {},
     "output_type": "execute_result"
    }
   ],
   "source": [
    "# Creating verbatimMeasurementUnit [currently not accepted by GEOME]\n",
    "#longVers=longVers.assign(verbatimMeasurementValue = longVers[\"measurementValue\"])\n",
    "\n",
    "#Drop values that contains a - or a ~\n",
    "long_data = long_data[long_data[\"measurementValue\"].str.contains(\"-\") == False ]\n",
    "long_data = long_data[long_data[\"measurementValue\"].str.contains(\"~\") == False ]"
   ]
  },
  {
   "cell_type": "code",
   "execution_count": 74,
   "metadata": {},
   "outputs": [],
   "source": [
    "# Creating verbatimMeasurementUnit [currently not accepted by GEOME]\n",
    "#longVers=longVers.assign(verbatimMeasurementValue = longVers[\"measurementValue\"])\n",
    "\n",
    "def unit_clean(value, unit):\n",
    "    \"\"\"Cleans and converts measurementValue column\"\"\"\n",
    "    if unit == \"g\":\n",
    "    # Isolate value, convert from pounds to grams \n",
    "        if value == \"2400 oz/ 150lbs\":\n",
    "            return 150 * 453.59237\n",
    "        elif value == \"70lbs\":\n",
    "            return 70 * 453.59237\n",
    "        elif value == \"78 lb\":\n",
    "            return 78 * 453.59237\n",
    "        elif value == \"112 lb\":\n",
    "            return 112 * 453.59237\n",
    "        elif value == \"48.2\":\n",
    "            return 48.2 * 453.59237\n",
    "        else: \n",
    "            value = str(value).split()\n",
    "            return int(value[0]) * 453.59237\n",
    "    elif unit == \"mm\":\n",
    "        return float(value) * 25.4\n",
    "    \n",
    "# Clean and convert measurementValue column\n",
    "long_data['measurementValue'] = long_data.apply(lambda x: unit_clean(x.measurementValue, x.measurementUnit), axis=1)"
   ]
  },
  {
   "cell_type": "markdown",
   "metadata": {},
   "source": [
    "Assign diagnosticID with unique number"
   ]
  },
  {
   "cell_type": "code",
   "execution_count": 42,
   "metadata": {},
   "outputs": [],
   "source": [
    "#Create diagnosticID which is a unique number for each measurement\n",
    "long_data['diagnosticID'] = [uuid.uuid4().hex for _ in range(len(long_data.index))]"
   ]
  },
  {
   "cell_type": "markdown",
   "metadata": {},
   "source": [
    "Creating eventID with a unqiue uuid"
   ]
  },
  {
   "cell_type": "code",
   "execution_count": null,
   "metadata": {},
   "outputs": [],
   "source": [
    "long_data['eventID'] = [uuid.uuid4().hex for _ in range(len(long_data.index))]"
   ]
  },
  {
   "cell_type": "markdown",
   "metadata": {},
   "source": [
    "Write file as csv for GEOME upload"
   ]
  },
  {
   "cell_type": "code",
   "execution_count": 43,
   "metadata": {},
   "outputs": [],
   "source": [
    "#Writing long data csv file\n",
    "long_data.to_csv('../Mapped_Data/FuTRES_Aepyceros_Africa_Modern_May_22_Update.csv', index=False)"
   ]
  }
 ],
 "metadata": {
  "kernelspec": {
   "display_name": "Python 3",
   "language": "python",
   "name": "python3"
  },
  "language_info": {
   "codemirror_mode": {
    "name": "ipython",
    "version": 3
   },
   "file_extension": ".py",
   "mimetype": "text/x-python",
   "name": "python",
   "nbconvert_exporter": "python",
   "pygments_lexer": "ipython3",
   "version": "3.8.10"
  }
 },
 "nbformat": 4,
 "nbformat_minor": 2
}
