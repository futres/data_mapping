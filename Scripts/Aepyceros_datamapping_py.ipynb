{
 "cells": [
  {
   "cell_type": "markdown",
   "metadata": {},
   "source": [
    "# To Code\n",
    "\n",
    "## template mapping files are in the git repository\n",
    "## original data in _CyVerse Discovery Environment_ \n",
    "### data file is: \"Extant Aepyceros database_updated 11_2016.csv\"\n",
    "\n",
    "### _verbatimAgeValue_\n",
    "- assign 'Age (juv, prime adult, older adult, old)' to verbatimAgeValue\n",
    "\n",
    "### _lifeStage_\n",
    "- assign lifeStage component of 'Age (juv, prime adult, older adult, old)' to lifeStage \n",
    "\n",
    "### _sex_\n",
    "- make lowercase\n",
    "\n",
    "### _basisOfRecord_\n",
    "- required in GEOME\n",
    "- create basisOfRecord column and assign \"FossilSpecimen\"\n",
    "\n",
    "### _locality_\n",
    "- required in GEOME\n",
    "- create locality column and assign \"Unknown\"\n",
    "\n",
    "### _sampleProtocol_\n",
    "- required in GEOME\n",
    "- create sampleProtocol column and assign \"Unknown\"\n",
    "\n",
    "### _yearCollected_\n",
    "- required in GEOME\n",
    "- create yearCollected column and assign \"Unknown\"\n",
    "\n",
    "### _materialSampleID_\n",
    "- create materialSampleID and assign it a UUID value for each row (before long version)\n",
    "\n",
    "### _diagnosticID\n",
    "- create diagnosticID and name \n",
    "\n",
    "### _eventID\n",
    "- create eventID and assign it to materialSampleID values\n",
    "\n",
    "### _measurementMethod_\n",
    "- required in GEOME\n",
    "- create measurementMethod column and assign \"Unknown\"\n",
    "\n",
    "### _measurementUnit_\n",
    "- linear measurements are in \"mm\"\n",
    "- separate unite from _Weight_\n",
    "    - Weight is in \"lb\"\n",
    "    "
   ]
  },
  {
   "cell_type": "markdown",
   "metadata": {},
   "source": [
    "Data Wrangling Notebook for Aepyceros Data\n",
    "<br />\n",
    "Neeka Sewnath\n",
    "<br />\n",
    "nsewnath@ufl.edu"
   ]
  },
  {
   "cell_type": "code",
   "execution_count": 71,
   "metadata": {},
   "outputs": [],
   "source": [
    "import pandas as pd\n",
    "import numpy as np\n",
    "import uuid"
   ]
  },
  {
   "cell_type": "code",
   "execution_count": 72,
   "metadata": {},
   "outputs": [],
   "source": [
    "# Import Aepyceros Data \n",
    "aepyceros = pd.read_csv(\"../Original Data/Aepyceros.csv\")"
   ]
  },
  {
   "cell_type": "code",
   "execution_count": 73,
   "metadata": {},
   "outputs": [],
   "source": [
    "# Assign aepyceros[\"Age (juv, prime adult, older adult, old)\"] to verbatimAgeValue\n",
    "aepyceros = aepyceros.assign(verbatimAgeValue = aepyceros[\"Age (juv, prime adult, older adult, old)\"])"
   ]
  },
  {
   "cell_type": "code",
   "execution_count": 74,
   "metadata": {},
   "outputs": [
    {
     "name": "stderr",
     "output_type": "stream",
     "text": [
      "/Users/neeka/opt/anaconda3/lib/python3.7/site-packages/ipykernel_launcher.py:10: SettingWithCopyWarning: \n",
      "A value is trying to be set on a copy of a slice from a DataFrame\n",
      "\n",
      "See the caveats in the documentation: http://pandas.pydata.org/pandas-docs/stable/user_guide/indexing.html#returning-a-view-versus-a-copy\n",
      "  # Remove the CWD from sys.path while we load stuff.\n",
      "/Users/neeka/opt/anaconda3/lib/python3.7/site-packages/ipykernel_launcher.py:11: SettingWithCopyWarning: \n",
      "A value is trying to be set on a copy of a slice from a DataFrame\n",
      "\n",
      "See the caveats in the documentation: http://pandas.pydata.org/pandas-docs/stable/user_guide/indexing.html#returning-a-view-versus-a-copy\n",
      "  # This is added back by InteractiveShellApp.init_path()\n"
     ]
    }
   ],
   "source": [
    "# lifeStage modification\n",
    "\n",
    "# add lifeStage column\n",
    "aepyceros=aepyceros.assign(lifeStage=\"\")\n",
    "\n",
    "adult_filter=aepyceros[\"Age (juv, prime adult, older adult, old)\"].str.contains(\"Prime|Old|Young|Very|No\")\n",
    "juv_filter=aepyceros[\"Age (juv, prime adult, older adult, old)\"].str.contains(\"juvenile|Juvenile\")\n",
    "\n",
    "aepyceros[\"lifeStage\"] = aepyceros['Age (juv, prime adult, older adult, old)'].fillna(\"Not Collected\")\n",
    "aepyceros[\"lifeStage\"][adult_filter==True] = \"adult\"\n",
    "aepyceros[\"lifeStage\"][juv_filter==True] = \"juvenile\"\n",
    "        "
   ]
  },
  {
   "cell_type": "code",
   "execution_count": 75,
   "metadata": {},
   "outputs": [],
   "source": [
    "# sex column modification\n",
    "aepyceros['SEX'] = aepyceros['SEX'].str.lower()"
   ]
  },
  {
   "cell_type": "code",
   "execution_count": 76,
   "metadata": {},
   "outputs": [],
   "source": [
    "# Add GEOME required columns \n",
    "aepyceros=aepyceros.assign(basisOfRecord=\"FossilSpecimen\")\n",
    "aepyceros=aepyceros.assign(locality=\"Unknown\")\n",
    "aepyceros=aepyceros.assign(samplingProtocol=\"Unknown\")\n",
    "aepyceros=aepyceros.assign(yearCollected=\"Unknown\")\n",
    "aepyceros=aepyceros.assign(measurementMethod=\"Unknown\")"
   ]
  },
  {
   "cell_type": "code",
   "execution_count": 77,
   "metadata": {},
   "outputs": [],
   "source": [
    "#Rearrange columns so that template columns are first, followed by measurement values\n",
    "\n",
    "#Create column list\n",
    "cols = aepyceros.columns.tolist()\n",
    "\n",
    "#Specify desired columns\n",
    "cols = ['Museum',\n",
    "        'Specimen #',\n",
    "        'Species',\n",
    "        'SEX',\n",
    "        'Country/Continent',\n",
    "        'State/Province',\n",
    "        'lifeStage',\n",
    "        'verbatimAgeValue',\n",
    "        'Weight',\n",
    "        'Humerus Length',\n",
    "        'locality',\n",
    "        'basisOfRecord',\n",
    "        'samplingProtocol',\n",
    "        'yearCollected',\n",
    "        'measurementMethod',\n",
    "        'Humerus Length',\n",
    "        'Humerus Width Shaft AP',\n",
    "        'Humerus Width Shaft ML',\n",
    "        'Femur Length',\n",
    "        'Femur Width Shaft AP',\n",
    "        'Femur Width ML',\n",
    "        'Medapodial Length',\n",
    "        'Medapodial Width AP',\n",
    "        'Medapodial Width ML',\n",
    "        'Astragalus Length',\n",
    "        'Astragalus Width']\n",
    "\n",
    "#Subset dataframe\n",
    "aepyceros = aepyceros[cols]"
   ]
  },
  {
   "cell_type": "code",
   "execution_count": 78,
   "metadata": {},
   "outputs": [],
   "source": [
    "#Matching template and column terms\n",
    "\n",
    "#Renaming columns \n",
    "aepyceros = aepyceros.rename(columns = {'Museum':'institutionCode',\n",
    "                                        'Specimen #':'individualID',\n",
    "                                        'Species':'scientificName',\n",
    "                                        'SEX':'sex',\n",
    "                                        'Country/Continent':'country',\n",
    "                                        'State/Province':'stateProvince'})"
   ]
  },
  {
   "cell_type": "code",
   "execution_count": 79,
   "metadata": {},
   "outputs": [],
   "source": [
    "#Matching trait and ontology terms\n",
    "\n",
    "#Renaming columns\n",
    "aepyceros = aepyceros.rename(columns={'Weight':'body mass',\n",
    "                                      #'Occlusal length M3':'M3 length',\n",
    "                                      #'Occlusal width M3':'M3 width',\n",
    "                                      #'Occlusal width M3_ remeasured 11_2016':'M3 width',\n",
    "                                      #'Occlusal length M2':'M2 length',\n",
    "                                      #'Occlusal length M2_remeasured 11_2016':'M2 length',\n",
    "                                      #'Occlusal width M2':'M2 width',\n",
    "                                      #'Occlusal width M2_remeasured 11_2016':'M2 width',\n",
    "                                      #'Occlusal length M1':'M1 length',\n",
    "                                      #'Occlusal width M1':'M1 width',\n",
    "                                      #'Occlusal length P4':'P4 length',\n",
    "                                      #'Occlusal Width P4':'P4 width',\n",
    "                                      #'Occlusal length P2':'P2 length',\n",
    "                                      #'Occlusal Width P2':'P2 width',\n",
    "                                      #'Occlusal length M3':'m3 length',\n",
    "                                      #'Occlusal length M3_remeasured 11_2016':'m3 length',\n",
    "                                      #'Occlusal width M3':'m3 width',\n",
    "                                      #'Occlusal width M3_remeasured 11_2016':'m3 width',\n",
    "                                      #'Occlusal length M2':'m2 length', \n",
    "                                      #'Occlusal length M2_remeasured 11_2016': 'm2 length',\n",
    "                                      #'Occlusal width M2':'m2 width',\n",
    "                                      #'Occlusal width M2_remeasured 11_2016':'m2 width',\n",
    "                                      #'Occlusal length M1':'m1 length',\n",
    "                                      #'Occlusal length M1_remeasured 11_2016':'m1 length',\n",
    "                                      #'m1 length':'m1 width',\n",
    "                                      #'Occlusal width M1_remeasured 11_2016':'m1 width',\n",
    "                                      #'Occlusal length P4':'p4 length',\n",
    "                                      #'Occlusal width P4':'p4 width',\n",
    "                                      #'Occlusal length P2':'p2 length',\n",
    "                                      #'Occlusal width P2':'p2 width',\n",
    "                                      'Humerus Length':'humerus length',\n",
    "                                      'Humerus Width Shaft AP':'humerus diaphysis depth',\n",
    "                                      'Humerus Width Shaft ML':'humerus diaphysis breadth',\n",
    "                                      'Femur Length':'femur length',\n",
    "                                      'Femur Width Shaft AP':'femur diaphysis depth',\n",
    "                                      'Femur Width ML':'femur diaphysis breadth',\n",
    "                                      'Medapodial Length':'metapodial length',\n",
    "                                      'Medapodial Width AP':'metapodial depth',\n",
    "                                      'Medapodial Width ML':'metapodial breadth',\n",
    "                                      'Astragalus Length':'talus length',\n",
    "                                      'Astragalus Width':'talus breadth'})\n"
   ]
  },
  {
   "cell_type": "code",
   "execution_count": 80,
   "metadata": {},
   "outputs": [],
   "source": [
    "#Create measurementUnit column\n",
    "aepyceros=aepyceros.assign(measurementUnit=\"\")"
   ]
  },
  {
   "cell_type": "code",
   "execution_count": 81,
   "metadata": {},
   "outputs": [],
   "source": [
    "#Fill in blanks for required columns \n",
    "aepyceros[\"country\"]=aepyceros[\"country\"].fillna(\"Unknown\")\n",
    "aepyceros[\"scientificName\"]=aepyceros[\"scientificName\"].fillna(\"Unknown\")"
   ]
  },
  {
   "cell_type": "code",
   "execution_count": 82,
   "metadata": {},
   "outputs": [
    {
     "name": "stderr",
     "output_type": "stream",
     "text": [
      "/Users/neeka/opt/anaconda3/lib/python3.7/site-packages/ipykernel_launcher.py:12: SettingWithCopyWarning: \n",
      "A value is trying to be set on a copy of a slice from a DataFrame\n",
      "\n",
      "See the caveats in the documentation: http://pandas.pydata.org/pandas-docs/stable/user_guide/indexing.html#returning-a-view-versus-a-copy\n",
      "  if sys.path[0] == '':\n"
     ]
    }
   ],
   "source": [
    "#Create materialSampleID which is a UUID for each measurement\n",
    "#Create eventID and populate it with materialSampleID\n",
    "\n",
    "aepyceros=aepyceros.assign(materialSampleID = '')\n",
    "aepyceros['materialSampleID'] = [uuid.uuid4() for _ in range(len(aepyceros.index))]\n",
    "\n",
    "#for ind in aepyceros.index:\n",
    "#    x=aepyceros['materialSampleID'][ind]\n",
    "#    y=str(x)\n",
    "#    z=y.replace(\"-\", '_')\n",
    "    \n",
    "#    aepyceros['materialSampleID'][ind] = z\n",
    "\n",
    "aepyceros=aepyceros.assign(eventID = aepyceros[\"materialSampleID\"])"
   ]
  },
  {
   "cell_type": "code",
   "execution_count": 83,
   "metadata": {},
   "outputs": [],
   "source": [
    "#Create long version so that each trait has its own row\n",
    "\n",
    "#Creating long version, first specifiying keep variables, then naming variable and value\n",
    "longVers=pd.melt(aepyceros, \n",
    "                id_vars=['institutionCode',\n",
    "                         'individualID',\n",
    "                         'scientificName',\n",
    "                         'sex',\n",
    "                         'country',\n",
    "                         'stateProvince',\n",
    "                         'lifeStage',\n",
    "                         'verbatimAgeValue',\n",
    "                         'eventID',\n",
    "                         'basisOfRecord',\n",
    "                         'locality',\n",
    "                         'samplingProtocol',\n",
    "                         'yearCollected',\n",
    "                         'measurementMethod',\n",
    "                         'measurementUnit',\n",
    "                         'materialSampleID'], \n",
    "                var_name = 'measurementType', \n",
    "                value_name = 'measurementValue')\n"
   ]
  },
  {
   "cell_type": "code",
   "execution_count": 84,
   "metadata": {},
   "outputs": [],
   "source": [
    "#Populating measurementUnit column with appropriate measurement units in long version\n",
    "long_body_mass_filter=longVers['measurementType']==\"body mass\"\n",
    "long_no_body_filter=longVers['measurementType']!=\"body mass\"\n",
    "longVers['measurementUnit'][long_body_mass_filter] = \"lb\"\n",
    "longVers['measurementUnit'][long_no_body_filter] = \"in\""
   ]
  },
  {
   "cell_type": "code",
   "execution_count": 85,
   "metadata": {},
   "outputs": [],
   "source": [
    "#Create diagnosticID which is a unique number for each measurement\n",
    "longVers=longVers.assign(diagnosticID = '')\n",
    "longVers['diagnosticID'] = np.arange(len(longVers))"
   ]
  },
  {
   "cell_type": "code",
   "execution_count": 86,
   "metadata": {},
   "outputs": [],
   "source": [
    "#If measurement value equals N/a, delete entire row\n",
    "longVers = longVers.dropna(subset=['measurementValue'])\n",
    "\n",
    "#Drop first row of data, it contains no measurementValue but is still retained\n",
    "longVers = longVers.drop(longVers.index[0])"
   ]
  },
  {
   "cell_type": "code",
   "execution_count": 87,
   "metadata": {},
   "outputs": [],
   "source": [
    "#Writing long data csv file\n",
    "longVers.to_csv('../Mapped Data/FuTRES_Aepyceros_Villaseñor_Africa_Modern.csv', index=False)"
   ]
  },
  {
   "cell_type": "code",
   "execution_count": null,
   "metadata": {},
   "outputs": [],
   "source": []
  }
 ],
 "metadata": {
  "kernelspec": {
   "display_name": "Python 3",
   "language": "python",
   "name": "python3"
  },
  "language_info": {
   "codemirror_mode": {
    "name": "ipython",
    "version": 3
   },
   "file_extension": ".py",
   "mimetype": "text/x-python",
   "name": "python",
   "nbconvert_exporter": "python",
   "pygments_lexer": "ipython3",
   "version": "3.8.3"
  }
 },
 "nbformat": 4,
 "nbformat_minor": 2
}
