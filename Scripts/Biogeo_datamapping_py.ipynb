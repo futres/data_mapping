{
 "cells": [
  {
   "cell_type": "markdown",
   "metadata": {},
   "source": [
    "# Manual Changes\n",
    "\n",
    "## template mapping files are in the git repository\n",
    "## original data in _CyVerse Discovery Environment_ \n",
    "### data file is: \"J.Biogeo.2008.AllData.Final.csv\"\n",
    "\n",
    "### _catalogNumber_\n",
    "- in Specimen.Number column (new catalogNumber)\n",
    "- separate out institutionCode from Specimen.Number\n",
    "- create new column titled institutionCode\n",
    "\n",
    "### _measurementUnit_\n",
    "- either in \"g\" or \"mm\"\n",
    "\n",
    "### _otherCatalogNumbers_\n",
    "- concatenated list of:\n",
    "    - Proxy.Specimen.Number\n",
    "    - Annual.Specimen.Number\n",
    "    - YOC.Specimen.Number\n",
    "\n",
    "### _unused columns_\n",
    "- datum (units for latitude)\n",
    "\n",
    "## To Code\n",
    "### _elevationInMeters_\n",
    "- in _elevation.ft_\n",
    "- convert ot meters"
   ]
  },
  {
   "cell_type": "code",
   "execution_count": 1,
   "metadata": {},
   "outputs": [],
   "source": [
    "import pandas as pd\n",
    "import numpy as np\n",
    "import re\n",
    "import uuid"
   ]
  },
  {
   "cell_type": "code",
   "execution_count": 2,
   "metadata": {},
   "outputs": [],
   "source": [
    "#Import Biogeo Data Locally\n",
    "biogeo = pd.read_csv(\"../Original Data/biogeo.csv\")"
   ]
  },
  {
   "cell_type": "code",
   "execution_count": 3,
   "metadata": {},
   "outputs": [],
   "source": [
    "#Preliminary data cleaning\n",
    "\n",
    "#Convert elevation.ft values from feet to meters\n",
    "#1 foot is exactly 0.3048 meters\n",
    "biogeo['elevation.ft']=biogeo['elevation.ft'].multiply(0.3048)\n",
    "#it's not being renamed here because it is renamed later in the script"
   ]
  },
  {
   "cell_type": "code",
   "execution_count": 4,
   "metadata": {},
   "outputs": [
    {
     "name": "stderr",
     "output_type": "stream",
     "text": [
      "/Users/neeka/opt/anaconda3/lib/python3.7/site-packages/ipykernel_launcher.py:9: SettingWithCopyWarning: \n",
      "A value is trying to be set on a copy of a slice from a DataFrame\n",
      "\n",
      "See the caveats in the documentation: http://pandas.pydata.org/pandas-docs/stable/user_guide/indexing.html#returning-a-view-versus-a-copy\n",
      "  if __name__ == '__main__':\n",
      "/Users/neeka/opt/anaconda3/lib/python3.7/site-packages/ipykernel_launcher.py:11: SettingWithCopyWarning: \n",
      "A value is trying to be set on a copy of a slice from a DataFrame\n",
      "\n",
      "See the caveats in the documentation: http://pandas.pydata.org/pandas-docs/stable/user_guide/indexing.html#returning-a-view-versus-a-copy\n",
      "  # This is added back by InteractiveShellApp.init_path()\n"
     ]
    }
   ],
   "source": [
    "#Preliminary data cleaning\n",
    "\n",
    "#Creating a new column called institutionCode and moving from Specimen.Number to institutionCode.  \n",
    "biogeo=biogeo.assign(institutionCode = \"\")\n",
    "for ind in biogeo.index:\n",
    "    x=biogeo['Specimen.Number'][ind]\n",
    "    y=str(x)\n",
    "    z=str(y).split()\n",
    "    biogeo['institutionCode'][ind]=z[0]\n",
    "    y=re.sub(z[0],'',y)\n",
    "    biogeo['Specimen.Number'][ind]=y\n"
   ]
  },
  {
   "cell_type": "code",
   "execution_count": 5,
   "metadata": {},
   "outputs": [],
   "source": [
    "#Add measurementUnit column \n",
    "biogeo=biogeo.assign(measurementUnit = \"\")"
   ]
  },
  {
   "cell_type": "code",
   "execution_count": 6,
   "metadata": {},
   "outputs": [],
   "source": [
    "#Add otherCatalogNumbers\n",
    "biogeo=biogeo.assign(otherCatalogNumbers = biogeo['Proxy.Specimen.Number'].fillna('')+biogeo['Annual.Specimen.Number'].fillna('')+biogeo['Annual.Specimen.Number'].fillna('') )\n",
    "\n"
   ]
  },
  {
   "cell_type": "code",
   "execution_count": 7,
   "metadata": {},
   "outputs": [],
   "source": [
    "#Rearrange columns so that template columns are first, followed by measurement values\n",
    "\n",
    "#Create column list\n",
    "cols = biogeo.columns.tolist()\n",
    "\n",
    "#Specify desired columns\n",
    "cols = ['Specimen.Number',\n",
    "        'institutionCode',\n",
    "        'otherCatalogNumbers',\n",
    "        'dec.lat',\n",
    "        'dec.long',  \n",
    "        'max.error',\n",
    "        'elevation.ft',\n",
    "        'ear.length.mm',\n",
    "        'hind.foot.length.mm',\n",
    "        'tail.length.mm',\n",
    "        'total.length.mm',\n",
    "        'body.mass.g',\n",
    "        'measurementUnit']\n",
    "\n",
    "#Subset dataframe\n",
    "biogeo = biogeo[cols]"
   ]
  },
  {
   "cell_type": "code",
   "execution_count": 8,
   "metadata": {},
   "outputs": [],
   "source": [
    "#Matching template and column terms\n",
    "\n",
    "#Renaming columns \n",
    "biogeo = biogeo.rename(columns = {'Specimen.Number':'catalogNumber', \n",
    "                                  'dec.lat':'decimalLatitude', \n",
    "                                  'dec.long':'decimalLongitude',  \n",
    "                                  'max.error':'coordinateUncertaintyInMeters', \n",
    "                                  'elevation.ft':'pointElevationInMeters'})"
   ]
  },
  {
   "cell_type": "code",
   "execution_count": 9,
   "metadata": {},
   "outputs": [],
   "source": [
    "#Matching trait and ontology terms\n",
    "\n",
    "#Renaming columns\n",
    "biogeo = biogeo.rename(columns={'ear.length.mm':'ear length',\n",
    "                                'hind.foot.length.mm':'hind foot length',\n",
    "                                'tail.length.mm': 'tail length',\n",
    "                                'total.length.mm':'full body length',\n",
    "                                'body.mass.g':'body mass'})"
   ]
  },
  {
   "cell_type": "code",
   "execution_count": 10,
   "metadata": {},
   "outputs": [],
   "source": [
    "#create materialSampleID which is a UUID for each measurement\n",
    "biogeo=biogeo.assign(materialSampleID = '')\n",
    "biogeo['materialSampleID'] = uuid.uuid4() "
   ]
  },
  {
   "cell_type": "code",
   "execution_count": 11,
   "metadata": {},
   "outputs": [
    {
     "name": "stderr",
     "output_type": "stream",
     "text": [
      "/Users/neeka/opt/anaconda3/lib/python3.7/site-packages/ipykernel_launcher.py:22: SettingWithCopyWarning: \n",
      "A value is trying to be set on a copy of a slice from a DataFrame\n",
      "\n",
      "See the caveats in the documentation: http://pandas.pydata.org/pandas-docs/stable/user_guide/indexing.html#returning-a-view-versus-a-copy\n",
      "/Users/neeka/opt/anaconda3/lib/python3.7/site-packages/ipykernel_launcher.py:20: SettingWithCopyWarning: \n",
      "A value is trying to be set on a copy of a slice from a DataFrame\n",
      "\n",
      "See the caveats in the documentation: http://pandas.pydata.org/pandas-docs/stable/user_guide/indexing.html#returning-a-view-versus-a-copy\n"
     ]
    }
   ],
   "source": [
    "#create long version so that each trait has its own row\n",
    "\n",
    "#creating long version, first specifiying keep variables, then naming variable and value\n",
    "longVers=pd.melt(biogeo, \n",
    "                id_vars=['catalogNumber',\n",
    "                         'institutionCode',\n",
    "                         'otherCatalogNumbers',\n",
    "                         'decimalLatitude',\n",
    "                         'decimalLongitude',  \n",
    "                         'coordinateUncertaintyInMeters',\n",
    "                         'pointElevationInMeters',\n",
    "                         'materialSampleID',\n",
    "                         'measurementUnit'], \n",
    "                          var_name = 'measurementType', \n",
    "                          value_name = 'measurementValue')\n",
    "\n",
    "#Populating measurementUnit column with appropriate measurement units in long version\n",
    "for ind in longVers.index:\n",
    "    if longVers['measurementType'][ind] == \"body mass\":\n",
    "        longVers['measurementUnit'][ind]=\"g\"\n",
    "    else:\n",
    "        longVers['measurementUnit'][ind]=\"mm\""
   ]
  },
  {
   "cell_type": "code",
   "execution_count": 12,
   "metadata": {},
   "outputs": [],
   "source": [
    "#create diagnosticID which is a UUID for each measurement\n",
    "longVers=longVers.assign(diagnosticID = '')\n",
    "longVers['diagnosticID'] = [uuid.uuid4() for _ in range(len(longVers.index))]"
   ]
  },
  {
   "cell_type": "code",
   "execution_count": 13,
   "metadata": {},
   "outputs": [],
   "source": [
    "#Writing long data csv file\n",
    "longVers.to_csv('../Mapped Data/Biogeo_Data_Long.csv');"
   ]
  },
  {
   "cell_type": "code",
   "execution_count": null,
   "metadata": {},
   "outputs": [],
   "source": []
  }
 ],
 "metadata": {
  "kernelspec": {
   "display_name": "Python 3",
   "language": "python",
   "name": "python3"
  },
  "language_info": {
   "codemirror_mode": {
    "name": "ipython",
    "version": 3
   },
   "file_extension": ".py",
   "mimetype": "text/x-python",
   "name": "python",
   "nbconvert_exporter": "python",
   "pygments_lexer": "ipython3",
   "version": "3.7.5"
  }
 },
 "nbformat": 4,
 "nbformat_minor": 2
}
