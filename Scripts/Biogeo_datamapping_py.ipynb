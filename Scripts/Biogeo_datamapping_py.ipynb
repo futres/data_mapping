{
 "cells": [
  {
   "cell_type": "markdown",
   "metadata": {},
   "source": [
    "Data Wrangling Notebook for Bios Data\n",
    "<br />\n",
    "Neeka Sewnath\n",
    "<br />\n",
    "nsewnath@ufl.edu"
   ]
  },
  {
   "cell_type": "code",
   "execution_count": 126,
   "metadata": {},
   "outputs": [],
   "source": [
    "import pandas as pd\n",
    "import numpy as np\n",
    "import uuid\n",
    "import re"
   ]
  },
  {
   "cell_type": "markdown",
   "metadata": {},
   "source": [
    "Silencing warnings that are unnecessary"
   ]
  },
  {
   "cell_type": "code",
   "execution_count": 127,
   "metadata": {},
   "outputs": [],
   "source": [
    "try:\n",
    "    import warnings\n",
    "    warnings.filterwarnings('ignore')\n",
    "except:\n",
    "    pass"
   ]
  },
  {
   "cell_type": "markdown",
   "metadata": {},
   "source": [
    "Import data"
   ]
  },
  {
   "cell_type": "code",
   "execution_count": 128,
   "metadata": {},
   "outputs": [],
   "source": [
    "biogeo = pd.read_csv(\"../Original_Data/J.Biogeo.2008.AllData.Final.csv\")"
   ]
  },
  {
   "cell_type": "markdown",
   "metadata": {},
   "source": [
    "Add individualID and populate with UUID"
   ]
  },
  {
   "cell_type": "code",
   "execution_count": 129,
   "metadata": {},
   "outputs": [],
   "source": [
    "biogeo['individualID'] = [uuid.uuid4().hex for _ in range(len(biogeo.index))]"
   ]
  },
  {
   "cell_type": "markdown",
   "metadata": {},
   "source": [
    "Convert elevation.ft values from feet to meters"
   ]
  },
  {
   "cell_type": "code",
   "execution_count": 130,
   "metadata": {},
   "outputs": [],
   "source": [
    "biogeo['elevation.ft']=biogeo['elevation.ft'].multiply(0.3048)"
   ]
  },
  {
   "cell_type": "markdown",
   "metadata": {},
   "source": [
    "Creating a new column called institutionCode and moving from Specimen.Number to institutionCode. "
   ]
  },
  {
   "cell_type": "code",
   "execution_count": 131,
   "metadata": {},
   "outputs": [],
   "source": [
    "biogeo[\"institutionCode\"] = biogeo['Specimen.Number'].str.split().str[0]\n",
    "biogeo[\"Specimen.Number\"] = biogeo['Specimen.Number'].str.split().str[1]"
   ]
  },
  {
   "cell_type": "markdown",
   "metadata": {},
   "source": [
    "Add required GEOME columms"
   ]
  },
  {
   "cell_type": "code",
   "execution_count": 132,
   "metadata": {},
   "outputs": [],
   "source": [
    "biogeo=biogeo.assign(basisOfRecord=\"PreservedSpecimen\")\n",
    "biogeo=biogeo.assign(scientificName=\"Spermophilus beecheyi\")\n",
    "#biogeo=biogeo.assign(verbatimscientificName=biogeo[\"ScientificName\"])\n",
    "biogeo=biogeo.assign(country=\"Unknown\")\n",
    "biogeo=biogeo.assign(locality=\"Not Collected\")\n",
    "biogeo=biogeo.assign(yearCollected=\"Unknown\")\n",
    "biogeo=biogeo.assign(samplingProtocol=\"Not Collected\")\n",
    "biogeo=biogeo.assign(measurementMethod=\"Unknown\")"
   ]
  },
  {
   "cell_type": "markdown",
   "metadata": {},
   "source": [
    "Create measurementUnit column"
   ]
  },
  {
   "cell_type": "code",
   "execution_count": 133,
   "metadata": {},
   "outputs": [],
   "source": [
    "biogeo=biogeo.assign(measurementUnit = \"\")"
   ]
  },
  {
   "cell_type": "markdown",
   "metadata": {},
   "source": [
    "Add otherCatalogNumbers by combining Proxy.Specimen.Number, Annual.Specimen.Number, and YOC.Specimen.Number "
   ]
  },
  {
   "cell_type": "code",
   "execution_count": 134,
   "metadata": {},
   "outputs": [],
   "source": [
    "biogeo=biogeo.assign(otherCatalogNumbers = biogeo['Proxy.Specimen.Number'].fillna('') \\\n",
    "                     +biogeo['Annual.Specimen.Number'].fillna('')+biogeo['YOC.Specimen.Number'].fillna('') )"
   ]
  },
  {
   "cell_type": "markdown",
   "metadata": {},
   "source": [
    "Select specified columns for final dataset"
   ]
  },
  {
   "cell_type": "code",
   "execution_count": 135,
   "metadata": {},
   "outputs": [],
   "source": [
    "cols = biogeo.columns.tolist()\n",
    "\n",
    "cols = ['Specimen.Number',\n",
    "        'institutionCode',\n",
    "        'otherCatalogNumbers',\n",
    "        'individualID',\n",
    "        'dec.lat',\n",
    "        'dec.long',  \n",
    "        'max.error',\n",
    "        'elevation.ft',\n",
    "        'hind.foot.length.mm',\n",
    "        'tail.length.mm',\n",
    "        'total.length.mm',\n",
    "        'body.mass.g',\n",
    "        'ear.length.mm',\n",
    "        'c.toothrow.1.mm',\n",
    "        'c.toothrow.2.mm',\n",
    "        'basisOfRecord',\n",
    "        'scientificName',\n",
    "        #verbatimscientificName\n",
    "        'country',\n",
    "        'locality',\n",
    "        'yearCollected',\n",
    "        'samplingProtocol',\n",
    "        'measurementMethod',\n",
    "        'measurementUnit']\n",
    "\n",
    "biogeo = biogeo[cols]"
   ]
  },
  {
   "cell_type": "markdown",
   "metadata": {},
   "source": [
    "Matching template and column terms"
   ]
  },
  {
   "cell_type": "code",
   "execution_count": 136,
   "metadata": {},
   "outputs": [],
   "source": [
    "biogeo = biogeo.rename(columns = {'Specimen.Number':'catalogNumber', \n",
    "                                  'dec.lat':'decimalLatitude', \n",
    "                                  'dec.long':'decimalLongitude',  \n",
    "                                  'max.error':'coordinateUncertaintyInMeters', \n",
    "                                  'elevation.ft':'pointElevationInMeters'})"
   ]
  },
  {
   "cell_type": "markdown",
   "metadata": {},
   "source": [
    "Create long version of final data"
   ]
  },
  {
   "cell_type": "code",
   "execution_count": 137,
   "metadata": {},
   "outputs": [],
   "source": [
    "long_data = pd.melt(biogeo, \n",
    "                id_vars=['catalogNumber',\n",
    "                         'institutionCode',\n",
    "                         'otherCatalogNumbers',\n",
    "                         'individualID',\n",
    "                         'decimalLatitude',\n",
    "                         'decimalLongitude',  \n",
    "                         'coordinateUncertaintyInMeters',\n",
    "                         'pointElevationInMeters',\n",
    "                         'basisOfRecord',\n",
    "                         'scientificName',\n",
    "                         #'verbatimScientificName',\n",
    "                         'country',\n",
    "                         'locality',\n",
    "                         'yearCollected',\n",
    "                         'samplingProtocol',\n",
    "                         'measurementMethod',\n",
    "                         'measurementUnit'], \n",
    "                          var_name = 'measurementType', \n",
    "                          value_name = 'measurementValue')"
   ]
  },
  {
   "cell_type": "markdown",
   "metadata": {},
   "source": [
    "Matching trait names to ontology terms"
   ]
  },
  {
   "cell_type": "code",
   "execution_count": 138,
   "metadata": {},
   "outputs": [],
   "source": [
    "mapping_file = pd.read_csv(\"./../Mapping Files/ontology_codeBook.csv\")\n",
    "\n",
    "# Create subset of those within FOVT or OBA\n",
    "map_subset = mapping_file[(mapping_file[\"Status\"] == \"in FOVT\") | (mapping_file[\"Status\"] == \"in OBA\") ]\n",
    "\n",
    "# Create a subset of Blois data\n",
    "blois_subset = map_subset[map_subset[\"name\"] == \"blois\"]\n",
    "\n",
    "# Isolating necessary columns\n",
    "blois_subset = blois_subset[[\"bone\",\"label\", \"term\"]]\n",
    "\n",
    "# Create dictionary of terms\n",
    "map_dict = map_dict = dict(zip(blois_subset.label , blois_subset.term))\n",
    "\n",
    "# Map the new terms onto the old terms in the dataframe \n",
    "long_data[\"measurementType\"] = long_data[\"measurementType\"].map(map_dict)\n",
    "long_data = long_data.dropna(subset=['measurementType','measurementValue'])"
   ]
  },
  {
   "cell_type": "markdown",
   "metadata": {},
   "source": [
    "Adding materialSampleID"
   ]
  },
  {
   "cell_type": "code",
   "execution_count": 139,
   "metadata": {},
   "outputs": [],
   "source": [
    "# These are the column names that could match materialSampleID if they all match\n",
    "sample_cols = ['catalogNumber','institutionCode','otherCatalogNumbers',\n",
    "               'individualID', 'decimalLatitude','decimalLongitude',  \n",
    "               'coordinateUncertaintyInMeters','pointElevationInMeters',\n",
    "               'basisOfRecord','scientificName','country','locality',\n",
    "               'yearCollected','samplingProtocol']\n",
    "\n",
    "# Dictionary of terms and bones created from ontology codebook\n",
    "map_dict = dict(zip(blois_subset.term , blois_subset.bone))\n",
    "\n",
    "# Creating temp_bone column to map the measurementType to the common bone name\n",
    "long_data[\"temp_bone\"] = long_data[\"measurementType\"].map(map_dict)\n",
    "\n",
    "# Creating a json column containing everything in sample_cols\n",
    "long_data['temp_json'] = long_data[sample_cols].apply(lambda x: x.to_json(), axis=1)\n",
    "\n",
    "# Grouping only if temp_bone and temp_json are the same, assigning numeric ID\n",
    "long_data[\"materialSampleID\"] = long_data.groupby([\"temp_bone\", \"temp_json\"]).ngroup()\n",
    "\n",
    "# Dropping unnecessary columns\n",
    "long_data = long_data.drop(\"temp_bone\", axis = 1)\n",
    "long_data = long_data.drop(\"temp_json\", axis = 1)\n",
    "\n",
    "# Create GEOME required eventID\n",
    "long_data[\"eventID\"] = long_data[\"materialSampleID\"]"
   ]
  },
  {
   "cell_type": "markdown",
   "metadata": {},
   "source": [
    "Populating measurementUnit column with appropriate measurement units in long version"
   ]
  },
  {
   "cell_type": "code",
   "execution_count": 140,
   "metadata": {},
   "outputs": [],
   "source": [
    "long_body_mass_filter = long_data['measurementType']==\"body mass\"\n",
    "long_no_body_filter = long_data['measurementType']!=\"body mass\"\n",
    "\n",
    "long_data['measurementUnit'][long_body_mass_filter] = \"g\"\n",
    "long_data['measurementUnit'][long_no_body_filter] = \"mm\""
   ]
  },
  {
   "cell_type": "markdown",
   "metadata": {},
   "source": [
    "Create diagnosticID which is a unique number for each measurement"
   ]
  },
  {
   "cell_type": "code",
   "execution_count": 141,
   "metadata": {},
   "outputs": [],
   "source": [
    "long_data['diagnosticID'] = [uuid.uuid4().hex for _ in range(len(long_data.index))]"
   ]
  },
  {
   "cell_type": "markdown",
   "metadata": {},
   "source": [
    "Delete measurement value columns that contain N/A value"
   ]
  },
  {
   "cell_type": "code",
   "execution_count": 142,
   "metadata": {},
   "outputs": [],
   "source": [
    "#If measurement value equals N/a, delete entire row\n",
    "long_data= long_data.dropna(subset=['measurementValue'])"
   ]
  },
  {
   "cell_type": "markdown",
   "metadata": {},
   "source": [
    "Round coordinateUncertaintyInMeters column to integer value"
   ]
  },
  {
   "cell_type": "code",
   "execution_count": 143,
   "metadata": {},
   "outputs": [],
   "source": [
    "long_data[\"coordinateUncertaintyInMeters\"] = long_data[\"coordinateUncertaintyInMeters\"].apply \\\n",
    "                                                (lambda x: round(x))"
   ]
  },
  {
   "cell_type": "markdown",
   "metadata": {},
   "source": [
    "Create verbatimMeasurementUnit column (currently not accepted by GEOME)"
   ]
  },
  {
   "cell_type": "code",
   "execution_count": 144,
   "metadata": {},
   "outputs": [],
   "source": [
    "#long_data = long_data.assign(verbatimMeasurementUnit = long_data[\"measurementValue\"])"
   ]
  },
  {
   "cell_type": "markdown",
   "metadata": {},
   "source": [
    "Write file as csv for GEOME upload"
   ]
  },
  {
   "cell_type": "code",
   "execution_count": 145,
   "metadata": {},
   "outputs": [],
   "source": [
    "long_data.to_csv('../Mapped_Data/FuTRES_Spermophilus.beecheyi_Blois_NorthAmerica_Modern.csv', index = False);"
   ]
  }
 ],
 "metadata": {
  "kernelspec": {
   "display_name": "Python 3",
   "language": "python",
   "name": "python3"
  },
  "language_info": {
   "codemirror_mode": {
    "name": "ipython",
    "version": 3
   },
   "file_extension": ".py",
   "mimetype": "text/x-python",
   "name": "python",
   "nbconvert_exporter": "python",
   "pygments_lexer": "ipython3",
   "version": "3.8.10"
  }
 },
 "nbformat": 4,
 "nbformat_minor": 2
}
