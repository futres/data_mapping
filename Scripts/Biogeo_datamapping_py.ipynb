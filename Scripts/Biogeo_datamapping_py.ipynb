{
 "cells": [
  {
   "cell_type": "markdown",
   "metadata": {},
   "source": [
    "# To Code\n",
    "\n",
    "## template mapping files are in the git repository\n",
    "## original data in _CyVerse Discovery Environment_ \n",
    "### data file is: \"J.Biogeo.2008.AllData.Final.csv\"\n",
    "\n",
    "### _elevationInMeters_\n",
    "- in _elevation.ft_\n",
    "- convert ot meters\n",
    "\n",
    "### _catalogNumber_\n",
    "- in Specimen.Number column (new catalogNumber)\n",
    "- separate out institutionCode from Specimen.Number\n",
    "- create new column titled institutionCode\n",
    "\n",
    "### _measurementUnit_\n",
    "- either in \"g\" or \"mm\"\n",
    "\n",
    "### _otherCatalogNumbers_\n",
    "- concatenated list of:\n",
    "    - Proxy.Specimen.Number\n",
    "    - Annual.Specimen.Number\n",
    "    - YOC.Specimen.Number\n",
    "    \n",
    "### _basisOfRecord_\n",
    "- required in GEOME\n",
    "- create basisOfRecord column and assign \"FossilSpecimen\"\n",
    "\n",
    "### _locality_\n",
    "- required in GEOME\n",
    "- create locality column and assign \"Unknown\"\n",
    "\n",
    "### _sampleProtocol_\n",
    "- required in GEOME\n",
    "- create sampleProtocol column and assign \"Unknown\"\n",
    "\n",
    "### _yearCollected_\n",
    "- required in GEOME\n",
    "- create yearCollected column and assign \"Unknown\"\n",
    "\n",
    "### _measurementMethod_\n",
    "- required in GEOME\n",
    "- create measurementMethod column and assign \"Unknown\"\n",
    "    \n",
    "### _materialSampleID_\n",
    "- create materialSampleID and assign it a UUID value for each row (before long version)\n",
    "\n",
    "### _diagnosticID\n",
    "- create diagnosticID and name \n",
    "\n",
    "### _eventID\n",
    "- create eventID and assign it to materialSampleID values"
   ]
  },
  {
   "cell_type": "markdown",
   "metadata": {},
   "source": [
    "Data Wrangling Notebook for Aepyceros Data\n",
    "<br />\n",
    "Neeka Sewnath\n",
    "<br />\n",
    "nsewnath@ufl.edu"
   ]
  },
  {
   "cell_type": "code",
   "execution_count": 93,
   "metadata": {},
   "outputs": [],
   "source": [
    "import pandas as pd\n",
    "import numpy as np\n",
    "import uuid\n",
    "import re"
   ]
  },
  {
   "cell_type": "markdown",
   "metadata": {},
   "source": [
    "Import data"
   ]
  },
  {
   "cell_type": "code",
   "execution_count": 94,
   "metadata": {},
   "outputs": [],
   "source": [
    "# Import Biogeo Data Locally\n",
    "biogeo = pd.read_csv(\"../Original_Data/J.Biogeo.2008.AllData.Final.csv\")"
   ]
  },
  {
   "cell_type": "markdown",
   "metadata": {},
   "source": [
    "Convert elevation.ft values from feet to meters"
   ]
  },
  {
   "cell_type": "code",
   "execution_count": 95,
   "metadata": {},
   "outputs": [],
   "source": [
    "# 1 foot is exactly 0.3048 meters\n",
    "biogeo['elevation.ft']=biogeo['elevation.ft'].multiply(0.3048)"
   ]
  },
  {
   "cell_type": "markdown",
   "metadata": {},
   "source": [
    "Creating a new column called institutionCode and moving from Specimen.Number to institutionCode. "
   ]
  },
  {
   "cell_type": "code",
   "execution_count": 96,
   "metadata": {},
   "outputs": [
    {
     "name": "stderr",
     "output_type": "stream",
     "text": [
      "<ipython-input-96-c0a19e85ca39>:7: SettingWithCopyWarning: \n",
      "A value is trying to be set on a copy of a slice from a DataFrame\n",
      "\n",
      "See the caveats in the documentation: https://pandas.pydata.org/pandas-docs/stable/user_guide/indexing.html#returning-a-view-versus-a-copy\n",
      "  biogeo['institutionCode'][ind]=z[0]\n",
      "<ipython-input-96-c0a19e85ca39>:9: SettingWithCopyWarning: \n",
      "A value is trying to be set on a copy of a slice from a DataFrame\n",
      "\n",
      "See the caveats in the documentation: https://pandas.pydata.org/pandas-docs/stable/user_guide/indexing.html#returning-a-view-versus-a-copy\n",
      "  biogeo['Specimen.Number'][ind]=y\n"
     ]
    }
   ],
   "source": [
    "# Create institutionCode \n",
    "biogeo=biogeo.assign(institutionCode = \"\")\n",
    "for ind in biogeo.index:\n",
    "    x=biogeo['Specimen.Number'][ind]\n",
    "    y=str(x)\n",
    "    z=str(y).split()\n",
    "    biogeo['institutionCode'][ind]=z[0]\n",
    "    y=re.sub(z[0],'',y)\n",
    "    biogeo['Specimen.Number'][ind]=y\n"
   ]
  },
  {
   "cell_type": "markdown",
   "metadata": {},
   "source": [
    "Add required GEOME columms"
   ]
  },
  {
   "cell_type": "code",
   "execution_count": 97,
   "metadata": {},
   "outputs": [],
   "source": [
    "biogeo=biogeo.assign(basisOfRecord=\"PreservedSpecimen\")\n",
    "biogeo=biogeo.assign(scientificName=\"Spermophilus beecheyi\")\n",
    "#biogeo=biogeo.assign(verbatimscientificName=biogeo[\"ScientificName\"])\n",
    "biogeo=biogeo.assign(country=\"Unknown\")\n",
    "biogeo=biogeo.assign(locality=\"Not Collected\")\n",
    "biogeo=biogeo.assign(yearCollected=\"Unknown\")\n",
    "biogeo=biogeo.assign(samplingProtocol=\"Not Collected\")\n",
    "biogeo=biogeo.assign(measurementMethod=\"Unknown\")"
   ]
  },
  {
   "cell_type": "markdown",
   "metadata": {},
   "source": [
    "Create measurementUnit column"
   ]
  },
  {
   "cell_type": "code",
   "execution_count": 98,
   "metadata": {},
   "outputs": [],
   "source": [
    "biogeo=biogeo.assign(measurementUnit = \"\")"
   ]
  },
  {
   "cell_type": "markdown",
   "metadata": {},
   "source": [
    "Add otherCatalogNumbers by combining Proxy.Specimen.Number, Annual.Specimen.Number, and YOC.Specimen.Number "
   ]
  },
  {
   "cell_type": "code",
   "execution_count": 99,
   "metadata": {},
   "outputs": [],
   "source": [
    "biogeo=biogeo.assign(otherCatalogNumbers = biogeo['Proxy.Specimen.Number'].fillna('')+biogeo['Annual.Specimen.Number'].fillna('')+biogeo['YOC.Specimen.Number'].fillna('') )"
   ]
  },
  {
   "cell_type": "markdown",
   "metadata": {},
   "source": [
    "Select specified columns for final dataset"
   ]
  },
  {
   "cell_type": "code",
   "execution_count": 100,
   "metadata": {},
   "outputs": [],
   "source": [
    "# Create column list\n",
    "cols = biogeo.columns.tolist()\n",
    "\n",
    "# Specify desired columns\n",
    "cols = ['Specimen.Number',\n",
    "        'institutionCode',\n",
    "        'otherCatalogNumbers',\n",
    "        'dec.lat',\n",
    "        'dec.long',  \n",
    "        'max.error',\n",
    "        'elevation.ft',\n",
    "        'hind.foot.length.mm',\n",
    "        'tail.length.mm',\n",
    "        'total.length.mm',\n",
    "        'body.mass.g',\n",
    "        'ear.length.mm',\n",
    "        'c.toothrow.1.mm',\n",
    "        'c.toothrow.2.mm',\n",
    "        'basisOfRecord',\n",
    "        'scientificName',\n",
    "        #verbatimscientificName\n",
    "        'country',\n",
    "        'locality',\n",
    "        'yearCollected',\n",
    "        'samplingProtocol',\n",
    "        'measurementMethod',\n",
    "        'measurementUnit']\n",
    "\n",
    "# Subset dataframe\n",
    "biogeo = biogeo[cols]"
   ]
  },
  {
   "cell_type": "markdown",
   "metadata": {},
   "source": [
    "Matching template and column terms"
   ]
  },
  {
   "cell_type": "code",
   "execution_count": 101,
   "metadata": {},
   "outputs": [],
   "source": [
    "# Renaming columns \n",
    "biogeo = biogeo.rename(columns = {'Specimen.Number':'catalogNumber', \n",
    "                                  'dec.lat':'decimalLatitude', \n",
    "                                  'dec.long':'decimalLongitude',  \n",
    "                                  'max.error':'coordinateUncertaintyInMeters', \n",
    "                                  'elevation.ft':'pointElevationInMeters'})"
   ]
  },
  {
   "cell_type": "code",
   "execution_count": 102,
   "metadata": {},
   "outputs": [],
   "source": [
    "#Renaming columns\n",
    "biogeo = biogeo.rename(columns={'hind.foot.length.mm':'pes length',\n",
    "                                'tail.length.mm': 'tail length',\n",
    "                                'total.length.mm':'body length with tail',\n",
    "                                'ear.length.mm':'ear length to notch',\n",
    "                                'c.toothrow.1.mm':'tooth row length',\n",
    "                                'c.toothrow.2.mm':'tooth row length',\n",
    "                                'body.mass.g':'body mass'})"
   ]
  },
  {
   "cell_type": "markdown",
   "metadata": {},
   "source": [
    "Create materialSampleID which is a UUID for each measurement (use hex to remove \"-\"). Create eventID and populate it with materialSampleID"
   ]
  },
  {
   "cell_type": "code",
   "execution_count": 103,
   "metadata": {},
   "outputs": [],
   "source": [
    "# Create materialSampleID\n",
    "biogeo=biogeo.assign(materialSampleID = '')\n",
    "biogeo['materialSampleID'] = [uuid.uuid4().hex for _ in range(len(biogeo.index))]\n",
    "\n",
    "# Create eventID\n",
    "biogeo=biogeo.assign(eventID = biogeo[\"materialSampleID\"])"
   ]
  },
  {
   "cell_type": "markdown",
   "metadata": {},
   "source": [
    "Create long version of final data"
   ]
  },
  {
   "cell_type": "code",
   "execution_count": 104,
   "metadata": {},
   "outputs": [],
   "source": [
    "longVers=pd.melt(biogeo, \n",
    "                id_vars=['catalogNumber',\n",
    "                         'institutionCode',\n",
    "                         'otherCatalogNumbers',\n",
    "                         'decimalLatitude',\n",
    "                         'decimalLongitude',  \n",
    "                         'coordinateUncertaintyInMeters',\n",
    "                         'pointElevationInMeters',\n",
    "                         'materialSampleID',\n",
    "                         'eventID',\n",
    "                         'basisOfRecord',\n",
    "                         'scientificName',\n",
    "                         #'verbatimScientificName',\n",
    "                         'country',\n",
    "                         'locality',\n",
    "                         'yearCollected',\n",
    "                         'samplingProtocol',\n",
    "                         'measurementMethod',\n",
    "                         'measurementUnit'], \n",
    "                          var_name = 'measurementType', \n",
    "                          value_name = 'measurementValue')"
   ]
  },
  {
   "cell_type": "markdown",
   "metadata": {},
   "source": [
    "Populating measurementUnit column with appropriate measurement units in long version"
   ]
  },
  {
   "cell_type": "code",
   "execution_count": 105,
   "metadata": {},
   "outputs": [
    {
     "name": "stderr",
     "output_type": "stream",
     "text": [
      "<ipython-input-105-a7187abfee44>:5: SettingWithCopyWarning: \n",
      "A value is trying to be set on a copy of a slice from a DataFrame\n",
      "\n",
      "See the caveats in the documentation: https://pandas.pydata.org/pandas-docs/stable/user_guide/indexing.html#returning-a-view-versus-a-copy\n",
      "  longVers['measurementUnit'][ind]=\"mm\"\n",
      "<ipython-input-105-a7187abfee44>:3: SettingWithCopyWarning: \n",
      "A value is trying to be set on a copy of a slice from a DataFrame\n",
      "\n",
      "See the caveats in the documentation: https://pandas.pydata.org/pandas-docs/stable/user_guide/indexing.html#returning-a-view-versus-a-copy\n",
      "  longVers['measurementUnit'][ind]=\"g\"\n"
     ]
    }
   ],
   "source": [
    "for ind in longVers.index:\n",
    "    if longVers['measurementType'][ind] == \"body mass\":\n",
    "        longVers['measurementUnit'][ind]=\"g\"\n",
    "    else:\n",
    "        longVers['measurementUnit'][ind]=\"mm\""
   ]
  },
  {
   "cell_type": "markdown",
   "metadata": {},
   "source": [
    "Create diagnosticID which is a unique number for each measurement"
   ]
  },
  {
   "cell_type": "code",
   "execution_count": 106,
   "metadata": {},
   "outputs": [],
   "source": [
    "longVers=longVers.assign(diagnosticID = '')\n",
    "longVers['diagnosticID'] = np.arange(len(longVers))"
   ]
  },
  {
   "cell_type": "markdown",
   "metadata": {},
   "source": [
    "Delete measurement value columns that contain N/A value"
   ]
  },
  {
   "cell_type": "code",
   "execution_count": 107,
   "metadata": {},
   "outputs": [],
   "source": [
    "#If measurement value equals N/a, delete entire row\n",
    "longVers = longVers.dropna(subset=['measurementValue'])"
   ]
  },
  {
   "cell_type": "markdown",
   "metadata": {},
   "source": [
    "Round coordinateUncertaintyInMeters column to integer value"
   ]
  },
  {
   "cell_type": "code",
   "execution_count": 108,
   "metadata": {},
   "outputs": [],
   "source": [
    "def int_round (num):\n",
    "    \"\"\"Rounds coordinateUncertaintyInMeters column to integer value \"\"\"\n",
    "    num = round(num)\n",
    "    return num\n",
    "\n",
    "# Round coordinateUncertaintyInMeters\n",
    "longVers[\"coordinateUncertaintyInMeters\"] = longVers[\"coordinateUncertaintyInMeters\"].apply(int_round)"
   ]
  },
  {
   "cell_type": "markdown",
   "metadata": {},
   "source": [
    "Create verbatimMeasurementUnit column (currently not accepted by GEOME)"
   ]
  },
  {
   "cell_type": "code",
   "execution_count": 109,
   "metadata": {},
   "outputs": [],
   "source": [
    "#longVers=longVers.assign(verbatimMeasurementUnit = longVers[\"measurementValue\"])"
   ]
  },
  {
   "cell_type": "markdown",
   "metadata": {},
   "source": [
    "Write file as csv for GEOME upload"
   ]
  },
  {
   "cell_type": "code",
   "execution_count": 110,
   "metadata": {},
   "outputs": [],
   "source": [
    "#Writing long data csv file\n",
    "longVers.to_csv('../Mapped_Data/FuTRES_Spermophilus.beecheyi_Blois_NorthAmerica_Modern.csv', index = False);"
   ]
  }
 ],
 "metadata": {
  "kernelspec": {
   "display_name": "Python 3",
   "language": "python",
   "name": "python3"
  },
  "language_info": {
   "codemirror_mode": {
    "name": "ipython",
    "version": 3
   },
   "file_extension": ".py",
   "mimetype": "text/x-python",
   "name": "python",
   "nbconvert_exporter": "python",
   "pygments_lexer": "ipython3",
   "version": "3.8.3"
  }
 },
 "nbformat": 4,
 "nbformat_minor": 2
}
