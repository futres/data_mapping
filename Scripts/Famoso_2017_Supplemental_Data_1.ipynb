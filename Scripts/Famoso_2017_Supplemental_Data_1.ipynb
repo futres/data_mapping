{
 "cells": [
  {
   "cell_type": "markdown",
   "metadata": {},
   "source": [
    "Data Wrangling Notebook for Famoso 2017 Supplemental Data 1\n",
    "<br />\n",
    "Neeka Sewnath\n",
    "<br />\n",
    "nsewnath@ufl.edu"
   ]
  },
  {
   "cell_type": "code",
   "execution_count": 20,
   "metadata": {},
   "outputs": [],
   "source": [
    "import pandas as pd\n",
    "import numpy as np\n",
    "import uuid"
   ]
  },
  {
   "cell_type": "markdown",
   "metadata": {},
   "source": [
    "Silence unnecessary errors"
   ]
  },
  {
   "cell_type": "code",
   "execution_count": 21,
   "metadata": {},
   "outputs": [],
   "source": [
    "try:\n",
    "    import warnings\n",
    "    warnings.filterwarnings('ignore')\n",
    "except:\n",
    "    pass"
   ]
  },
  {
   "cell_type": "markdown",
   "metadata": {},
   "source": [
    "Import Famoso 2017 data"
   ]
  },
  {
   "cell_type": "code",
   "execution_count": 22,
   "metadata": {},
   "outputs": [],
   "source": [
    "data = pd.read_csv(\"../Original_Data/Famoso_2017_Supplemental_Data_1.csv\")"
   ]
  },
  {
   "cell_type": "markdown",
   "metadata": {},
   "source": [
    "Process Specimen # by splitting into institutionCode, collectionCode, and catalogNumber"
   ]
  },
  {
   "cell_type": "code",
   "execution_count": 29,
   "metadata": {},
   "outputs": [
    {
     "ename": "SyntaxError",
     "evalue": "invalid character in identifier (<ipython-input-29-bdda9d2ce8d5>, line 10)",
     "output_type": "error",
     "traceback": [
      "\u001b[0;36m  File \u001b[0;32m\"<ipython-input-29-bdda9d2ce8d5>\"\u001b[0;36m, line \u001b[0;32m10\u001b[0m\n\u001b[0;31m    data[\"collectionCode\"][i] = string[1]\u001b[0m\n\u001b[0m                             ^\u001b[0m\n\u001b[0;31mSyntaxError\u001b[0m\u001b[0;31m:\u001b[0m invalid character in identifier\n"
     ]
    }
   ],
   "source": [
    "data = data.assign(institutionCode = \"\", collectionCode = \"\", catalogNumber = \"\")\n",
    "\n",
    "for i in data[\"Specimen #\"].index:\n",
    "    string = str(data[\"Specimen #\"][i]).split()\n",
    "    if len(string) == 2:\n",
    "        data[\"instutionCode\"][i] = string[0]\n",
    "        data[\"catalogNumber\"][i] = string[1]\n",
    "    elif len(string) == 3:\n",
    "        data[\"instutionCode\"][i] = string[0]\n",
    "        data[\"collectionCode\"][i] = string[1]\n",
    "        data[\"catalogNumber\"][i] = string[2]"
   ]
  },
  {
   "cell_type": "markdown",
   "metadata": {},
   "source": [
    "Add broken note to materialSampleCondition"
   ]
  },
  {
   "cell_type": "code",
   "execution_count": null,
   "metadata": {},
   "outputs": [],
   "source": [
    "def condition_correct(note): \n",
    "    \"\"\"Add broken to materialSampleCondition if found in notes column\"\"\"\n",
    "    if str(note).contains(\"broken\")\n",
    "        return \"broken\"\n",
    "    \n",
    "data = data.assign(\"materialSampleCondition\" = data['notes'].apply(condition_correction))"
   ]
  },
  {
   "cell_type": "markdown",
   "metadata": {},
   "source": [
    "Process basisOfRecord using information found in Famoso et al 2017 and dataset"
   ]
  },
  {
   "cell_type": "code",
   "execution_count": null,
   "metadata": {},
   "outputs": [],
   "source": [
    "def basis_correction(note): \n",
    "    \"\"\"Add broken to basisOfRecord if found in notes column, other wise assigns FossilSpecimens\"\"\"\n",
    "    if note = \"cast\"\n",
    "        return note\n",
    "    else:\n",
    "        return \"FossilSpecimen\"\n",
    "    \n",
    "data = data.assign(\"basisOfRecord\" = data['notes'].apply(basis_correction))"
   ]
  },
  {
   "cell_type": "markdown",
   "metadata": {},
   "source": [
    "Process scientificName and verbatimScientificName "
   ]
  },
  {
   "cell_type": "code",
   "execution_count": 6,
   "metadata": {},
   "outputs": [],
   "source": [
    "# Create verbatimScientificName (Leave out of final dataset for now)\n",
    "data = data.assign(verbatimScientificName = data['Genus'] + \" \" + data['species'])\n",
    " \n",
    "# Create scientificName from verbatimScientificName data and fill nan with \"Unknown\"\n",
    "data = data.assign(scientificName = data[\"verbatimScientificName\"]).fillna(\"Unknown\")"
   ]
  },
  {
   "cell_type": "markdown",
   "metadata": {},
   "source": [
    "Adding additional required GEOME columns"
   ]
  },
  {
   "cell_type": "code",
   "execution_count": 7,
   "metadata": {},
   "outputs": [],
   "source": [
    "data = data.assign(country = \"USA\", yearCollected = \"Unknown\")"
   ]
  },
  {
   "cell_type": "markdown",
   "metadata": {},
   "source": [
    "Set samplingProtocol and measurementMethod "
   ]
  },
  {
   "cell_type": "code",
   "execution_count": null,
   "metadata": {},
   "outputs": [],
   "source": [
    "citation = \"Famoso, N. A. (2017). Statistical analysis of dental variation in the oligocene EQUIDMIOHIPPUS(MAMMALIA, perissodactyla) of Oregon. Journal of Paleontology, 91(5), 1060-1068. doi:10.1017/jpa.2017.42\"\n",
    "\n",
    "data = data.assign(samplingProtocol = citation, measurementMethod = citation)"
   ]
  },
  {
   "cell_type": "markdown",
   "metadata": {},
   "source": [
    "Rearrange columns so that template columns are first, followed by measurement values"
   ]
  },
  {
   "cell_type": "code",
   "execution_count": 8,
   "metadata": {},
   "outputs": [],
   "source": [
    "# Create column list\n",
    "cols = data.columns.tolist()\n",
    "\n",
    "# Specify desired columns\n",
    "cols = ['Specimen #',\n",
    "        'Locality',\n",
    "        'notes',\n",
    "        'Formation',\n",
    "        'scientificName',\n",
    "        'samplingProtocol',\n",
    "        'measurementMethod',\n",
    "        'institutionCode',\n",
    "        'collectionCode',\n",
    "        'catalogNumber'\n",
    "        'member',\n",
    "        'materialSampleCondition'\n",
    "        'basisOfRecord']\n",
    "\n",
    "# Subset dataframe\n",
    "data = data[cols]"
   ]
  },
  {
   "cell_type": "markdown",
   "metadata": {},
   "source": [
    "Matching template and column terms"
   ]
  },
  {
   "cell_type": "code",
   "execution_count": 9,
   "metadata": {},
   "outputs": [],
   "source": [
    "# Renaming columns \n",
    "#TODO: fix Specimen #\n",
    "data = data.rename(columns = {'Locality':'verbatimLocality',\n",
    "                              'Formation':'formation',\n",
    "                              'Member':'member',\n",
    "                              'geologic subunit':'bed',\n",
    "                              'notes':'dynamicProperties'})"
   ]
  },
  {
   "cell_type": "markdown",
   "metadata": {},
   "source": [
    "Create necessary materialSampleID column and populate with UUID (use hex to remove dashes). "
   ]
  },
  {
   "cell_type": "code",
   "execution_count": 10,
   "metadata": {},
   "outputs": [],
   "source": [
    "data = data.assign(materialSampleID = '')\n",
    "data['materialSampleID'] = [uuid.uuid4().hex for _ in range(len(data.index))]"
   ]
  },
  {
   "cell_type": "markdown",
   "metadata": {},
   "source": [
    "Create a long version of the data frame"
   ]
  },
  {
   "cell_type": "code",
   "execution_count": 11,
   "metadata": {},
   "outputs": [],
   "source": [
    "# Creating long version, first specifiying keep variables, then naming variable and value\n",
    "longVers = pd.melt(data, \n",
    "                id_vars = ['individualID',\n",
    "                           'verbatimLocality',\n",
    "                           'country',\n",
    "                           'yearCollected',\n",
    "                           'scientificName',\n",
    "                           'samplingProtocol',\n",
    "                           'measurementMethod',\n",
    "                           'materialSampleCondition',\n",
    "                           'institutionCode',\n",
    "                           'collectionCode',\n",
    "                           'catalogNumber',\n",
    "                           'formation',\n",
    "                           'member',\n",
    "                           'bed',\n",
    "                           'basisOfRecord'], \n",
    "                            var_name = 'measurementType', \n",
    "                            value_name = 'measurementValue')"
   ]
  },
  {
   "cell_type": "markdown",
   "metadata": {},
   "source": [
    "Create diagnosticID which is a unique number for each measurement"
   ]
  },
  {
   "cell_type": "code",
   "execution_count": 12,
   "metadata": {},
   "outputs": [],
   "source": [
    "longVers = longVers.assign(diagnosticID = '')\n",
    "longVers['diagnosticID'] = np.arange(len(longVers))"
   ]
  },
  {
   "cell_type": "markdown",
   "metadata": {},
   "source": [
    "If measurement value equals N/a, delete entire row"
   ]
  },
  {
   "cell_type": "code",
   "execution_count": null,
   "metadata": {},
   "outputs": [],
   "source": [
    "longVers = longVers.dropna(subset = ['measurementValue'])"
   ]
  },
  {
   "cell_type": "markdown",
   "metadata": {},
   "source": [
    "Writing long data csv file"
   ]
  },
  {
   "cell_type": "code",
   "execution_count": null,
   "metadata": {},
   "outputs": [],
   "source": [
    "longVers.to_csv('../Mapped_Data/[].csv', index = False)"
   ]
  }
 ],
 "metadata": {
  "kernelspec": {
   "display_name": "Python 3",
   "language": "python",
   "name": "python3"
  },
  "language_info": {
   "codemirror_mode": {
    "name": "ipython",
    "version": 3
   },
   "file_extension": ".py",
   "mimetype": "text/x-python",
   "name": "python",
   "nbconvert_exporter": "python",
   "pygments_lexer": "ipython3",
   "version": "3.8.3"
  }
 },
 "nbformat": 4,
 "nbformat_minor": 4
}
