{
 "cells": [
  {
   "cell_type": "markdown",
   "metadata": {},
   "source": [
    "Data Wrangling Notebook for Bernor Equid dataset\n",
    "<br />\n",
    "Neeka Sewnath\n",
    "<br />\n",
    "nsewnath@ufl.edu"
   ]
  },
  {
   "cell_type": "code",
   "execution_count": 1,
   "metadata": {},
   "outputs": [],
   "source": [
    "import pandas as pd\n",
    "import numpy as np\n",
    "import uuid"
   ]
  },
  {
   "cell_type": "markdown",
   "metadata": {},
   "source": [
    "Silencing warnings that are unnecessary"
   ]
  },
  {
   "cell_type": "code",
   "execution_count": 2,
   "metadata": {},
   "outputs": [],
   "source": [
    "try:\n",
    "    import warnings\n",
    "    warnings.filterwarnings('ignore')\n",
    "except:\n",
    "    pass"
   ]
  },
  {
   "cell_type": "markdown",
   "metadata": {},
   "source": [
    "Read original data "
   ]
  },
  {
   "cell_type": "code",
   "execution_count": 3,
   "metadata": {},
   "outputs": [],
   "source": [
    "ray_data = pd.read_csv(\"../Original_Data/ToFuTRESVER_14_1_26_2021_REV_23.csv\")\n",
    "locality_data = pd.read_csv(\"../Original_Data/LOCAL_1_26_2021FuTRESPROTECTED2.csv\")"
   ]
  },
  {
   "cell_type": "markdown",
   "metadata": {},
   "source": [
    "Standardize 'SEX' column "
   ]
  },
  {
   "cell_type": "code",
   "execution_count": 4,
   "metadata": {},
   "outputs": [],
   "source": [
    "female = ray_data['SEX']==\"female\"\n",
    "male = ray_data['SEX'] == \"male\"\n",
    "ray_data['SEX'][(female == False)&(male==False)]=\"not collected\""
   ]
  },
  {
   "cell_type": "markdown",
   "metadata": {},
   "source": [
    "Standardize \"SIDE\" column"
   ]
  },
  {
   "cell_type": "code",
   "execution_count": 5,
   "metadata": {},
   "outputs": [],
   "source": [
    "# Clean up Side column \n",
    "right = ray_data['SIDE']==\"right\"\n",
    "left = ray_data['SIDE'] == \"left\"\n",
    "norecord = ray_data['SIDE'] == \"norecord\"\n",
    "ray_data['SIDE'][(female == False)&(male==False)(norecord == True)]= \"\""
   ]
  },
  {
   "cell_type": "markdown",
   "metadata": {},
   "source": [
    "Combine genus and species column to create verbatimScientificName column (not currently accepted in GEOME)"
   ]
  },
  {
   "cell_type": "code",
   "execution_count": 6,
   "metadata": {},
   "outputs": [],
   "source": [
    "# Leave out of final dataframe for now. Use to standardize scientificName\n",
    "ray_data = ray_data.assign(verbatimScientificName = ray_data['GENUS'] + \" \" + ray_data['SPECIES'])"
   ]
  },
  {
   "cell_type": "markdown",
   "metadata": {},
   "source": [
    "Create standardized species column and dynamic properties column"
   ]
  },
  {
   "cell_type": "code",
   "execution_count": 7,
   "metadata": {
    "scrolled": false
   },
   "outputs": [],
   "source": [
    "# Create Scientific Name column \n",
    "ray_data = ray_data.assign(scientificName = \"\")\n",
    "\n",
    "# Create Dynamic Properties Column\n",
    "ray_data = ray_data.assign(dynamicProperties = \"\")\n",
    "\n",
    "def type_name(name):\n",
    "    \"\"\"Transfer type specimen information to dynamicProperties\"\"\"\n",
    "    name = str(name).split()\n",
    "    if len(name) == 3:\n",
    "        if name[2] == \"T\":\n",
    "            return \"Type Specimen\"\n",
    "        else:\n",
    "            return \"\"\n",
    "\n",
    "# Begin cleaning scientificName\n",
    "#ray_data[\"scientificName\"]  = ray_data[\"verbatimScientificName\"].apply(clean_name) \n",
    "ray_data[\"scientificName\"]  = ray_data[\"verbatimScientificName\"]\n",
    "\n",
    "# Update dynamicProperties\n",
    "ray_data[\"dynamicProperties\"]  = ray_data[\"verbatimScientificName\"].apply(type_name)\n"
   ]
  },
  {
   "cell_type": "markdown",
   "metadata": {},
   "source": [
    "Create verbatimEventDate column and populate with data from DATE COLLECTED"
   ]
  },
  {
   "cell_type": "code",
   "execution_count": 8,
   "metadata": {},
   "outputs": [],
   "source": [
    "ray_data = ray_data.assign(verbatimEventDate = ray_data['DATE COLLECTED'])"
   ]
  },
  {
   "cell_type": "markdown",
   "metadata": {},
   "source": [
    "Create yearCollected column and populate it with isolated year from DATE COLLECTED"
   ]
  },
  {
   "cell_type": "code",
   "execution_count": 9,
   "metadata": {},
   "outputs": [],
   "source": [
    "ray_data = ray_data.assign(yearCollected = \"\")\n",
    "\n",
    "# Filtering out non-date entries\n",
    "date_filter=ray_data[\"verbatimEventDate\"].str.contains(\"Lower|Upper|Uppermost|Loc\")\n",
    "ray_data[\"yearCollected\"]=ray_data[\"verbatimEventDate\"][date_filter==False]\n",
    "\n",
    "# Isolating year\n",
    "ray_data['yearCollected'] = ray_data.yearCollected.str[-4:]\n",
    "ray_data['yearCollected'] = ray_data['yearCollected'].fillna(\"unknown\")"
   ]
  },
  {
   "cell_type": "markdown",
   "metadata": {},
   "source": [
    "Create individualID column and populate it with SPEC_ID"
   ]
  },
  {
   "cell_type": "code",
   "execution_count": 10,
   "metadata": {},
   "outputs": [],
   "source": [
    "ray_data = ray_data.assign(individualID = ray_data['SPEC_ID'])"
   ]
  },
  {
   "cell_type": "markdown",
   "metadata": {},
   "source": [
    "Create verbatimAgeValue columns and populate with AGE"
   ]
  },
  {
   "cell_type": "code",
   "execution_count": 11,
   "metadata": {},
   "outputs": [],
   "source": [
    "ray_data = ray_data.assign(verbatimAgeValue = ray_data['AGE'])"
   ]
  },
  {
   "cell_type": "markdown",
   "metadata": {},
   "source": [
    "Create minimumChronometricAge and maximumChronometricAge to handle age ranges"
   ]
  },
  {
   "cell_type": "code",
   "execution_count": null,
   "metadata": {},
   "outputs": [],
   "source": [
    "ray_data = ray_data.assign(minimumChronometricAge = \"\")\n",
    "ray_data = ray_data.assign(maximumChronometricAge = \"\")\n",
    "\n",
    "def define_min(age):\n",
    "    \"\"\"Finds the minimum of a given range\"\"\"\n",
    "    age = str(age).split(\"-\")\n",
    "    if age[0] > age[1]:\n",
    "        return age[1]\n",
    "    else:\n",
    "        return age[0]\n",
    "\n",
    "def define_max(age):\n",
    "    \"\"\"Finds the maximum of a given range\"\"\"\n",
    "    age = str(age).split(\"-\")\n",
    "    if age[0] < age[1]:\n",
    "        return age[1]\n",
    "    else:\n",
    "        return age[0]\n",
    "    \n",
    "\n",
    "ray_data['minimumChronometricAge'] = ray_data[\"verbatimAgeValue\"].apply(define_min)\n",
    "ray_data['maximumChronometricAge'] = ray_data[\"verbatimAgeValue\"].apply(define_max)"
   ]
  },
  {
   "cell_type": "markdown",
   "metadata": {},
   "source": [
    "Create minimumChronometricAgeReferenceSystem and maximumChronometricAgeReferenceSystem and populate with mya"
   ]
  },
  {
   "cell_type": "code",
   "execution_count": 30,
   "metadata": {},
   "outputs": [],
   "source": [
    "ray_data = ray_data.assign(minimumChronometricAgeReferenceSystem = \"mya\")\n",
    "ray_data = ray_data.assign(maximumChronometricAgeReferenceSystem = \"mya\")"
   ]
  },
  {
   "cell_type": "markdown",
   "metadata": {},
   "source": [
    "Add Country and Locality by matching to Locality sheet"
   ]
  },
  {
   "cell_type": "code",
   "execution_count": 12,
   "metadata": {},
   "outputs": [],
   "source": [
    "ray_data = ray_data.assign(country = \"\")\n",
    "ray_data = ray_data.assign(verbatimLocality = \"\")\n",
    "ray_data = ray_data.assign(ray_temp_locality = \"\")\n",
    "\n",
    "ray_data[\"COUNTRY\"] = ray_data[\"COUNTRY\"].apply(str)\n",
    "\n",
    "ray_data['ray_temp_locality'] = ray_data['COUNTRY']+\" \"+ ray_data['LOCALITY']\n",
    "locality_data['local_temp_locality'] = locality_data['COUNTRY No'] + \" \" + locality_data[\"LOCALITY No.\"]\n",
    "\n",
    "for i in ray_data.index:\n",
    "    for j in locality_data.index:\n",
    "        if ray_data['ray_temp_locality'][i] == locality_data['local_temp_locality'][j]:\n",
    "            ray_data[\"country\"][i] = locality_data[\"COUNTRYName\"][j]\n",
    "            ray_data[\"verbatimLocality\"][i] = locality_data[\"LOCALITYName\"][j]\n",
    "        else:\n",
    "            ray_data[\"country\"][i] = \"Unknown\"\n",
    "\n",
    "            \n",
    "ray_data['country']=ray_data['country'].replace({'Tibetan Plateau, Nepal':'Nepal'}) \n",
    "\n",
    "ray_data=ray_data.assign(locality= ray_data[\"verbatimLocality\"]).fillna(\"Unknown\")\n"
   ]
  },
  {
   "cell_type": "markdown",
   "metadata": {},
   "source": [
    "Select specified columns for final dataset"
   ]
  },
  {
   "cell_type": "code",
   "execution_count": 14,
   "metadata": {},
   "outputs": [],
   "source": [
    "# Create column list\n",
    "cols = ray_data.columns.tolist()\n",
    "\n",
    "# Specify desired columns\n",
    "cols = ['individualID',\n",
    "        'SEX',\n",
    "        'SIDE',\n",
    "        'scientificName',\n",
    "        'dynamicProperties',\n",
    "        'verbatimEventDate',\n",
    "        'yearCollected',\n",
    "        'verbatimAgeValue',\n",
    "        'verbatimLocality',\n",
    "        'locality',\n",
    "        'country',\n",
    "        'BONE',\n",
    "        'M1',\n",
    "        'M2',\n",
    "        'M3',\n",
    "        'M4',\n",
    "        'M5',\n",
    "        'M6',\n",
    "        'M7',\n",
    "        'M8',\n",
    "        'M9',\n",
    "        'M10',\n",
    "        'M11',\n",
    "        'M12',\n",
    "        'M13',\n",
    "        'M14',\n",
    "        'M15',\n",
    "        'M16',\n",
    "        ' M17',\n",
    "        'M18',\n",
    "        'M19',\n",
    "        'M20',\n",
    "        'M21',\n",
    "        'M22',\n",
    "        'M23',\n",
    "        'M24',\n",
    "        'M25',\n",
    "        'M26',\n",
    "        'M27',\n",
    "        'M28',\n",
    "        'M29',\n",
    "        'M30',\n",
    "        'M31',\n",
    "        'M32',\n",
    "        'M33',\n",
    "        'M34',\n",
    "        'M35',\n",
    "        'M36',\n",
    "        'M37',\n",
    "        'M38']\n",
    "\n",
    "# Subset dataframe\n",
    "ray_data = ray_data[cols]"
   ]
  },
  {
   "cell_type": "markdown",
   "metadata": {},
   "source": [
    "Matching template and column terms"
   ]
  },
  {
   "cell_type": "code",
   "execution_count": 15,
   "metadata": {},
   "outputs": [],
   "source": [
    "# Renaming columns \n",
    "ray_data = ray_data.rename(columns = {'SEX':'sex',\n",
    "                                      'SIDE':'side'})"
   ]
  },
  {
   "cell_type": "markdown",
   "metadata": {},
   "source": [
    "Create measurementUnit column (switched to mm, conversion will occur later)"
   ]
  },
  {
   "cell_type": "code",
   "execution_count": 16,
   "metadata": {},
   "outputs": [],
   "source": [
    "ray_data = ray_data.assign(measurementUnit = \"mm\")"
   ]
  },
  {
   "cell_type": "markdown",
   "metadata": {},
   "source": [
    "Create basisofRecord column and populate"
   ]
  },
  {
   "cell_type": "code",
   "execution_count": 17,
   "metadata": {},
   "outputs": [],
   "source": [
    "ray_data  =ray_data.assign(basisOfRecord = \"FossilSpecimen\")"
   ]
  },
  {
   "cell_type": "markdown",
   "metadata": {},
   "source": [
    "Fill in blanks for required columns "
   ]
  },
  {
   "cell_type": "code",
   "execution_count": 18,
   "metadata": {},
   "outputs": [],
   "source": [
    "ray_data=ray_data.assign(samplingProtocol=\"Unknown\")\n",
    "ray_data=ray_data.assign(measurementMethod=\"Unknown\")"
   ]
  },
  {
   "cell_type": "markdown",
   "metadata": {},
   "source": [
    "Create necessary materialSampleID column and populate with UUID (use hex to remove dashes). Create necessary eventID column and populate with materialSampleID column"
   ]
  },
  {
   "cell_type": "code",
   "execution_count": 19,
   "metadata": {},
   "outputs": [],
   "source": [
    "ray_data = ray_data.assign(materialSampleID = '')\n",
    "ray_data['materialSampleID'] = [uuid.uuid4().hex for _ in range(len(ray_data.index))]\n",
    "\n",
    "ray_data = ray_data.assign(eventID = ray_data[\"materialSampleID\"])"
   ]
  },
  {
   "cell_type": "markdown",
   "metadata": {},
   "source": [
    "Create a long version of the data frame"
   ]
  },
  {
   "cell_type": "code",
   "execution_count": 21,
   "metadata": {},
   "outputs": [],
   "source": [
    "longVers=pd.melt(ray_data, \n",
    "                id_vars=['individualID',\n",
    "                         'sex',\n",
    "                         'side',\n",
    "                         'scientificName',\n",
    "                         'dynamicProperties',\n",
    "                         'verbatimEventDate',\n",
    "                         'yearCollected',\n",
    "                         'verbatimAgeValue',\n",
    "                         'verbatimLocality',\n",
    "                         'locality',\n",
    "                         'country',\n",
    "                         'measurementUnit',\n",
    "                         'basisOfRecord',\n",
    "                         'samplingProtocol',\n",
    "                         'measurementMethod',\n",
    "                         'materialSampleID',\n",
    "                         'eventID',\n",
    "                         'BONE'], \n",
    "                var_name = 'measurementType', \n",
    "                value_name = 'measurementValue')"
   ]
  },
  {
   "cell_type": "markdown",
   "metadata": {},
   "source": [
    "Create new measurementType column by combining BONE and measurementType column"
   ]
  },
  {
   "cell_type": "code",
   "execution_count": 22,
   "metadata": {},
   "outputs": [],
   "source": [
    "longVers['measurementType'] = longVers['BONE'] + longVers['measurementType']"
   ]
  },
  {
   "cell_type": "markdown",
   "metadata": {},
   "source": [
    "Remove unnecessary BONE columnn"
   ]
  },
  {
   "cell_type": "code",
   "execution_count": 23,
   "metadata": {},
   "outputs": [],
   "source": [
    "del longVers['BONE']"
   ]
  },
  {
   "cell_type": "markdown",
   "metadata": {},
   "source": [
    "Filter out the GEOME measurements"
   ]
  },
  {
   "cell_type": "code",
   "execution_count": 24,
   "metadata": {},
   "outputs": [],
   "source": [
    "correct_element_filter = longVers[\"measurementType\"].str.match(\"femurM1|femurM2|humerusM1|humerusM2|calcaneumM1|calcaneumM6|astragalusM3|astragalusM7\")\n",
    "incorrect_filter = longVers[\"measurementType\"].str.contains(\"M10|M11|M12|M13|M14|M15|M16|M17|M18|M19|M20|M21|M22|M23|M24|M25|M26|M27|M28|M29|M30|M31|M32|M33|M34|M35|M36|M37|M38\")\n",
    "longVers=longVers[correct_element_filter==True][incorrect_filter==False]"
   ]
  },
  {
   "cell_type": "markdown",
   "metadata": {},
   "source": [
    "Renaming measurementType values"
   ]
  },
  {
   "cell_type": "code",
   "execution_count": 25,
   "metadata": {},
   "outputs": [],
   "source": [
    "longVers['measurementType']=longVers['measurementType'].replace({'femurM1': 'femur length to greater trochanter', \n",
    "                                                                 'femurM2': 'femur length to head of femur', \n",
    "                                                                 'humerusM1': 'humerus length to ventral tubercle', \n",
    "                                                                 'humerusM2': 'humerus length to caput of humerus',\n",
    "                                                                 'astragalusM3':'breadth of the trochlea of talus',\n",
    "                                                                 #'astragalusM4':'talus breadth',\n",
    "                                                                 #'astraglausM2':'length of medial trochlea of talus',\n",
    "                                                                 'astragalusM7':'depth of the medial side of talus',\n",
    "                                                                 #'astragalusM1':'astragalus length',\n",
    "                                                                 'calcaneumM1' : 'calcaneus length',\n",
    "                                                                 'calcaneumM6' : 'calcaneus breadth'\n",
    "                                                                 #'astragalusM1':'length of the medial side of talus'\n",
    "                                                                 #'astragalusM5':'distal articular breadth of talus',\n",
    "                                                                 #'astragalusM6':'distal articular depth of talus'\n",
    "                                                                 })\n"
   ]
  },
  {
   "cell_type": "markdown",
   "metadata": {},
   "source": [
    "Create diagnosticID which is a unique number for each measurement"
   ]
  },
  {
   "cell_type": "code",
   "execution_count": 26,
   "metadata": {},
   "outputs": [],
   "source": [
    "longVers=longVers.assign(diagnosticID = '')\n",
    "longVers['diagnosticID'] = np.arange(len(longVers))"
   ]
  },
  {
   "cell_type": "markdown",
   "metadata": {},
   "source": [
    "Fix up measurementValue entrie"
   ]
  },
  {
   "cell_type": "code",
   "execution_count": 27,
   "metadata": {},
   "outputs": [],
   "source": [
    "zero_values=longVers[\"measurementValue\"]==\"0\"\n",
    "blanks = longVers[\"measurementValue\"] ==\"\"\n",
    "unknown = longVers[\"measurementValue\"] == \"Unknown\"\n",
    "locality_blanks = longVers[\"locality\"]==\"\"\n",
    "\n",
    "longVers[\"measurementValue\"]=longVers[\"measurementValue\"][zero_values==False][blanks==False][unknown == False]\n",
    "longVers[\"locality\"][locality_blanks]=\"unknown\""
   ]
  },
  {
   "cell_type": "markdown",
   "metadata": {},
   "source": [
    "If measurement value equals N/a, delete entire row"
   ]
  },
  {
   "cell_type": "code",
   "execution_count": 28,
   "metadata": {},
   "outputs": [],
   "source": [
    "longVers = longVers.dropna(subset=['measurementValue'])"
   ]
  },
  {
   "cell_type": "markdown",
   "metadata": {},
   "source": [
    "Writing long data csv file"
   ]
  },
  {
   "cell_type": "code",
   "execution_count": 29,
   "metadata": {},
   "outputs": [],
   "source": [
    "longVers.to_csv('../Mapped_Data/FuTRES_Equid_Bernor_Global_Cenozoic.csv', index = False);"
   ]
  }
 ],
 "metadata": {
  "kernelspec": {
   "display_name": "Python 3",
   "language": "python",
   "name": "python3"
  },
  "language_info": {
   "codemirror_mode": {
    "name": "ipython",
    "version": 3
   },
   "file_extension": ".py",
   "mimetype": "text/x-python",
   "name": "python",
   "nbconvert_exporter": "python",
   "pygments_lexer": "ipython3",
   "version": "3.8.3"
  }
 },
 "nbformat": 4,
 "nbformat_minor": 2
}
