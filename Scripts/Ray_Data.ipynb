{
 "cells": [
  {
   "cell_type": "markdown",
   "metadata": {},
   "source": [
    "Data Wrangling Notebook for Bernor Equid dataset\n",
    "<br />\n",
    "Neeka Sewnath\n",
    "<br />\n",
    "nsewnath@ufl.edu"
   ]
  },
  {
   "cell_type": "code",
   "execution_count": 1,
   "metadata": {},
   "outputs": [],
   "source": [
    "import pandas as pd\n",
    "import numpy as np\n",
    "import uuid"
   ]
  },
  {
   "cell_type": "markdown",
   "metadata": {},
   "source": [
    "Silencing warnings that are unnecessary"
   ]
  },
  {
   "cell_type": "code",
   "execution_count": 2,
   "metadata": {},
   "outputs": [],
   "source": [
    "try:\n",
    "    import warnings\n",
    "    warnings.filterwarnings('ignore')\n",
    "except:\n",
    "    pass"
   ]
  },
  {
   "cell_type": "markdown",
   "metadata": {},
   "source": [
    "Read original data "
   ]
  },
  {
   "cell_type": "code",
   "execution_count": 3,
   "metadata": {},
   "outputs": [],
   "source": [
    "ray_data = pd.read_csv(\"../Original_Data/ToFuTRESVER_14_1_26_2021_REV_23.csv\")\n",
    "locality_data = pd.read_csv(\"../Original_Data/LOCAL_1_26_2021FuTRESPROTECTED2.csv\")"
   ]
  },
  {
   "cell_type": "markdown",
   "metadata": {},
   "source": [
    "Standardize 'SEX' column "
   ]
  },
  {
   "cell_type": "code",
   "execution_count": 4,
   "metadata": {},
   "outputs": [],
   "source": [
    "female = ray_data['SEX']==\"female\"\n",
    "male = ray_data['SEX'] == \"male\"\n",
    "ray_data['SEX'][(female == False)&(male==False)]=\"not collected\""
   ]
  },
  {
   "cell_type": "markdown",
   "metadata": {},
   "source": [
    "Standardize \"SIDE\" column"
   ]
  },
  {
   "cell_type": "code",
   "execution_count": 5,
   "metadata": {},
   "outputs": [],
   "source": [
    "# Clean up Side column \n",
    "right = ray_data['SIDE']==\"right\"\n",
    "left = ray_data['SIDE'] == \"left\"\n",
    "ray_data['SIDE'][(female == False)&(male==False)]=\"not collected\""
   ]
  },
  {
   "cell_type": "markdown",
   "metadata": {},
   "source": [
    "Combine genus and species column to create verbatimScientificName column (not currently accepted in GEOME)"
   ]
  },
  {
   "cell_type": "code",
   "execution_count": 6,
   "metadata": {},
   "outputs": [],
   "source": [
    "# Leave out of final dataframe for now. Use to standardize scientificName\n",
    "ray_data = ray_data.assign(verbatimScientificName = ray_data['GENUS'] + \" \" + ray_data['SPECIES'])"
   ]
  },
  {
   "cell_type": "markdown",
   "metadata": {},
   "source": [
    "Create standardized species column and dynamic properties column"
   ]
  },
  {
   "cell_type": "code",
   "execution_count": 11,
   "metadata": {
    "scrolled": false
   },
   "outputs": [],
   "source": [
    "# Create Scientific Name column \n",
    "ray_data = ray_data.assign(scientificName = \"\")\n",
    "\n",
    "# Create Dynamic Properties Column\n",
    "ray_data = ray_data.assign(dynamicProperties = \"\")\n",
    "\n",
    "\n",
    "def clean_name(name):\n",
    "    \"\"\"Converts scientific name to binomial nomenclature format\"\"\"\n",
    "    str_name = str(name).split()\n",
    "    \n",
    "    if len(str_name) == 3:        \n",
    "        if str_name[2] == \"L\" or str_name[2] == \"T\" : \n",
    "            return \" \".join(str_name[:-1])            \n",
    "            \n",
    "\n",
    "def type_name(name):\n",
    "    \"\"\"Transfer type specimen information to dynamicProperties\"\"\"\n",
    "    name = str(name).split()\n",
    "    if len(name) == 3:\n",
    "        if name[2] == \"T\":\n",
    "            return \"Type Specimen\"\n",
    "\n",
    "# Begin cleaning scientificName\n",
    "ray_data[\"scientificName\"]  = ray_data[\"verbatimScientificName\"].apply(clean_name) \n",
    "\n",
    "# Update dynamicProperties\n",
    "ray_data[\"dynamicProperties\"]  = ray_data[\"verbatimScientificName\"].apply(type_name)\n"
   ]
  },
  {
   "cell_type": "markdown",
   "metadata": {},
   "source": [
    "Create verbatimEventDate column and populate with data from DATE COLLECTED"
   ]
  },
  {
   "cell_type": "code",
   "execution_count": 12,
   "metadata": {},
   "outputs": [],
   "source": [
    "ray_data = ray_data.assign(verbatimEventDate = ray_data['DATE COLLECTED'])"
   ]
  },
  {
   "cell_type": "markdown",
   "metadata": {},
   "source": [
    "Create yearCollected column and populate it with isolated year from DATE COLLECTED"
   ]
  },
  {
   "cell_type": "code",
   "execution_count": 13,
   "metadata": {},
   "outputs": [],
   "source": [
    "ray_data = ray_data.assign(yearCollected = \"\")\n",
    "\n",
    "# Filtering out non-date entries\n",
    "date_filter=ray_data[\"verbatimEventDate\"].str.contains(\"Lower|Upper|Uppermost|Loc\")\n",
    "ray_data[\"yearCollected\"]=ray_data[\"verbatimEventDate\"][date_filter==False]\n",
    "\n",
    "# Isolating year\n",
    "ray_data['yearCollected'] = ray_data.yearCollected.str[-4:]\n",
    "ray_data['yearCollected'] = ray_data['yearCollected'].fillna(\"unknown\")"
   ]
  },
  {
   "cell_type": "markdown",
   "metadata": {},
   "source": [
    "Create individualID column and populate it with SPEC_ID"
   ]
  },
  {
   "cell_type": "code",
   "execution_count": 14,
   "metadata": {},
   "outputs": [],
   "source": [
    "ray_data = ray_data.assign(individualID = ray_data['SPEC_ID'])"
   ]
  },
  {
   "cell_type": "markdown",
   "metadata": {},
   "source": [
    "Create verbatimAgeValue columns and populate with AGE"
   ]
  },
  {
   "cell_type": "code",
   "execution_count": 15,
   "metadata": {},
   "outputs": [],
   "source": [
    "ray_data = ray_data.assign(verbatimAgeValue = ray_data['AGE'])"
   ]
  },
  {
   "cell_type": "markdown",
   "metadata": {},
   "source": [
    "Add Country and Locality by matching to Locality sheet"
   ]
  },
  {
   "cell_type": "code",
   "execution_count": null,
   "metadata": {},
   "outputs": [],
   "source": [
    "ray_data = ray_data.assign(country = \"\")\n",
    "ray_data = ray_data.assign(verbatimLocality = \"\")\n",
    "ray_data = ray_data.assign(ray_temp_locality = \"\")\n",
    "\n",
    "ray_data[\"COUNTRY\"] = ray_data[\"COUNTRY\"].apply(str)\n",
    "\n",
    "ray_data['ray_temp_locality'] = ray_data['COUNTRY']+\" \"+ ray_data['LOCALITY']\n",
    "locality_data['local_temp_locality'] = locality_data['COUNTRY No'] + \" \" + locality_data[\"LOCALITY No.\"]\n",
    "\n",
    "for i in ray_data.index:\n",
    "    for j in locality_data.index:\n",
    "        if ray_data['ray_temp_locality'][i] == locality_data['local_temp_locality'][j]:\n",
    "            ray_data[\"country\"][i] = locality_data[\"COUNTRYName\"][j]\n",
    "            ray_data[\"verbatimLocality\"][i] = locality_data[\"LOCALITYName\"][j]\n",
    "        else:\n",
    "            ray_data[\"country\"][i] = \"Unknown\"\n",
    "\n",
    "            \n",
    "ray_data['country']=ray_data['country'].replace({'Tibetan Plateau, Nepal':'Nepal'}) \n",
    "\n",
    "ray_data=ray_data.assign(locality= ray_data[\"verbatimLocality\"]).fillna(\"Unknown\")\n"
   ]
  },
  {
   "cell_type": "markdown",
   "metadata": {},
   "source": [
    "Select specified columns for final dataset"
   ]
  },
  {
   "cell_type": "code",
   "execution_count": 95,
   "metadata": {},
   "outputs": [],
   "source": [
    "# Create column list\n",
    "cols = ray_data.columns.tolist()\n",
    "\n",
    "# Specify desired columns\n",
    "cols = ['individualID',\n",
    "        'SEX',\n",
    "        'SIDE',\n",
    "        'scientificName',\n",
    "        'dynamicProperties',\n",
    "        'verbatimEventDate',\n",
    "        'yearCollected',\n",
    "        'verbatimAgeValue',\n",
    "        'minimumChronometricAge',\n",
    "        'maximumChronometricAge',\n",
    "        'minimumChronometricAgeReferenceSystem',\n",
    "        'maximumChronometricAgeReferenceSystem',\n",
    "        'verbatimLocality',\n",
    "        'locality',\n",
    "        'country',\n",
    "        'BONE',\n",
    "        'M1',\n",
    "        'M2',\n",
    "        'M3',\n",
    "        'M4',\n",
    "        'M5',\n",
    "        'M6',\n",
    "        'M7',\n",
    "        'M8',\n",
    "        'M9',\n",
    "        'M10',\n",
    "        'M11',\n",
    "        'M12',\n",
    "        'M13',\n",
    "        'M14',\n",
    "        'M15',\n",
    "        'M16',\n",
    "        ' M17',\n",
    "        'M18',\n",
    "        'M19',\n",
    "        'M20',\n",
    "        'M21',\n",
    "        'M22',\n",
    "        'M23',\n",
    "        'M24',\n",
    "        'M25',\n",
    "        'M26',\n",
    "        'M27',\n",
    "        'M28',\n",
    "        'M29',\n",
    "        'M30',\n",
    "        'M31',\n",
    "        'M32',\n",
    "        'M33',\n",
    "        'M34',\n",
    "        'M35',\n",
    "        'M36',\n",
    "        'M37',\n",
    "        'M38']\n",
    "\n",
    "# Subset dataframe\n",
    "ray_data = ray_data[cols]"
   ]
  },
  {
   "cell_type": "markdown",
   "metadata": {},
   "source": [
    "Matching template and column terms"
   ]
  },
  {
   "cell_type": "code",
   "execution_count": 96,
   "metadata": {},
   "outputs": [],
   "source": [
    "# Renaming columns \n",
    "ray_data = ray_data.rename(columns = {'SEX':'sex',\n",
    "                                      'SIDE':'side'})"
   ]
  },
  {
   "cell_type": "markdown",
   "metadata": {},
   "source": [
    "Create measurementUnit column (switched to mm, conversion will occur later)"
   ]
  },
  {
   "cell_type": "code",
   "execution_count": 97,
   "metadata": {},
   "outputs": [],
   "source": [
    "ray_data = ray_data.assign(measurementUnit = \"mm\")"
   ]
  },
  {
   "cell_type": "markdown",
   "metadata": {},
   "source": [
    "Create basisofRecord column and populate"
   ]
  },
  {
   "cell_type": "code",
   "execution_count": 98,
   "metadata": {},
   "outputs": [],
   "source": [
    "ray_data  =ray_data.assign(basisOfRecord = \"FossilSpecimen\")"
   ]
  },
  {
   "cell_type": "markdown",
   "metadata": {},
   "source": [
    "Fill in blanks for required columns "
   ]
  },
  {
   "cell_type": "code",
   "execution_count": 99,
   "metadata": {},
   "outputs": [],
   "source": [
    "ray_data=ray_data.assign(samplingProtocol=\"Unknown\")\n",
    "ray_data=ray_data.assign(measurementMethod=\"Unknown\")"
   ]
  },
  {
   "cell_type": "markdown",
   "metadata": {},
   "source": [
    "Create necessary materialSampleID column and populate with UUID (use hex to remove dashes). Create necessary eventID column and populate with materialSampleID column"
   ]
  },
  {
   "cell_type": "code",
   "execution_count": 100,
   "metadata": {},
   "outputs": [],
   "source": [
    "ray_data = ray_data.assign(materialSampleID = '')\n",
    "ray_data['materialSampleID'] = [uuid.uuid4().hex for _ in range(len(ray_data.index))]\n",
    "\n",
    "ray_data = ray_data.assign(eventID = ray_data[\"materialSampleID\"])"
   ]
  },
  {
   "cell_type": "markdown",
   "metadata": {},
   "source": [
    "Create a long version of the data frame"
   ]
  },
  {
   "cell_type": "code",
   "execution_count": 101,
   "metadata": {},
   "outputs": [
    {
     "data": {
      "text/html": [
       "<div>\n",
       "<style scoped>\n",
       "    .dataframe tbody tr th:only-of-type {\n",
       "        vertical-align: middle;\n",
       "    }\n",
       "\n",
       "    .dataframe tbody tr th {\n",
       "        vertical-align: top;\n",
       "    }\n",
       "\n",
       "    .dataframe thead th {\n",
       "        text-align: right;\n",
       "    }\n",
       "</style>\n",
       "<table border=\"1\" class=\"dataframe\">\n",
       "  <thead>\n",
       "    <tr style=\"text-align: right;\">\n",
       "      <th></th>\n",
       "      <th>individualID</th>\n",
       "      <th>sex</th>\n",
       "      <th>side</th>\n",
       "      <th>scientificName</th>\n",
       "      <th>verbatimEventDate</th>\n",
       "      <th>yearCollected</th>\n",
       "      <th>verbatimAgeValue</th>\n",
       "      <th>minimumChronometricAge</th>\n",
       "      <th>maximumChronometricAge</th>\n",
       "      <th>minimumChronometricAgeReferenceSystem</th>\n",
       "      <th>...</th>\n",
       "      <th>country</th>\n",
       "      <th>measurementUnit</th>\n",
       "      <th>basisOfRecord</th>\n",
       "      <th>samplingProtocol</th>\n",
       "      <th>measurementMethod</th>\n",
       "      <th>materialSampleID</th>\n",
       "      <th>eventID</th>\n",
       "      <th>BONE</th>\n",
       "      <th>measurementType</th>\n",
       "      <th>measurementValue</th>\n",
       "    </tr>\n",
       "  </thead>\n",
       "  <tbody>\n",
       "    <tr>\n",
       "      <th>0</th>\n",
       "      <td>SMNS1508</td>\n",
       "      <td>not collected</td>\n",
       "      <td>not collected</td>\n",
       "      <td>Equus quagga</td>\n",
       "      <td>Unknown</td>\n",
       "      <td>unknown</td>\n",
       "      <td>0.0</td>\n",
       "      <td></td>\n",
       "      <td></td>\n",
       "      <td>mya</td>\n",
       "      <td>...</td>\n",
       "      <td>Unknown</td>\n",
       "      <td>in</td>\n",
       "      <td>FossilSpecimen</td>\n",
       "      <td>Unknown</td>\n",
       "      <td>Unknown</td>\n",
       "      <td>e8268688_7317_4c38_a561_414e03d5fd8d</td>\n",
       "      <td>e8268688_7317_4c38_a561_414e03d5fd8d</td>\n",
       "      <td>a1ph3</td>\n",
       "      <td>M1</td>\n",
       "      <td>77.2</td>\n",
       "    </tr>\n",
       "    <tr>\n",
       "      <th>1</th>\n",
       "      <td>SMNS7335</td>\n",
       "      <td>male</td>\n",
       "      <td>unknown</td>\n",
       "      <td>Equus quagga</td>\n",
       "      <td>Unknown</td>\n",
       "      <td>unknown</td>\n",
       "      <td>0.0</td>\n",
       "      <td></td>\n",
       "      <td></td>\n",
       "      <td>mya</td>\n",
       "      <td>...</td>\n",
       "      <td>Unknown</td>\n",
       "      <td>in</td>\n",
       "      <td>FossilSpecimen</td>\n",
       "      <td>Unknown</td>\n",
       "      <td>Unknown</td>\n",
       "      <td>8cee7142_036d_4b52_80cc_5be52c76697a</td>\n",
       "      <td>8cee7142_036d_4b52_80cc_5be52c76697a</td>\n",
       "      <td>a2ph3</td>\n",
       "      <td>M1</td>\n",
       "      <td>39.4</td>\n",
       "    </tr>\n",
       "    <tr>\n",
       "      <th>2</th>\n",
       "      <td>SMNS1508</td>\n",
       "      <td>not collected</td>\n",
       "      <td>not collected</td>\n",
       "      <td>Equus quagga</td>\n",
       "      <td>Unknown</td>\n",
       "      <td>unknown</td>\n",
       "      <td>0.0</td>\n",
       "      <td></td>\n",
       "      <td></td>\n",
       "      <td>mya</td>\n",
       "      <td>...</td>\n",
       "      <td>Unknown</td>\n",
       "      <td>in</td>\n",
       "      <td>FossilSpecimen</td>\n",
       "      <td>Unknown</td>\n",
       "      <td>Unknown</td>\n",
       "      <td>59ed168b_2be5_44ed_b607_7f34b2b362d0</td>\n",
       "      <td>59ed168b_2be5_44ed_b607_7f34b2b362d0</td>\n",
       "      <td>astragalus</td>\n",
       "      <td>M1</td>\n",
       "      <td>55.7</td>\n",
       "    </tr>\n",
       "    <tr>\n",
       "      <th>3</th>\n",
       "      <td>SMNS1508</td>\n",
       "      <td>not collected</td>\n",
       "      <td>not collected</td>\n",
       "      <td>Equus quagga</td>\n",
       "      <td>Unknown</td>\n",
       "      <td>unknown</td>\n",
       "      <td>0.0</td>\n",
       "      <td></td>\n",
       "      <td></td>\n",
       "      <td>mya</td>\n",
       "      <td>...</td>\n",
       "      <td>Unknown</td>\n",
       "      <td>in</td>\n",
       "      <td>FossilSpecimen</td>\n",
       "      <td>Unknown</td>\n",
       "      <td>Unknown</td>\n",
       "      <td>6608088a_645d_4319_bbef_6b176ffcb720</td>\n",
       "      <td>6608088a_645d_4319_bbef_6b176ffcb720</td>\n",
       "      <td>calcaneum</td>\n",
       "      <td>M1</td>\n",
       "      <td>101.9</td>\n",
       "    </tr>\n",
       "    <tr>\n",
       "      <th>4</th>\n",
       "      <td>SMNS7335</td>\n",
       "      <td>male</td>\n",
       "      <td>unknown</td>\n",
       "      <td>Equus quagga</td>\n",
       "      <td>Unknown</td>\n",
       "      <td>unknown</td>\n",
       "      <td>0.0</td>\n",
       "      <td></td>\n",
       "      <td></td>\n",
       "      <td>mya</td>\n",
       "      <td>...</td>\n",
       "      <td>Unknown</td>\n",
       "      <td>in</td>\n",
       "      <td>FossilSpecimen</td>\n",
       "      <td>Unknown</td>\n",
       "      <td>Unknown</td>\n",
       "      <td>953f4264_be2e_4d77_8cc0_5c25781d4dda</td>\n",
       "      <td>953f4264_be2e_4d77_8cc0_5c25781d4dda</td>\n",
       "      <td>femur</td>\n",
       "      <td>M1</td>\n",
       "      <td>357.0</td>\n",
       "    </tr>\n",
       "    <tr>\n",
       "      <th>...</th>\n",
       "      <td>...</td>\n",
       "      <td>...</td>\n",
       "      <td>...</td>\n",
       "      <td>...</td>\n",
       "      <td>...</td>\n",
       "      <td>...</td>\n",
       "      <td>...</td>\n",
       "      <td>...</td>\n",
       "      <td>...</td>\n",
       "      <td>...</td>\n",
       "      <td>...</td>\n",
       "      <td>...</td>\n",
       "      <td>...</td>\n",
       "      <td>...</td>\n",
       "      <td>...</td>\n",
       "      <td>...</td>\n",
       "      <td>...</td>\n",
       "      <td>...</td>\n",
       "      <td>...</td>\n",
       "      <td>...</td>\n",
       "      <td>...</td>\n",
       "    </tr>\n",
       "    <tr>\n",
       "      <th>807267</th>\n",
       "      <td>USNM541427</td>\n",
       "      <td>female</td>\n",
       "      <td>left</td>\n",
       "      <td>Equus hemionus</td>\n",
       "      <td>10-Jul-1981</td>\n",
       "      <td>1981</td>\n",
       "      <td>0.0</td>\n",
       "      <td></td>\n",
       "      <td></td>\n",
       "      <td>mya</td>\n",
       "      <td>...</td>\n",
       "      <td>Unknown</td>\n",
       "      <td>in</td>\n",
       "      <td>FossilSpecimen</td>\n",
       "      <td>Unknown</td>\n",
       "      <td>Unknown</td>\n",
       "      <td>fed0c549_4bca_46a1_9123_3378e8cf4206</td>\n",
       "      <td>fed0c549_4bca_46a1_9123_3378e8cf4206</td>\n",
       "      <td>txP4</td>\n",
       "      <td>M38</td>\n",
       "      <td>Unknown</td>\n",
       "    </tr>\n",
       "    <tr>\n",
       "      <th>807268</th>\n",
       "      <td>MSNAF2842</td>\n",
       "      <td>not collected</td>\n",
       "      <td>not collected</td>\n",
       "      <td>\"Hipparion\" sp.</td>\n",
       "      <td>Unknown</td>\n",
       "      <td>unknown</td>\n",
       "      <td>0.0</td>\n",
       "      <td></td>\n",
       "      <td></td>\n",
       "      <td>mya</td>\n",
       "      <td>...</td>\n",
       "      <td>Unknown</td>\n",
       "      <td>in</td>\n",
       "      <td>FossilSpecimen</td>\n",
       "      <td>Unknown</td>\n",
       "      <td>Unknown</td>\n",
       "      <td>7ea0896f_7dfb_42f8_88eb_4b9fd31d9062</td>\n",
       "      <td>7ea0896f_7dfb_42f8_88eb_4b9fd31d9062</td>\n",
       "      <td>txP3</td>\n",
       "      <td>M38</td>\n",
       "      <td>Unknown</td>\n",
       "    </tr>\n",
       "    <tr>\n",
       "      <th>807269</th>\n",
       "      <td>MSNAF2842</td>\n",
       "      <td>not collected</td>\n",
       "      <td>not collected</td>\n",
       "      <td>\"Hipparion\" sp.</td>\n",
       "      <td>Unknown</td>\n",
       "      <td>unknown</td>\n",
       "      <td>0.0</td>\n",
       "      <td></td>\n",
       "      <td></td>\n",
       "      <td>mya</td>\n",
       "      <td>...</td>\n",
       "      <td>Unknown</td>\n",
       "      <td>in</td>\n",
       "      <td>FossilSpecimen</td>\n",
       "      <td>Unknown</td>\n",
       "      <td>Unknown</td>\n",
       "      <td>71443f16_90d1_49b0_af1f_c5eec651a72b</td>\n",
       "      <td>71443f16_90d1_49b0_af1f_c5eec651a72b</td>\n",
       "      <td>txP4</td>\n",
       "      <td>M38</td>\n",
       "      <td>Unknown</td>\n",
       "    </tr>\n",
       "    <tr>\n",
       "      <th>807270</th>\n",
       "      <td>USNM241009</td>\n",
       "      <td>male</td>\n",
       "      <td>left</td>\n",
       "      <td>Equus grevyi</td>\n",
       "      <td>9-Oct-1925</td>\n",
       "      <td>1925</td>\n",
       "      <td>0.0</td>\n",
       "      <td></td>\n",
       "      <td></td>\n",
       "      <td>mya</td>\n",
       "      <td>...</td>\n",
       "      <td>Unknown</td>\n",
       "      <td>in</td>\n",
       "      <td>FossilSpecimen</td>\n",
       "      <td>Unknown</td>\n",
       "      <td>Unknown</td>\n",
       "      <td>dba7c312_5b8a_4762_bac3_27f7b64cd4e3</td>\n",
       "      <td>dba7c312_5b8a_4762_bac3_27f7b64cd4e3</td>\n",
       "      <td>tml1</td>\n",
       "      <td>M38</td>\n",
       "      <td>Unknown</td>\n",
       "    </tr>\n",
       "    <tr>\n",
       "      <th>807271</th>\n",
       "      <td>Unknown</td>\n",
       "      <td>not collected</td>\n",
       "      <td>not collected</td>\n",
       "      <td>unknown</td>\n",
       "      <td>Unknown</td>\n",
       "      <td>unknown</td>\n",
       "      <td>Unknown</td>\n",
       "      <td></td>\n",
       "      <td></td>\n",
       "      <td>mya</td>\n",
       "      <td>...</td>\n",
       "      <td>Unknown</td>\n",
       "      <td>in</td>\n",
       "      <td>FossilSpecimen</td>\n",
       "      <td>Unknown</td>\n",
       "      <td>Unknown</td>\n",
       "      <td>acf9978c_4a29_4c82_8b22_47120a5a0573</td>\n",
       "      <td>acf9978c_4a29_4c82_8b22_47120a5a0573</td>\n",
       "      <td>Unknown</td>\n",
       "      <td>M38</td>\n",
       "      <td>Unknown</td>\n",
       "    </tr>\n",
       "  </tbody>\n",
       "</table>\n",
       "<p>807272 rows × 23 columns</p>\n",
       "</div>"
      ],
      "text/plain": [
       "       individualID            sex           side   scientificName  \\\n",
       "0          SMNS1508  not collected  not collected     Equus quagga   \n",
       "1          SMNS7335           male        unknown     Equus quagga   \n",
       "2          SMNS1508  not collected  not collected     Equus quagga   \n",
       "3          SMNS1508  not collected  not collected     Equus quagga   \n",
       "4          SMNS7335           male        unknown     Equus quagga   \n",
       "...             ...            ...            ...              ...   \n",
       "807267   USNM541427         female           left   Equus hemionus   \n",
       "807268    MSNAF2842  not collected  not collected  \"Hipparion\" sp.   \n",
       "807269    MSNAF2842  not collected  not collected  \"Hipparion\" sp.   \n",
       "807270   USNM241009           male           left     Equus grevyi   \n",
       "807271      Unknown  not collected  not collected          unknown   \n",
       "\n",
       "       verbatimEventDate yearCollected verbatimAgeValue  \\\n",
       "0                Unknown       unknown              0.0   \n",
       "1                Unknown       unknown              0.0   \n",
       "2                Unknown       unknown              0.0   \n",
       "3                Unknown       unknown              0.0   \n",
       "4                Unknown       unknown              0.0   \n",
       "...                  ...           ...              ...   \n",
       "807267       10-Jul-1981          1981              0.0   \n",
       "807268           Unknown       unknown              0.0   \n",
       "807269           Unknown       unknown              0.0   \n",
       "807270        9-Oct-1925          1925              0.0   \n",
       "807271           Unknown       unknown          Unknown   \n",
       "\n",
       "       minimumChronometricAge maximumChronometricAge  \\\n",
       "0                                                      \n",
       "1                                                      \n",
       "2                                                      \n",
       "3                                                      \n",
       "4                                                      \n",
       "...                       ...                    ...   \n",
       "807267                                                 \n",
       "807268                                                 \n",
       "807269                                                 \n",
       "807270                                                 \n",
       "807271                                                 \n",
       "\n",
       "       minimumChronometricAgeReferenceSystem  ...  country measurementUnit  \\\n",
       "0                                        mya  ...  Unknown              in   \n",
       "1                                        mya  ...  Unknown              in   \n",
       "2                                        mya  ...  Unknown              in   \n",
       "3                                        mya  ...  Unknown              in   \n",
       "4                                        mya  ...  Unknown              in   \n",
       "...                                      ...  ...      ...             ...   \n",
       "807267                                   mya  ...  Unknown              in   \n",
       "807268                                   mya  ...  Unknown              in   \n",
       "807269                                   mya  ...  Unknown              in   \n",
       "807270                                   mya  ...  Unknown              in   \n",
       "807271                                   mya  ...  Unknown              in   \n",
       "\n",
       "         basisOfRecord samplingProtocol measurementMethod  \\\n",
       "0       FossilSpecimen          Unknown           Unknown   \n",
       "1       FossilSpecimen          Unknown           Unknown   \n",
       "2       FossilSpecimen          Unknown           Unknown   \n",
       "3       FossilSpecimen          Unknown           Unknown   \n",
       "4       FossilSpecimen          Unknown           Unknown   \n",
       "...                ...              ...               ...   \n",
       "807267  FossilSpecimen          Unknown           Unknown   \n",
       "807268  FossilSpecimen          Unknown           Unknown   \n",
       "807269  FossilSpecimen          Unknown           Unknown   \n",
       "807270  FossilSpecimen          Unknown           Unknown   \n",
       "807271  FossilSpecimen          Unknown           Unknown   \n",
       "\n",
       "                            materialSampleID  \\\n",
       "0       e8268688_7317_4c38_a561_414e03d5fd8d   \n",
       "1       8cee7142_036d_4b52_80cc_5be52c76697a   \n",
       "2       59ed168b_2be5_44ed_b607_7f34b2b362d0   \n",
       "3       6608088a_645d_4319_bbef_6b176ffcb720   \n",
       "4       953f4264_be2e_4d77_8cc0_5c25781d4dda   \n",
       "...                                      ...   \n",
       "807267  fed0c549_4bca_46a1_9123_3378e8cf4206   \n",
       "807268  7ea0896f_7dfb_42f8_88eb_4b9fd31d9062   \n",
       "807269  71443f16_90d1_49b0_af1f_c5eec651a72b   \n",
       "807270  dba7c312_5b8a_4762_bac3_27f7b64cd4e3   \n",
       "807271  acf9978c_4a29_4c82_8b22_47120a5a0573   \n",
       "\n",
       "                                     eventID        BONE measurementType  \\\n",
       "0       e8268688_7317_4c38_a561_414e03d5fd8d       a1ph3              M1   \n",
       "1       8cee7142_036d_4b52_80cc_5be52c76697a       a2ph3              M1   \n",
       "2       59ed168b_2be5_44ed_b607_7f34b2b362d0  astragalus              M1   \n",
       "3       6608088a_645d_4319_bbef_6b176ffcb720   calcaneum              M1   \n",
       "4       953f4264_be2e_4d77_8cc0_5c25781d4dda       femur              M1   \n",
       "...                                      ...         ...             ...   \n",
       "807267  fed0c549_4bca_46a1_9123_3378e8cf4206        txP4             M38   \n",
       "807268  7ea0896f_7dfb_42f8_88eb_4b9fd31d9062        txP3             M38   \n",
       "807269  71443f16_90d1_49b0_af1f_c5eec651a72b        txP4             M38   \n",
       "807270  dba7c312_5b8a_4762_bac3_27f7b64cd4e3        tml1             M38   \n",
       "807271  acf9978c_4a29_4c82_8b22_47120a5a0573     Unknown             M38   \n",
       "\n",
       "       measurementValue  \n",
       "0                  77.2  \n",
       "1                  39.4  \n",
       "2                  55.7  \n",
       "3                 101.9  \n",
       "4                 357.0  \n",
       "...                 ...  \n",
       "807267          Unknown  \n",
       "807268          Unknown  \n",
       "807269          Unknown  \n",
       "807270          Unknown  \n",
       "807271          Unknown  \n",
       "\n",
       "[807272 rows x 23 columns]"
      ]
     },
     "execution_count": 101,
     "metadata": {},
     "output_type": "execute_result"
    }
   ],
   "source": [
    "longVers=pd.melt(ray_data, \n",
    "                id_vars=['individualID',\n",
    "                         'sex',\n",
    "                         'side',\n",
    "                         'scientificName',\n",
    "                         'dynamicProperties',\n",
    "                         'verbatimEventDate',\n",
    "                         'yearCollected',\n",
    "                         'verbatimAgeValue',\n",
    "                         'minimumChronometricAge',\n",
    "                         'maximumChronometricAge',\n",
    "                         'minimumChronometricAgeReferenceSystem',\n",
    "                         'maximumChronometricAgeReferenceSystem',\n",
    "                         'verbatimLocality',\n",
    "                         'locality',\n",
    "                         'country',\n",
    "                         'measurementUnit',\n",
    "                         'basisOfRecord',\n",
    "                         'samplingProtocol',\n",
    "                         'measurementMethod',\n",
    "                         'materialSampleID',\n",
    "                         'eventID',\n",
    "                         'BONE'], \n",
    "                var_name = 'measurementType', \n",
    "                value_name = 'measurementValue')"
   ]
  },
  {
   "cell_type": "markdown",
   "metadata": {},
   "source": [
    "Create new measurementType column by combining BONE and measurementType column"
   ]
  },
  {
   "cell_type": "code",
   "execution_count": 102,
   "metadata": {},
   "outputs": [
    {
     "data": {
      "text/plain": [
       "0              a1ph3M1\n",
       "1              a2ph3M1\n",
       "2         astragalusM1\n",
       "3          calcaneumM1\n",
       "4              femurM1\n",
       "              ...     \n",
       "807267         txP4M38\n",
       "807268         txP3M38\n",
       "807269         txP4M38\n",
       "807270         tml1M38\n",
       "807271      UnknownM38\n",
       "Name: measurementType, Length: 807272, dtype: object"
      ]
     },
     "execution_count": 102,
     "metadata": {},
     "output_type": "execute_result"
    }
   ],
   "source": [
    "longVers['measurementType'] = longVers['BONE'] + longVers['measurementType']"
   ]
  },
  {
   "cell_type": "markdown",
   "metadata": {},
   "source": [
    "Remove unnecessary BONE columnn"
   ]
  },
  {
   "cell_type": "code",
   "execution_count": 103,
   "metadata": {},
   "outputs": [],
   "source": [
    "del longVers['BONE']"
   ]
  },
  {
   "cell_type": "markdown",
   "metadata": {},
   "source": [
    "Filter out the GEOME measurements"
   ]
  },
  {
   "cell_type": "code",
   "execution_count": 104,
   "metadata": {},
   "outputs": [
    {
     "name": "stderr",
     "output_type": "stream",
     "text": [
      "<ipython-input-104-1c0a172043b4>:4: UserWarning: Boolean Series key will be reindexed to match DataFrame index.\n",
      "  longVers=longVers[correct_element_filter==True][incorrect_filter==False]\n"
     ]
    }
   ],
   "source": [
    "correct_element_filter = longVers[\"measurementType\"].str.match(\"femurM1|femurM2|humerusM1|humerusM2|astragalusM3|astraglausM2|astragalusM7|astragalusM1|astragalusM4|calcaneumM1|calcaneumM6\")\n",
    "incorrect_filter = longVers[\"measurementType\"].str.contains(\"M10|M11|M12|M13|M14|M15|M16|M17|M18|M19|M20|M21|M22|M23|M24|M25|M26|M27|M28|M29|M30|M31|M32|M33|M34|M35|M36|M37|M38\")\n",
    "longVers=longVers[correct_element_filter==True][incorrect_filter==False]"
   ]
  },
  {
   "cell_type": "markdown",
   "metadata": {},
   "source": [
    "Renaming measurementType values"
   ]
  },
  {
   "cell_type": "code",
   "execution_count": 105,
   "metadata": {},
   "outputs": [],
   "source": [
    "longVers['measurementType']=longVers['measurementType'].replace({'femurM1': 'femur length to greater trochanter', \n",
    "                                                                 'femurM2': 'femur length to head of femur', \n",
    "                                                                 'humerusM1': 'humerus length to ventral tubercle', \n",
    "                                                                 'humerusM2': 'humerus length to caput of humerus',\n",
    "                                                                 'astragalusM3':'breadth of the trochlea of talus',\n",
    "                                                                 'astragalusM4':'talus breadth',\n",
    "                                                                 'astraglausM2':'length of medial trochlea of talus',\n",
    "                                                                 'astragalusM7':'depth of the medial side of talus',\n",
    "                                                                 'astragalusM1':'astragalus length',\n",
    "                                                                 'calcaneumM1' : 'calcaneus length',\n",
    "                                                                 'calcaneumM6' : 'calcaneus breadth'\n",
    "                                                                 #'astragalusM1':'length of the medial side of talus'\n",
    "                                                                 #'astragalusM5':'distal articular breadth of talus',\n",
    "                                                                 #'astragalusM6':'distal articular depth of talus'\n",
    "                                                                 })\n"
   ]
  },
  {
   "cell_type": "markdown",
   "metadata": {},
   "source": [
    "Create diagnosticID which is a unique number for each measurement"
   ]
  },
  {
   "cell_type": "code",
   "execution_count": 106,
   "metadata": {},
   "outputs": [],
   "source": [
    "longVers=longVers.assign(diagnosticID = '')\n",
    "longVers['diagnosticID'] = np.arange(len(longVers))"
   ]
  },
  {
   "cell_type": "markdown",
   "metadata": {},
   "source": [
    "Fix up measurementValue entrie"
   ]
  },
  {
   "cell_type": "code",
   "execution_count": 107,
   "metadata": {},
   "outputs": [
    {
     "name": "stderr",
     "output_type": "stream",
     "text": [
      "<ipython-input-107-b6ff83af824b>:9: SettingWithCopyWarning: \n",
      "A value is trying to be set on a copy of a slice from a DataFrame\n",
      "\n",
      "See the caveats in the documentation: https://pandas.pydata.org/pandas-docs/stable/user_guide/indexing.html#returning-a-view-versus-a-copy\n",
      "  longVers[\"locality\"][locality_blanks]=\"unknown\"\n"
     ]
    }
   ],
   "source": [
    "zero_values=longVers[\"measurementValue\"]==\"0\"\n",
    "blanks = longVers[\"measurementValue\"] ==\"\"\n",
    "unknown = longVers[\"measurementValue\"] == \"Unknown\"\n",
    "locality_blanks = longVers[\"locality\"]==\"\"\n",
    "\n",
    "longVers[\"measurementValue\"]=longVers[\"measurementValue\"][zero_values==False][blanks==False][unknown == False]\n",
    "longVers[\"locality\"][locality_blanks]=\"unknown\""
   ]
  },
  {
   "cell_type": "markdown",
   "metadata": {},
   "source": [
    "Convert measurementValue from in to mm"
   ]
  },
  {
   "cell_type": "code",
   "execution_count": null,
   "metadata": {},
   "outputs": [],
   "source": [
    "def convert(value)\n",
    "    \"\"\"Converts value from in to mm\"\"\"\n",
    "    return value * 25.4\n",
    "\n",
    "longVers[\"measurementValue\"]  = longVers[\"measurementValue\"].apply(convert)"
   ]
  },
  {
   "cell_type": "markdown",
   "metadata": {},
   "source": [
    "If measurement value equals N/a, delete entire row"
   ]
  },
  {
   "cell_type": "code",
   "execution_count": 108,
   "metadata": {},
   "outputs": [],
   "source": [
    "longVers = longVers.dropna(subset=['measurementValue'])"
   ]
  },
  {
   "cell_type": "markdown",
   "metadata": {},
   "source": [
    "Writing long data csv file"
   ]
  },
  {
   "cell_type": "code",
   "execution_count": 109,
   "metadata": {},
   "outputs": [],
   "source": [
    "longVers.to_csv('../Mapped_Data/FuTRES_Equid_Bernor_Global_Cenozoic.csv', index = False);"
   ]
  },
  {
   "cell_type": "code",
   "execution_count": null,
   "metadata": {},
   "outputs": [],
   "source": []
  }
 ],
 "metadata": {
  "kernelspec": {
   "display_name": "Python 3",
   "language": "python",
   "name": "python3"
  },
  "language_info": {
   "codemirror_mode": {
    "name": "ipython",
    "version": 3
   },
   "file_extension": ".py",
   "mimetype": "text/x-python",
   "name": "python",
   "nbconvert_exporter": "python",
   "pygments_lexer": "ipython3",
   "version": "3.8.3"
  }
 },
 "nbformat": 4,
 "nbformat_minor": 2
}
