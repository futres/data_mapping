{
 "cells": [
  {
   "cell_type": "markdown",
   "metadata": {},
   "source": [
    "# Manual Changes\n",
    "\n",
    "## template mapping files are in the git repository\n",
    "\n",
    "## original data in _CyVerse Discovery Environment_ \n",
    "### data file is: \"MayaDeerMetrics_Cantryll_Emeryedits.csv\"\n",
    "\n",
    "### _minimumChronometricAge_, _maximumChronometricAge_, and units\n",
    "- in _Date_ column\n",
    "- separate _Date_ into minimum and maximum chronometric age\n",
    "- create columns _minimumChronometricAge_ and _maximumChronometricAge_\n",
    "- create columns _maximumChronometricAgeReferenceSystem_ and _minimumChronometricAgeReferenceSystem_ to put \"A.D.\"\n",
    "\n",
    "### _measurementUnit_\n",
    "- in \"mm\" (keep abbreviated)\n",
    "- create column _measurementUnit_\n",
    "\n",
    "### _otherCatalogNumbers_\n",
    "- concatenated list of:\n",
    "    - EAP Acc#\n",
    "    - Cantryll Test# (test#=analyst sample number)\n",
    "    - ID Catalog# (cat#=element or portion)\n",
    "\n",
    "### _unused columns_\n",
    "- Element\n",
    "- Cantryll notes"
   ]
  },
  {
   "cell_type": "markdown",
   "metadata": {},
   "source": []
  }
 ],
 "metadata": {
  "kernelspec": {
   "display_name": "Python 3",
   "language": "python",
   "name": "python3"
  },
  "language_info": {
   "codemirror_mode": {
    "name": "ipython",
    "version": 3
   },
   "file_extension": ".py",
   "mimetype": "text/x-python",
   "name": "python",
   "nbconvert_exporter": "python",
   "pygments_lexer": "ipython3",
   "version": "3.7.4"
  }
 },
 "nbformat": 4,
 "nbformat_minor": 2
}
