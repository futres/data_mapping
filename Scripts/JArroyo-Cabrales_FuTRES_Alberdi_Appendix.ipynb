{
 "cells": [
  {
   "cell_type": "markdown",
   "id": "e4e939d3",
   "metadata": {},
   "source": [
    "Data Wrangling Notebook for JArroyo-Cabrales data \n",
    "<br />\n",
    "Neeka Sewnath\n",
    "<br />\n",
    "nsewnath@ufl.edu"
   ]
  },
  {
   "cell_type": "code",
   "execution_count": 115,
   "id": "175c3bd1",
   "metadata": {},
   "outputs": [],
   "source": [
    "import pandas as pd\n",
    "import numpy as np\n",
    "import uuid"
   ]
  },
  {
   "cell_type": "markdown",
   "id": "590c5b37",
   "metadata": {},
   "source": [
    "Silence unnecessary errors"
   ]
  },
  {
   "cell_type": "code",
   "execution_count": 116,
   "id": "aef6701e",
   "metadata": {},
   "outputs": [],
   "source": [
    "try:\n",
    "    import warnings\n",
    "    warnings.filterwarnings('ignore')\n",
    "except:\n",
    "    pass"
   ]
  },
  {
   "cell_type": "markdown",
   "id": "cbb97912",
   "metadata": {},
   "source": [
    "Import Alberdi Appendix "
   ]
  },
  {
   "cell_type": "code",
   "execution_count": 117,
   "id": "61fd330a",
   "metadata": {},
   "outputs": [],
   "source": [
    "data = pd.read_csv(\"../Original_Data/Alberdi_combined.csv\")"
   ]
  },
  {
   "cell_type": "markdown",
   "id": "d27d4395",
   "metadata": {},
   "source": [
    "Add individualID and populate with UUID"
   ]
  },
  {
   "cell_type": "code",
   "execution_count": 118,
   "id": "7fbda1f1",
   "metadata": {},
   "outputs": [],
   "source": [
    "data = data.assign(individualID = '')\n",
    "data['individualID'] = [uuid.uuid4().hex for _ in range(len(data.index))]"
   ]
  },
  {
   "cell_type": "markdown",
   "id": "2e1c6ea2",
   "metadata": {},
   "source": [
    "Set samplingProtocol and measurementMethod "
   ]
  },
  {
   "cell_type": "code",
   "execution_count": 119,
   "id": "a93321fd",
   "metadata": {},
   "outputs": [],
   "source": [
    "citation = \"Alberdi, M.T., Arroyo-Cabrales, J., Marín-Leyva, A.H., Polaco, O.J., 2014, Study of Cedral Horses and their place in the Mexican Quaternary: Revista Mexicana de Ciencias Geológicas, v. 31, núm. 2, p. 221-237\"\n",
    "\n",
    "data = data.assign(samplingProtocol = citation, measurementMethod = citation)"
   ]
  },
  {
   "cell_type": "markdown",
   "id": "e3363e4f",
   "metadata": {},
   "source": [
    "Adding additional required GEOME columns"
   ]
  },
  {
   "cell_type": "code",
   "execution_count": 120,
   "id": "ec19e26b",
   "metadata": {},
   "outputs": [],
   "source": [
    "data = data.assign(country = \"Mexico\", yearCollected = \"Unknown\", locality = \"Unknown\", basisOfRecord = \"FossilSpecimen\")"
   ]
  },
  {
   "cell_type": "markdown",
   "id": "11a32324",
   "metadata": {},
   "source": [
    "Renaming columns"
   ]
  },
  {
   "cell_type": "code",
   "execution_count": 121,
   "id": "a1eba249",
   "metadata": {},
   "outputs": [],
   "source": [
    "data = data.rename(columns = {'specimenType':'skeletalElement',\n",
    "                              'side':'measurementSide',\n",
    "                              'sitename':'locality',\n",
    "                              'test': 'measurementType',\n",
    "                              'reference':'measurementMethod', \n",
    "                              'ScienticName': 'scientificName'})"
   ]
  },
  {
   "cell_type": "markdown",
   "id": "ad8f5323",
   "metadata": {},
   "source": [
    "Create a long version of the data frame"
   ]
  },
  {
   "cell_type": "code",
   "execution_count": 122,
   "id": "2b48db73",
   "metadata": {},
   "outputs": [],
   "source": [
    "id_vars = ['Bone', 'catalogNumber', 'scientificName', 'individualID',\n",
    "           'samplingProtocol', 'measurementMethod', 'country', 'yearCollected', \n",
    "           'locality', 'basisOfRecord']\n",
    "\n",
    "long_data = pd.melt(data, id_vars = id_vars, var_name = 'measurementType', value_name = 'measurementValue')"
   ]
  },
  {
   "cell_type": "markdown",
   "id": "31b44103",
   "metadata": {},
   "source": [
    "Combine bone data with measurementType column"
   ]
  },
  {
   "cell_type": "code",
   "execution_count": 123,
   "id": "5a8c0b58",
   "metadata": {},
   "outputs": [],
   "source": [
    "long_data[\"measurementType\"] = long_data[\"Bone\"] + \" \" + long_data[\"measurementType\"]\n",
    "del long_data[\"Bone\"]"
   ]
  },
  {
   "cell_type": "code",
   "execution_count": 130,
   "id": "030cf273",
   "metadata": {},
   "outputs": [
    {
     "data": {
      "text/plain": [
       "array(['M1-2 upper surface length', 'M1-2 upper surface breadth',\n",
       "       'M1-2 upper base length', 'M1-2 upper base breadth',\n",
       "       'M1-2 upper height', 'M1-2 upper protocone length',\n",
       "       'M1-2 upper postflexid length', 'M1-2 upper double-knot length',\n",
       "       'M1-2 upper m1', 'M1-2 upper m2', 'M1-2 upper m3', 'M1-2 upper m4',\n",
       "       'M1-2 upper m5', 'M1-2 upper m6', 'M1-2 upper m7', 'M1-2 upper m8',\n",
       "       'M1-2 upper m9', 'M1-2 upper m10', 'M1-2 upper m11',\n",
       "       'M1-2 upper m12', 'M1-2 upper m13', 'M1-2 upper m14',\n",
       "       'M1-2 upper m16', 'M1-2 upper body size McIII13',\n",
       "       'M1-2 upper maximal breadth', 'M1-2 upper maximal height',\n",
       "       'M1-2 upper maximal depth', 'M1-2 upper proximal length',\n",
       "       'M1-2 upper proximal breadth', 'M1-2 upper distal length',\n",
       "       'M1-2 upper distal breadth', 'M1-2 upper external height',\n",
       "       'M1-2 upper Unnamed: 35'], dtype=object)"
      ]
     },
     "execution_count": 130,
     "metadata": {},
     "output_type": "execute_result"
    }
   ],
   "source": [
    "long_data[\"measurementType\"][long_data[\"measurementType\"].str.contains('M1-2')].unique()"
   ]
  },
  {
   "cell_type": "markdown",
   "id": "1fe483fd",
   "metadata": {},
   "source": [
    "Renaming measurementType values"
   ]
  },
  {
   "cell_type": "code",
   "execution_count": 99,
   "id": "0d7878e8",
   "metadata": {},
   "outputs": [],
   "source": [
    "# Replace names of terms avaliable in GEOME\n",
    "# NOTE: Make sure mapping file is up to date before reprocessing (git pull from FuTRES Repo)\n",
    "\n",
    "# Read mapping file \n",
    "mapping_file = pd.read_csv(\"./../Mapping Files/ontology_codeBook.csv\")\n",
    "\n",
    "# Create subset of those within FOVT or OBA\n",
    "map_subset = mapping_file[(mapping_file[\"Status\"] == \"in FOVT\") | (mapping_file[\"Status\"] == \"in OBA\") ]\n",
    "\n",
    "# Create a subset of Joaquin data\n",
    "joaquin_subset = map_subset[map_subset[\"name\"] == \"Joaquin\"]\n",
    "\n",
    "# Isolating necessary columns\n",
    "joaquin_subset = joaquin_subset[[\"label\", \"term\"]]\n",
    "\n",
    "# Create dictionary of terms\n",
    "map_dict = pd.Series(joaquin_subset.term.values,index = joaquin_subset.label).to_dict()\n",
    "\n",
    "\n",
    "\n",
    "# Map the new terms onto the old terms in the dataframe \n",
    "long_data[\"measurementType\"] = (pd.Series(long_data[\"measurementType\"])).map(map_dict)\n",
    "#long_data[\"measurementValue\"] = long_data.measurementValue.dropna()"
   ]
  },
  {
   "cell_type": "markdown",
   "id": "237b9696",
   "metadata": {},
   "source": [
    "Create materialSampleID which is a UUID for each measurement. Populate eventID with materialSampleID"
   ]
  },
  {
   "cell_type": "code",
   "execution_count": 113,
   "id": "c5e2cacd",
   "metadata": {},
   "outputs": [],
   "source": [
    "long_data['materialSampleID'] = [uuid.uuid4().hex for _ in range(len(long_data.index))]\n",
    "long_data = long_data.assign(eventID = long_data[\"materialSampleID\"])"
   ]
  },
  {
   "cell_type": "markdown",
   "id": "cc6ca1bb",
   "metadata": {},
   "source": [
    "Create diagnosticID"
   ]
  },
  {
   "cell_type": "code",
   "execution_count": 74,
   "id": "f1996402",
   "metadata": {},
   "outputs": [],
   "source": [
    "# Create diagnosticID which is a UUID for each measurement\n",
    "long_data['diagnosticID'] = [uuid.uuid4() for _ in range(len(long_data.index))]"
   ]
  },
  {
   "cell_type": "markdown",
   "id": "f37d4341",
   "metadata": {},
   "source": [
    "Write file to csv"
   ]
  },
  {
   "cell_type": "code",
   "execution_count": 75,
   "id": "9e6f2320",
   "metadata": {},
   "outputs": [],
   "source": [
    "#Writing the final dataframe as csv file\n",
    "long_data.to_csv('../Mapped_Data/FuTRES_Equidae_Arroyo-Cabrales_Mexico_Paleo.csv')"
   ]
  },
  {
   "cell_type": "code",
   "execution_count": 77,
   "id": "92115233",
   "metadata": {},
   "outputs": [
    {
     "data": {
      "text/plain": [
       "array([nan], dtype=object)"
      ]
     },
     "execution_count": 77,
     "metadata": {},
     "output_type": "execute_result"
    }
   ],
   "source": [
    "long_data[\"measurementType\"].unique()"
   ]
  },
  {
   "cell_type": "code",
   "execution_count": null,
   "id": "6a7e8b12",
   "metadata": {},
   "outputs": [],
   "source": []
  }
 ],
 "metadata": {
  "kernelspec": {
   "display_name": "Python 3",
   "language": "python",
   "name": "python3"
  },
  "language_info": {
   "codemirror_mode": {
    "name": "ipython",
    "version": 3
   },
   "file_extension": ".py",
   "mimetype": "text/x-python",
   "name": "python",
   "nbconvert_exporter": "python",
   "pygments_lexer": "ipython3",
   "version": "3.8.10"
  }
 },
 "nbformat": 4,
 "nbformat_minor": 5
}
