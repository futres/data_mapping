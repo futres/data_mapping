{
 "cells": [
  {
   "cell_type": "markdown",
   "id": "e4e939d3",
   "metadata": {},
   "source": [
    "Data Wrangling Notebook for JArroyo-Cabrales data \n",
    "<br />\n",
    "Neeka Sewnath\n",
    "<br />\n",
    "nsewnath@ufl.edu"
   ]
  },
  {
   "cell_type": "code",
   "execution_count": 1,
   "id": "175c3bd1",
   "metadata": {},
   "outputs": [],
   "source": [
    "import pandas as pd\n",
    "import numpy as np\n",
    "import uuid"
   ]
  },
  {
   "cell_type": "markdown",
   "id": "590c5b37",
   "metadata": {},
   "source": [
    "Silence unnecessary errors"
   ]
  },
  {
   "cell_type": "code",
   "execution_count": null,
   "id": "aef6701e",
   "metadata": {},
   "outputs": [],
   "source": [
    "try:\n",
    "    import warnings\n",
    "    warnings.filterwarnings('ignore')\n",
    "except:\n",
    "    pass"
   ]
  },
  {
   "cell_type": "markdown",
   "id": "cbb97912",
   "metadata": {},
   "source": [
    "Import JSarrinen Equus quagga and E.grevyi data"
   ]
  },
  {
   "cell_type": "code",
   "execution_count": null,
   "id": "61fd330a",
   "metadata": {},
   "outputs": [],
   "source": [
    "#Appendix 1\n",
    "data = pd.read_csv(\"../Original_Data/Alberdi-Appendix01-RMCG-TO.csv\")\n",
    "\n",
    "#Appendix 2\n",
    "data = pd.read_csv(\"../Original_Data/Alberdi-Appendix02-RMCG-TO.csv\")"
   ]
  },
  {
   "cell_type": "markdown",
   "id": "2e1c6ea2",
   "metadata": {},
   "source": [
    "Set samplingProtocol and measurementMethod "
   ]
  },
  {
   "cell_type": "code",
   "execution_count": null,
   "id": "a93321fd",
   "metadata": {},
   "outputs": [],
   "source": [
    "citation = \"Alberdi, M.T., Arroyo-Cabrales, J., Marín-Leyva, A.H., Polaco, O.J., 2014, Study of Cedral Horses and their place in the Mexican Quaternary: Revista Mexicana de Ciencias Geológicas, v. 31, núm. 2, p. 221-237\"\n",
    "\n",
    "data = data.assign(samplingProtocol = citation, measurementMethod = citation)"
   ]
  },
  {
   "cell_type": "markdown",
   "id": "e3363e4f",
   "metadata": {},
   "source": [
    "Adding additional required GEOME columns (Confirm country)"
   ]
  },
  {
   "cell_type": "code",
   "execution_count": null,
   "id": "ec19e26b",
   "metadata": {},
   "outputs": [],
   "source": [
    "data = data.assign(country = \"Mexico\", yearCollected = \"Unknown\", locality = \"Unknown\", basisOfRecord = \"FossilSpecimen\")"
   ]
  },
  {
   "cell_type": "markdown",
   "id": "0a099793",
   "metadata": {},
   "source": [
    "TODO: work out how to handle traits and locate missing information from publication "
   ]
  },
  {
   "cell_type": "code",
   "execution_count": null,
   "id": "95d0250b",
   "metadata": {},
   "outputs": [],
   "source": []
  }
 ],
 "metadata": {
  "kernelspec": {
   "display_name": "Python 3",
   "language": "python",
   "name": "python3"
  },
  "language_info": {
   "codemirror_mode": {
    "name": "ipython",
    "version": 3
   },
   "file_extension": ".py",
   "mimetype": "text/x-python",
   "name": "python",
   "nbconvert_exporter": "python",
   "pygments_lexer": "ipython3",
   "version": "3.8.10"
  }
 },
 "nbformat": 4,
 "nbformat_minor": 5
}
