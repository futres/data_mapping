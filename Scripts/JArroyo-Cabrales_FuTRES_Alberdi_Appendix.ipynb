{
 "cells": [
  {
   "cell_type": "markdown",
   "id": "e4e939d3",
   "metadata": {},
   "source": [
    "Data Wrangling Notebook for JArroyo-Cabrales data \n",
    "<br />\n",
    "Neeka Sewnath\n",
    "<br />\n",
    "nsewnath@ufl.edu"
   ]
  },
  {
   "cell_type": "markdown",
   "id": "d0993b04",
   "metadata": {},
   "source": [
    "NOTE: Waiting for codebook to be updated before proceding "
   ]
  },
  {
   "cell_type": "code",
   "execution_count": 180,
   "id": "175c3bd1",
   "metadata": {},
   "outputs": [],
   "source": [
    "import pandas as pd\n",
    "import numpy as np\n",
    "import uuid"
   ]
  },
  {
   "cell_type": "markdown",
   "id": "590c5b37",
   "metadata": {},
   "source": [
    "Silence unnecessary errors"
   ]
  },
  {
   "cell_type": "code",
   "execution_count": 181,
   "id": "aef6701e",
   "metadata": {},
   "outputs": [],
   "source": [
    "try:\n",
    "    import warnings\n",
    "    warnings.filterwarnings('ignore')\n",
    "except:\n",
    "    pass"
   ]
  },
  {
   "cell_type": "markdown",
   "id": "cbb97912",
   "metadata": {},
   "source": [
    "Import Alberdi Appendix "
   ]
  },
  {
   "cell_type": "code",
   "execution_count": 182,
   "id": "61fd330a",
   "metadata": {},
   "outputs": [],
   "source": [
    "data = pd.read_csv(\"../Original_Data/Alberdi_combined.csv\")"
   ]
  },
  {
   "cell_type": "markdown",
   "id": "d27d4395",
   "metadata": {},
   "source": [
    "Add individualID and populate with UUID"
   ]
  },
  {
   "cell_type": "code",
   "execution_count": 183,
   "id": "7fbda1f1",
   "metadata": {},
   "outputs": [],
   "source": [
    "data = data.assign(individualID = '')\n",
    "data['individualID'] = [uuid.uuid4().hex for _ in range(len(data.index))]"
   ]
  },
  {
   "cell_type": "markdown",
   "id": "2e1c6ea2",
   "metadata": {},
   "source": [
    "Set samplingProtocol and measurementMethod "
   ]
  },
  {
   "cell_type": "code",
   "execution_count": 184,
   "id": "a93321fd",
   "metadata": {},
   "outputs": [],
   "source": [
    "citation = \"Alberdi, M.T., Arroyo-Cabrales, J., Marín-Leyva, A.H., Polaco, O.J., 2014, Study of Cedral Horses and their place in the Mexican Quaternary: Revista Mexicana de Ciencias Geológicas, v. 31, núm. 2, p. 221-237\"\n",
    "\n",
    "data = data.assign(samplingProtocol = citation, measurementMethod = citation)"
   ]
  },
  {
   "cell_type": "markdown",
   "id": "e3363e4f",
   "metadata": {},
   "source": [
    "Adding additional required GEOME columns"
   ]
  },
  {
   "cell_type": "code",
   "execution_count": 185,
   "id": "ec19e26b",
   "metadata": {},
   "outputs": [],
   "source": [
    "data = data.assign(country = \"Mexico\", yearCollected = \"Unknown\", locality = \"Unknown\", basisOfRecord = \"FossilSpecimen\")"
   ]
  },
  {
   "cell_type": "markdown",
   "id": "11a32324",
   "metadata": {},
   "source": [
    "Renaming columns"
   ]
  },
  {
   "cell_type": "code",
   "execution_count": 186,
   "id": "a1eba249",
   "metadata": {},
   "outputs": [],
   "source": [
    "data = data.rename(columns = {'specimenType':'skeletalElement',\n",
    "                              'side':'measurementSide',\n",
    "                              'sitename':'locality',\n",
    "                              'test': 'measurementType',\n",
    "                              'reference':'measurementMethod', \n",
    "                              'ScienticName': 'scientificName'})"
   ]
  },
  {
   "cell_type": "markdown",
   "id": "ad8f5323",
   "metadata": {},
   "source": [
    "Create a long version of the data frame"
   ]
  },
  {
   "cell_type": "code",
   "execution_count": 187,
   "id": "2b48db73",
   "metadata": {},
   "outputs": [],
   "source": [
    "id_vars = ['Bone', 'catalogNumber', 'scientificName', 'individualID',\n",
    "           'samplingProtocol', 'measurementMethod', 'country', 'yearCollected', \n",
    "           'locality', 'basisOfRecord']\n",
    "\n",
    "long_data = pd.melt(data, id_vars = id_vars, var_name = 'measurementType', value_name = 'measurementValue')"
   ]
  },
  {
   "cell_type": "markdown",
   "id": "31b44103",
   "metadata": {},
   "source": [
    "Combine bone data with measurementType column"
   ]
  },
  {
   "cell_type": "code",
   "execution_count": 188,
   "id": "5a8c0b58",
   "metadata": {},
   "outputs": [],
   "source": [
    "long_data[\"measurementType\"] = long_data[\"Bone\"] + \" \" + long_data[\"measurementType\"]\n",
    "del long_data[\"Bone\"]"
   ]
  },
  {
   "cell_type": "markdown",
   "id": "1fe483fd",
   "metadata": {},
   "source": [
    "Renaming measurementType values"
   ]
  },
  {
   "cell_type": "code",
   "execution_count": 189,
   "id": "0d7878e8",
   "metadata": {},
   "outputs": [],
   "source": [
    "# Replace names of terms avaliable in GEOME\n",
    "# NOTE: Make sure mapping file is up to date before reprocessing (git pull from FuTRES Repo)\n",
    "\n",
    "# Read mapping file \n",
    "mapping_file = pd.read_csv(\"./../Mapping Files/ontology_codeBook.csv\")\n",
    "\n",
    "# Create subset of those within FOVT or OBA\n",
    "map_subset = mapping_file[(mapping_file[\"Status\"] == \"in FOVT\") | (mapping_file[\"Status\"] == \"in OBA\") ]\n",
    "\n",
    "# Create a subset of Joaquin data\n",
    "joaquin_subset = map_subset[map_subset[\"name\"] == \"Joaquin\"]\n",
    "\n",
    "# Isolating necessary columns\n",
    "joaquin_subset = joaquin_subset[[\"label\", \"term\"]]\n",
    "\n",
    "# Explode codebook subset\n",
    "#joaquin_subset = joaquin_subset.assign(label = joaquin_subset[\"label\"].str.split(';')).explode(\"label\")\n",
    "\n",
    "# Create dictionary of terms\n",
    "map_dict = joaquin_subset.set_index('label').to_dict()['term']\n",
    "# map_dict = pd.Series(joaquin_subset.term.value,index = joaquin_subset.label).to_dict()\n",
    "\n",
    "# Map the new terms onto the old terms in the dataframe \n",
    "long_data[\"measurementType\"] = (pd.Series(long_data[\"measurementType\"])).map(map_dict)"
   ]
  },
  {
   "cell_type": "markdown",
   "id": "237b9696",
   "metadata": {},
   "source": [
    "Create materialSampleID which is a UUID for each measurement. Populate eventID with materialSampleID"
   ]
  },
  {
   "cell_type": "code",
   "execution_count": 190,
   "id": "c5e2cacd",
   "metadata": {},
   "outputs": [],
   "source": [
    "long_data['materialSampleID'] = [uuid.uuid4().hex for _ in range(len(long_data.index))]\n",
    "long_data = long_data.assign(eventID = long_data[\"materialSampleID\"])"
   ]
  },
  {
   "cell_type": "markdown",
   "id": "cc6ca1bb",
   "metadata": {},
   "source": [
    "Create diagnosticID"
   ]
  },
  {
   "cell_type": "code",
   "execution_count": 191,
   "id": "f1996402",
   "metadata": {},
   "outputs": [],
   "source": [
    "# Create diagnosticID which is a UUID for each measurement\n",
    "long_data['diagnosticID'] = [uuid.uuid4() for _ in range(len(long_data.index))]"
   ]
  },
  {
   "cell_type": "markdown",
   "id": "9ab8a068",
   "metadata": {},
   "source": [
    "Adding measurementUnit column"
   ]
  },
  {
   "cell_type": "code",
   "execution_count": 192,
   "id": "e4b71d57",
   "metadata": {},
   "outputs": [],
   "source": [
    "long_data['measurementUnit'] = \"mm\""
   ]
  },
  {
   "cell_type": "markdown",
   "id": "4e6389cd",
   "metadata": {},
   "source": [
    "Dropping blank rows"
   ]
  },
  {
   "cell_type": "code",
   "execution_count": 193,
   "id": "4847bf43",
   "metadata": {},
   "outputs": [],
   "source": [
    "long_data = long_data.dropna(subset=['measurementType'])\n",
    "long_data = long_data.dropna(subset=['measurementValue'])"
   ]
  },
  {
   "cell_type": "markdown",
   "id": "f37d4341",
   "metadata": {},
   "source": [
    "Write file to csv"
   ]
  },
  {
   "cell_type": "code",
   "execution_count": 194,
   "id": "9e6f2320",
   "metadata": {},
   "outputs": [],
   "source": [
    "#Writing the final dataframe as csv file\n",
    "long_data.to_csv('../Mapped_Data/FuTRES_Equidae_Arroyo-Cabrales_Mexico_Paleo.csv')"
   ]
  },
  {
   "cell_type": "code",
   "execution_count": null,
   "id": "5e08cf7e",
   "metadata": {},
   "outputs": [],
   "source": []
  },
  {
   "cell_type": "code",
   "execution_count": null,
   "id": "f43e3d2f",
   "metadata": {},
   "outputs": [],
   "source": []
  }
 ],
 "metadata": {
  "kernelspec": {
   "display_name": "Python 3",
   "language": "python",
   "name": "python3"
  },
  "language_info": {
   "codemirror_mode": {
    "name": "ipython",
    "version": 3
   },
   "file_extension": ".py",
   "mimetype": "text/x-python",
   "name": "python",
   "nbconvert_exporter": "python",
   "pygments_lexer": "ipython3",
   "version": "3.8.10"
  }
 },
 "nbformat": 4,
 "nbformat_minor": 5
}
