{
 "cells": [
  {
   "cell_type": "markdown",
   "metadata": {},
   "source": [
    "Data Wrangling Notebook for SY Data\n",
    "<br />\n",
    "Neeka Sewnath\n",
    "<br />\n",
    "nsewnath@ufl.edu"
   ]
  },
  {
   "cell_type": "code",
   "execution_count": 35,
   "metadata": {},
   "outputs": [],
   "source": [
    "import pandas as pd\n",
    "from pandas import Series\n",
    "import numpy as np\n",
    "import re\n",
    "import uuid "
   ]
  },
  {
   "cell_type": "markdown",
   "metadata": {},
   "source": [
    "Import SY Data"
   ]
  },
  {
   "cell_type": "code",
   "execution_count": 36,
   "metadata": {},
   "outputs": [],
   "source": [
    "sy_data = pd.read_csv(\"./../Original_Data/futres_sy_original.csv\")"
   ]
  },
  {
   "cell_type": "markdown",
   "metadata": {},
   "source": [
    "Rename Columns"
   ]
  },
  {
   "cell_type": "code",
   "execution_count": 37,
   "metadata": {},
   "outputs": [],
   "source": [
    "sy_data = sy_data.rename(columns={'ID': 'individualID',\n",
    "                                  'Taxa':'scientificName',\n",
    "                                  'Measurements (NAME;NAME;NAME...) divided by ;':'measurementType',\n",
    "                                  'Values (mm;mm;mm...) divided by ;':'measurementValue',\n",
    "                                  'Gender': 'sex',\n",
    "                                  'Age appearance':'lifeStage'})"
   ]
  },
  {
   "cell_type": "markdown",
   "metadata": {},
   "source": [
    "Clean up lifeStage column"
   ]
  },
  {
   "cell_type": "code",
   "execution_count": 38,
   "metadata": {},
   "outputs": [
    {
     "name": "stderr",
     "output_type": "stream",
     "text": [
      "<ipython-input-38-b12a5b877cf9>:6: SettingWithCopyWarning: \n",
      "A value is trying to be set on a copy of a slice from a DataFrame\n",
      "\n",
      "See the caveats in the documentation: https://pandas.pydata.org/pandas-docs/stable/user_guide/indexing.html#returning-a-view-versus-a-copy\n",
      "  sy_data['lifeStage'][adult] = \"adult\"\n",
      "<ipython-input-38-b12a5b877cf9>:7: SettingWithCopyWarning: \n",
      "A value is trying to be set on a copy of a slice from a DataFrame\n",
      "\n",
      "See the caveats in the documentation: https://pandas.pydata.org/pandas-docs/stable/user_guide/indexing.html#returning-a-view-versus-a-copy\n",
      "  sy_data['lifeStage'][juvenile] = \"juvenile\"\n"
     ]
    }
   ],
   "source": [
    "# Create Filters\n",
    "adult = sy_data['lifeStage']==\"ADL\"\n",
    "juvenile = sy_data['lifeStage']==\"JUV\"\n",
    "\n",
    "# Assign correct terms using filters\n",
    "sy_data['lifeStage'][adult] = \"adult\"\n",
    "sy_data['lifeStage'][juvenile] = \"juvenile\""
   ]
  },
  {
   "cell_type": "markdown",
   "metadata": {},
   "source": [
    "Clean up sex column"
   ]
  },
  {
   "cell_type": "code",
   "execution_count": 39,
   "metadata": {},
   "outputs": [
    {
     "name": "stderr",
     "output_type": "stream",
     "text": [
      "<ipython-input-39-52260372d541>:2: SettingWithCopyWarning: \n",
      "A value is trying to be set on a copy of a slice from a DataFrame\n",
      "\n",
      "See the caveats in the documentation: https://pandas.pydata.org/pandas-docs/stable/user_guide/indexing.html#returning-a-view-versus-a-copy\n",
      "  sy_data[\"sex\"][male==True]=\"male\"\n",
      "<ipython-input-39-52260372d541>:3: SettingWithCopyWarning: \n",
      "A value is trying to be set on a copy of a slice from a DataFrame\n",
      "\n",
      "See the caveats in the documentation: https://pandas.pydata.org/pandas-docs/stable/user_guide/indexing.html#returning-a-view-versus-a-copy\n",
      "  sy_data['sex'][male==False]=\"\"\n"
     ]
    }
   ],
   "source": [
    "male = sy_data['sex']==\"M\"\n",
    "sy_data[\"sex\"][male==True]=\"male\"\n",
    "sy_data['sex'][male==False]=\"\""
   ]
  },
  {
   "cell_type": "markdown",
   "metadata": {},
   "source": [
    "Check is length of measurementType and measurementValue are the same "
   ]
  },
  {
   "cell_type": "code",
   "execution_count": 46,
   "metadata": {},
   "outputs": [
    {
     "name": "stdout",
     "output_type": "stream",
     "text": [
      "Error: Size Mismatch\n",
      "4\n",
      "Error: Size Mismatch\n",
      "7\n"
     ]
    },
    {
     "data": {
      "text/plain": [
       "0     None\n",
       "1     None\n",
       "2     None\n",
       "3     None\n",
       "4     None\n",
       "5     None\n",
       "6     None\n",
       "7     None\n",
       "8     None\n",
       "9     None\n",
       "10    None\n",
       "11    None\n",
       "12    None\n",
       "13    None\n",
       "14    None\n",
       "15    None\n",
       "16    None\n",
       "17    None\n",
       "18    None\n",
       "19    None\n",
       "dtype: object"
      ]
     },
     "execution_count": 46,
     "metadata": {},
     "output_type": "execute_result"
    }
   ],
   "source": [
    "def matching_size(row):\n",
    "    \"\"\"function to match size of measurement type and value\"\"\"\n",
    "    mtype = row[\"measurementType\"].split(';')\n",
    "    mval = row[\"measurementValue\"].split(';')\n",
    "    if len(mtype) != len(mval):\n",
    "        print (\"Error: Size Mismatch\")\n",
    "        print(row.name)\n",
    "        \n",
    "sy_data.apply(matching_size,  axis =1)\n"
   ]
  },
  {
   "cell_type": "markdown",
   "metadata": {},
   "source": [
    "Expand data using ; as delimiter"
   ]
  },
  {
   "cell_type": "code",
   "execution_count": 44,
   "metadata": {},
   "outputs": [
    {
     "data": {
      "text/plain": [
       "['individualID',\n",
       " 'Identifiable (si/astilla/huesoplano/fragmin)',\n",
       " 'Site',\n",
       " 'DATUM',\n",
       " 'UTM E',\n",
       " 'UTM N',\n",
       " 'Unit',\n",
       " 'Level',\n",
       " 'Layer',\n",
       " 'Gral category',\n",
       " 'Specimen',\n",
       " 'Segment',\n",
       " 'Landmark',\n",
       " 'scientificName',\n",
       " 'Siding',\n",
       " 'sex',\n",
       " 'Calc age',\n",
       " 'Trait age',\n",
       " 'lifeStage',\n",
       " '1-trampling',\n",
       " '2-cutmarks*',\n",
       " '3-furrowing*',\n",
       " '4-rootetch',\n",
       " '5-rodentgnaw*',\n",
       " '6-polish*',\n",
       " '7-abrasion',\n",
       " '8-gnawing*',\n",
       " '9-thermalalt(rank Caceres et al. 2002)',\n",
       " '10-pigmentation*',\n",
       " '11-adherence*',\n",
       " '12-weathering(rank)',\n",
       " '13-chemcorr*',\n",
       " '14-FFImorphology',\n",
       " '15-FFIangle',\n",
       " '16-FFIedge',\n",
       " '17-FFItotalscore',\n",
       " '18-FHP',\n",
       " '2-total frequency',\n",
       " '2-max length(mm)',\n",
       " '2-hertzian cones',\n",
       " '2-shoulder effect',\n",
       " '2-main axis degree',\n",
       " '2-exact location',\n",
       " '2-trace directionality',\n",
       " '2-concentration',\n",
       " '3-total frequency',\n",
       " '3-max length(mm)',\n",
       " '5-total frequency',\n",
       " '5-max length(mm)',\n",
       " '6-abrasion stage (rank)',\n",
       " '6-abrasion area (rank)',\n",
       " '6-trace distribution',\n",
       " '6-pattern',\n",
       " '6-shine/gloss presence',\n",
       " '8-morphology and location',\n",
       " '8-diameter',\n",
       " '8-total frequency',\n",
       " '8-depth',\n",
       " '8-trace composition',\n",
       " '10-colour',\n",
       " '10-cover intensity',\n",
       " '10-cover area',\n",
       " '10-cover morphology',\n",
       " '11-adherence material',\n",
       " '13-morphology and location',\n",
       " '13-alteration degree',\n",
       " '13-alteration depth',\n",
       " 'observations',\n",
       " 'pathology/trauma',\n",
       " 'photo',\n",
       " 'comments',\n",
       " 'MEASUREMENTS',\n",
       " 'PROTOCOL']"
      ]
     },
     "execution_count": 44,
     "metadata": {},
     "output_type": "execute_result"
    }
   ],
   "source": [
    "# Create a list of column names\n",
    "column_names = list(sy_data.columns)\n",
    "\n",
    "# Remove measurementType and measurementValue\n",
    "column_names = column_names[: len(column_names) - 2] \n",
    "\n",
    "# Expand dataframe based off of delimeter\n",
    "sy_data = sy_data.concat([Series(row[column_names], row['measurementType','measurementValue'].split(';'))              \n",
    "                            for _, row in a.iterrows()]).reset_index()\n"
   ]
  },
  {
   "cell_type": "code",
   "execution_count": 3,
   "metadata": {},
   "outputs": [],
   "source": [
    "#TODO: JSON specific columns"
   ]
  }
 ],
 "metadata": {
  "kernelspec": {
   "display_name": "Python 3",
   "language": "python",
   "name": "python3"
  },
  "language_info": {
   "codemirror_mode": {
    "name": "ipython",
    "version": 3
   },
   "file_extension": ".py",
   "mimetype": "text/x-python",
   "name": "python",
   "nbconvert_exporter": "python",
   "pygments_lexer": "ipython3",
   "version": "3.8.3"
  }
 },
 "nbformat": 4,
 "nbformat_minor": 4
}
