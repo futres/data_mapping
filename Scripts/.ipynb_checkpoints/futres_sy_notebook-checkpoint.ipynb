{
 "cells": [
  {
   "cell_type": "markdown",
   "metadata": {},
   "source": [
    "Data Wrangling Notebook for SY Data\n",
    "<br />\n",
    "Neeka Sewnath\n",
    "<br />\n",
    "nsewnath@ufl.edu"
   ]
  },
  {
   "cell_type": "code",
   "execution_count": 71,
   "metadata": {},
   "outputs": [],
   "source": [
    "import pandas as pd\n",
    "from pandas import Series\n",
    "import numpy as np\n",
    "import re\n",
    "import uuid "
   ]
  },
  {
   "cell_type": "markdown",
   "metadata": {},
   "source": [
    "Import Vertnet Mammal Data"
   ]
  },
  {
   "cell_type": "code",
   "execution_count": 76,
   "metadata": {},
   "outputs": [],
   "source": [
    "sy_data = pd.read_csv(\"./../Original Data/futres_sy_original.csv\")"
   ]
  },
  {
   "cell_type": "markdown",
   "metadata": {},
   "source": [
    "Subset test data"
   ]
  },
  {
   "cell_type": "code",
   "execution_count": 77,
   "metadata": {
    "scrolled": true
   },
   "outputs": [],
   "source": [
    "test = sy_data[sy_data.columns[-4:]]"
   ]
  },
  {
   "cell_type": "markdown",
   "metadata": {},
   "source": [
    "Rename Columns"
   ]
  },
  {
   "cell_type": "code",
   "execution_count": 78,
   "metadata": {},
   "outputs": [],
   "source": [
    "test = test.rename(columns={'Measurements (NAME;NAME;NAME...) divided by ;':'measurementType',\n",
    "                            'Values (mm;mm;mm...) divided by ;': 'measurementValue',\n",
    "                            'PROTOCOL':'protocol',\n",
    "                            'MEASUREMENTS':'measurements'})"
   ]
  },
  {
   "cell_type": "markdown",
   "metadata": {},
   "source": [
    "Separate by ; and expand "
   ]
  },
  {
   "cell_type": "code",
   "execution_count": 79,
   "metadata": {},
   "outputs": [
    {
     "name": "stdout",
     "output_type": "stream",
     "text": [
      "  measurements                 protocol measurementType measurementValue\n",
      "0           SI  L'Hereux y Borella 2011              Bd             29,5\n",
      "0           SI  L'Hereux y Borella 2011              Dd             17,2\n",
      "  measurements                protocol measurementType measurementValue\n",
      "1           SI  Von den Driesch (1976)              GL               14\n",
      "1           SI  Von den Driesch (1976)              Bp              4,5\n",
      "1           SI  Von den Driesch (1976)              Bd                4\n",
      "1           SI  Von den Driesch (1976)              Dp                4\n",
      "1           SI  Von den Driesch (1976)              Dd                2\n",
      "  measurements                protocol measurementType measurementValue\n",
      "2           SI  Von den Driesch (1976)              PL                7\n",
      "2           SI  Von den Driesch (1976)            BFcr              4,5\n",
      "2           SI  Von den Driesch (1976)            HFcr              2,2\n",
      "  measurements                protocol measurementType measurementValue\n",
      "3           SI  Von den Driesch (1976)              PL             13,1\n",
      "  measurements                 protocol measurementType measurementValue\n",
      "4           SI  L'Hereux y Borella 2011              Bp             27,5\n",
      "4           SI  L'Hereux y Borella 2011              Dp             22,2\n",
      "  measurements                 protocol measurementType measurementValue\n",
      "5           SI  L'Hereux y Borella 2011              Dd               19\n",
      "  measurements                protocol measurementType measurementValue\n",
      "6           SI  Von den Driesch (1976)              GL             47,2\n",
      "6           SI  Von den Driesch (1976)              La             46,8\n",
      "6           SI  Von den Driesch (1976)             Dip                7\n",
      "6           SI  Von den Driesch (1976)              SC              2,9\n",
      "6           SI  Von den Driesch (1976)              Bd                4\n",
      "6           SI  Von den Driesch (1976)              Dd             3,85\n",
      "Error: Size Mismatch\n",
      "  measurements                protocol measurementType measurementValue\n",
      "8           SI  Von den Driesch (1976)              Bd                4\n",
      "8           SI  Von den Driesch (1976)              Dd              3,9\n",
      "  measurements                protocol measurementType measurementValue\n",
      "9           SI  Von den Driesch (1976)              GL             26,5\n",
      "9           SI  Von den Driesch (1976)              Lm               25\n",
      "9           SI  Von den Driesch (1976)              Bp              4,9\n",
      "9           SI  Von den Driesch (1976)              Dp              2,9\n",
      "9           SI  Von den Driesch (1976)              SC                2\n",
      "9           SI  Von den Driesch (1976)              Bd             5,25\n",
      "9           SI  Von den Driesch (1976)              Dd                3\n",
      "   measurements                protocol measurementType measurementValue\n",
      "10           SI  Von den Driesch (1976)              GL             26,4\n",
      "10           SI  Von den Driesch (1976)              Lm             24,9\n",
      "10           SI  Von den Driesch (1976)              Bp                5\n",
      "10           SI  Von den Driesch (1976)              Dp                3\n",
      "10           SI  Von den Driesch (1976)              SC              1,9\n",
      "10           SI  Von den Driesch (1976)              Bd              5,3\n",
      "10           SI  Von den Driesch (1976)              Dd                3\n",
      "   measurements                protocol measurementType measurementValue\n",
      "11           SI  Von den Driesch (1976)              GL               35\n",
      "11           SI  Von den Driesch (1976)              Bp              4,1\n",
      "11           SI  Von den Driesch (1976)              SC              1,7\n",
      "11           SI  Von den Driesch (1976)              Bd              3,6\n",
      "   measurements                protocol measurementType measurementValue\n",
      "12           SI  Von den Driesch (1976)              GL             21,2\n",
      "12           SI  Von den Driesch (1976)             Dip              3,5\n",
      "12           SI  Von den Driesch (1976)              Bp              3,8\n",
      "12           SI  Von den Driesch (1976)              SC              1,4\n",
      "12           SI  Von den Driesch (1976)             Did                3\n",
      "   measurements                protocol measurementType measurementValue\n",
      "13           SI  Von den Driesch (1976)             DiA              2,1\n",
      "   measurements                protocol measurementType measurementValue\n",
      "14           SI  Von den Driesch (1976)             DiA              2,1\n",
      "   measurements                protocol measurementType measurementValue\n",
      "15           SI  Von den Driesch (1976)              SD              3,4\n",
      "15           SI  Von den Driesch (1976)              Bd              3,7\n",
      "15           SI  Von den Driesch (1976)              Dd                3\n",
      "   measurements                protocol measurementType measurementValue\n",
      "16           SI  Von den Driesch (1976)              Bp             11,4\n",
      "16           SI  Von den Driesch (1976)              DC              3,6\n",
      "16           SI  Von den Driesch (1976)              SD              3,4\n",
      "   measurements                protocol measurementType measurementValue\n",
      "17           SI  Von den Driesch (1976)              GL             33,2\n",
      "17           SI  Von den Driesch (1976)             GLC            32,45\n",
      "17           SI  Von den Driesch (1976)              Bp              7,8\n",
      "17           SI  Von den Driesch (1976)              DC             3,75\n",
      "   measurements                protocol measurementType measurementValue\n",
      "18           SI  Von den Driesch (1976)              SD              3,5\n",
      "18           SI  Von den Driesch (1976)              Bd              5,6\n",
      "   measurements                protocol measurementType measurementValue\n",
      "19           SI  Von den Driesch (1976)              LA              4,3\n",
      "19           SI  Von den Driesch (1976)             LAR                4\n",
      "19           SI  Von den Driesch (1976)              SH              3,6\n",
      "19           SI  Von den Driesch (1976)              SB              2,6\n"
     ]
    }
   ],
   "source": [
    "def matching_size(row):\n",
    "    \"\"\"function to match size of measurement type and value\"\"\"\n",
    "    mtype = row[\"measurementType\"].split(';')\n",
    "    mval = row[\"measurementValue\"].split(';')\n",
    "    if len(mtype) == len(mval):\n",
    "        line_split(row)\n",
    "    else:\n",
    "        print (\"Error: Size Mismatch\")\n",
    "\n",
    "def line_split(row):\n",
    "    mtype = row[\"measurementType\"].split(';')\n",
    "    mval = row[\"measurementValue\"].split(';')\n",
    "    #TODO: Conditional statement for commas\n",
    "    temp_row = pd.DataFrame(row).T\n",
    "    temp_df = pd.DataFrame() \n",
    "    #TODO: make for loop into another function for efficancy \n",
    "    for i in range(len(mval)):\n",
    "        temp_row[\"measurementType\"] = mtype[i]\n",
    "        temp_row[\"measurementValue\"] = mval[i]\n",
    "        temp_df = temp_df.append(temp_row)\n",
    "    print (temp_df)\n",
    "\n",
    "\n",
    "test = test.apply(matching_size,axis=1)"
   ]
  },
  {
   "cell_type": "code",
   "execution_count": 70,
   "metadata": {},
   "outputs": [],
   "source": [
    "#test_new_val = test.join(test.pop('measurementValue').str.split(';',expand=True))\n",
    "#test_new_val = test_new_val.set_index(['protocol','measurementType']).stack().reset_index(level=[0,1],name='measurementValue')"
   ]
  },
  {
   "cell_type": "code",
   "execution_count": 237,
   "metadata": {},
   "outputs": [],
   "source": [
    "#test_new_type = test.join(test.pop('measurementType').str.split(';',expand=True))\n",
    "#test_new_type = test_new_type.set_index(['protocol','measurementValue']).stack().reset_index(level=[0,1],name='measurementType')"
   ]
  },
  {
   "cell_type": "code",
   "execution_count": null,
   "metadata": {},
   "outputs": [],
   "source": []
  },
  {
   "cell_type": "code",
   "execution_count": null,
   "metadata": {},
   "outputs": [],
   "source": []
  }
 ],
 "metadata": {
  "kernelspec": {
   "display_name": "Python 3",
   "language": "python",
   "name": "python3"
  },
  "language_info": {
   "codemirror_mode": {
    "name": "ipython",
    "version": 3
   },
   "file_extension": ".py",
   "mimetype": "text/x-python",
   "name": "python",
   "nbconvert_exporter": "python",
   "pygments_lexer": "ipython3",
   "version": "3.7.9"
  }
 },
 "nbformat": 4,
 "nbformat_minor": 4
}
