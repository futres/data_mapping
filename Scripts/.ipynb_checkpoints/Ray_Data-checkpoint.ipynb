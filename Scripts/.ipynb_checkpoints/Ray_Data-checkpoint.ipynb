{
 "cells": [
  {
   "cell_type": "markdown",
   "metadata": {},
   "source": [
    "Data Wrangling Notebook for Bernor Equid dataset\n",
    "<br />\n",
    "Neeka Sewnath\n",
    "<br />\n",
    "nsewnath@ufl.edu"
   ]
  },
  {
   "cell_type": "code",
   "execution_count": 179,
   "metadata": {},
   "outputs": [],
   "source": [
    "import pandas as pd\n",
    "import numpy as np\n",
    "import uuid\n",
    "import re"
   ]
  },
  {
   "cell_type": "markdown",
   "metadata": {},
   "source": [
    "Silencing warnings that are unnecessary"
   ]
  },
  {
   "cell_type": "code",
   "execution_count": 180,
   "metadata": {},
   "outputs": [],
   "source": [
    "try:\n",
    "    import warnings\n",
    "    warnings.filterwarnings('ignore')\n",
    "except:\n",
    "    pass"
   ]
  },
  {
   "cell_type": "markdown",
   "metadata": {},
   "source": [
    "Read original data "
   ]
  },
  {
   "cell_type": "code",
   "execution_count": 181,
   "metadata": {},
   "outputs": [],
   "source": [
    "ray_data = pd.read_csv(\"../Original_Data/ToFuTRESVER_14_1_26_2021_REV_23.csv\")\n",
    "locality_data = pd.read_csv(\"../Original_Data/LOCAL_1_26_2021FuTRESPROTECTED2.csv\")"
   ]
  },
  {
   "cell_type": "markdown",
   "metadata": {},
   "source": [
    "Standardize 'SEX' column "
   ]
  },
  {
   "cell_type": "code",
   "execution_count": 182,
   "metadata": {},
   "outputs": [],
   "source": [
    "female = ray_data['SEX']==\"female\"\n",
    "male = ray_data['SEX'] == \"male\"\n",
    "ray_data['SEX'][(female == False)&(male==False)]=\"not collected\""
   ]
  },
  {
   "cell_type": "markdown",
   "metadata": {},
   "source": [
    "Standardize \"SIDE\" column"
   ]
  },
  {
   "cell_type": "code",
   "execution_count": 183,
   "metadata": {},
   "outputs": [],
   "source": [
    "# Clean up Side column \n",
    "right = ray_data['SIDE']==\"right\"\n",
    "left = ray_data['SIDE'] == \"left\"\n",
    "ray_data['SIDE'][(left == False)&(right == False)]= \"\""
   ]
  },
  {
   "cell_type": "markdown",
   "metadata": {},
   "source": [
    "Combine genus and species column to create verbatimScientificName column (not currently accepted in GEOME)"
   ]
  },
  {
   "cell_type": "code",
   "execution_count": 184,
   "metadata": {},
   "outputs": [],
   "source": [
    "# Leave out of final dataframe for now. Use to standardize scientificName\n",
    "ray_data = ray_data.assign(verbatimScientificName = ray_data['GENUS'] + \" \" + ray_data['SPECIES'])"
   ]
  },
  {
   "cell_type": "markdown",
   "metadata": {},
   "source": [
    "Create standardized species column and dynamic properties column"
   ]
  },
  {
   "cell_type": "code",
   "execution_count": 185,
   "metadata": {
    "scrolled": false
   },
   "outputs": [],
   "source": [
    "def type_name(name):\n",
    "    \"\"\"Transfer type specimen information to dynamicProperties\"\"\"\n",
    "    name = str(name).split()\n",
    "    if len(name) == 3:\n",
    "        if name[2] == \"T\":\n",
    "            return \"Type Specimen\"\n",
    "        else:\n",
    "            return \"\"\n",
    "\n",
    "# Begin cleaning scientificName\n",
    "#ray_data[\"scientificName\"]  = ray_data[\"verbatimScientificName\"].apply(clean_name) \n",
    "ray_data = ray_data.assign(scientificName = ray_data[\"verbatimScientificName\"])\n",
    "ray_data[\"scientificName\"] = ray_data[\"scientificName\"].fillna(\"Unknown\")\n",
    "\n",
    "# Update dynamicProperties\n",
    "ray_data = ray_data.assign(dynamicProperties = ray_data[\"verbatimScientificName\"].apply(type_name))"
   ]
  },
  {
   "cell_type": "markdown",
   "metadata": {},
   "source": [
    "Create verbatimEventDate column and populate with data from DATE COLLECTED"
   ]
  },
  {
   "cell_type": "code",
   "execution_count": 186,
   "metadata": {},
   "outputs": [],
   "source": [
    "ray_data = ray_data.assign(verbatimEventDate = ray_data['DATE COLLECTED'])"
   ]
  },
  {
   "cell_type": "markdown",
   "metadata": {},
   "source": [
    "Create yearCollected column and populate it with isolated year from DATE COLLECTED"
   ]
  },
  {
   "cell_type": "code",
   "execution_count": 187,
   "metadata": {},
   "outputs": [],
   "source": [
    "# Filtering out non-date entries\n",
    "date_filter=ray_data[\"verbatimEventDate\"].str.contains(\"Lower|Upper|Uppermost|Loc\")\n",
    "ray_data = ray_data.assign(yearCollected = ray_data[\"verbatimEventDate\"][date_filter==False])\n",
    "\n",
    "# Isolating year\n",
    "ray_data['yearCollected'] = ray_data.yearCollected.str[-4:]\n",
    "ray_data['yearCollected'] = ray_data['yearCollected'].fillna(\"unknown\")"
   ]
  },
  {
   "cell_type": "markdown",
   "metadata": {},
   "source": [
    "Create individualID column and populate it with SPEC_ID"
   ]
  },
  {
   "cell_type": "code",
   "execution_count": 188,
   "metadata": {},
   "outputs": [],
   "source": [
    "ray_data = ray_data.assign(individualID = ray_data['SPEC_ID'])"
   ]
  },
  {
   "cell_type": "markdown",
   "metadata": {},
   "source": [
    "Create verbatimAgeValue columns and populate with AGE"
   ]
  },
  {
   "cell_type": "code",
   "execution_count": 189,
   "metadata": {},
   "outputs": [],
   "source": [
    "ray_data = ray_data.assign(verbatimAgeValue = ray_data['AGE'])"
   ]
  },
  {
   "cell_type": "markdown",
   "metadata": {},
   "source": [
    "Create minimumChronometricAge and maximumChronometricAge to handle age ranges"
   ]
  },
  {
   "cell_type": "code",
   "execution_count": 190,
   "metadata": {},
   "outputs": [],
   "source": [
    "temp_verbatim = ray_data[\"verbatimAgeValue\"].fillna(\"Unknown\")\n",
    "\n",
    "def define_min(age):\n",
    "    \"\"\"Finds the minimum of a given range\"\"\"\n",
    "    dash = re.compile('-')\n",
    "\n",
    "    if dash.findall(age):\n",
    "        age = str(age).split(\"-\")\n",
    "        if age[0] > age[1]:\n",
    "            return age[1]\n",
    "        else:\n",
    "            return age[0]\n",
    "    elif age == \"Unknown\":\n",
    "        return \"\"\n",
    "    else:\n",
    "        return age\n",
    "\n",
    "def define_max(age):\n",
    "    \"\"\"Finds the maximum of a given range\"\"\"\n",
    "    dash = re.compile('-')\n",
    "\n",
    "    if dash.findall(age):\n",
    "        age = str(age).split(\"-\")\n",
    "        if age[0] < age[1]:\n",
    "            return age[1]\n",
    "        else:\n",
    "            return age[0]\n",
    "    elif age == \"Unknown\":\n",
    "        return \"\"\n",
    "    else:\n",
    "        return age\n",
    "\n",
    "ray_data = ray_data.assign(minimumChronometricAge = temp_verbatim.apply(define_min))\n",
    "ray_data = ray_data.assign(maximumChronometricAge = temp_verbatim.apply(define_max))"
   ]
  },
  {
   "cell_type": "markdown",
   "metadata": {},
   "source": [
    "Create minimumChronometricAgeReferenceSystem and maximumChronometricAgeReferenceSystem and populate with mya"
   ]
  },
  {
   "cell_type": "code",
   "execution_count": 191,
   "metadata": {},
   "outputs": [],
   "source": [
    "ray_data = ray_data.assign(minimumChronometricAgeReferenceSystem = \"mya\")\n",
    "ray_data = ray_data.assign(maximumChronometricAgeReferenceSystem = \"mya\")"
   ]
  },
  {
   "cell_type": "markdown",
   "metadata": {},
   "source": [
    "Add Country and Locality by matching to Locality sheet"
   ]
  },
  {
   "cell_type": "code",
   "execution_count": 192,
   "metadata": {},
   "outputs": [],
   "source": [
    "# Create two dictionaries; one for country and one for locality\n",
    "country_dict = locality_data.set_index('COUNTRY No').to_dict()['COUNTRYName']\n",
    "locality_dict = locality_data.set_index('LOCALITY No.').to_dict()['LOCALITYName']\n",
    "\n",
    "def country_fetch(country):\n",
    "    \"\"\"Fetches country using country dictionary\"\"\"\n",
    "    if country in country_dict.keys():\n",
    "        return country_dict[country]\n",
    "\n",
    "def locality_fetch(locality):\n",
    "    \"\"\"Fetches localty using locality dictionary\"\"\"\n",
    "    if locality in locality_dict.keys():\n",
    "        return locality_dict[locality]\n",
    "    \n",
    "ray_data = ray_data.assign(country = ray_data[\"COUNTRY\"].apply(country_fetch))\n",
    "ray_data = ray_data.assign(verbatimLocality = ray_data[\"LOCALITY\"].apply(locality_fetch))\n",
    "ray_data = ray_data.assign(locality = ray_data[\"verbatimLocality\"])\n",
    "\n",
    "ray_data[\"country\"] = ray_data[\"country\"].fillna(\"Unknown\")\n",
    "ray_data[\"locality\"] = ray_data[\"locality\"].fillna(\"Unknown\")\n",
    "           \n",
    "ray_data['country']=ray_data['country'].replace({'Tibetan Plateau, Nepal':'Nepal',\n",
    "                                                 'Baz':'Unknown',\n",
    "                                                 'Molyan' : 'Unknown',\n",
    "                                                 'S. Africa' : 'South Africa'}) \n",
    "\n",
    "# ray_data=ray_data.assign(locality= ray_data[\"verbatimLocality\"]).fillna(\"Unknown\")\n"
   ]
  },
  {
   "cell_type": "markdown",
   "metadata": {},
   "source": [
    "Select specified columns for final dataset"
   ]
  },
  {
   "cell_type": "code",
   "execution_count": 193,
   "metadata": {},
   "outputs": [],
   "source": [
    "# Create column list\n",
    "cols = ray_data.columns.tolist()\n",
    "\n",
    "# Specify desired columns\n",
    "cols = ['individualID',\n",
    "        'SEX',\n",
    "        'SIDE',\n",
    "        'scientificName',\n",
    "        'dynamicProperties',\n",
    "        'verbatimEventDate',\n",
    "        'yearCollected',\n",
    "        'verbatimAgeValue',\n",
    "        'verbatimLocality',\n",
    "        'country',\n",
    "        'locality',\n",
    "        'minimumChronometricAge',\n",
    "        'maximumChronometricAge',\n",
    "        'minimumChronometricAgeReferenceSystem',\n",
    "        'maximumChronometricAgeReferenceSystem',\n",
    "        'BONE',\n",
    "        'M1',\n",
    "        'M2',\n",
    "        'M3',\n",
    "        'M4',\n",
    "        'M5',\n",
    "        'M6',\n",
    "        'M7',\n",
    "        'M8',\n",
    "        'M9',\n",
    "        'M10',\n",
    "        'M11',\n",
    "        'M12',\n",
    "        'M13',\n",
    "        'M14',\n",
    "        'M15',\n",
    "        'M16',\n",
    "        ' M17',\n",
    "        'M18',\n",
    "        'M19',\n",
    "        'M20',\n",
    "        'M21',\n",
    "        'M22',\n",
    "        'M23',\n",
    "        'M24',\n",
    "        'M25',\n",
    "        'M26',\n",
    "        'M27',\n",
    "        'M28',\n",
    "        'M29',\n",
    "        'M30',\n",
    "        'M31',\n",
    "        'M32',\n",
    "        'M33',\n",
    "        'M34',\n",
    "        'M35',\n",
    "        'M36',\n",
    "        'M37',\n",
    "        'M38']\n",
    "\n",
    "# Subset dataframe\n",
    "ray_data = ray_data[cols]"
   ]
  },
  {
   "cell_type": "markdown",
   "metadata": {},
   "source": [
    "Matching template and column terms"
   ]
  },
  {
   "cell_type": "code",
   "execution_count": 194,
   "metadata": {},
   "outputs": [],
   "source": [
    "# Renaming columns \n",
    "ray_data = ray_data.rename(columns = {'SEX':'sex',\n",
    "                                      'SIDE':'side'})"
   ]
  },
  {
   "cell_type": "markdown",
   "metadata": {},
   "source": [
    "Create measurementUnit column (switched to mm, conversion will occur later)"
   ]
  },
  {
   "cell_type": "code",
   "execution_count": 195,
   "metadata": {},
   "outputs": [],
   "source": [
    "ray_data = ray_data.assign(measurementUnit = \"mm\")"
   ]
  },
  {
   "cell_type": "markdown",
   "metadata": {},
   "source": [
    "Create basisofRecord column and populate"
   ]
  },
  {
   "cell_type": "code",
   "execution_count": 196,
   "metadata": {},
   "outputs": [],
   "source": [
    "ray_data  =ray_data.assign(basisOfRecord = \"FossilSpecimen\")"
   ]
  },
  {
   "cell_type": "markdown",
   "metadata": {},
   "source": [
    "Fill in blanks for required columns "
   ]
  },
  {
   "cell_type": "code",
   "execution_count": 197,
   "metadata": {},
   "outputs": [],
   "source": [
    "ray_data=ray_data.assign(samplingProtocol=\"Unknown\")\n",
    "ray_data=ray_data.assign(measurementMethod=\"Unknown\")"
   ]
  },
  {
   "cell_type": "markdown",
   "metadata": {},
   "source": [
    "Create necessary materialSampleID column and populate with UUID (use hex to remove dashes). Create necessary eventID column and populate with materialSampleID column"
   ]
  },
  {
   "cell_type": "code",
   "execution_count": 198,
   "metadata": {},
   "outputs": [],
   "source": [
    "ray_data = ray_data.assign(materialSampleID = '')\n",
    "ray_data['materialSampleID'] = [uuid.uuid4().hex for _ in range(len(ray_data.index))]\n",
    "\n",
    "ray_data = ray_data.assign(eventID = ray_data[\"materialSampleID\"])"
   ]
  },
  {
   "cell_type": "markdown",
   "metadata": {},
   "source": [
    "Create a long version of the data frame"
   ]
  },
  {
   "cell_type": "code",
   "execution_count": 199,
   "metadata": {},
   "outputs": [],
   "source": [
    "longVers=pd.melt(ray_data, \n",
    "                id_vars=['individualID',\n",
    "                         'sex',\n",
    "                         'side',\n",
    "                         'scientificName',\n",
    "                         'dynamicProperties',\n",
    "                         'verbatimEventDate',\n",
    "                         'yearCollected',\n",
    "                         'verbatimAgeValue',\n",
    "                         'verbatimLocality',\n",
    "                         'locality',\n",
    "                         'country',\n",
    "                         'measurementUnit',\n",
    "                         'basisOfRecord',\n",
    "                         'samplingProtocol',\n",
    "                         'measurementMethod',\n",
    "                         'materialSampleID',\n",
    "                         'eventID',\n",
    "                         'minimumChronometricAge',\n",
    "                         'maximumChronometricAge',\n",
    "                         'minimumChronometricAgeReferenceSystem',\n",
    "                         'maximumChronometricAgeReferenceSystem',\n",
    "                         'BONE'], \n",
    "                var_name = 'measurementType', \n",
    "                value_name = 'measurementValue')"
   ]
  },
  {
   "cell_type": "markdown",
   "metadata": {},
   "source": [
    "Create new measurementType column by combining BONE and measurementType column"
   ]
  },
  {
   "cell_type": "code",
   "execution_count": 200,
   "metadata": {},
   "outputs": [],
   "source": [
    "longVers['measurementType'] = longVers['BONE'] + longVers['measurementType']"
   ]
  },
  {
   "cell_type": "markdown",
   "metadata": {},
   "source": [
    "Remove unnecessary BONE columnn"
   ]
  },
  {
   "cell_type": "code",
   "execution_count": 201,
   "metadata": {},
   "outputs": [],
   "source": [
    "del longVers['BONE']"
   ]
  },
  {
   "cell_type": "markdown",
   "metadata": {},
   "source": [
    "Filter out the GEOME measurements"
   ]
  },
  {
   "cell_type": "code",
   "execution_count": 202,
   "metadata": {},
   "outputs": [],
   "source": [
    "correct_element_filter = longVers[\"measurementType\"].str.match(\"\"\"femurM4|\n",
    "                                                                  femurM5|femurM6|femurM7|femurM8|\n",
    "                                                                  femurM9|femurM10|tibiaM2|\n",
    "                                                                  tibiaM3|tibiaM4|tibiaM5|tibiaM6|\n",
    "                                                                  tibiaM7|tibiaM8|humerusM3|humM3|\n",
    "                                                                  humerusM5|humM5|humerusM7|humM7|\n",
    "                                                                  humerusM8|humM8|humerusM11|humM11|\n",
    "                                                                  astM3|astM4|calcM1|calcaneumM1|calcM2|calcaneumM2|\n",
    "                                                                  calcM6|calcaneumM6|\n",
    "                                                                  calcM7|calcaneumM7|\n",
    "                                                                  astragalusM3|astragalusM4\"\"\")\n",
    "incorrect_filter = longVers[\"measurementType\"].str.contains(\"\"\"M12|M13|M14|M15|M16|M17|M18|M19|\n",
    "                                                               M20|M21|M22|M23|M24|M25|M26|M27|M28|M29|\n",
    "                                                               M30|M31|M32|M33|M34|M35|M36|M37|M38|\n",
    "                                                               humerusM30|calcaneumM11|tibiaM11|calcaneumM10|\n",
    "                                                               tibiaM10|femurM4|calcaneumM30|calcM11|astragalusM20|\n",
    "                                                               calcaneumM20|femurM20|humerusM20|tibiaM20|astM20|\n",
    "                                                               calcM20|calcaneumM30|astM30|humM30\n",
    "                                                               \"\"\")\n",
    "\n",
    "longVers=longVers[correct_element_filter==True]\n",
    "longVers=longVers[incorrect_filter==False]\n"
   ]
  },
  {
   "cell_type": "markdown",
   "metadata": {},
   "source": [
    "Renaming measurementType values"
   ]
  },
  {
   "cell_type": "code",
   "execution_count": 203,
   "metadata": {},
   "outputs": [
    {
     "data": {
      "text/plain": [
       "array(['calcaneumM1', 'calcM1', 'calcaneumM2', 'tibiaM2', 'calcM2',\n",
       "       'calcaneumM3', 'humerusM3', 'humM3', 'astragalusM4', 'tibiaM4',\n",
       "       'astM4', 'tibiaM5', 'humM5', 'calcaneumM6', 'femurM6', 'tibiaM6',\n",
       "       'astM6', 'calcM6', 'astragalusM7', 'calcaneumM7', 'femurM7',\n",
       "       'humerusM7', 'humM7', 'femurM8', 'tibiaM8', 'humM8', 'femurM10',\n",
       "       'calcM10', 'humerusM11', 'humM11', 'calcaneumM20', 'calcM20',\n",
       "       'humerusM30', 'humM30'], dtype=object)"
      ]
     },
     "execution_count": 203,
     "metadata": {},
     "output_type": "execute_result"
    }
   ],
   "source": [
    "longVers['measurementType'].unique()"
   ]
  },
  {
   "cell_type": "code",
   "execution_count": 204,
   "metadata": {},
   "outputs": [],
   "source": [
    "longVers['measurementType']=longVers['measurementType'].replace({#'femurM1':'femur length to greater trochanter', \n",
    "                                                                 #'femurM2':'femur length to head of femur', \n",
    "                                                                 'femusM3':'femur diaphysis breadth',\n",
    "                                                                 'femurM5':'femur proximal breadth',\n",
    "                                                                 'femurM6':'femur proximal depth',\n",
    "                                                                 'femurM7':'femur distal breadth',\n",
    "                                                                 'femurM8':'femur distal depth',\n",
    "                                                                 'femurM9':'femur trochlea breadth',\n",
    "                                                                 'femurM10':'femur caput depth',\n",
    "                                                                 #'tibiaM1':'tibia greatest length',\n",
    "                                                                 'tibiaM2':'tibia medial length',\n",
    "                                                                 'tibiaM3':'tibia diaphysis breadth',\n",
    "                                                                 'tibiaM4':'tibia diaphysis depth',\n",
    "                                                                 'tibiaM5':'tibia proximal breadth',\n",
    "                                                                 'tibiaM6':'tibia proximal depth',\n",
    "                                                                 'tibiaM7':'tibia distal breadth',\n",
    "                                                                 'tibiaM8':'tibia distal depth',\n",
    "                                                                 #'tibiaM9':'fossa digitalis length',\n",
    "                                                                 #'humerusM1': 'humerus length to ventral tubercle',\n",
    "                                                                 #'humM1':'humerus length to ventral tubercle',\n",
    "                                                                 #'humerusM2': 'humerus length to caput of humerus',\n",
    "                                                                 #'humM2':'humerus length to caput of humerus',\n",
    "                                                                 'humerusM3':'humerus diaphysis breadth',\n",
    "                                                                 'humM3':'humerus diaphysis breadth',\n",
    "                                                                 'humerusM5':'humerus proximal breadth',\n",
    "                                                                 'humM5':'humerus proximal breadth',\n",
    "                                                                 #'humerusM6':'humerus proximal depth at median tubercule',\n",
    "                                                                 #'humM6':'humerus proximal depth at median tubercule',\n",
    "                                                                 'humerusM7':'humerus trochlea breadth',\n",
    "                                                                 'humM7':'humerus trochlea breadth',\n",
    "                                                                 'humerusM8':'humerus distal depth',\n",
    "                                                                 'humM8':'humerus distal depth',\n",
    "                                                                 #'humerusM9':'maximal humerus trochlear height (medial side)',\n",
    "                                                                 #'humM9':'maximal humerus trochlear height (medial side)',\n",
    "                                                                 #'humerusM10':'minimal humerus trochlear height',\n",
    "                                                                 #'humM10':'minimal humerus trochlear height',\n",
    "                                                                 'humerusM11':\"humerus trochlear height at sagittal crest\",\n",
    "                                                                 'humM11':'humerus trochlear height at sagittal crest',\n",
    "                                                                 #'astragalusM1':'length of the medial side of talus',\n",
    "                                                                 #'astragalusM1': 'talus height',\n",
    "                                                                 #'astM1':'talus height',\n",
    "                                                                 #'astragalusM2':'talus medial trochlea tali length',\n",
    "                                                                 #'astM2':'talus medial trochlea tali length',\n",
    "                                                                 'astragalusM3':'talus breadth',\n",
    "                                                                 'astM3':'talus breadth',\n",
    "                                                                 'astragalusM4':'talus trochlea breadth',\n",
    "                                                                 'astM4':'talus trochlea breadth',\n",
    "                                                                 #'astragalusM5':'talus distal articular breadth',\n",
    "                                                                 #'astM5':'talus distal articular breadth',\n",
    "                                                                 #'astragalusM6':'talus distal articular depth',\n",
    "                                                                 #'astM6':'talus distal articular depth',\n",
    "                                                                 'astragalusM7':'talus medial depth',\n",
    "                                                                 'astM7':'talus medial depth',\n",
    "                                                                 'calcaneumM1' : 'calcaneus length',\n",
    "                                                                 'calcM1':'calcaneus length',\n",
    "                                                                 'calcaneumM2':'calcaneus proximal length (non-plantigrade)',\n",
    "                                                                 'calcM2':'calcaneus proximal length (non-plantigrade)',\n",
    "                                                                 #'calcaneumM3':'calcaneus minimal breadth',\n",
    "                                                                 #'calcM3':'calcaneus minimal breadth',\n",
    "                                                                 #'calcaneumM4':'calcaneus maximal breadth',\n",
    "                                                                 #'calcM4':'calcaneus maximal breadth',\n",
    "                                                                 #'calcaneumM5':'calcaneus maximal depth',\n",
    "                                                                 #'calcM5':'calcaneus maximal depth',\n",
    "                                                                 'calcaneumM6' : 'calcaneus distal breadth (non-plantigrade)',\n",
    "                                                                 'calcM6':'calcaneus distal breadth (non-plantigrade)',\n",
    "                                                                 'calcaneumM7':'calcaneus distal depth (non-plantigrade)',\n",
    "                                                                 'calc7':'calcaneus distal depth (non-plantigrade)'\n",
    "\n",
    "                                                                 })\n"
   ]
  },
  {
   "cell_type": "markdown",
   "metadata": {},
   "source": [
    "Create diagnosticID which is a unique number for each measurement"
   ]
  },
  {
   "cell_type": "code",
   "execution_count": 205,
   "metadata": {},
   "outputs": [],
   "source": [
    "longVers=longVers.assign(diagnosticID = '')\n",
    "longVers['diagnosticID'] = np.arange(len(longVers))"
   ]
  },
  {
   "cell_type": "markdown",
   "metadata": {},
   "source": [
    "Fix up measurementValue entrie"
   ]
  },
  {
   "cell_type": "code",
   "execution_count": 206,
   "metadata": {},
   "outputs": [],
   "source": [
    "zero_values=longVers[\"measurementValue\"]==\"0\"\n",
    "blanks = longVers[\"measurementValue\"] == \"\"\n",
    "spaces = longVers[\"measurementValue\"] == \" \"\n",
    "unknown = longVers[\"measurementValue\"] == \"Unknown\"\n",
    "\n",
    "longVers[\"measurementValue\"]=longVers[\"measurementValue\"][zero_values==False][blanks==False][unknown == False]"
   ]
  },
  {
   "cell_type": "markdown",
   "metadata": {},
   "source": [
    "If measurement value equals N/a, delete entire row"
   ]
  },
  {
   "cell_type": "code",
   "execution_count": 207,
   "metadata": {},
   "outputs": [],
   "source": [
    "longVers = longVers.dropna(subset=['measurementValue'])"
   ]
  },
  {
   "cell_type": "markdown",
   "metadata": {},
   "source": [
    "Writing long data csv file"
   ]
  },
  {
   "cell_type": "code",
   "execution_count": 208,
   "metadata": {},
   "outputs": [],
   "source": [
    "longVers.to_csv('../Mapped_Data/FuTRES_Equid_Bernor_Global_Cenozoic.csv', index = False);"
   ]
  },
  {
   "cell_type": "code",
   "execution_count": null,
   "metadata": {},
   "outputs": [],
   "source": []
  },
  {
   "cell_type": "code",
   "execution_count": null,
   "metadata": {},
   "outputs": [],
   "source": []
  }
 ],
 "metadata": {
  "kernelspec": {
   "display_name": "Python 3",
   "language": "python",
   "name": "python3"
  },
  "language_info": {
   "codemirror_mode": {
    "name": "ipython",
    "version": 3
   },
   "file_extension": ".py",
   "mimetype": "text/x-python",
   "name": "python",
   "nbconvert_exporter": "python",
   "pygments_lexer": "ipython3",
   "version": "3.8.10"
  }
 },
 "nbformat": 4,
 "nbformat_minor": 2
}
