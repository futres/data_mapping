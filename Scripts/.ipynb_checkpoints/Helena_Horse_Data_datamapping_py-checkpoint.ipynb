{
 "cells": [
  {
   "cell_type": "markdown",
   "metadata": {},
   "source": [
    "Data Wrangling Notebook for HMachado Equus Data\n",
    "<br />\n",
    "Neeka Sewnath\n",
    "<br />\n",
    "nsewnath@ufl.edu"
   ]
  },
  {
   "cell_type": "code",
   "execution_count": 4,
   "metadata": {},
   "outputs": [],
   "source": [
    "import pandas as pd\n",
    "import uuid"
   ]
  },
  {
   "cell_type": "markdown",
   "metadata": {},
   "source": [
    "Import Horse Data"
   ]
  },
  {
   "cell_type": "code",
   "execution_count": 5,
   "metadata": {},
   "outputs": [],
   "source": [
    "# Importing horse data from a comma delimited file\n",
    "horseData = pd.read_csv(\"../Original_Data/Horse data_Helena.csv\")"
   ]
  },
  {
   "cell_type": "markdown",
   "metadata": {},
   "source": [
    "Preliminary data cleaning "
   ]
  },
  {
   "cell_type": "code",
   "execution_count": 6,
   "metadata": {},
   "outputs": [
    {
     "name": "stderr",
     "output_type": "stream",
     "text": [
      "<ipython-input-6-0c39a2199422>:7: SettingWithCopyWarning: \n",
      "A value is trying to be set on a copy of a slice from a DataFrame\n",
      "\n",
      "See the caveats in the documentation: https://pandas.pydata.org/pandas-docs/stable/user_guide/indexing.html#returning-a-view-versus-a-copy\n",
      "  horseData['decimalLatitude'][ind] = c\n",
      "<ipython-input-6-0c39a2199422>:15: SettingWithCopyWarning: \n",
      "A value is trying to be set on a copy of a slice from a DataFrame\n",
      "\n",
      "See the caveats in the documentation: https://pandas.pydata.org/pandas-docs/stable/user_guide/indexing.html#returning-a-view-versus-a-copy\n",
      "  horseData['decimalLongitude'][ind] = c\n",
      "<ipython-input-6-0c39a2199422>:19: SettingWithCopyWarning: \n",
      "A value is trying to be set on a copy of a slice from a DataFrame\n",
      "\n",
      "See the caveats in the documentation: https://pandas.pydata.org/pandas-docs/stable/user_guide/indexing.html#returning-a-view-versus-a-copy\n",
      "  horseData['decimalLatitude'][(na_long == True)]= \"\"\n",
      "<ipython-input-6-0c39a2199422>:20: SettingWithCopyWarning: \n",
      "A value is trying to be set on a copy of a slice from a DataFrame\n",
      "\n",
      "See the caveats in the documentation: https://pandas.pydata.org/pandas-docs/stable/user_guide/indexing.html#returning-a-view-versus-a-copy\n",
      "  horseData['decimalLongitude'][(na_lat == True)]= \"\"\n"
     ]
    }
   ],
   "source": [
    "# Cleaning decimalLatitude by removing S and making value negative\n",
    "for ind in horseData.index:\n",
    "    a = horseData['decimalLatitude'][ind]\n",
    "    b = str(a)\n",
    "    c=b[:-1]\n",
    "    c=\"-\"+c\n",
    "    horseData['decimalLatitude'][ind] = c\n",
    "\n",
    "# Cleaning decimalLongitude by removing W and making value negative\n",
    "for ind in horseData.index:\n",
    "    a = horseData['decimalLongitude'][ind]\n",
    "    b = str(a)\n",
    "    c=b[:-1]\n",
    "    c=\"-\"+c\n",
    "    horseData['decimalLongitude'][ind] = c\n",
    "\n",
    "na_long = horseData['decimalLatitude']==\"-na\"\n",
    "na_lat = horseData['decimalLongitude']==\"-na\"\n",
    "horseData['decimalLatitude'][(na_long == True)]= \"\"\n",
    "horseData['decimalLongitude'][(na_lat == True)]= \"\"\n"
   ]
  },
  {
   "cell_type": "code",
   "execution_count": 7,
   "metadata": {},
   "outputs": [],
   "source": [
    "# Combining SpecimenType to MeasurementType Columns\n",
    "horseData['test'] = horseData['specimenType'].str.cat(horseData['measurementType'])\n",
    "\n",
    "# Standardization from fossil to FossilSpecimen\n",
    "horseData.loc[horseData['basisOfRecord'] == 'fossil', 'basisOfRecord'] = 'FossilSpecimen'\n",
    "#horseData['basisOfRecord']\n",
    "\n",
    "# Measurement unit from millimeters to mm\n",
    "horseData.loc[horseData['measurementUnit'] == 'millimeters', 'measurementUnit'] = 'mm'\n",
    "#horseData['measurementUnit']"
   ]
  },
  {
   "cell_type": "code",
   "execution_count": 31,
   "metadata": {},
   "outputs": [],
   "source": [
    "# Rearrange columns so that template columns are first, followed by measurement values\n",
    "\n",
    "# Create column list\n",
    "cols = horseData.columns.tolist()\n",
    "\n",
    "# Specify desired columns\n",
    "cols = ['institutionCode',\n",
    "        'collectionCode',\n",
    "        'specimenID',\n",
    "        'side',\n",
    "        'test',\n",
    "        'scientificName',\n",
    "        'decimalLatitude',\n",
    "        'decimalLongitude',\n",
    "        'sitename',\n",
    "        'verbatimLocality',\n",
    "        'basisOfRecord',\n",
    "        'measurementValue',\n",
    "        'measurementUnit',\n",
    "        'lithostratigraphicTerms',\n",
    "        'formation',\n",
    "        'member',\n",
    "        'references']\n",
    "\n",
    "#Subset dataframe\n",
    "horseData = horseData[cols]"
   ]
  },
  {
   "cell_type": "code",
   "execution_count": 32,
   "metadata": {},
   "outputs": [],
   "source": [
    "# Matching template and column terms\n",
    "\n",
    "#Renaming columns \n",
    "horseData = horseData.rename(columns = {'specimenID':'catalogNumber',\n",
    "                                        'specimenType':'skeletalElement',\n",
    "                                        'side':'measurementSide',\n",
    "                                        'sitename':'locality',\n",
    "                                        'test': 'measurementType',\n",
    "                                        'reference':'measurementMethod'})"
   ]
  },
  {
   "cell_type": "code",
   "execution_count": 33,
   "metadata": {},
   "outputs": [],
   "source": [
    "#Sectioning off ingested data\n",
    "\n",
    "#horseData = horseData[horseData[\"\"]]"
   ]
  },
  {
   "cell_type": "code",
   "execution_count": 34,
   "metadata": {},
   "outputs": [],
   "source": [
    "#create materialSampleID which is a UUID for each measurement\n",
    "horseData=horseData.assign(materialSampleID = '')\n",
    "horseData['materialSampleID'] = [uuid.uuid4().hex for _ in range(len(horseData.index))]"
   ]
  },
  {
   "cell_type": "code",
   "execution_count": 35,
   "metadata": {},
   "outputs": [],
   "source": [
    "# Create GEOME required columns \n",
    "horseData[\"scientificName\"]= horseData[\"scientificName\"].fillna(\"Unknown\")\n",
    "horseData=horseData.assign(eventID = horseData[\"materialSampleID\"])\n",
    "horseData=horseData.assign(measurementMethod = \"unknown\")\n",
    "horseData=horseData.assign(country = \"unknown\")\n",
    "horseData=horseData.assign(yearCollected = \"unknown\")\n",
    "horseData=horseData.assign(samplingProtocol = \"unknown\")"
   ]
  },
  {
   "cell_type": "markdown",
   "metadata": {},
   "source": [
    "Create diagnosticID"
   ]
  },
  {
   "cell_type": "code",
   "execution_count": 36,
   "metadata": {},
   "outputs": [],
   "source": [
    "#create diagnosticID which is a UUID for each measurement\n",
    "horseData=horseData.assign(diagnosticID = '')\n",
    "horseData['diagnosticID'] = [uuid.uuid4() for _ in range(len(horseData.index))]"
   ]
  },
  {
   "cell_type": "markdown",
   "metadata": {},
   "source": [
    "Write file to csv"
   ]
  },
  {
   "cell_type": "code",
   "execution_count": 37,
   "metadata": {},
   "outputs": [],
   "source": [
    "#Writing the final dataframe as csv file\n",
    "horseData.to_csv('../Mapped_Data/FuTRES_Equus_HMachado_Americas_paleo.csv')"
   ]
  },
  {
   "cell_type": "code",
   "execution_count": null,
   "metadata": {},
   "outputs": [],
   "source": [
    "#End Notes\n",
    "#measurementUnit still has empty columns \n",
    "#the word \"cast\" in basisOfRecord\n",
    "#check what traits are ready to be ingested"
   ]
  }
 ],
 "metadata": {
  "kernelspec": {
   "display_name": "Python 3",
   "language": "python",
   "name": "python3"
  },
  "language_info": {
   "codemirror_mode": {
    "name": "ipython",
    "version": 3
   },
   "file_extension": ".py",
   "mimetype": "text/x-python",
   "name": "python",
   "nbconvert_exporter": "python",
   "pygments_lexer": "ipython3",
   "version": "3.8.3"
  }
 },
 "nbformat": 4,
 "nbformat_minor": 2
}
