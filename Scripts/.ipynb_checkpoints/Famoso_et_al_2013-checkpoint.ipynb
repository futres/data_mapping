{
 "cells": [
  {
   "cell_type": "markdown",
   "metadata": {},
   "source": [
    "Data Wrangling Notebook for Famoso et al 2013 data\n",
    "<br />\n",
    "Neeka Sewnath\n",
    "<br />\n",
    "nsewnath@ufl.edu"
   ]
  },
  {
   "cell_type": "code",
   "execution_count": 4,
   "metadata": {},
   "outputs": [],
   "source": [
    "import pandas as pd\n",
    "import numpy as np\n",
    "import uuid"
   ]
  },
  {
   "cell_type": "markdown",
   "metadata": {},
   "source": [
    "Silence unnecessary errors"
   ]
  },
  {
   "cell_type": "code",
   "execution_count": 5,
   "metadata": {},
   "outputs": [],
   "source": [
    "try:\n",
    "    import warnings\n",
    "    warnings.filterwarnings('ignore')\n",
    "except:\n",
    "    pass"
   ]
  },
  {
   "cell_type": "markdown",
   "metadata": {},
   "source": [
    "Notes"
   ]
  },
  {
   "cell_type": "code",
   "execution_count": 6,
   "metadata": {},
   "outputs": [],
   "source": [
    "#What is sheet 2 in the spreadsheet?"
   ]
  },
  {
   "cell_type": "markdown",
   "metadata": {},
   "source": [
    "Import Famoso et al 2013 data"
   ]
  },
  {
   "cell_type": "code",
   "execution_count": 7,
   "metadata": {},
   "outputs": [],
   "source": [
    "data = pd.read_csv(\"../Original_Data/Famoso_et_al_2013.csv\")"
   ]
  },
  {
   "cell_type": "markdown",
   "metadata": {},
   "source": [
    "Create verbatimScientificName"
   ]
  },
  {
   "cell_type": "code",
   "execution_count": null,
   "metadata": {},
   "outputs": [],
   "source": [
    "data = data.assign(verbatimScientificName = data[\"Genus\"] + \" \" + data[\"Species\"])\n",
    "data = data.assign(scientificName = data[\"verbatimScientificName\"])"
   ]
  },
  {
   "cell_type": "markdown",
   "metadata": {},
   "source": [
    "Adding additional required GEOME columns"
   ]
  },
  {
   "cell_type": "code",
   "execution_count": null,
   "metadata": {},
   "outputs": [],
   "source": [
    "#TODO: Check these again\n",
    "data = data.assign(country = \"Unknown\", yearCollected = \"Unknown\")"
   ]
  },
  {
   "cell_type": "markdown",
   "metadata": {},
   "source": [
    "Set samplingProtocol and measurementMethod "
   ]
  },
  {
   "cell_type": "code",
   "execution_count": null,
   "metadata": {},
   "outputs": [],
   "source": [
    "citation = \"Famoso, N. A., Feranec, R. S., & Davis, E. B. (2013). Occlusal enamel complexity and its implications for lophodonty, hypsodony, body mass, and diet in extinct and extant ungulates. Palaeogeography, Palaeoclimatology, Palaeoecology, 387, 211–216. https://doi.org/10.1016/j.palaeo.2013.07.006\"\n",
    "\n",
    "data = data.assign(samplingProtocol = citation, measurementMethod = citation)"
   ]
  },
  {
   "cell_type": "markdown",
   "metadata": {},
   "source": [
    "Rearrange columns so that template columns are first, followed by measurement values"
   ]
  },
  {
   "cell_type": "code",
   "execution_count": null,
   "metadata": {},
   "outputs": [],
   "source": [
    "# Create column list\n",
    "cols = data.columns.tolist()\n",
    "\n",
    "# Specify desired columns\n",
    "cols = ['country',\n",
    "        'yearCollected',\n",
    "        'samplingProtocol',\n",
    "        'measurementMethod',\n",
    "        'verbatimScientificName',\n",
    "        'scientificName']\n",
    "\n",
    "# Subset dataframe\n",
    "data = data[cols]"
   ]
  },
  {
   "cell_type": "markdown",
   "metadata": {},
   "source": [
    "Create necessary materialSampleID column and populate with UUID (use hex to remove dashes). "
   ]
  },
  {
   "cell_type": "code",
   "execution_count": null,
   "metadata": {},
   "outputs": [],
   "source": [
    "data = data.assign(materialSampleID = '')\n",
    "data['materialSampleID'] = [uuid.uuid4().hex for _ in range(len(data.index))]"
   ]
  },
  {
   "cell_type": "markdown",
   "metadata": {},
   "source": [
    "Create a long version of the data frame"
   ]
  },
  {
   "cell_type": "code",
   "execution_count": null,
   "metadata": {},
   "outputs": [],
   "source": [
    "# Creating long version, first specifiying keep variables, then naming variable and value\n",
    "longVers = pd.melt(data, id_vars = ['country',\n",
    "                                    'yearCollected',\n",
    "                                    'samplingProtocol',\n",
    "                                    'measurementMethod',\n",
    "                                    'verbatimScientificName',\n",
    "                                    'scientificName'], \n",
    "                                    var_name = 'measurementType', \n",
    "                                    value_name = 'measurementValue')"
   ]
  },
  {
   "cell_type": "markdown",
   "metadata": {},
   "source": [
    "Create diagnosticID which is a unique number for each measurement"
   ]
  },
  {
   "cell_type": "code",
   "execution_count": null,
   "metadata": {},
   "outputs": [],
   "source": [
    "longVers = longVers.assign(diagnosticID = '')\n",
    "longVers['diagnosticID'] = np.arange(len(longVers))"
   ]
  },
  {
   "cell_type": "markdown",
   "metadata": {},
   "source": [
    "If measurement value equals N/a, delete entire row"
   ]
  },
  {
   "cell_type": "code",
   "execution_count": null,
   "metadata": {},
   "outputs": [],
   "source": [
    "longVers = longVers.dropna(subset = ['measurementValue'])"
   ]
  },
  {
   "cell_type": "markdown",
   "metadata": {},
   "source": [
    "Writing long data csv file"
   ]
  },
  {
   "cell_type": "code",
   "execution_count": null,
   "metadata": {},
   "outputs": [],
   "source": [
    "longVers.to_csv('../Mapped_Data/Famoso_et_al_2013.csv', index = False)"
   ]
  }
 ],
 "metadata": {
  "kernelspec": {
   "display_name": "Python 3",
   "language": "python",
   "name": "python3"
  },
  "language_info": {
   "codemirror_mode": {
    "name": "ipython",
    "version": 3
   },
   "file_extension": ".py",
   "mimetype": "text/x-python",
   "name": "python",
   "nbconvert_exporter": "python",
   "pygments_lexer": "ipython3",
   "version": "3.8.3"
  }
 },
 "nbformat": 4,
 "nbformat_minor": 4
}
