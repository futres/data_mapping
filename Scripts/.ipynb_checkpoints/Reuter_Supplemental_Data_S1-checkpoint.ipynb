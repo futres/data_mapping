{
 "cells": [
  {
   "cell_type": "markdown",
   "metadata": {},
   "source": [
    "Data Wrangling Notebook for Reuter Supplemental Data\n",
    "<br />\n",
    "Neeka Sewnath\n",
    "<br />\n",
    "nsewnath@ufl.edu"
   ]
  },
  {
   "cell_type": "code",
   "execution_count": 65,
   "metadata": {},
   "outputs": [],
   "source": [
    "import pandas as pd\n",
    "import numpy as np\n",
    "import uuid"
   ]
  },
  {
   "cell_type": "markdown",
   "metadata": {},
   "source": [
    "Silence unnecessary errors"
   ]
  },
  {
   "cell_type": "code",
   "execution_count": 66,
   "metadata": {},
   "outputs": [],
   "source": [
    "try:\n",
    "    import warnings\n",
    "    warnings.filterwarnings('ignore')\n",
    "except:\n",
    "    pass"
   ]
  },
  {
   "cell_type": "markdown",
   "metadata": {},
   "source": [
    "Import Hopkins 2008 Appendix 1 Data"
   ]
  },
  {
   "cell_type": "code",
   "execution_count": 67,
   "metadata": {},
   "outputs": [],
   "source": [
    "data = pd.read_csv(\"../Original_Data/Reuter_Supplemental Data S1.csv\")"
   ]
  },
  {
   "cell_type": "markdown",
   "metadata": {},
   "source": [
    "Add individualID column and populate with UUID"
   ]
  },
  {
   "cell_type": "code",
   "execution_count": 68,
   "metadata": {},
   "outputs": [],
   "source": [
    "data = data.assign(individualID = '')\n",
    "data['individualID'] = [uuid.uuid4().hex for _ in range(len(data.index))]"
   ]
  },
  {
   "cell_type": "markdown",
   "metadata": {},
   "source": [
    "Clean up species column"
   ]
  },
  {
   "cell_type": "code",
   "execution_count": 69,
   "metadata": {},
   "outputs": [],
   "source": [
    "data = data.assign(scientificName = data[\"Species\"])"
   ]
  },
  {
   "cell_type": "markdown",
   "metadata": {},
   "source": [
    "Adding additional required GEOME columns\n",
    "<br />\n",
    "TODO: Check publication for these "
   ]
  },
  {
   "cell_type": "code",
   "execution_count": 70,
   "metadata": {},
   "outputs": [],
   "source": [
    "data = data.assign(country = \"Unknown\", yearCollected = \"Unknown\")"
   ]
  },
  {
   "cell_type": "markdown",
   "metadata": {},
   "source": [
    "Set samplingProtocol and measurementMethod \n",
    "<br />\n",
    "TODO: Check publication associated with this data "
   ]
  },
  {
   "cell_type": "code",
   "execution_count": 71,
   "metadata": {},
   "outputs": [],
   "source": [
    "citation = \"Famoso, N. A., &amp; Davis, E. B. (2014). Occlusal enamel complexity in Middle Miocene to HOLOCENE equids (equidae: Perissodactyla) of North America. PLoS ONE, 9(2). doi:10.1371/journal.pone.0090184\"\n",
    "\n",
    "data = data.assign(samplingProtocol = citation, measurementMethod = citation)"
   ]
  },
  {
   "cell_type": "markdown",
   "metadata": {},
   "source": [
    "Change Museum to institutionCode and Specimen.Number to specimenID"
   ]
  },
  {
   "cell_type": "code",
   "execution_count": 72,
   "metadata": {},
   "outputs": [],
   "source": [
    "data = data.assign(specimenID = data[\"Specimen.Number\"], institutionCode = data[\"Museum\"])"
   ]
  },
  {
   "cell_type": "markdown",
   "metadata": {},
   "source": [
    "Adding GEOME required basisofRecord column"
   ]
  },
  {
   "cell_type": "code",
   "execution_count": 73,
   "metadata": {},
   "outputs": [],
   "source": [
    "data = data.assign(basisOfRecord = \"FossilSpecimen\")"
   ]
  },
  {
   "cell_type": "markdown",
   "metadata": {},
   "source": [
    "Adding GEOME required locality column"
   ]
  },
  {
   "cell_type": "code",
   "execution_count": 74,
   "metadata": {},
   "outputs": [],
   "source": [
    "data = data.assign(locality = \"Unknown\")"
   ]
  },
  {
   "cell_type": "markdown",
   "metadata": {},
   "source": [
    "Rearrange columns so that template columns are first, followed by measurement values"
   ]
  },
  {
   "cell_type": "code",
   "execution_count": 75,
   "metadata": {},
   "outputs": [],
   "source": [
    "# Create column list\n",
    "cols = data.columns.tolist()\n",
    "\n",
    "# Specify desired columns\n",
    "cols = ['scientificName',\n",
    "        'samplingProtocol',\n",
    "        'measurementMethod',\n",
    "        'individualID', \n",
    "        'specimenID',\n",
    "        'institutionCode',\n",
    "        'country',\n",
    "        'locality',\n",
    "        'yearCollected',\n",
    "        'basisOfRecord',\n",
    "        'm1L',\n",
    "        'm1W',\n",
    "        'm2L',\n",
    "        'm2W',\n",
    "        'm3L',\n",
    "        'm3W',\n",
    "        'p1L',\n",
    "        'p1W',\n",
    "        'p2L',\n",
    "        'p2W',\n",
    "        'p3L',\n",
    "        'p4L',\n",
    "        'p4W',\n",
    "        'M1L',\n",
    "        'M1W',\n",
    "        'M2L',\n",
    "        'M2W',\n",
    "        'P1L',\n",
    "        'P1W',\n",
    "        'P2L',\n",
    "        'P2W',\n",
    "        'P3L',\n",
    "        'P3W',\n",
    "        'P4L',\n",
    "        'P4W']\n",
    "\n",
    "# Subset dataframe\n",
    "data = data[cols]"
   ]
  },
  {
   "cell_type": "markdown",
   "metadata": {},
   "source": [
    "Matching template and column terms"
   ]
  },
  {
   "cell_type": "code",
   "execution_count": 76,
   "metadata": {},
   "outputs": [],
   "source": [
    "data = data.rename(columns = {'m1L':'lower secondary molar tooth 1 occlusal surface length',\n",
    "                              'm1W':'lower secondary molar tooth 1 occlusal surface width',\n",
    "                              'm2L':'lower secondary molar tooth 2 occlusal surface length',\n",
    "                              'm2W':'lower secondary molar tooth 2 occlusal surface width',\n",
    "                              'm3L':'lower secondary molar tooth 3 occlusal surface length',\n",
    "                              'm3W':'lower secondary molar tooth 3 occlusal width',\n",
    "                              'p1L':'lower secondary premolar tooth 1 occlusal surface length',\n",
    "                              'p1W':'lower secondary premolar tooth 1 occlusal surface width',\n",
    "                              'p2L':'lower secondary premolar tooth 2 occlusal surface length',\n",
    "                              'p2W':'lower secondary premolar tooth 2 occlusal surface width',\n",
    "                              'p3L':'lower secondary premolar tooth 3 occlusal surface length',\n",
    "                              'p3W':'lower secondary premolar tooth 3 occlusal surface width',\n",
    "                              'p4L':'lower secondary premolar tooth 4 occlusal surface length',\n",
    "                              'p4W':'lower secondary premolar tooth 4 occlusal surface width',\n",
    "                              'M1L':'upper secondary molar tooth 1 occlusal surface length',\n",
    "                              'M1W':'upper secondary molar tooth 1 occlusal surface width',\n",
    "                              'M2L':'upper secondary molar tooth 2 occlusal surface length',\n",
    "                              'M2W':'upper secondary molar tooth 2 occlusal surface width',\n",
    "                              'P1L':'upper secondary premolar tooth 1 occlusal surface length',\n",
    "                              'P1W':'upper secondary premolar tooth 1 occlusal surface width',\n",
    "                              'P2L':'upper secondary premolar tooth 2 occlusal surface length',\n",
    "                              'P2W':'upper secondary premolar tooth 2 occlusal surface width',\n",
    "                              'P3L':'upper secondary premolar tooth 3 occlusal surface length',\n",
    "                              'P3W':'upper secondary premolar tooth 3 occlusal surface width',\n",
    "                              'P4L':'upper secondary premolar tooth 4 occlusal surface length',\n",
    "                              'P4W':'upper secondary premolar tooth 4 occlusal surface width'})"
   ]
  },
  {
   "cell_type": "markdown",
   "metadata": {},
   "source": [
    "Create a long version of the data frame"
   ]
  },
  {
   "cell_type": "code",
   "execution_count": 77,
   "metadata": {},
   "outputs": [],
   "source": [
    "# Creating long version, first specifiying keep variables, then naming variable and value\n",
    "longVers = pd.melt(data, \n",
    "                id_vars = ['scientificName',\n",
    "                           'samplingProtocol',\n",
    "                           'measurementMethod',\n",
    "                           'individualID',\n",
    "                           'institutionCode',\n",
    "                           'locality',\n",
    "                           'specimenID',\n",
    "                           'basisOfRecord',\n",
    "                           'country',\n",
    "                           'yearCollected'], \n",
    "                            var_name = 'measurementType', \n",
    "                            value_name = 'measurementValue')"
   ]
  },
  {
   "cell_type": "markdown",
   "metadata": {},
   "source": [
    "Create necessary materialSampleID column and populate with UUID (use hex to remove dashes)."
   ]
  },
  {
   "cell_type": "code",
   "execution_count": 78,
   "metadata": {},
   "outputs": [],
   "source": [
    "longVers = longVers.assign(materialSampleID = '')\n",
    "longVers['materialSampleID'] = [uuid.uuid4().hex for _ in range(len(longVers.index))]\n",
    "\n",
    "longVers = longVers.assign(eventID = longVers['materialSampleID'])"
   ]
  },
  {
   "cell_type": "markdown",
   "metadata": {},
   "source": [
    "Create measurementUnit column and populate with \"mm\""
   ]
  },
  {
   "cell_type": "code",
   "execution_count": null,
   "metadata": {},
   "outputs": [],
   "source": [
    "longVers = longVers.assign(measurementUnit = 'mm')"
   ]
  },
  {
   "cell_type": "markdown",
   "metadata": {},
   "source": [
    "Create diagnosticID and populate it with uuid"
   ]
  },
  {
   "cell_type": "code",
   "execution_count": null,
   "metadata": {},
   "outputs": [],
   "source": [
    "longVers = longVers.assign(diagnosticID = '')\n",
    "longVers['diagnosticID'] = np.arange(len(longVers))"
   ]
  },
  {
   "cell_type": "markdown",
   "metadata": {},
   "source": [
    "If measurement value equals N/a, delete entire row"
   ]
  },
  {
   "cell_type": "code",
   "execution_count": 79,
   "metadata": {},
   "outputs": [],
   "source": [
    "longVers = longVers.dropna(subset = ['measurementValue'])"
   ]
  },
  {
   "cell_type": "markdown",
   "metadata": {},
   "source": [
    "Writing long data csv file"
   ]
  },
  {
   "cell_type": "code",
   "execution_count": 80,
   "metadata": {},
   "outputs": [],
   "source": [
    "longVers.to_csv('../Mapped_Data/Reuter_Supplemental_Data_S1.csv', index = False)"
   ]
  },
  {
   "cell_type": "code",
   "execution_count": null,
   "metadata": {},
   "outputs": [],
   "source": []
  }
 ],
 "metadata": {
  "kernelspec": {
   "display_name": "Python 3",
   "language": "python",
   "name": "python3"
  },
  "language_info": {
   "codemirror_mode": {
    "name": "ipython",
    "version": 3
   },
   "file_extension": ".py",
   "mimetype": "text/x-python",
   "name": "python",
   "nbconvert_exporter": "python",
   "pygments_lexer": "ipython3",
   "version": "3.8.10"
  }
 },
 "nbformat": 4,
 "nbformat_minor": 4
}
