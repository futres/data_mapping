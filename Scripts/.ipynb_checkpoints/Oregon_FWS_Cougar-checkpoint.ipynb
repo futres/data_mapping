{
 "cells": [
  {
   "cell_type": "markdown",
   "metadata": {},
   "source": [
    "# Manual Changes\n",
    "\n",
    "## template mapping files are in the git repository\n",
    "## original data in _CyVerse Discovery Environment_ \n",
    "### data file is: \"1987-2019 Cougar Weight-Length Public Request.xlsx\"\n",
    "\n",
    "### _verbatimLocality_\n",
    "- concatenation of \"Management Unit\" and \"County\"\n",
    "\n",
    "### _yearCollected_\n",
    "- in _Date_\n",
    "- create new column _yearCollected_\n",
    "- separate out year\n",
    "- include century as well (e.g., 1999)\n",
    "\n",
    "## To Code\n",
    "### _sex_\n",
    "- change \"F\" to \"female\"\n",
    "- change \"M\" to \"male\"\n",
    "\n",
    "### _ageUnit_\n",
    "- all in \"year\" (spelled out and singular)\n",
    "\n",
    "### _measurementUnit_\n",
    "- Weight ({body mass}) is in \"lb\" (keep abbreviated)\n",
    "- Length ({body length}) is in \"in\" (keep abbreviated)\n",
    "\n",
    "### _materialSampleType_\n",
    "- in \"Status\" colum\n",
    "- \"A\" = Intact \n",
    "    - change \"A\" to \"whole\"\n",
    "- \"B\" = Field Dressed\n",
    "    - change \"B\" to \"part - gutted\"\n",
    "- \"C\" = Skinned\n",
    "    - change \"C\" to part - skinned"
   ]
  },
  {
   "cell_type": "code",
   "execution_count": 182,
   "metadata": {},
   "outputs": [],
   "source": [
    "import pandas as pd\n",
    "import numpy as np \n",
    "import uuid\n",
    "import re"
   ]
  },
  {
   "cell_type": "code",
   "execution_count": 183,
   "metadata": {},
   "outputs": [],
   "source": [
    "# Import Oregon FWS Cougar Data Locally\n",
    "cougar_data = pd.read_csv(\"../Original Data/cougar_data.csv\")\n",
    "\n",
    "# Drop unnecessary rows \n",
    "cougar_data = cougar_data.iloc[4:]\n",
    "\n",
    "# Create new header\n",
    "new_header = cougar_data.iloc[0] \n",
    "cougar_data = cougar_data[1:] \n",
    "cougar_data.columns = new_header"
   ]
  },
  {
   "cell_type": "code",
   "execution_count": 184,
   "metadata": {},
   "outputs": [],
   "source": [
    "# Import locality data\n",
    "cougar_locality = pd.read_csv(\"../Original Data/oregonManagementAreas.csv\")"
   ]
  },
  {
   "cell_type": "code",
   "execution_count": 185,
   "metadata": {},
   "outputs": [],
   "source": [
    "# Create verbatimLocality column by concatenating Management Unit and County\n",
    "cougar_data=cougar_data.assign(verbatimLocality = cougar_data['Management Unit'] \n",
    "                                                + \", \"\n",
    "                                                + cougar_data['County'])"
   ]
  },
  {
   "cell_type": "code",
   "execution_count": 186,
   "metadata": {},
   "outputs": [
    {
     "name": "stderr",
     "output_type": "stream",
     "text": [
      "/Users/neeka/opt/anaconda3/lib/python3.7/site-packages/ipykernel_launcher.py:15: SettingWithCopyWarning: \n",
      "A value is trying to be set on a copy of a slice from a DataFrame\n",
      "\n",
      "See the caveats in the documentation: http://pandas.pydata.org/pandas-docs/stable/user_guide/indexing.html#returning-a-view-versus-a-copy\n",
      "  from ipykernel import kernelapp as app\n",
      "/Users/neeka/opt/anaconda3/lib/python3.7/site-packages/ipykernel_launcher.py:16: SettingWithCopyWarning: \n",
      "A value is trying to be set on a copy of a slice from a DataFrame\n",
      "\n",
      "See the caveats in the documentation: http://pandas.pydata.org/pandas-docs/stable/user_guide/indexing.html#returning-a-view-versus-a-copy\n",
      "  app.launch_new_instance()\n",
      "/Users/neeka/opt/anaconda3/lib/python3.7/site-packages/ipykernel_launcher.py:18: SettingWithCopyWarning: \n",
      "A value is trying to be set on a copy of a slice from a DataFrame\n",
      "\n",
      "See the caveats in the documentation: http://pandas.pydata.org/pandas-docs/stable/user_guide/indexing.html#returning-a-view-versus-a-copy\n",
      "/Users/neeka/opt/anaconda3/lib/python3.7/site-packages/ipykernel_launcher.py:19: SettingWithCopyWarning: \n",
      "A value is trying to be set on a copy of a slice from a DataFrame\n",
      "\n",
      "See the caveats in the documentation: http://pandas.pydata.org/pandas-docs/stable/user_guide/indexing.html#returning-a-view-versus-a-copy\n"
     ]
    }
   ],
   "source": [
    "# Add lat and long columns\n",
    "cougar_data=cougar_data.assign(decimalLatitude = \"\")\n",
    "cougar_data=cougar_data.assign(decimalLongitude = \"\")\n",
    "\n",
    "unit_name=cougar_locality[\"Unit Name\"]\n",
    "management_name=cougar_data[\"Management Unit\"]\n",
    "\n",
    "#Add coordinateUncertaintyInMeters column\n",
    "cougar_data=cougar_data.assign(coordinateUncertaintyInMeters=50000)\n",
    "\n",
    "# Match unit_name to management_name and transfer coordinate information\n",
    "for i in management_name.index:\n",
    "    for j in unit_name.index:\n",
    "        if management_name[i]==unit_name[j]:\n",
    "            cougar_data[\"decimalLatitude\"][i]=cougar_locality[\"latitude\"][j]\n",
    "            cougar_data[\"decimalLongitude\"][i]=cougar_locality[\"longitude\"][j]\n",
    "        elif management_name[i]==\"McKenzie\":\n",
    "            cougar_data[\"decimalLatitude\"][i]=\"44.1083926996967\"\n",
    "            cougar_data[\"decimalLongitude\"][i]=\"-122.417312310006\"\n",
    "   \n"
   ]
  },
  {
   "cell_type": "code",
   "execution_count": 187,
   "metadata": {},
   "outputs": [],
   "source": [
    "# Create yearCollected column to deer data\n",
    "cougar_data=cougar_data.assign(yearCollected = \"\")\n",
    "cougar_data['yearCollected'] = cougar_data.Date.str[-4:]"
   ]
  },
  {
   "cell_type": "code",
   "execution_count": 188,
   "metadata": {},
   "outputs": [
    {
     "name": "stderr",
     "output_type": "stream",
     "text": [
      "/Users/neeka/opt/anaconda3/lib/python3.7/site-packages/ipykernel_launcher.py:4: SettingWithCopyWarning: \n",
      "A value is trying to be set on a copy of a slice from a DataFrame\n",
      "\n",
      "See the caveats in the documentation: http://pandas.pydata.org/pandas-docs/stable/user_guide/indexing.html#returning-a-view-versus-a-copy\n",
      "  after removing the cwd from sys.path.\n",
      "/Users/neeka/opt/anaconda3/lib/python3.7/site-packages/ipykernel_launcher.py:5: SettingWithCopyWarning: \n",
      "A value is trying to be set on a copy of a slice from a DataFrame\n",
      "\n",
      "See the caveats in the documentation: http://pandas.pydata.org/pandas-docs/stable/user_guide/indexing.html#returning-a-view-versus-a-copy\n",
      "  \"\"\"\n",
      "/Users/neeka/opt/anaconda3/lib/python3.7/site-packages/ipykernel_launcher.py:6: SettingWithCopyWarning: \n",
      "A value is trying to be set on a copy of a slice from a DataFrame\n",
      "\n",
      "See the caveats in the documentation: http://pandas.pydata.org/pandas-docs/stable/user_guide/indexing.html#returning-a-view-versus-a-copy\n",
      "  \n"
     ]
    }
   ],
   "source": [
    "# Correct sex column \n",
    "female = cougar_data['Sex']==\"F\"\n",
    "male = cougar_data['Sex'] == \"M\"\n",
    "cougar_data['Sex'][(female == False)&(male==False)]=\"not collected\"\n",
    "cougar_data['Sex'][female == True]=\"female\"\n",
    "cougar_data['Sex'][male == True]=\"male\""
   ]
  },
  {
   "cell_type": "code",
   "execution_count": 189,
   "metadata": {},
   "outputs": [],
   "source": [
    "# Create ageUnit Column and assign it to \"year\"\n",
    "cougar_data = cougar_data.assign(ageUnit = \"year\")"
   ]
  },
  {
   "cell_type": "code",
   "execution_count": 190,
   "metadata": {},
   "outputs": [
    {
     "name": "stderr",
     "output_type": "stream",
     "text": [
      "/Users/neeka/opt/anaconda3/lib/python3.7/site-packages/ipykernel_launcher.py:7: SettingWithCopyWarning: \n",
      "A value is trying to be set on a copy of a slice from a DataFrame\n",
      "\n",
      "See the caveats in the documentation: http://pandas.pydata.org/pandas-docs/stable/user_guide/indexing.html#returning-a-view-versus-a-copy\n",
      "  import sys\n",
      "/Users/neeka/opt/anaconda3/lib/python3.7/site-packages/ipykernel_launcher.py:8: SettingWithCopyWarning: \n",
      "A value is trying to be set on a copy of a slice from a DataFrame\n",
      "\n",
      "See the caveats in the documentation: http://pandas.pydata.org/pandas-docs/stable/user_guide/indexing.html#returning-a-view-versus-a-copy\n",
      "  \n",
      "/Users/neeka/opt/anaconda3/lib/python3.7/site-packages/ipykernel_launcher.py:9: SettingWithCopyWarning: \n",
      "A value is trying to be set on a copy of a slice from a DataFrame\n",
      "\n",
      "See the caveats in the documentation: http://pandas.pydata.org/pandas-docs/stable/user_guide/indexing.html#returning-a-view-versus-a-copy\n",
      "  if __name__ == '__main__':\n"
     ]
    }
   ],
   "source": [
    "# Fix status column to use GEOME terms \n",
    "whole = cougar_data['Status']==\"A\"\n",
    "gutted = cougar_data['Status']==\"B\"\n",
    "skinned = cougar_data['Status']==\"C\"\n",
    "skinned = cougar_data['Status']==\"c\"\n",
    "\n",
    "cougar_data['Status'][whole == True] = \"whole organism\"\n",
    "cougar_data['Status'][gutted == True] = \"part organism\"\n",
    "cougar_data['Status'][skinned == True] = \"part organism\""
   ]
  },
  {
   "cell_type": "code",
   "execution_count": 191,
   "metadata": {},
   "outputs": [],
   "source": [
    "# Rearrange columns so that template columns are first, followed by measurement values\n",
    "\n",
    "# Create column list\n",
    "cols = cougar_data.columns.tolist()\n",
    "\n",
    "# Specify desired columns\n",
    "cols = ['verbatimLocality',\n",
    "        'yearCollected',\n",
    "        'decimalLatitude', \n",
    "        'decimalLongitude',\n",
    "        'coordinateUncertaintyInMeters',\n",
    "        'Date',\n",
    "        'Sex',\n",
    "        'ageUnit',\n",
    "        'Status',\n",
    "        'Age',\n",
    "        'Weight',\n",
    "        'Length']\n",
    "\n",
    "# Subset dataframe\n",
    "cougar_data = cougar_data[cols]"
   ]
  },
  {
   "cell_type": "code",
   "execution_count": 192,
   "metadata": {},
   "outputs": [],
   "source": [
    "# Matching template and column terms\n",
    "\n",
    "# Renaming columns \n",
    "cougar_data = cougar_data.rename(columns = {'Sex':'sex',\n",
    "                                            'Date':'verbatimEventDate',\n",
    "                                            'Status':'materialSampleType',\n",
    "                                            'Age': 'verbatimAgeValue'})"
   ]
  },
  {
   "cell_type": "code",
   "execution_count": 193,
   "metadata": {},
   "outputs": [],
   "source": [
    "# Matching trait and ontology terms\n",
    "\n",
    "# Renaming columns\n",
    "cougar_data = cougar_data.rename(columns={'Weight': 'body mass',\n",
    "                                          'Length': 'body length'})"
   ]
  },
  {
   "cell_type": "code",
   "execution_count": 194,
   "metadata": {},
   "outputs": [],
   "source": [
    "# Create measurementUnit column\n",
    "cougar_data = cougar_data.assign(measurementUnit=\"\")"
   ]
  },
  {
   "cell_type": "code",
   "execution_count": 195,
   "metadata": {},
   "outputs": [],
   "source": [
    "# Fill in blanks for required columns \n",
    "cougar_data=cougar_data.assign(country=\"USA\")\n",
    "cougar_data=cougar_data.assign(stateProvince=\"Oregon\")\n",
    "cougar_data=cougar_data.assign(basisOfRecord=\"PreservedSpecimen\")\n",
    "cougar_data=cougar_data.assign(scientificName=\"Puma concolor\")\n",
    "cougar_data=cougar_data.assign(locality=\"Unknown\")\n",
    "cougar_data=cougar_data.assign(samplingProtocol=\"Unknown\")\n",
    "cougar_data=cougar_data.assign(measurementMethod=\"Unknown\")"
   ]
  },
  {
   "cell_type": "code",
   "execution_count": 196,
   "metadata": {},
   "outputs": [],
   "source": [
    "# Adding an additional column for ageValue\n",
    "cougar_data=cougar_data.assign(ageValue=\"\")\n",
    "cougar_data[\"ageValue\"]=cougar_data[\"verbatimAgeValue\"]"
   ]
  },
  {
   "cell_type": "code",
   "execution_count": 197,
   "metadata": {},
   "outputs": [
    {
     "name": "stderr",
     "output_type": "stream",
     "text": [
      "/Users/neeka/opt/anaconda3/lib/python3.7/site-packages/ipykernel_launcher.py:12: SettingWithCopyWarning: \n",
      "A value is trying to be set on a copy of a slice from a DataFrame\n",
      "\n",
      "See the caveats in the documentation: http://pandas.pydata.org/pandas-docs/stable/user_guide/indexing.html#returning-a-view-versus-a-copy\n",
      "  if sys.path[0] == '':\n"
     ]
    }
   ],
   "source": [
    "# Create materialSampleID which is a UUID for each measurement\n",
    "# Create eventID and populate it with materialSampleID\n",
    "\n",
    "cougar_data=cougar_data.assign(materialSampleID = '')\n",
    "cougar_data['materialSampleID'] = [uuid.uuid4() for _ in range(len(cougar_data.index))]\n",
    "\n",
    "for ind in cougar_data.index:\n",
    "    x=cougar_data['materialSampleID'][ind]\n",
    "    y=str(x)\n",
    "    z=y.replace(\"-\", '_')\n",
    "    \n",
    "    cougar_data['materialSampleID'][ind] = z\n",
    "\n",
    "cougar_data=cougar_data.assign(eventID = cougar_data[\"materialSampleID\"])"
   ]
  },
  {
   "cell_type": "code",
   "execution_count": 198,
   "metadata": {},
   "outputs": [],
   "source": [
    "#  Create long version so that each trait has its own row\n",
    "\n",
    "# Creating long version, first specifiying keep variables, then naming variable and value\n",
    "longVers=pd.melt(cougar_data, \n",
    "                id_vars=['verbatimLocality',\n",
    "                         'yearCollected',\n",
    "                         'sex',\n",
    "                         'ageUnit',\n",
    "                         'materialSampleType',\n",
    "                         'verbatimAgeValue',\n",
    "                         'ageValue',\n",
    "                         'verbatimEventDate',\n",
    "                         'country',\n",
    "                         'stateProvince',\n",
    "                         'eventID',\n",
    "                         'locality',\n",
    "                         'decimalLatitude', \n",
    "                         'decimalLongitude',\n",
    "                         'coordinateUncertaintyInMeters',\n",
    "                         'measurementMethod',\n",
    "                         'samplingProtocol',\n",
    "                         'basisOfRecord',\n",
    "                         'scientificName',\n",
    "                         'materialSampleID',\n",
    "                         'measurementUnit'], \n",
    "                var_name = 'measurementType', \n",
    "                value_name = 'measurementValue')\n"
   ]
  },
  {
   "cell_type": "code",
   "execution_count": 199,
   "metadata": {},
   "outputs": [
    {
     "name": "stderr",
     "output_type": "stream",
     "text": [
      "/Users/neeka/opt/anaconda3/lib/python3.7/site-packages/ipykernel_launcher.py:6: SettingWithCopyWarning: \n",
      "A value is trying to be set on a copy of a slice from a DataFrame\n",
      "\n",
      "See the caveats in the documentation: http://pandas.pydata.org/pandas-docs/stable/user_guide/indexing.html#returning-a-view-versus-a-copy\n",
      "  \n",
      "/Users/neeka/opt/anaconda3/lib/python3.7/site-packages/ipykernel_launcher.py:7: SettingWithCopyWarning: \n",
      "A value is trying to be set on a copy of a slice from a DataFrame\n",
      "\n",
      "See the caveats in the documentation: http://pandas.pydata.org/pandas-docs/stable/user_guide/indexing.html#returning-a-view-versus-a-copy\n",
      "  import sys\n"
     ]
    }
   ],
   "source": [
    "# Populating measurementUnit column with appropriate measurement units in long version\n",
    "\n",
    "long_body_mass_filter=longVers['measurementType']==\"body mass\"\n",
    "long_no_body_filter=longVers['measurementType']!=\"body mass\"\n",
    "\n",
    "longVers['measurementUnit'][long_body_mass_filter] = \"lb\"\n",
    "longVers['measurementUnit'][long_no_body_filter] = \"in\""
   ]
  },
  {
   "cell_type": "code",
   "execution_count": 200,
   "metadata": {},
   "outputs": [],
   "source": [
    "# Create diagnosticID which is a unique number for each measurement\n",
    "longVers=longVers.assign(diagnosticID = '')\n",
    "longVers['diagnosticID'] = np.arange(len(longVers))"
   ]
  },
  {
   "cell_type": "code",
   "execution_count": 201,
   "metadata": {},
   "outputs": [],
   "source": [
    "# If measurement value equals N/a, delete entire row\n",
    "longVers = longVers.dropna(subset=['measurementValue'])\n",
    "\n",
    "# Drop first row of data, it contains no measurementValue but is still retained\n",
    "#longVers = longVers.drop(longVers.index[0])"
   ]
  },
  {
   "cell_type": "code",
   "execution_count": 202,
   "metadata": {},
   "outputs": [],
   "source": [
    "# Writing long data csv file\n",
    "longVers.to_csv('../Mapped Data/FuTRES_Puma_concolor_ODFW_OR_USA_Modern.csv', index = False);"
   ]
  },
  {
   "cell_type": "code",
   "execution_count": null,
   "metadata": {},
   "outputs": [],
   "source": []
  }
 ],
 "metadata": {
  "kernelspec": {
   "display_name": "Python 3",
   "language": "python",
   "name": "python3"
  },
  "language_info": {
   "codemirror_mode": {
    "name": "ipython",
    "version": 3
   },
   "file_extension": ".py",
   "mimetype": "text/x-python",
   "name": "python",
   "nbconvert_exporter": "python",
   "pygments_lexer": "ipython3",
   "version": "3.7.5"
  }
 },
 "nbformat": 4,
 "nbformat_minor": 2
}
