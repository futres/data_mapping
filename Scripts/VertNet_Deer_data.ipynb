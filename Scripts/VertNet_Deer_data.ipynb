{
 "cells": [
  {
   "cell_type": "markdown",
   "metadata": {},
   "source": [
    "# Manual Changes\n",
    "\n",
    "## template mapping files are in the git repository\n",
    "\n",
    "## original data in _CyVerse Discovery Environment_ \n",
    "### data file is: \"ODOVIRGCLEAN.csv\"\n",
    "\n",
    "### _lifeStage_ and _ageValue_\n",
    "- in _lifestage_\n",
    "- create new columns _ageValue_ and _ageUnit_\n",
    "- separate out lifeStage (e.g., juvenile, adult) from ageValue and ageUnit\n",
    "- make sure ageUnit is spelled out and singular (e.g., \"year\")\n",
    "\n",
    "### _yearCollected_\n",
    "- in _eventDate_\n",
    "- create new column _yearCollected_\n",
    "- separate out year\n",
    "- include century as well (e.g., 1999)\n",
    "\n",
    "### _unused columns_\n",
    "- LocationCode\n",
    "- Note\n",
    "\n",
    "## To Code\n",
    "### _measurementValue_\n",
    "- select only \"1st_\" measurement\n",
    "\n",
    "### _measurementUnit_\n",
    "- make sure either in \"g\" or \"mm\""
   ]
  },
  {
   "cell_type": "code",
   "execution_count": 1,
   "metadata": {},
   "outputs": [],
   "source": [
    "import pandas as pd\n",
    "import re\n",
    "import uuid"
   ]
  },
  {
   "cell_type": "code",
   "execution_count": 2,
   "metadata": {},
   "outputs": [],
   "source": [
    "#Import Deer VertNet Data Locally\n",
    "deer = pd.read_csv(\"../Original Data/ODOVIRGCLEAN.csv\")\n",
    "#Import Deer VertNet Data from Cyverse\n",
    "#deer = pd.read_csv(\"https://de.cyverse.org/dl/d/126821C9-D23A-4B22-9B3F-25F19311066E/ODOVIRGCLEAN.csv\")"
   ]
  },
  {
   "cell_type": "code",
   "execution_count": 3,
   "metadata": {},
   "outputs": [
    {
     "name": "stderr",
     "output_type": "stream",
     "text": [
      "/Users/neeka/opt/anaconda3/lib/python3.7/site-packages/ipykernel_launcher.py:11: SettingWithCopyWarning: \n",
      "A value is trying to be set on a copy of a slice from a DataFrame\n",
      "\n",
      "See the caveats in the documentation: http://pandas.pydata.org/pandas-docs/stable/user_guide/indexing.html#returning-a-view-versus-a-copy\n",
      "  # This is added back by InteractiveShellApp.init_path()\n",
      "/Users/neeka/opt/anaconda3/lib/python3.7/site-packages/pandas/core/indexing.py:205: SettingWithCopyWarning: \n",
      "A value is trying to be set on a copy of a slice from a DataFrame\n",
      "\n",
      "See the caveats in the documentation: http://pandas.pydata.org/pandas-docs/stable/user_guide/indexing.html#returning-a-view-versus-a-copy\n",
      "  self._setitem_with_indexer(indexer, value)\n",
      "/Users/neeka/opt/anaconda3/lib/python3.7/site-packages/ipykernel_launcher.py:13: SettingWithCopyWarning: \n",
      "A value is trying to be set on a copy of a slice from a DataFrame\n",
      "\n",
      "See the caveats in the documentation: http://pandas.pydata.org/pandas-docs/stable/user_guide/indexing.html#returning-a-view-versus-a-copy\n",
      "  del sys.path[0]\n"
     ]
    }
   ],
   "source": [
    "#Preliminary data cleaning\n",
    "\n",
    "#For values in ageValue that were present, the string was split, moved to the ageUnit\n",
    "#column, and was renamed \"year\". \n",
    "for ind in deer.index:  \n",
    "    x=deer['ageValue'][ind]\n",
    "    y=str(x)\n",
    "    z=str(y).split()\n",
    "    \n",
    "    if any(char.isdigit() for char in z[0]):\n",
    "        deer['ageUnit'][ind]=\"year\"\n",
    "        y=re.sub(z[1], '', y)\n",
    "        deer['ageValue'][ind]=y\n",
    "\n"
   ]
  },
  {
   "cell_type": "code",
   "execution_count": 4,
   "metadata": {
    "scrolled": true
   },
   "outputs": [
    {
     "name": "stderr",
     "output_type": "stream",
     "text": [
      "/Users/neeka/opt/anaconda3/lib/python3.7/site-packages/ipykernel_launcher.py:14: SettingWithCopyWarning: \n",
      "A value is trying to be set on a copy of a slice from a DataFrame\n",
      "\n",
      "See the caveats in the documentation: http://pandas.pydata.org/pandas-docs/stable/user_guide/indexing.html#returning-a-view-versus-a-copy\n",
      "  \n",
      "/Users/neeka/opt/anaconda3/lib/python3.7/site-packages/ipykernel_launcher.py:17: SettingWithCopyWarning: \n",
      "A value is trying to be set on a copy of a slice from a DataFrame\n",
      "\n",
      "See the caveats in the documentation: http://pandas.pydata.org/pandas-docs/stable/user_guide/indexing.html#returning-a-view-versus-a-copy\n",
      "/Users/neeka/opt/anaconda3/lib/python3.7/site-packages/ipykernel_launcher.py:19: SettingWithCopyWarning: \n",
      "A value is trying to be set on a copy of a slice from a DataFrame\n",
      "\n",
      "See the caveats in the documentation: http://pandas.pydata.org/pandas-docs/stable/user_guide/indexing.html#returning-a-view-versus-a-copy\n"
     ]
    }
   ],
   "source": [
    "#Prelimary data cleaning\n",
    "\n",
    "#Parsed through the eventdata column, identified year and moved year to new yearCollected column\n",
    "deer=deer.assign(yearCollected = '')\n",
    "\n",
    "for ind in deer.index:\n",
    "    a=deer['eventdate'][ind]\n",
    "    b=str(a)\n",
    "    slash=re.compile('/')\n",
    "    dash =re.compile('-')\n",
    "\n",
    "    if slash.findall(b):\n",
    "        c = b.split('/')\n",
    "        deer['yearCollected'][ind]=c[2]\n",
    "    elif dash.findall(b):\n",
    "        c = b.split('-')\n",
    "        deer['yearCollected'][ind]=c[0]\n",
    "    else:\n",
    "        deer['yearCollected'][ind]=b \n"
   ]
  },
  {
   "cell_type": "code",
   "execution_count": 5,
   "metadata": {},
   "outputs": [],
   "source": [
    "#Rearrange columns so that template columns are first, followed by measurement values\n",
    "\n",
    "#Create column list\n",
    "cols = deer.columns.tolist()\n",
    "\n",
    "#Specify desired columns\n",
    "cols = ['catalognumber',\n",
    "        'collectioncode',\n",
    "        'decimallatitude',\n",
    "        'decimallongitude',\n",
    "        'eventdate',\n",
    "        'institutioncode',\n",
    "        'lifestage',\n",
    "        'ageValue',\n",
    "        'ageUnit',\n",
    "        'locality',\n",
    "        'sex',\n",
    "        'scientificname',\n",
    "        'yearCollected',\n",
    "        '1st_body_mass',\n",
    "        '1st_ear_length',\n",
    "        '1st_hind_foot_length',\n",
    "        '1st_tail_length',\n",
    "        '1st_total_length']\n",
    "\n",
    "#Subset dataframe\n",
    "deer = deer[cols]"
   ]
  },
  {
   "cell_type": "code",
   "execution_count": 6,
   "metadata": {},
   "outputs": [],
   "source": [
    "#Matching template and column terms\n",
    "\n",
    "#Renaming columns \n",
    "deer = deer.rename(columns = {'catalognumber':'catalogNumber', \n",
    "                            'collectioncode':'collectionCode',\n",
    "                            'decimallatitude':'decimalLatitude',\n",
    "                            'decimallongitude':'decimalLongitude',\n",
    "                            'eventdate':'verbatimEventDate',\n",
    "                            'institutioncode' :'institutionCode',\n",
    "                            'lifestage':'verbatimAgeValue',\n",
    "                            'locality':'verbatimLocality',\n",
    "                            'scientificname':'scientificName'})\n"
   ]
  },
  {
   "cell_type": "code",
   "execution_count": 7,
   "metadata": {},
   "outputs": [],
   "source": [
    "#Matching trait and ontology terms\n",
    "\n",
    "#Renaming columns\n",
    "deer = deer.rename(columns={'1st_body_mass':'body mass',\n",
    "                            '1st_ear_length': 'ear length',\n",
    "                            '1st_hind_foot_length':'hind foot length',\n",
    "                            '1st_tail_length':'tail length',\n",
    "                            '1st_total_length':'full body length'})\n"
   ]
  },
  {
   "cell_type": "code",
   "execution_count": 8,
   "metadata": {},
   "outputs": [],
   "source": [
    "#create new column individualID that has a unique identifer (e.g., collectionCode, insitutionCode, catalogNumber)\n",
    "deer=deer.assign(individualID = deer['collectionCode'] + deer['institutionCode']+ deer['catalogNumber'])"
   ]
  },
  {
   "cell_type": "code",
   "execution_count": 9,
   "metadata": {},
   "outputs": [],
   "source": [
    "#create new column basisOfRecord which is \"preservedSpecimen\"\n",
    "deer=deer.assign(basisOfRecord = 'preservedSpecimen')"
   ]
  },
  {
   "cell_type": "code",
   "execution_count": 10,
   "metadata": {},
   "outputs": [],
   "source": [
    "#make a measurementUnit column\n",
    "deer=deer.assign(measurementUnit = \"\")"
   ]
  },
  {
   "cell_type": "code",
   "execution_count": 11,
   "metadata": {},
   "outputs": [
    {
     "name": "stderr",
     "output_type": "stream",
     "text": [
      "/Users/neeka/opt/anaconda3/lib/python3.7/site-packages/ipykernel_launcher.py:26: SettingWithCopyWarning: \n",
      "A value is trying to be set on a copy of a slice from a DataFrame\n",
      "\n",
      "See the caveats in the documentation: http://pandas.pydata.org/pandas-docs/stable/user_guide/indexing.html#returning-a-view-versus-a-copy\n",
      "/Users/neeka/opt/anaconda3/lib/python3.7/site-packages/ipykernel_launcher.py:28: SettingWithCopyWarning: \n",
      "A value is trying to be set on a copy of a slice from a DataFrame\n",
      "\n",
      "See the caveats in the documentation: http://pandas.pydata.org/pandas-docs/stable/user_guide/indexing.html#returning-a-view-versus-a-copy\n"
     ]
    }
   ],
   "source": [
    "#create long version so that each trait has its own row\n",
    "\n",
    "#creating long version, first specifiying keep variables, then naming variable and value\n",
    "longVers=pd.melt(deer, \n",
    "                id_vars=['catalogNumber',\n",
    "                         'individualID',\n",
    "                         'collectionCode',\n",
    "                         'decimalLatitude',\n",
    "                         'decimalLongitude', \n",
    "                         'verbatimEventDate', \n",
    "                         'institutionCode',\n",
    "                         'verbatimAgeValue',\n",
    "                         'ageValue',\n",
    "                         'ageUnit',\n",
    "                         'verbatimLocality',\n",
    "                         'sex',\n",
    "                         'scientificName',\n",
    "                         'yearCollected',\n",
    "                         'measurementUnit'], \n",
    "                          var_name = 'measurementType', \n",
    "                          value_name = 'measurementValue')\n",
    "\n",
    "#Populating measurementUnit column with appropriate measurement units in long version\n",
    "for ind in longVers.index:\n",
    "    if longVers['measurementType'][ind] == \"body mass\":\n",
    "        longVers['measurementUnit'][ind]=\"g\"\n",
    "    else:\n",
    "        longVers['measurementUnit'][ind]=\"mm\"\n"
   ]
  },
  {
   "cell_type": "code",
   "execution_count": 12,
   "metadata": {},
   "outputs": [],
   "source": [
    "#create materialSampleID which is a UUID for each measurement\n",
    "#for ind in longVers.index:\n",
    "longVers=longVers.assign(materialSampleID = '')\n",
    "longVers['materialSampleID'] = [uuid.uuid4() for _ in range(len(longVers.index))]"
   ]
  },
  {
   "cell_type": "code",
   "execution_count": 13,
   "metadata": {},
   "outputs": [],
   "source": [
    "#Writing long data csv file\n",
    "longVers.to_csv('../Mapped Data/VertNet_Deer_Data_Long.csv')"
   ]
  },
  {
   "cell_type": "code",
   "execution_count": null,
   "metadata": {},
   "outputs": [],
   "source": []
  }
 ],
 "metadata": {
  "kernelspec": {
   "display_name": "Python 3",
   "language": "python",
   "name": "python3"
  },
  "language_info": {
   "codemirror_mode": {
    "name": "ipython",
    "version": 3
   },
   "file_extension": ".py",
   "mimetype": "text/x-python",
   "name": "python",
   "nbconvert_exporter": "python",
   "pygments_lexer": "ipython3",
   "version": "3.7.5"
  }
 },
 "nbformat": 4,
 "nbformat_minor": 2
}
