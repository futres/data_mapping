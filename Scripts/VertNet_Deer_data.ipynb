{
 "cells": [
  {
   "cell_type": "markdown",
   "metadata": {},
   "source": [
    "Data Wrangling Notebook for VertNet Deer Data\n",
    "<br />\n",
    "Neeka Sewnath\n",
    "<br />\n",
    "nsewnath@ufl.edu"
   ]
  },
  {
   "cell_type": "code",
   "execution_count": 338,
   "metadata": {},
   "outputs": [],
   "source": [
    "import pandas as pd\n",
    "import re\n",
    "import uuid\n",
    "import numpy as np\n",
    "import re"
   ]
  },
  {
   "cell_type": "markdown",
   "metadata": {},
   "source": [
    "Silencing warnings that are unnecessary"
   ]
  },
  {
   "cell_type": "code",
   "execution_count": 339,
   "metadata": {},
   "outputs": [],
   "source": [
    "try:\n",
    "    import warnings\n",
    "    warnings.filterwarnings('ignore')\n",
    "except:\n",
    "    pass"
   ]
  },
  {
   "cell_type": "markdown",
   "metadata": {},
   "source": [
    "Import VertNet Deer Data"
   ]
  },
  {
   "cell_type": "code",
   "execution_count": 340,
   "metadata": {},
   "outputs": [],
   "source": [
    "deer = pd.read_csv(\"../Original_Data/ODOVIRGCLEAN.csv\")"
   ]
  },
  {
   "cell_type": "markdown",
   "metadata": {},
   "source": [
    "Add required GEOME columns"
   ]
  },
  {
   "cell_type": "code",
   "execution_count": 341,
   "metadata": {},
   "outputs": [],
   "source": [
    "deer = deer.assign(basisOfRecord = \"FossilSpecimen\")\n",
    "deer = deer.assign(samplingProtocol = \"Unknown\")\n",
    "deer = deer.assign(measurementMethod = \"Unknown\")\n",
    "deer = deer.assign(country = \"Unknown\")"
   ]
  },
  {
   "cell_type": "markdown",
   "metadata": {},
   "source": [
    "Clean up lifestage column by separating values into ageUnit and ageValue"
   ]
  },
  {
   "cell_type": "code",
   "execution_count": 342,
   "metadata": {},
   "outputs": [],
   "source": [
    "deer = deer.assign(verbatimAgeValue = deer[\"lifestage\"])\n",
    "\n",
    "# Regular expression to help detect ageValue\n",
    "dig_reg = re.compile('\\d+(\\.\\d+)?')\n",
    "\n",
    "def find_unit(life_val):\n",
    "    \"\"\"Separates ageUnit lifestage data\"\"\"\n",
    "    life_val = str(life_val).split()\n",
    "    if len(life_val) == 2 :\n",
    "        return \"year\"\n",
    "\n",
    "def find_age(life_val):\n",
    "    \"\"\"Separates ageValue from lifestage data\"\"\"\n",
    "    life_val = str(life_val).split()\n",
    "    if dig_reg.match(life_val[0]):\n",
    "        return life_val[0]\n",
    "    else:\n",
    "        return \"\"\n",
    "\n",
    "deer[\"ageUnit\"] = deer[\"lifestage\"].apply(find_unit)\n",
    "deer[\"ageValue\"] = deer[\"lifestage\"].apply(find_age)"
   ]
  },
  {
   "cell_type": "markdown",
   "metadata": {},
   "source": [
    "Remove ageValue and ageUnit values from lifestage"
   ]
  },
  {
   "cell_type": "code",
   "execution_count": 343,
   "metadata": {},
   "outputs": [],
   "source": [
    "juv_filter = deer[\"lifestage\"] == \"Juvenile\"\n",
    "deer['lifestage'][juv_filter == True] = \"juvenile\"\n",
    "deer['lifestage'][juv_filter == False] = \"\""
   ]
  },
  {
   "cell_type": "markdown",
   "metadata": {},
   "source": [
    "Parsed through the eventdata column, identified year and moved year to new yearCollected column"
   ]
  },
  {
   "cell_type": "code",
   "execution_count": 344,
   "metadata": {
    "scrolled": true
   },
   "outputs": [],
   "source": [
    "# Create yearCollected column \n",
    "deer = deer.assign(yearCollected = '')\n",
    "\n",
    "def find_year(date):\n",
    "    \"\"\"Finds year within eventdate cell\"\"\"\n",
    "    slash = re.compile('/')\n",
    "    dash = re.compile('-')\n",
    "    date = str(date)\n",
    "    \n",
    "    if slash.findall(date):\n",
    "        return date[-4:]\n",
    "    elif dash.findall(date):\n",
    "        return date[0:4]\n",
    "    else:\n",
    "        return \"unknown\"\n",
    "    \n",
    "deer[\"yearCollected\"]  = deer[\"eventdate\"].apply(find_year)"
   ]
  },
  {
   "cell_type": "markdown",
   "metadata": {},
   "source": [
    "Select specified columns for final dataset"
   ]
  },
  {
   "cell_type": "code",
   "execution_count": 346,
   "metadata": {},
   "outputs": [],
   "source": [
    "# Create column list\n",
    "cols = deer.columns.tolist()\n",
    "\n",
    "# Specify desired columns\n",
    "cols = ['catalognumber',\n",
    "        'collectioncode',\n",
    "        'country',\n",
    "        'decimallatitude',\n",
    "        'decimallongitude',\n",
    "        'eventdate',\n",
    "        'institutioncode',\n",
    "        'verbatimAgeValue',\n",
    "        'ageValue',\n",
    "        'ageUnit',\n",
    "        'locality',\n",
    "        'sex',\n",
    "        'scientificname',\n",
    "        'yearCollected',\n",
    "        'basisOfRecord',\n",
    "        'samplingProtocol',\n",
    "        'measurementMethod',\n",
    "        '1st_body_mass',\n",
    "        '1st_hind_foot_length',\n",
    "        '1st_tail_length',\n",
    "        '1st_total_length',\n",
    "        '1st_ear_length']\n",
    "\n",
    "# Subset dataframe\n",
    "deer = deer[cols]"
   ]
  },
  {
   "cell_type": "markdown",
   "metadata": {},
   "source": [
    "Matching template and column terms"
   ]
  },
  {
   "cell_type": "code",
   "execution_count": 347,
   "metadata": {},
   "outputs": [],
   "source": [
    "# Renaming columns \n",
    "deer = deer.rename(columns = {'catalognumber':'catalogNumber', \n",
    "                             'collectioncode':'collectionCode',\n",
    "                             'decimallatitude':'decimalLatitude',\n",
    "                             'decimallongitude':'decimalLongitude',\n",
    "                             'eventdate':'verbatimEventDate',\n",
    "                             'institutioncode' :'institutionCode',\n",
    "                             'locality':'verbatimLocality',\n",
    "                             'scientificname':'scientificName'})"
   ]
  },
  {
   "cell_type": "code",
   "execution_count": 348,
   "metadata": {},
   "outputs": [],
   "source": [
    "# Renaming columns\n",
    "deer = deer.rename(columns = {'1st_body_mass':'body mass',\n",
    "                             '1st_hind_foot_length':'pes length',\n",
    "                             '1st_tail_length':'tail length',\n",
    "                             '1st_total_length':'body length with tail',\n",
    "                             '1st_ear_length':'ear length to notch'})"
   ]
  },
  {
   "cell_type": "markdown",
   "metadata": {},
   "source": [
    "Create new column individualID that has a unique identifer (e.g., collectionCode, insitutionCode, catalogNumber)"
   ]
  },
  {
   "cell_type": "code",
   "execution_count": 349,
   "metadata": {},
   "outputs": [],
   "source": [
    "deer = deer.assign(individualID = deer['collectionCode'] + deer['institutionCode'] + deer['catalogNumber'])"
   ]
  },
  {
   "cell_type": "markdown",
   "metadata": {},
   "source": [
    "Create new column basisOfRecord and populate with \"preservedSpecimen\""
   ]
  },
  {
   "cell_type": "code",
   "execution_count": 350,
   "metadata": {},
   "outputs": [],
   "source": [
    "deer = deer.assign(basisOfRecord = 'PreservedSpecimen')"
   ]
  },
  {
   "cell_type": "markdown",
   "metadata": {},
   "source": [
    "Create new column locality and set to unknown"
   ]
  },
  {
   "cell_type": "code",
   "execution_count": 351,
   "metadata": {},
   "outputs": [],
   "source": [
    "deer = deer.assign(locality = \"Unknown\")"
   ]
  },
  {
   "cell_type": "markdown",
   "metadata": {},
   "source": [
    "Create necessary materialSampleID column and populate with UUID (use hex to remove dashes). Create necessary eventID column and populate with materialSampleID column"
   ]
  },
  {
   "cell_type": "code",
   "execution_count": 352,
   "metadata": {},
   "outputs": [],
   "source": [
    "deer = deer.assign(materialSampleID = '')\n",
    "deer['materialSampleID'] = [uuid.uuid4().hex for _ in range(len(deer.index))]\n",
    "\n",
    "deer = deer.assign(eventID = deer[\"materialSampleID\"])"
   ]
  },
  {
   "cell_type": "markdown",
   "metadata": {},
   "source": [
    "Create a long version of the data frame"
   ]
  },
  {
   "cell_type": "code",
   "execution_count": 353,
   "metadata": {},
   "outputs": [],
   "source": [
    "# Creating long version, first specifiying keep variables, then naming variable and value\n",
    "longVers = pd.melt(deer, \n",
    "                id_vars = ['catalogNumber',\n",
    "                           'individualID',\n",
    "                           'collectionCode',\n",
    "                           'country',\n",
    "                           'decimalLatitude',\n",
    "                           'decimalLongitude', \n",
    "                           'verbatimEventDate', \n",
    "                           'institutionCode',\n",
    "                           'verbatimAgeValue',\n",
    "                           'ageValue',\n",
    "                           'ageUnit',\n",
    "                           'verbatimLocality',\n",
    "                           'locality',\n",
    "                           'sex',\n",
    "                           'scientificName',\n",
    "                           'yearCollected',\n",
    "                           'basisOfRecord',\n",
    "                           'materialSampleID',\n",
    "                           'eventID',\n",
    "                           'measurementMethod',\n",
    "                           'samplingProtocol'], \n",
    "                            var_name = 'measurementType', \n",
    "                            value_name = 'measurementValue')\n"
   ]
  },
  {
   "cell_type": "markdown",
   "metadata": {},
   "source": [
    "Populating measurementUnit column with appropriate measurement units in long version"
   ]
  },
  {
   "cell_type": "code",
   "execution_count": 354,
   "metadata": {},
   "outputs": [],
   "source": [
    "longVers = longVers.assign(measurementUnit = \"\")\n",
    "\n",
    "#Create filters\n",
    "long_body_mass_filter = longVers['measurementType'] == \"body mass\"\n",
    "long_no_body_filter = longVers['measurementType']!= \"body mass\"\n",
    "\n",
    "#Assign units using filters\n",
    "longVers['measurementUnit'][long_body_mass_filter] = \"g\"\n",
    "longVers['measurementUnit'][long_no_body_filter] = \"mm\""
   ]
  },
  {
   "cell_type": "markdown",
   "metadata": {},
   "source": [
    "Create diagnosticID which is a unique number for each measurement"
   ]
  },
  {
   "cell_type": "code",
   "execution_count": 355,
   "metadata": {},
   "outputs": [],
   "source": [
    "longVers = longVers.assign(diagnosticID = '')\n",
    "longVers['diagnosticID'] = np.arange(len(longVers))"
   ]
  },
  {
   "cell_type": "markdown",
   "metadata": {},
   "source": [
    "If measurement value equals N/a, delete entire row"
   ]
  },
  {
   "cell_type": "code",
   "execution_count": 356,
   "metadata": {},
   "outputs": [],
   "source": [
    "longVers = longVers.dropna(subset = ['measurementValue'])"
   ]
  },
  {
   "cell_type": "markdown",
   "metadata": {},
   "source": [
    "Writing long data csv file"
   ]
  },
  {
   "cell_type": "code",
   "execution_count": 357,
   "metadata": {},
   "outputs": [],
   "source": [
    "longVers.to_csv('../Mapped_Data/FuTRES_Deer_VertNet_Global_Modern.csv', index = False)"
   ]
  }
 ],
 "metadata": {
  "kernelspec": {
   "display_name": "Python 3",
   "language": "python",
   "name": "python3"
  },
  "language_info": {
   "codemirror_mode": {
    "name": "ipython",
    "version": 3
   },
   "file_extension": ".py",
   "mimetype": "text/x-python",
   "name": "python",
   "nbconvert_exporter": "python",
   "pygments_lexer": "ipython3",
   "version": "3.8.3"
  }
 },
 "nbformat": 4,
 "nbformat_minor": 2
}
