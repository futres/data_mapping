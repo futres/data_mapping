{
 "cells": [
  {
   "cell_type": "markdown",
   "metadata": {},
   "source": [
    "Data Wrangling Notebook for VertNet Bats Data\n",
    "<br />\n",
    "Neeka Sewnath\n",
    "<br />\n",
    "nsewnath@ufl.edu"
   ]
  },
  {
   "cell_type": "code",
   "execution_count": 1,
   "metadata": {},
   "outputs": [],
   "source": [
    "import pandas as pd\n",
    "import numpy as np\n",
    "import multiprocessing\n",
    "import re\n",
    "import uuid "
   ]
  },
  {
   "cell_type": "markdown",
   "metadata": {},
   "source": [
    "Silencing warnings that are unnecessary"
   ]
  },
  {
   "cell_type": "code",
   "execution_count": 2,
   "metadata": {},
   "outputs": [],
   "source": [
    "try:\n",
    "    import warnings\n",
    "    warnings.filterwarnings('ignore')\n",
    "except:\n",
    "    pass"
   ]
  },
  {
   "cell_type": "markdown",
   "metadata": {},
   "source": [
    "Import Vertnet Bats Data"
   ]
  },
  {
   "cell_type": "code",
   "execution_count": 3,
   "metadata": {},
   "outputs": [],
   "source": [
    "bats_df = pd.read_csv(\"./../Original_Data/bats_2020-08-11b.csv\")"
   ]
  },
  {
   "cell_type": "markdown",
   "metadata": {},
   "source": [
    "Notes"
   ]
  },
  {
   "cell_type": "code",
   "execution_count": 28,
   "metadata": {},
   "outputs": [
    {
     "name": "stdout",
     "output_type": "stream",
     "text": [
      "scientificName\n",
      "body_mass.1.estimated_value\n",
      "body_mass.1.is_shorthand\n",
      "body_mass.1.location\n",
      "body_mass.1.units\n",
      "body_mass.1.units_inferred\n",
      "body_mass.1.value\n",
      "body_mass.2.estimated_value\n",
      "body_mass.2.is_shorthand\n",
      "body_mass.2.location\n",
      "body_mass.2.units\n",
      "body_mass.2.units_inferred\n",
      "body_mass.2.value\n",
      "body_mass.3.is_shorthand\n",
      "body_mass.3.location\n",
      "body_mass.3.units\n",
      "body_mass.3.units_inferred\n",
      "body_mass.3.value\n",
      "catalogNumber\n",
      "collectionCode\n",
      "continent\n",
      "coordinateprecision\n",
      "coordinateuncertaintyinmeters\n",
      "country\n",
      "countrycode\n",
      "county\n",
      "decimalLatitude\n",
      "decimalLongitude\n",
      "dynamicproperties\n",
      "ear_length.1.ambiguous_key\n",
      "ear_length.1.estimated_value\n",
      "ear_length.1.is_shorthand\n",
      "ear_length.1.location\n",
      "ear_length.1.measured_from\n",
      "ear_length.1.units\n",
      "ear_length.1.units_inferred\n",
      "ear_length.1.value\n",
      "ear_length.2.ambiguous_key\n",
      "ear_length.2.is_shorthand\n",
      "ear_length.2.location\n",
      "ear_length.2.measured_from\n",
      "ear_length.2.units\n",
      "ear_length.2.units_inferred\n",
      "ear_length.2.value\n",
      "ear_length.3.is_shorthand\n",
      "ear_length.3.location\n",
      "ear_length.3.units\n",
      "ear_length.3.units_inferred\n",
      "ear_length.3.value\n",
      "embryo_count.1.female\n",
      "embryo_count.1.left\n",
      "embryo_count.1.location\n",
      "embryo_count.1.male\n",
      "embryo_count.1.right\n",
      "embryo_count.1.side\n",
      "embryo_count.1.value\n",
      "embryo_count.2.location\n",
      "embryo_count.2.value\n",
      "embryo_count.3.location\n",
      "embryo_count.3.value\n",
      "embryo_length.1.location\n",
      "embryo_length.1.uncertain\n",
      "embryo_length.1.units\n",
      "embryo_length.1.units_inferred\n",
      "embryo_length.1.value\n",
      "embryo_length.2.location\n",
      "embryo_length.2.units\n",
      "embryo_length.2.units_inferred\n",
      "embryo_length.2.value\n",
      "embryo_length.3.location\n",
      "embryo_length.3.units\n",
      "embryo_length.3.units_inferred\n",
      "embryo_length.3.value\n",
      "embryo_length.4.location\n",
      "embryo_length.4.units\n",
      "embryo_length.4.units_inferred\n",
      "embryo_length.4.value\n",
      "eventdate\n",
      "fieldnotes\n",
      "forearm_length.1.estimated_value\n",
      "forearm_length.1.is_shorthand\n",
      "forearm_length.1.location\n",
      "forearm_length.1.units\n",
      "forearm_length.1.units_inferred\n",
      "forearm_length.1.value\n",
      "forearm_length.2.is_shorthand\n",
      "forearm_length.2.location\n",
      "forearm_length.2.units\n",
      "forearm_length.2.units_inferred\n",
      "forearm_length.2.value\n",
      "forearm_length.3.location\n",
      "forearm_length.3.units\n",
      "forearm_length.3.units_inferred\n",
      "forearm_length.3.value\n",
      "geodeticdatum\n",
      "georeferencedby\n",
      "georeferenceddate\n",
      "georeferenceprotocol\n",
      "georeferenceremarks\n",
      "georeferencesources\n",
      "georeferenceverificationstatus\n",
      "habitat\n",
      "highergeography\n",
      "hind_foot_length.1.estimated_value\n",
      "hind_foot_length.1.includes\n",
      "hind_foot_length.1.is_shorthand\n",
      "hind_foot_length.1.location\n",
      "hind_foot_length.1.units\n",
      "hind_foot_length.1.units_inferred\n",
      "hind_foot_length.1.value\n",
      "hind_foot_length.2.estimated_value\n",
      "hind_foot_length.2.includes\n",
      "hind_foot_length.2.is_shorthand\n",
      "hind_foot_length.2.location\n",
      "hind_foot_length.2.units\n",
      "hind_foot_length.2.units_inferred\n",
      "hind_foot_length.2.value\n",
      "hind_foot_length.3.is_shorthand\n",
      "hind_foot_length.3.location\n",
      "hind_foot_length.3.units\n",
      "hind_foot_length.3.units_inferred\n",
      "hind_foot_length.3.value\n",
      "institutionCode\n",
      "island\n",
      "islandgroup\n",
      "lactation_state.1.location\n",
      "lactation_state.1.value\n",
      "lactation_state.2.location\n",
      "lactation_state.2.value\n",
      "lifestage\n",
      "verbatimLocality\n",
      "locationaccordingto\n",
      "locationremarks\n",
      "maximumElevationInMeters\n",
      "minimumElevationInMeters\n",
      "municipality\n",
      "nipple_count.1.location\n",
      "nipple_count.1.value\n",
      "nipple_state.1.location\n",
      "nipple_state.1.value\n",
      "nipple_state.2.location\n",
      "nipple_state.2.value\n",
      "occurrenceid\n",
      "occurrenceremarks\n",
      "ovaries_size.1.ambiguous_key\n",
      "ovaries_size.1.dimension\n",
      "ovaries_size.1.length\n",
      "ovaries_size.1.location\n",
      "ovaries_size.1.side\n",
      "ovaries_size.1.units\n",
      "ovaries_size.1.units_inferred\n",
      "ovaries_size.1.width\n",
      "ovaries_size.2.ambiguous_key\n",
      "ovaries_size.2.dimension\n",
      "ovaries_size.2.length\n",
      "ovaries_size.2.location\n",
      "ovaries_size.2.side\n",
      "ovaries_size.2.units\n",
      "ovaries_size.2.units_inferred\n",
      "ovaries_size.2.width\n",
      "ovaries_size.3.ambiguous_key\n",
      "ovaries_size.3.dimension\n",
      "ovaries_size.3.length\n",
      "ovaries_size.3.location\n",
      "ovaries_size.3.side\n",
      "ovaries_size.3.units\n",
      "ovaries_size.3.units_inferred\n",
      "ovaries_size.3.width\n",
      "ovaries_size.4.ambiguous_key\n",
      "ovaries_size.4.dimension\n",
      "ovaries_size.4.length\n",
      "ovaries_size.4.location\n",
      "ovaries_size.4.side\n",
      "ovaries_size.4.units\n",
      "ovaries_size.4.units_inferred\n",
      "ovaries_size.4.width\n",
      "ovaries_state.1.location\n",
      "ovaries_state.1.side\n",
      "ovaries_state.1.value\n",
      "placental_scar_count.1.left\n",
      "placental_scar_count.1.location\n",
      "placental_scar_count.1.right\n",
      "placental_scar_count.1.value\n",
      "pregnancy_state.1.location\n",
      "pregnancy_state.1.value\n",
      "pregnancy_state.2.location\n",
      "pregnancy_state.2.value\n",
      "recordedby\n",
      "reproductivecondition\n",
      "scientificname\n",
      "sex\n",
      "tail_length.1.ambiguous_key\n",
      "tail_length.1.estimated_value\n",
      "tail_length.1.is_shorthand\n",
      "tail_length.1.location\n",
      "tail_length.1.units\n",
      "tail_length.1.units_inferred\n",
      "tail_length.1.value\n",
      "tail_length.2.ambiguous_key\n",
      "tail_length.2.estimated_value\n",
      "tail_length.2.is_shorthand\n",
      "tail_length.2.location\n",
      "tail_length.2.units\n",
      "tail_length.2.units_inferred\n",
      "tail_length.2.value\n",
      "tail_length.3.ambiguous_key\n",
      "tail_length.3.is_shorthand\n",
      "tail_length.3.location\n",
      "tail_length.3.units\n",
      "tail_length.3.units_inferred\n",
      "tail_length.3.value\n",
      "testes_size.1.ambiguous_key\n",
      "testes_size.1.dimension\n",
      "testes_size.1.length\n",
      "testes_size.1.location\n",
      "testes_size.1.side\n",
      "testes_size.1.units\n",
      "testes_size.1.units_inferred\n",
      "testes_size.1.width\n",
      "testes_size.2.ambiguous_key\n",
      "testes_size.2.dimension\n",
      "testes_size.2.length\n",
      "testes_size.2.location\n",
      "testes_size.2.side\n",
      "testes_size.2.units\n",
      "testes_size.2.units_inferred\n",
      "testes_size.2.width\n",
      "testes_size.3.ambiguous_key\n",
      "testes_size.3.dimension\n",
      "testes_size.3.length\n",
      "testes_size.3.location\n",
      "testes_size.3.side\n",
      "testes_size.3.units\n",
      "testes_size.3.units_inferred\n",
      "testes_size.3.width\n",
      "testes_size.4.ambiguous_key\n",
      "testes_size.4.dimension\n",
      "testes_size.4.length\n",
      "testes_size.4.location\n",
      "testes_size.4.side\n",
      "testes_size.4.units\n",
      "testes_size.4.units_inferred\n",
      "testes_size.4.width\n",
      "testes_state.1.ambiguous_key\n",
      "testes_state.1.location\n",
      "testes_state.1.value\n",
      "total_length.1.ambiguous_key\n",
      "total_length.1.estimated_value\n",
      "total_length.1.is_shorthand\n",
      "total_length.1.location\n",
      "total_length.1.units\n",
      "total_length.1.units_inferred\n",
      "total_length.1.value\n",
      "total_length.2.ambiguous_key\n",
      "total_length.2.estimated_value\n",
      "total_length.2.is_shorthand\n",
      "total_length.2.location\n",
      "total_length.2.units\n",
      "total_length.2.units_inferred\n",
      "total_length.2.value\n",
      "total_length.3.is_shorthand\n",
      "total_length.3.location\n",
      "total_length.3.units\n",
      "total_length.3.units_inferred\n",
      "total_length.3.value\n",
      "total_length.4.is_shorthand\n",
      "total_length.4.location\n",
      "total_length.4.units\n",
      "total_length.4.units_inferred\n",
      "total_length.4.value\n",
      "total_length.5.is_shorthand\n",
      "total_length.5.location\n",
      "total_length.5.units\n",
      "total_length.5.units_inferred\n",
      "total_length.5.value\n",
      "tragus_length.1.estimated_value\n",
      "tragus_length.1.is_shorthand\n",
      "tragus_length.1.location\n",
      "tragus_length.1.units\n",
      "tragus_length.1.units_inferred\n",
      "tragus_length.1.value\n",
      "tragus_length.2.is_shorthand\n",
      "tragus_length.2.location\n",
      "tragus_length.2.units\n",
      "tragus_length.2.units_inferred\n",
      "tragus_length.2.value\n",
      "tragus_length.3.location\n",
      "tragus_length.3.units\n",
      "tragus_length.3.units_inferred\n",
      "tragus_length.3.value\n",
      "verbatimcoordinates\n",
      "verbatimcoordinatesystem\n",
      "verbatimelevation\n",
      "verbatimeventdate\n",
      "verbatimlatitude\n",
      "verbatimlocality\n",
      "verbatimlongitude\n",
      "verbatimsrs\n",
      "waterbody\n",
      "lifeStage\n",
      "samplingProtocol\n",
      "measurementMethod\n",
      "basisOfRecord\n",
      "verbatimEventDate\n"
     ]
    }
   ],
   "source": [
    "scientificName\n",
    "catalogNumber\n",
    "collectionCode\n",
    "continent\n",
    "coordinateprecision\n",
    "coordinateuncertaintyinmeters\n",
    "country\n",
    "countrycode\n",
    "county\n",
    "decimalLatitude\n",
    "decimalLongitude\n",
    "dynamicproperties\n",
    "eventdate\n",
    "fieldnotes\n",
    "habitat\n",
    "institutionCode\n",
    "verbatimLocality\n",
    "locationaccordingto\n",
    "locationremarks\n",
    "maximumElevationInMeters\n",
    "minimumElevationInMeters\n",
    "municipality\n",
    "occurrenceid\n",
    "occurrenceremarks\n",
    "recordedby\n",
    "reproductivecondition\n",
    "scientificname\n",
    "sex\n",
    "verbatimcoordinates\n",
    "verbatimcoordinatesystem\n",
    "verbatimelevation\n",
    "verbatimeventdate\n",
    "verbatimlatitude\n",
    "verbatimlocality\n",
    "verbatimlongitude\n",
    "verbatimsrs\n",
    "waterbody\n",
    "lifeStage\n",
    "samplingProtocol\n",
    "measurementMethod\n",
    "basisOfRecord\n",
    "verbatimEventDate"
   ]
  },
  {
   "cell_type": "markdown",
   "metadata": {},
   "source": [
    "Clean up country column "
   ]
  },
  {
   "cell_type": "code",
   "execution_count": 11,
   "metadata": {},
   "outputs": [],
   "source": [
    "#Append countries to verbatim locality column\n",
    "bats_df[\"verbatimLocality\"] = bats_df[\"locality\"] + \",\" + bats_df[\"country\"]\n",
    "\n",
    "#Read GEOME country list\n",
    "geome_countries = pd.read_csv(\"./../Mapping Files/geome_country_list.csv\")\n",
    "\n",
    "# Create dictionary after inital GEOME run (create csv file first as a dictionary)\n",
    "#bats_df[\"country\"].unique()\n",
    "\n",
    "def country_correction(country): \n",
    "    \"\"\"Corrects country column to geome specific country list\"\"\"\n",
    "    if country in geome_countries.values:\n",
    "        return country\n",
    "    elif country in country_dictionary.keys():\n",
    "        return country_dictionary[country]\n",
    "    else:\n",
    "        country = \"Unknown\"\n",
    "        return country \n",
    "\n",
    "#bats_df['country'] = bats_df['country'].apply(country_correction)"
   ]
  },
  {
   "cell_type": "markdown",
   "metadata": {},
   "source": [
    "Create verbatimEventDate column"
   ]
  },
  {
   "cell_type": "code",
   "execution_count": 25,
   "metadata": {},
   "outputs": [],
   "source": [
    "bats_df = bats_df.assign(verbatimEventDate = '')\n",
    "bats_df['verbatimEventDate'] = bats_df['eventdate']"
   ]
  },
  {
   "cell_type": "markdown",
   "metadata": {},
   "source": [
    "Clean yearCollected column (TODO:Needs to be standardized first)"
   ]
  },
  {
   "cell_type": "code",
   "execution_count": null,
   "metadata": {},
   "outputs": [],
   "source": [
    "# Filling N/As with \"Unknown\"\n",
    "bats_df[\"eventdate\"] = bats_df[\"eventdate\"].fillna(\"Unknown\")\n",
    "\n",
    "# Creating event date variable\n",
    "verbatim_date = bats_df['eventdate']\n",
    "\n",
    "# Establishing vertnet filter TODO:see how relevant this filter is to this set\n",
    "vertnet_date_filter = verbatim_date.str.contains(\"\"\"IV|0000|September|<|NW|latter|unknown|(MCZ)|(MSU)|present|\n",
    "                                                    and|;|&|mainly|between|Between|BETWEEN|OR|Unknown|UNKNOWN|\n",
    "                                                    #|TO|\\?|\\'|----|19--|No Date|\\,|\\d{4}-\\d{4}|(/n) /d|\\d{4}[s]|\n",
    "                                                    \\d{4}\\'[S]|1075-07-29|975-07-17|2088|9999|0201|1197|\n",
    "                                                    1260|4560|1024|1119|1192|1072|1186\"\"\")\n",
    "\n",
    "# Grabbing clean data\n",
    "verbatim_date_clean= verbatim_date[vertnet_date_filter==False]\n",
    "\n",
    "\n",
    "# Captures year within string\n",
    "def year_search(year):\n",
    "    \"\"\"Search string for 4 digit number and pass to correct function\"\"\"\n",
    "    if (re.search(r'\\d{4}$', year)):\n",
    "        return year_cleaner_front(year)\n",
    "    elif (re.search(r'^\\d{4}', year)):\n",
    "        return year_cleaner_back(year)\n",
    "\n",
    "def year_cleaner_front(year):\n",
    "    \"\"\"Isolate the year at the beginning of the string\"\"\"\n",
    "    cleaned_year = year[len(year)-4:len(year)]\n",
    "    return cleaned_year\n",
    "\n",
    "def year_cleaner_back(year):\n",
    "    \"\"\"Isolate the year at the end of the string\"\"\"\n",
    "    cleaned_year = year[0:4]\n",
    "    return cleaned_year\n",
    "\n",
    "bats_df = bats_df.assign(yearCollected = verbatim_date_clean.apply(year_search))\n",
    "\n",
    "\n",
    "bats_df[\"yearCollected\"] = bats_df[\"yearCollected\"].fillna(\"Unknown\")"
   ]
  },
  {
   "cell_type": "markdown",
   "metadata": {},
   "source": [
    "Clean up lifestage column"
   ]
  },
  {
   "cell_type": "code",
   "execution_count": 12,
   "metadata": {},
   "outputs": [
    {
     "data": {
      "text/plain": [
       "array(['adult', nan, 'young', 'juvenile', 'subadult', 'unknown', 'U',\n",
       "       'Adult', 'YOUNG', 'ADULT', 'undetermined', 'SUBADULT', 'Juvenile',\n",
       "       'embryo', 'AD - T.', 'neonate', 'fr', 'Young', 'Immature',\n",
       "       'mature', 'adullt', 'immature', 'JUVENILE', 'Juv', 'subadult?',\n",
       "       'Unknown', 'Subadult', 'young adult', '87', 'juvenile; 23 day',\n",
       "       'n', 'juv', '52 hours old', 'juvenile ?', 'not recorded',\n",
       "       'IMMATURE', 'adult; embryo', 'Fr', 'juv.', 'Sub-adult', 'YG', 'Ad',\n",
       "       'fetus', 'Adult.', 'adult.', '3 adult', 'AD - T.A', 'JUVELINE',\n",
       "       'NEONATE', 'adulture', 'other', 'subadult/adult', 'juveniles',\n",
       "       'young of year', 'N.P.', 'adult; foetus', 'Imm', 'larvae',\n",
       "       'yearlings'], dtype=object)"
      ]
     },
     "execution_count": 12,
     "metadata": {},
     "output_type": "execute_result"
    }
   ],
   "source": [
    "bats_df[\"lifestage\"].unique()\n",
    "\n",
    "# TODO: Confirm all these are correct\n",
    "# TODO: preserve information with a verbatim column \n",
    "# TODO: figure out what \"fr\" means\n",
    "# TODO: how do we handle \"?\". Put in unknown?\n",
    "# TODO: how de we handle things like \"adult; embryo\"\n",
    "# TODO: how to handle thinds like \"subadult/adult\"\n",
    "# TODO: how to handle \"young of year\"\n",
    "# TODO: how to handle \"larvae\"\n",
    "\n",
    "adult_filter = bats_df[\"lifestage\"].str.contains(\"\"\"adult|Adult|ADULT|AD - T|87|adullt|\n",
    "                                                    mature|Ad|3 adult|adult.|Adult.\n",
    "                                                    AD - T.A|adulture\"\"\")\n",
    "\n",
    "subadult_filter = bats_df[\"lifestage\"].str.contains(\"\"\"subadult|SUBADULT|subadult?|\n",
    "                                                       Sub-adult\"\"\")\n",
    "\n",
    "juv_filter = bats_df[\"lifestage\"].str.contains(\"\"\"juvenile|Juvenile|JUVENILE|Juv| \n",
    "                                                  juvenile; 23 day| 52 hours old |\n",
    "                                                  juvenile ?|juv.|JUVELINE|juveniles\"\"\")\n",
    "\n",
    "na_filter = bats_df[\"lifestage\"].str.contains(\"\"\"nan|unknown|U|undetermined|n|not recorded|\n",
    "                                                 other|N.P.\"\"\")\n",
    "\n",
    "imm_filter = bats_df[\"lifestage\"].str.contains(\"\"\"embryo|neonate|Immature|immature|\n",
    "                                                  IMMATURE|fetus|NEONATE|yearlings\"\"\")"
   ]
  },
  {
   "cell_type": "markdown",
   "metadata": {},
   "source": [
    "Cleaning reproductivecondition column"
   ]
  },
  {
   "cell_type": "code",
   "execution_count": 6,
   "metadata": {},
   "outputs": [
    {
     "data": {
      "text/plain": [
       "array(['not pregnant; not lactating', 'parous', nan, ...,\n",
       "       '1 emb, 1L X 4 mm', 'T=4.1 x 4.1 mm', '1 emb X 1 mm, no lact.'],\n",
       "      dtype=object)"
      ]
     },
     "execution_count": 6,
     "metadata": {},
     "output_type": "execute_result"
    }
   ],
   "source": [
    "bats_df[\"reproductivecondition\"].unique()\n",
    "\n",
    "# TODO: check these\n",
    "# TODO: how to handle things like \"T=4.1 x 4.1 mm\"\n",
    "\n",
    "norep_filter = bats_df[\"reproductivecondition\"].str.contains(\"\"\"non-reproductive|not lactating|\n",
    "                                                                no lact.\"\"\")\n",
    "preg_filter = bats_df[\"reproductivecondition\"].str.contains(\"\"\"parous|1 emb|1 emb X 1 mm\"\"\")\n",
    "na_filter = bats_df[\"reproductivecondition\"].str.contains(\"\"\"nan|...|\"\"\")\n"
   ]
  },
  {
   "cell_type": "markdown",
   "metadata": {},
   "source": [
    "Clean sex column "
   ]
  },
  {
   "cell_type": "code",
   "execution_count": 20,
   "metadata": {},
   "outputs": [],
   "source": [
    "bats_df[\"sex\"].unique()\n",
    "\n",
    "sex_filter = bats_df[\"sex\"].str.contains(\"\"\"undetermined|nan|f?|x|in question\n",
    "                                        | in question|not determined|\"\"\")\n"
   ]
  },
  {
   "cell_type": "markdown",
   "metadata": {},
   "source": [
    "Adding additional required GEOME columns"
   ]
  },
  {
   "cell_type": "code",
   "execution_count": 23,
   "metadata": {},
   "outputs": [],
   "source": [
    "bats_df = bats_df.assign(samplingProtocol=\"Unknown\")\n",
    "bats_df = bats_df.assign(measurementMethod=\"Unknown\")\n",
    "bats_df = bats_df.assign(basisOfRecord=\"PreservedSpecimen\")"
   ]
  },
  {
   "cell_type": "markdown",
   "metadata": {},
   "source": [
    "Rearrange columns so that template columns are first, followed by measurement values"
   ]
  },
  {
   "cell_type": "code",
   "execution_count": null,
   "metadata": {},
   "outputs": [],
   "source": [
    "# Create column list\n",
    "cols = bats_df.columns.tolist()\n",
    "\n",
    "# Specify desired columns\n",
    "cols = ['catalognumber',\n",
    "        'collectioncode',\n",
    "        'decimallatitude',\n",
    "        'decimallongitude',\n",
    "        'verbatimElevation',\n",
    "        'institutioncode',\n",
    "        'verbatimEventDate',\n",
    "        'locality',\n",
    "        'samplingProtocol',\n",
    "        'measurementMethod',\n",
    "        'country',\n",
    "        'sex',\n",
    "        'lifestage_cor',\n",
    "        'binomial',\n",
    "        'basisOfRecord',\n",
    "        'yearCollected',\n",
    "        'body_mass.1.value',\n",
    "        'ear_length.1.value',\n",
    "        'hind_foot_length.1.value',\n",
    "        'tail_length.1.value',\n",
    "        'total_length.1.value']\n",
    "\n",
    "# Subset dataframe\n",
    "bats_df = bats_df[cols]"
   ]
  },
  {
   "cell_type": "markdown",
   "metadata": {},
   "source": [
    "Matching template and column terms"
   ]
  },
  {
   "cell_type": "code",
   "execution_count": 26,
   "metadata": {},
   "outputs": [],
   "source": [
    "# Renaming columns \n",
    "bats_df = bats_df.rename(columns = {'catalognumber': 'catalogNumber',\n",
    "                                 'collectioncode':'collectionCode',\n",
    "                                 'decimallatitude':'decimalLatitude',\n",
    "                                 'decimallongitude':'decimalLongitude',\n",
    "                                 'maximumelevationinmeters':'maximumElevationInMeters',\n",
    "                                 'minimumelevationinmeters':'minimumElevationInMeters',\n",
    "                                 'institutioncode' :'institutionCode',\n",
    "                                 'locality':'verbatimLocality',\n",
    "                                 'lifestage_cor':'lifeStage',\n",
    "                                 'binomial':'scientificName'})"
   ]
  },
  {
   "cell_type": "markdown",
   "metadata": {},
   "source": [
    "Matching trait and ontology terms"
   ]
  },
  {
   "cell_type": "code",
   "execution_count": null,
   "metadata": {},
   "outputs": [],
   "source": [
    "# Renaming columns\n",
    "bats_df = bats_df.rename(columns={'body_mass.1.value':'body mass',\n",
    "                                'ear_length.1.value': 'ear length to notch',\n",
    "                                'hind_foot_length.1.value':'pes length',\n",
    "                                'tail_length.1.value':'tail length',\n",
    "                                'total_length.1.value':'body length'})"
   ]
  },
  {
   "cell_type": "markdown",
   "metadata": {},
   "source": [
    "Create materialSampleID which is a UUID for each measurement"
   ]
  },
  {
   "cell_type": "code",
   "execution_count": null,
   "metadata": {},
   "outputs": [],
   "source": [
    "bats_df = bats_df.assign(materialSampleID = '')\n",
    "bats_df['materialSampleID'] = [uuid.uuid4().hex for _ in range(len(bats_df.index))]"
   ]
  },
  {
   "cell_type": "markdown",
   "metadata": {},
   "source": [
    "Create eventID and populate it with materialSampleID"
   ]
  },
  {
   "cell_type": "code",
   "execution_count": null,
   "metadata": {},
   "outputs": [],
   "source": [
    "bats_df = bats_df.assign(eventID = bats_df[\"materialSampleID\"])"
   ]
  },
  {
   "cell_type": "markdown",
   "metadata": {},
   "source": [
    "Add required GEOME column locality after reassigning locality to verbatimLocality"
   ]
  },
  {
   "cell_type": "code",
   "execution_count": null,
   "metadata": {},
   "outputs": [],
   "source": [
    "bats_df = bats_df.assign(locality=\"Unknown\")"
   ]
  },
  {
   "cell_type": "markdown",
   "metadata": {},
   "source": [
    "Creating long version, first specifiying keep variables, then naming type and value"
   ]
  },
  {
   "cell_type": "code",
   "execution_count": null,
   "metadata": {},
   "outputs": [],
   "source": [
    "      longVers=pd.melt(bats_df,\n",
    "                      id_vars=['catalogNumber',\n",
    "                      'collectionCode',\n",
    "                      'decimalLatitude',\n",
    "                      'decimalLongitude',\n",
    "                      'verbatimElevation',\n",
    "                      'yearCollected',\n",
    "                      'basisOfRecord',\n",
    "                      'verbatimEventDate',\n",
    "                      'institutionCode',\n",
    "                      'lifeStage',\n",
    "                      'verbatimLocality',\n",
    "                      'locality',\n",
    "                      'samplingProtocol',\n",
    "                      'measurementMethod',\n",
    "                      'country',\n",
    "                      'sex',\n",
    "                      'scientificName',\n",
    "                      'materialSampleID',\n",
    "                      'eventID'], \n",
    "                var_name = 'measurementType',\n",
    "                value_name = 'measurementValue')"
   ]
  },
  {
   "cell_type": "markdown",
   "metadata": {},
   "source": [
    "Populating measurementUnit column with appropriate measurement units in long version"
   ]
  },
  {
   "cell_type": "code",
   "execution_count": null,
   "metadata": {},
   "outputs": [],
   "source": [
    "# Create measurementUnit column\n",
    "longVers = longVers.assign(measurementUnit=\"\")\n",
    "\n",
    "#Create filters\n",
    "long_body_mass_filter=longVers['measurementType']==\"body mass\"\n",
    "long_no_body_filter=longVers['measurementType']!=\"body mass\"\n",
    "\n",
    "#Assign units using filters\n",
    "longVers['measurementUnit'][long_body_mass_filter] = \"g\"\n",
    "longVers['measurementUnit'][long_no_body_filter] = \"mm\""
   ]
  },
  {
   "cell_type": "markdown",
   "metadata": {},
   "source": [
    "Create diagnosticID which is a unique number for each measurement"
   ]
  },
  {
   "cell_type": "code",
   "execution_count": null,
   "metadata": {},
   "outputs": [],
   "source": [
    "longVers = longVers.assign(diagnosticID = '')\n",
    "longVers['diagnosticID'] = np.arange(len(longVers))"
   ]
  },
  {
   "cell_type": "markdown",
   "metadata": {},
   "source": [
    "If measurement value equals N/A, delete entire row. Drop range values. "
   ]
  },
  {
   "cell_type": "code",
   "execution_count": null,
   "metadata": {},
   "outputs": [],
   "source": [
    "#Drop N/A\n",
    "longVers = longVers.dropna(subset=['measurementValue'])"
   ]
  },
  {
   "cell_type": "code",
   "execution_count": null,
   "metadata": {},
   "outputs": [],
   "source": []
  },
  {
   "cell_type": "code",
   "execution_count": null,
   "metadata": {},
   "outputs": [],
   "source": []
  }
 ],
 "metadata": {
  "kernelspec": {
   "display_name": "Python 3",
   "language": "python",
   "name": "python3"
  },
  "language_info": {
   "codemirror_mode": {
    "name": "ipython",
    "version": 3
   },
   "file_extension": ".py",
   "mimetype": "text/x-python",
   "name": "python",
   "nbconvert_exporter": "python",
   "pygments_lexer": "ipython3",
   "version": "3.8.3"
  }
 },
 "nbformat": 4,
 "nbformat_minor": 4
}
