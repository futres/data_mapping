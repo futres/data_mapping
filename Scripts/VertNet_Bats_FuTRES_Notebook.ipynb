{
 "cells": [
  {
   "cell_type": "markdown",
   "metadata": {},
   "source": [
    "Data Wrangling Notebook for VertNet Bats Data\n",
    "<br />\n",
    "Neeka Sewnath\n",
    "<br />\n",
    "nsewnath@ufl.edu"
   ]
  },
  {
   "cell_type": "code",
   "execution_count": 3,
   "metadata": {},
   "outputs": [],
   "source": [
    "import pandas as pd\n",
    "import numpy as np\n",
    "import multiprocessing\n",
    "import re\n",
    "import uuid "
   ]
  },
  {
   "cell_type": "markdown",
   "metadata": {},
   "source": [
    "Silencing warnings that are unnecessary"
   ]
  },
  {
   "cell_type": "code",
   "execution_count": 4,
   "metadata": {},
   "outputs": [],
   "source": [
    "try:\n",
    "    import warnings\n",
    "    warnings.filterwarnings('ignore')\n",
    "except:\n",
    "    pass"
   ]
  },
  {
   "cell_type": "markdown",
   "metadata": {},
   "source": [
    "Import Vertnet Bats Data"
   ]
  },
  {
   "cell_type": "code",
   "execution_count": 5,
   "metadata": {},
   "outputs": [],
   "source": [
    "bats_df = pd.read_csv(\"./../Original_Data/bats_2020-08-11b.csv\")"
   ]
  },
  {
   "cell_type": "markdown",
   "metadata": {},
   "source": [
    "Clean up country column "
   ]
  },
  {
   "cell_type": "code",
   "execution_count": 11,
   "metadata": {},
   "outputs": [],
   "source": [
    "#Append countries to verbatim locality column\n",
    "bats_df[\"verbatimLocality\"] = bats_df[\"locality\"] + \",\" + bats_df[\"country\"]\n",
    "\n",
    "#Read GEOME country list\n",
    "geome_countries = pd.read_csv(\"./../Mapping Files/geome_country_list.csv\")\n",
    "\n",
    "# Create dictionary after inital GEOME run (create csv file first as a dictionary)\n",
    "#bats_df[\"country\"].unique()\n",
    "\n",
    "def country_correction(country): \n",
    "    \"\"\"Corrects country column to geome specific country list\"\"\"\n",
    "    if country in geome_countries.values:\n",
    "        return country\n",
    "    elif country in country_dictionary.keys():\n",
    "        return country_dictionary[country]\n",
    "    else:\n",
    "        country = \"Unknown\"\n",
    "        return country \n",
    "\n",
    "#bats_df['country'] = bats_df['country'].apply(country_correction)"
   ]
  },
  {
   "cell_type": "markdown",
   "metadata": {},
   "source": [
    "Clean yearCollected column (TODO:Needs to be standardized first)"
   ]
  },
  {
   "cell_type": "code",
   "execution_count": null,
   "metadata": {},
   "outputs": [],
   "source": [
    "# Filling N/As with \"Unknown\"\n",
    "bats_df[\"eventdate\"] = bats_df[\"eventdate\"].fillna(\"Unknown\")\n",
    "\n",
    "# Creating event date variable\n",
    "verbatim_date = bats_df['eventdate']\n",
    "\n",
    "# Establishing vertnet filter TODO:see how relevant this filter is to this set\n",
    "vertnet_date_filter = verbatim_date.str.contains(\"\"\"IV|0000|September|<|NW|latter|unknown|(MCZ)|(MSU)|present|\n",
    "                                                    and|;|&|mainly|between|Between|BETWEEN|OR|Unknown|UNKNOWN|\n",
    "                                                    #|TO|\\?|\\'|----|19--|No Date|\\,|\\d{4}-\\d{4}|(/n) /d|\\d{4}[s]|\n",
    "                                                    \\d{4}\\'[S]|1075-07-29|975-07-17|2088|9999|0201|1197|\n",
    "                                                    1260|4560|1024|1119|1192|1072|1186\"\"\")\n",
    "\n",
    "# Grabbing clean data\n",
    "verbatim_date_clean= verbatim_date[vertnet_date_filter==False]\n",
    "\n",
    "\n",
    "# Captures year within string\n",
    "def year_search(year):\n",
    "    \"\"\"Search string for 4 digit number and pass to correct function\"\"\"\n",
    "    if (re.search(r'\\d{4}$', year)):\n",
    "        return year_cleaner_front(year)\n",
    "    elif (re.search(r'^\\d{4}', year)):\n",
    "        return year_cleaner_back(year)\n",
    "\n",
    "def year_cleaner_front(year):\n",
    "    \"\"\"Isolate the year at the beginning of the string\"\"\"\n",
    "    cleaned_year = year[len(year)-4:len(year)]\n",
    "    return cleaned_year\n",
    "\n",
    "def year_cleaner_back(year):\n",
    "    \"\"\"Isolate the year at the end of the string\"\"\"\n",
    "    cleaned_year = year[0:4]\n",
    "    return cleaned_year\n",
    "\n",
    "bats_df = bats_df.assign(yearCollected = verbatim_date_clean.apply(year_search))\n",
    "\n",
    "\n",
    "bats_df[\"yearCollected\"] = bats_df[\"yearCollected\"].fillna(\"Unknown\")"
   ]
  },
  {
   "cell_type": "markdown",
   "metadata": {},
   "source": [
    "Clean up lifestage column"
   ]
  },
  {
   "cell_type": "code",
   "execution_count": 12,
   "metadata": {},
   "outputs": [
    {
     "data": {
      "text/plain": [
       "array(['adult', nan, 'young', 'juvenile', 'subadult', 'unknown', 'U',\n",
       "       'Adult', 'YOUNG', 'ADULT', 'undetermined', 'SUBADULT', 'Juvenile',\n",
       "       'embryo', 'AD - T.', 'neonate', 'fr', 'Young', 'Immature',\n",
       "       'mature', 'adullt', 'immature', 'JUVENILE', 'Juv', 'subadult?',\n",
       "       'Unknown', 'Subadult', 'young adult', '87', 'juvenile; 23 day',\n",
       "       'n', 'juv', '52 hours old', 'juvenile ?', 'not recorded',\n",
       "       'IMMATURE', 'adult; embryo', 'Fr', 'juv.', 'Sub-adult', 'YG', 'Ad',\n",
       "       'fetus', 'Adult.', 'adult.', '3 adult', 'AD - T.A', 'JUVELINE',\n",
       "       'NEONATE', 'adulture', 'other', 'subadult/adult', 'juveniles',\n",
       "       'young of year', 'N.P.', 'adult; foetus', 'Imm', 'larvae',\n",
       "       'yearlings'], dtype=object)"
      ]
     },
     "execution_count": 12,
     "metadata": {},
     "output_type": "execute_result"
    }
   ],
   "source": [
    "bats_df[\"lifestage\"].unique()\n",
    "\n",
    "# TODO: Confirm all these are correct\n",
    "# TODO: preserve information with a verbatim column \n",
    "# TODO: figure out what \"fr\" means\n",
    "# TODO: how do we handle \"?\". Put in unknown?\n",
    "# TODO: how de we handle things like \"adult; embryo\"\n",
    "# TODO: how to handle thinds like \"subadult/adult\"\n",
    "# TODO: how to handle \"young of year\"\n",
    "# TODO: how to handle \"larvae\"\n",
    "\n",
    "adult_filter = bats_df[\"lifestage\"].str.contains(\"\"\"adult|Adult|ADULT|AD - T|87|adullt|\n",
    "                                                    mature|Ad|3 adult|adult.|Adult.\n",
    "                                                    AD - T.A|adulture\"\"\")\n",
    "\n",
    "subadult_filter = bats_df[\"lifestage\"].str.contains(\"\"\"subadult|SUBADULT|subadult?|\n",
    "                                                       Sub-adult\"\"\")\n",
    "\n",
    "juv_filter = bats_df[\"lifestage\"].str.contains(\"\"\"juvenile|Juvenile|JUVENILE|Juv| \n",
    "                                                  juvenile; 23 day| 52 hours old |\n",
    "                                                  juvenile ?|juv.|JUVELINE|juveniles\"\"\")\n",
    "\n",
    "na_filter = bats_df[\"lifestage\"].str.contains(\"\"\"nan|unknown|U|undetermined|n|not recorded|\n",
    "                                                 other|N.P.\"\"\")\n",
    "\n",
    "imm_filter = bats_df[\"lifestage\"].str.contains(\"\"\"embryo|neonate|Immature|immature|\n",
    "                                                  IMMATURE|fetus|NEONATE|yearlings\"\"\")"
   ]
  },
  {
   "cell_type": "markdown",
   "metadata": {},
   "source": [
    "Cleaning reproductivecondition column"
   ]
  },
  {
   "cell_type": "code",
   "execution_count": 6,
   "metadata": {},
   "outputs": [
    {
     "data": {
      "text/plain": [
       "array(['not pregnant; not lactating', 'parous', nan, ...,\n",
       "       '1 emb, 1L X 4 mm', 'T=4.1 x 4.1 mm', '1 emb X 1 mm, no lact.'],\n",
       "      dtype=object)"
      ]
     },
     "execution_count": 6,
     "metadata": {},
     "output_type": "execute_result"
    }
   ],
   "source": [
    "bats_df[\"reproductivecondition\"].unique()\n",
    "\n",
    "# TODO: check these\n",
    "# TODO: how to handle things like \"T=4.1 x 4.1 mm\"\n",
    "\n",
    "norep_filter = bats_df[\"reproductivecondition\"].str.contains(\"\"\"non-reproductive|not lactating|\n",
    "                                                                no lact.\"\"\")\n",
    "preg_filter = bats_df[\"reproductivecondition\"].str.contains(\"\"\"parous|1 emb|1 emb X 1 mm\"\"\")\n",
    "na_filter = bats_df[\"reproductivecondition\"].str.contains(\"\"\"nan|...|\"\"\")\n"
   ]
  },
  {
   "cell_type": "markdown",
   "metadata": {},
   "source": [
    "Clean sex column "
   ]
  },
  {
   "cell_type": "code",
   "execution_count": 7,
   "metadata": {},
   "outputs": [
    {
     "data": {
      "text/plain": [
       "array(['female', 'male', 'undetermined', nan, 'm?', 'male ?', 'f?', 'x',\n",
       "       'female ?', 'in question', 'not determined', 'female; male'],\n",
       "      dtype=object)"
      ]
     },
     "execution_count": 7,
     "metadata": {},
     "output_type": "execute_result"
    }
   ],
   "source": [
    "bats_df[\"sex\"].unique()"
   ]
  },
  {
   "cell_type": "code",
   "execution_count": null,
   "metadata": {},
   "outputs": [],
   "source": []
  }
 ],
 "metadata": {
  "kernelspec": {
   "display_name": "Python 3",
   "language": "python",
   "name": "python3"
  },
  "language_info": {
   "codemirror_mode": {
    "name": "ipython",
    "version": 3
   },
   "file_extension": ".py",
   "mimetype": "text/x-python",
   "name": "python",
   "nbconvert_exporter": "python",
   "pygments_lexer": "ipython3",
   "version": "3.8.3"
  }
 },
 "nbformat": 4,
 "nbformat_minor": 4
}
