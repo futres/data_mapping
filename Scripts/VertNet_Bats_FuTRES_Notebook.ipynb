{
 "cells": [
  {
   "cell_type": "markdown",
   "metadata": {},
   "source": [
    "Data Wrangling Notebook for VertNet Bats Data\n",
    "<br />\n",
    "Neeka Sewnath\n",
    "<br />\n",
    "nsewnath@ufl.edu"
   ]
  },
  {
   "cell_type": "code",
   "execution_count": 85,
   "metadata": {},
   "outputs": [],
   "source": [
    "import pandas as pd\n",
    "import numpy as np\n",
    "import multiprocessing\n",
    "import re\n",
    "import uuid "
   ]
  },
  {
   "cell_type": "markdown",
   "metadata": {},
   "source": [
    "Silencing warnings that are unnecessary"
   ]
  },
  {
   "cell_type": "code",
   "execution_count": 86,
   "metadata": {},
   "outputs": [],
   "source": [
    "try:\n",
    "    import warnings\n",
    "    warnings.filterwarnings('ignore')\n",
    "except:\n",
    "    pass"
   ]
  },
  {
   "cell_type": "markdown",
   "metadata": {},
   "source": [
    "Import Vertnet Bats Data"
   ]
  },
  {
   "cell_type": "code",
   "execution_count": 87,
   "metadata": {},
   "outputs": [],
   "source": [
    "df = pd.read_csv(\"./../Original_Data/bats_2020-08-11b.csv\")"
   ]
  },
  {
   "cell_type": "markdown",
   "metadata": {},
   "source": [
    "Clean up lifeStage"
   ]
  },
  {
   "cell_type": "code",
   "execution_count": 88,
   "metadata": {},
   "outputs": [],
   "source": [
    "# Fill in NA\n",
    "df[\"lifestage_cor\"] = df['lifestage_cor'].fillna(\"Not Collected\")\n",
    "\n",
    "# Create Filters\n",
    "adult = df['lifestage_cor']==\"Adult\"\n",
    "juvenile = df['lifestage_cor']==\"Juvenile\"\n",
    "ns = df['lifestage_cor']==\"NS\"\n",
    "\n",
    "# Assign correct terms using filters\n",
    "df['lifestage_cor'][adult] = \"adult\"\n",
    "df['lifestage_cor'][juvenile] = \"juvenile\"\n",
    "df['lifestage_cor'][ns] = \"Not Collected\""
   ]
  },
  {
   "cell_type": "markdown",
   "metadata": {},
   "source": [
    "Clean up country column TODO: Need to run with GEOME Validation"
   ]
  },
  {
   "cell_type": "code",
   "execution_count": 89,
   "metadata": {},
   "outputs": [],
   "source": [
    "#Read GEOME country list\n",
    "geome_countries = pd.read_csv(\"./../Mapping Files/geome_country_list.csv\")\n",
    "\n",
    "# Create dictionary after inital GEOME run (create csv file first as a dictionary)\n",
    "df[\"country\"].unique()\n",
    "\n",
    "def country_correction(country): \n",
    "    \"\"\"Corrects country column to geome specific country list\"\"\"\n",
    "    if country in geome_countries.values:\n",
    "        return country\n",
    "    elif country in country_dictionary.keys():\n",
    "        return country_dictionary[country]\n",
    "    else:\n",
    "        country = \"Unknown\"\n",
    "        return country \n",
    "\n",
    "#df['country'] = df['country'].apply(country_correction)"
   ]
  },
  {
   "cell_type": "markdown",
   "metadata": {},
   "source": [
    "Create yearCollected column TODO: Create varbatim filter after validation"
   ]
  },
  {
   "cell_type": "code",
   "execution_count": 90,
   "metadata": {},
   "outputs": [],
   "source": [
    "# Filling N/As with \"Unknown\"\n",
    "df[\"eventdate\"] = df[\"eventdate\"].fillna(\"Unknown\")\n",
    "\n",
    "# Create yearCollected Column\n",
    "#df = df.assign(yearCollected = '')\n",
    "\n",
    "# Creating event date variable\n",
    "#verbatim_date = df['eventdate']\n",
    "\n",
    "# Establishing vertnet filter\n",
    "#vertnet_date_filter = verbatim_date.str.contains(\"\"\"\"\"\")\n",
    "\n",
    "# Grabbing clean data\n",
    "#verbatim_date_clean= verbatim_date[vertnet_date_filter==False]\n",
    "\n",
    "\n",
    "# Captures year within string\n",
    "def year_search(year):\n",
    "    \"\"\"Search string for 4 digit number and pass to correct function\"\"\"\n",
    "    if (re.search(r'\\d{4}$', year)):\n",
    "        return year_cleaner_front(year)\n",
    "    elif (re.search(r'^\\d{4}', year)):\n",
    "        return year_cleaner_back(year)\n",
    "\n",
    "def year_cleaner_front(year):\n",
    "    \"\"\"Isolate the year at the beginning of the string\"\"\"\n",
    "    cleaned_year = year[len(year)-4:len(year)]\n",
    "    return cleaned_year\n",
    "\n",
    "def year_cleaner_back(year):\n",
    "    \"\"\"Isolate the year at the end of the string\"\"\"\n",
    "    cleaned_year = year[0:4]\n",
    "    return cleaned_year\n",
    "\n",
    "df[\"yearCollected\"] = df[\"eventdate\"].apply(year_search)\n",
    "df[\"yearCollected\"] = df[\"yearCollected\"].fillna(\"Unknown\")\n",
    "\n",
    "df = df.assign(verbatimEventDate = df['verbatimeventdate'])"
   ]
  },
  {
   "cell_type": "markdown",
   "metadata": {},
   "source": [
    "Cleaning reproductivecondition column"
   ]
  },
  {
   "cell_type": "code",
   "execution_count": 91,
   "metadata": {},
   "outputs": [],
   "source": [
    "df[\"reproductivecondition\"].unique()\n",
    "\n",
    "# TODO: how to handle things like \"T=4.1 x 4.1 mm\"\n",
    "\n",
    "norep_filter = df[\"reproductivecondition\"].str.contains(\"\"\"non-reproductive|not lactating|no lact.\"\"\")\n",
    "preg_filter = df[\"reproductivecondition\"].str.contains(\"\"\"parous|1 emb|1 emb X 1 mm\"\"\")\n",
    "\n",
    "df[\"reproductivecondition\"][norep_filter == True] = \"non-reproductive\"\n",
    "df[\"reproductivecondition\"][preg_filter == True] = \"pregnant\"\n",
    "df[\"reproductivecondition\"][(preg_filter == False) & (norep_filter == False)] = \"\""
   ]
  },
  {
   "cell_type": "markdown",
   "metadata": {},
   "source": [
    "Clean sex column "
   ]
  },
  {
   "cell_type": "code",
   "execution_count": 92,
   "metadata": {},
   "outputs": [],
   "source": [
    "# Clean up sex column \n",
    "female = df['sex'] == \"female\"\n",
    "male = df['sex'] == \"male\"\n",
    "df['sex'][(female == False) & (male==False)] = \"\""
   ]
  },
  {
   "cell_type": "markdown",
   "metadata": {},
   "source": [
    "Adding additional required GEOME columns"
   ]
  },
  {
   "cell_type": "code",
   "execution_count": 93,
   "metadata": {},
   "outputs": [],
   "source": [
    "df = df.assign(samplingProtocol = \"Unknown\")\n",
    "df = df.assign(basisOfRecord = \"PreservedSpecimen\")"
   ]
  },
  {
   "cell_type": "markdown",
   "metadata": {},
   "source": [
    "Correcting Country Names"
   ]
  },
  {
   "cell_type": "code",
   "execution_count": null,
   "metadata": {},
   "outputs": [],
   "source": [
    "#Append countries to verbatim locality column\n",
    "df[\"locality\"] = df[\"locality\"] + \",\" + df[\"country\"]\n",
    "\n",
    "#Read GEOME country list\n",
    "geome_countries = pd.read_csv(\"./../Mapping Files/geome_country_list.csv\")\n",
    "\n",
    "country_dictionary = {\"U S A\":\"USA\", \"United States\":\"USA\",\n",
    "                      \"India, Nepal\":\"India\",\n",
    "                      \"Philippine Islands\":\"Philippines\",\n",
    "                      \"U.S. Virgin Islands\":\"Virgin Islands\",\n",
    "                      \"Republic of South Africa\":\"South Africa\",\n",
    "                      \"Commonwealth of the Northern Mariana Islands\":\"Northern Mariana Islands\",\n",
    "                      \"Federated States of Micronesia\":\"Micronesia\",\n",
    "                      \"ST VINCENT\":\"Saint Vincent and the Grenadines\",\n",
    "                      \"ENGLAND\":\"United Kingdom\",\n",
    "                      \"Trinidad & Tabago\":\"Trinidad and Tobago\",\n",
    "                      \"TRINIDAD & TOBAGO\":\"Trinidad and Tobago\",\n",
    "                      \"São Tomé & Principe\":\"Sao Tome and Principe\"}\n",
    "                      \n",
    "                      \n",
    "# \tUnapproved value(s):\n",
    "#\"ZOO\" in column \"country\" not in list \"country\"\n",
    "#\"Saint Barthélemy\" in column \"country\" not in list \"country\"\n",
    "#\"Trinidad\" in column \"country\" not in list \"country\"\n",
    "#\"Rhodesia\" in column \"country\" not in list \"country\"\n",
    "#\"Bonaire, Sint Eustatius and Saba\" in column \"country\" not in list \"country\"\n",
    "          \n",
    "\n",
    "def country_correction(country): \n",
    "    \"\"\"Corrects country column to geome specific country list\"\"\"\n",
    "    if country in geome_countries.values:\n",
    "        return country\n",
    "    elif country in country_dictionary.keys():\n",
    "        return country_dictionary[country]\n",
    "    else:\n",
    "        country = \"Unknown\"\n",
    "        return country \n",
    "\n",
    "df['country'] = df['country'].apply(country_correction)"
   ]
  },
  {
   "cell_type": "markdown",
   "metadata": {},
   "source": [
    "Rearrange columns so that template columns are first, followed by measurement values"
   ]
  },
  {
   "cell_type": "code",
   "execution_count": 94,
   "metadata": {},
   "outputs": [],
   "source": [
    "# Create column list\n",
    "cols = df.columns.tolist()\n",
    "\n",
    "# Specify desired columns\n",
    "cols = ['catalognumber',\n",
    "        'collectioncode',\n",
    "        'coordinateuncertaintyinmeters',\n",
    "        'dynamicproperties',\n",
    "        'decimallatitude',\n",
    "        'decimallongitude',\n",
    "        'verbatimlongitude',\n",
    "        'verbatimlatitude',\n",
    "        'verbatimelevation',\n",
    "        'institutioncode',\n",
    "        'verbatimEventDate',\n",
    "        'verbatimelevation',\n",
    "        'verbatimlocality',\n",
    "        'maximumelevationinmeters',\n",
    "        'minimumelevationinmeters',\n",
    "        'reproductivecondition',\n",
    "        'locality',\n",
    "        'fieldnotes',\n",
    "        'binomial',\n",
    "        'samplingProtocol',\n",
    "        'occurrenceid',\n",
    "        'occurrenceremarks',\n",
    "        'country',\n",
    "        'sex',\n",
    "        'lifestage_cor',\n",
    "        'basisOfRecord',\n",
    "        'yearCollected',\n",
    "        'body_mass.1.value',\n",
    "        'ear_length.1.value',\n",
    "        'hind_foot_length.1.value',\n",
    "        'tail_length.1.value',\n",
    "        'total_length.1.value',\n",
    "        'body_mass.1.units_inferred',\n",
    "        'ear_length.1.units_inferred',\n",
    "        'hind_foot_length.1.units_inferred',\n",
    "        'tail_length.1.units_inferred',\n",
    "        'total_length.1.units_inferred',\n",
    "        'body_mass.1.estimated_value',\n",
    "        'ear_length.1.estimated_value',\n",
    "        'hind_foot_length.1.estimated_value',\n",
    "        'tail_length.1.estimated_value',\n",
    "        'total_length.1.estimated_value']\n",
    "\n",
    "# Subset dataframe\n",
    "df = df[cols]"
   ]
  },
  {
   "cell_type": "markdown",
   "metadata": {},
   "source": [
    "Matching template and column terms"
   ]
  },
  {
   "cell_type": "code",
   "execution_count": 95,
   "metadata": {},
   "outputs": [],
   "source": [
    "# Renaming columns \n",
    "df = df.rename(columns = {'catalognumber':'catalogNumber',\n",
    "                          'collectioncode': 'collectionCode',\n",
    "                          'institutioncode':'institutionCode',\n",
    "                          'coordinateuncertaintyinmeters':'coordinateUncertaintyInMeters',\n",
    "                          'fieldnotes':'eventRemarks',\n",
    "                          'decimallongitude': 'decimalLongitude',\n",
    "                          'decimallatitude':'decimalLatitude',\n",
    "                          'occurrenceid':'occurrenceID',\n",
    "                          'occurrenceremarks':'occurrenceRemarks',\n",
    "                          'verbatimelevation':'verbatimElevation',\n",
    "                          'binomial':'scientificName',\n",
    "                          'reproductivecondition':'reproductiveCondition',\n",
    "                          'maximumelevationinmeters':'maximumElevationInMeters',\n",
    "                          'dynamicproperties':'dynamicProperties',\n",
    "                          'minimumelevationinmeters':'minimumElevationInMeters',\n",
    "                          'verbatimlocality':'verbatimLocality',\n",
    "                          'verbatimlongitude':'verbatimLongitude',\n",
    "                          'verbatimlatitude':'verbatimLatitude',\n",
    "                          'lifestage_cor':'lifeStage'})"
   ]
  },
  {
   "cell_type": "markdown",
   "metadata": {},
   "source": [
    "Create materialSampleID which is a UUID for each measurement"
   ]
  },
  {
   "cell_type": "code",
   "execution_count": 96,
   "metadata": {},
   "outputs": [],
   "source": [
    "df = df.assign(materialSampleID = '')\n",
    "df['materialSampleID'] = [uuid.uuid4().hex for _ in range(len(df.index))]"
   ]
  },
  {
   "cell_type": "markdown",
   "metadata": {},
   "source": [
    "Create eventID and populate it with materialSampleID"
   ]
  },
  {
   "cell_type": "code",
   "execution_count": 97,
   "metadata": {},
   "outputs": [],
   "source": [
    "df = df.assign(eventID = df[\"materialSampleID\"])"
   ]
  },
  {
   "cell_type": "markdown",
   "metadata": {},
   "source": [
    "Add required GEOME column locality after reassigning locality to verbatimLocality"
   ]
  },
  {
   "cell_type": "code",
   "execution_count": 98,
   "metadata": {},
   "outputs": [],
   "source": [
    "df = df.assign(locality=\"Unknown\")"
   ]
  },
  {
   "cell_type": "code",
   "execution_count": 99,
   "metadata": {},
   "outputs": [
    {
     "data": {
      "text/plain": [
       "74678"
      ]
     },
     "execution_count": 99,
     "metadata": {},
     "output_type": "execute_result"
    }
   ],
   "source": [
    "len(df[\"verbatimElevation\"])"
   ]
  },
  {
   "cell_type": "code",
   "execution_count": 100,
   "metadata": {},
   "outputs": [
    {
     "data": {
      "text/plain": [
       "74678"
      ]
     },
     "execution_count": 100,
     "metadata": {},
     "output_type": "execute_result"
    }
   ],
   "source": [
    "len(df[\"catalogNumber\"])"
   ]
  },
  {
   "cell_type": "markdown",
   "metadata": {},
   "source": [
    "Creating long version, first specifiying keep variables, then naming type and value"
   ]
  },
  {
   "cell_type": "code",
   "execution_count": 75,
   "metadata": {},
   "outputs": [],
   "source": [
    "melt_cols = ['catalogNumber', 'collectionCode', 'decimalLatitude','decimalLongitude',\n",
    "             'yearCollected','basisOfRecord','verbatimEventDate',\n",
    "            'institutionCode','lifeStage','verbatimLocality','locality', 'eventRemarks',\n",
    "            'samplingProtocol','country','sex','scientificName','dynamicProperties',\n",
    "            'materialSampleID','eventID','maximumElevationInMeters', 'verbatimLongitude',\n",
    "            'minimumElevationInMeters','coordinateUncertaintyInMeters','verbatimLatitude',\n",
    "            'occurrenceID','occurrenceRemarks','reproductiveCondition']\n",
    "\n",
    "melt_cols = melt_cols + method_list\n",
    "\n",
    "melt_cols\n",
    "\n",
    "df_long = pd.melt(df,id_vars = melt_cols, var_name = 'measurementType', value_name = 'measurementValue')\n",
    "\n",
    "#verbatim Elevation causes some errors (array not the same length)\n",
    "\n",
    "# longVers=pd.melt(df,id_vars=['catalogNumber',\n",
    "#                          'collectionCode',\n",
    "#                           'decimalLatitude',\n",
    "#                           'decimalLongitude',\n",
    "#                           'verbatimElevation',\n",
    "#                           'yearCollected',\n",
    "#                           'basisOfRecord',\n",
    "#                           'verbatimEventDate',\n",
    "#                           'institutionCode',\n",
    "#                           'lifeStage',\n",
    "#                           'verbatimLocality',\n",
    "#                           'locality',\n",
    "#                           'eventRemarks',\n",
    "#                           'samplingProtocol',\n",
    "#                           'country',\n",
    "#                           'sex',\n",
    "#                           'scientificName',\n",
    "#                           'dynamicProperties',\n",
    "#                           'materialSampleID',\n",
    "#                           'maximumElevationInMeters',\n",
    "#                           'minimumElevationInMeters',\n",
    "#                           'coordinateUncertaintyInMeters',\n",
    "#                           'occurrenceRemarks',\n",
    "#                           'reproductiveCondition',\n",
    "#                           'occurrenceID',\n",
    "#                           'verbatimLongitude',\n",
    "#                           'verbatimLatitude',\n",
    "#                          'eventID'], \n",
    "#                 var_name = 'measurementType', \n",
    "#                 value_name = 'measurementValue')"
   ]
  },
  {
   "cell_type": "markdown",
   "metadata": {},
   "source": [
    "Pull corresponding column value in measurement_method etc and append it to offical measurementMethod"
   ]
  },
  {
   "cell_type": "code",
   "execution_count": 76,
   "metadata": {},
   "outputs": [],
   "source": [
    "df_long = df_long.assign(measurementMethod = \"\")\n",
    "\n",
    "def method_add(trait,ind):\n",
    "    if trait == \"body_mass.1.value\":\n",
    "        return df_long[\"measurementMethod_body_mass.1\"][ind]\n",
    "    elif trait == \"ear_length.1.value\":\n",
    "        return df_long[\"measurementMethod_ear_length.1\"][ind]\n",
    "    elif trait == \"hind_foot_length.1.value\":\n",
    "        return df_long[\"measurementMethod_hind_foot_length.1\"][ind]\n",
    "    elif trait == \"tail_length.1.value\":\n",
    "        return df_long[\"measurementMethod_tail_length.1\"][ind]\n",
    "    elif trait == \"total_length.1.value\":\n",
    "        return df_long[\"measurementMethod_total_length.1\"][ind]\n",
    "\n",
    "df_long['ind'] = np.arange(len(df_long))\n",
    "\n",
    "df_long['measurementMethod'] = df_long.apply(lambda x: method_add(x.measurementType, x.ind), axis=1)\n",
    "\n",
    "df_long['measurementMethod'] = df_long['measurementMethod'].fillna(\"Extracted with Traiter\")\n",
    "\n",
    "df_long = df_long.drop(columns = method_list)"
   ]
  },
  {
   "cell_type": "markdown",
   "metadata": {},
   "source": [
    "Matching trait and ontology terms"
   ]
  },
  {
   "cell_type": "code",
   "execution_count": 77,
   "metadata": {},
   "outputs": [],
   "source": [
    "# Create trait dictionary \n",
    "trait_dict = {'body_mass.1.value':'body mass',\n",
    "              'ear_length.1.value': 'ear length to notch',\n",
    "              'hind_foot_length.1.value':'pes length',\n",
    "              'tail_length.1.value':'tail length',\n",
    "              'total_length.1.value':'body length'}\n",
    "\n",
    "def trait_rename(trait): \n",
    "    \"\"\"\n",
    "    Renames trait names with trait dictionary\n",
    "    \"\"\"\n",
    "    if trait in trait_dict.keys():\n",
    "        return trait_dict[trait]\n",
    "\n",
    "df_long['measurementType'] = df_long['measurementType'].apply(trait_rename)"
   ]
  },
  {
   "cell_type": "markdown",
   "metadata": {},
   "source": [
    "Populating measurementUnit column with appropriate measurement units in long version"
   ]
  },
  {
   "cell_type": "code",
   "execution_count": 78,
   "metadata": {},
   "outputs": [],
   "source": [
    "# Create measurementUnit column\n",
    "df_long = df_long.assign(measurementUnit=\"\")\n",
    "\n",
    "#Create filters\n",
    "long_body_mass_filter = df_long['measurementType']==\"body mass\"\n",
    "long_no_body_filter = df_long['measurementType']!=\"body mass\"\n",
    "\n",
    "#Assign units using filters\n",
    "df_long['measurementUnit'][long_body_mass_filter] = \"g\"\n",
    "df_long['measurementUnit'][long_no_body_filter] = \"mm\""
   ]
  },
  {
   "cell_type": "markdown",
   "metadata": {},
   "source": [
    "Create diagnosticID which is a unique number for each measurement"
   ]
  },
  {
   "cell_type": "code",
   "execution_count": 79,
   "metadata": {},
   "outputs": [],
   "source": [
    "df_long = df_long.assign(diagnosticID = '')\n",
    "df_long['diagnosticID'] = np.arange(len(df_long))"
   ]
  },
  {
   "cell_type": "markdown",
   "metadata": {},
   "source": [
    "If measurement value equals N/A, delete entire row. Drop range values. "
   ]
  },
  {
   "cell_type": "code",
   "execution_count": 80,
   "metadata": {},
   "outputs": [],
   "source": [
    "#Drop N/A\n",
    "df_long = df_long.dropna(subset=['measurementValue'])"
   ]
  },
  {
   "cell_type": "code",
   "execution_count": 81,
   "metadata": {},
   "outputs": [
    {
     "data": {
      "text/plain": [
       "233339"
      ]
     },
     "execution_count": 81,
     "metadata": {},
     "output_type": "execute_result"
    }
   ],
   "source": [
    "len(df_long)"
   ]
  },
  {
   "cell_type": "markdown",
   "metadata": {},
   "source": [
    "Breaking up the data into more managable sizes for validation and DE storage"
   ]
  },
  {
   "cell_type": "code",
   "execution_count": 82,
   "metadata": {},
   "outputs": [],
   "source": [
    "# Create chunks list\n",
    "chunks = []\n",
    "\n",
    "# Separating files into chunks of ~50,000\n",
    "chunks = np.array_split(df_long, 4)"
   ]
  },
  {
   "cell_type": "markdown",
   "metadata": {},
   "source": [
    "Creating data chunks"
   ]
  },
  {
   "cell_type": "code",
   "execution_count": 83,
   "metadata": {},
   "outputs": [
    {
     "name": "stdout",
     "output_type": "stream",
     "text": [
      "mapped_data 0  done\n",
      "mapped_data 1  done\n",
      "mapped_data 2  done\n",
      "mapped_data 3  done\n"
     ]
    }
   ],
   "source": [
    "for i in range(len(chunks)):\n",
    "    new=i+1\n",
    "    chunks[i].to_csv('../Mapped_Data/FuTRES_Bats_VertNet_Global_Modern_'+ str(new) +'.csv', index=False)\n",
    "    print(\"mapped_data\",i, \" done\")"
   ]
  },
  {
   "cell_type": "code",
   "execution_count": 84,
   "metadata": {},
   "outputs": [
    {
     "data": {
      "text/html": [
       "<div>\n",
       "<style scoped>\n",
       "    .dataframe tbody tr th:only-of-type {\n",
       "        vertical-align: middle;\n",
       "    }\n",
       "\n",
       "    .dataframe tbody tr th {\n",
       "        vertical-align: top;\n",
       "    }\n",
       "\n",
       "    .dataframe thead th {\n",
       "        text-align: right;\n",
       "    }\n",
       "</style>\n",
       "<table border=\"1\" class=\"dataframe\">\n",
       "  <thead>\n",
       "    <tr style=\"text-align: right;\">\n",
       "      <th></th>\n",
       "      <th>catalogNumber</th>\n",
       "      <th>collectionCode</th>\n",
       "      <th>decimalLatitude</th>\n",
       "      <th>decimalLongitude</th>\n",
       "      <th>yearCollected</th>\n",
       "      <th>basisOfRecord</th>\n",
       "      <th>verbatimEventDate</th>\n",
       "      <th>institutionCode</th>\n",
       "      <th>lifeStage</th>\n",
       "      <th>verbatimLocality</th>\n",
       "      <th>...</th>\n",
       "      <th>verbatimLatitude</th>\n",
       "      <th>occurrenceID</th>\n",
       "      <th>occurrenceRemarks</th>\n",
       "      <th>reproductiveCondition</th>\n",
       "      <th>measurementType</th>\n",
       "      <th>measurementValue</th>\n",
       "      <th>measurementMethod</th>\n",
       "      <th>ind</th>\n",
       "      <th>measurementUnit</th>\n",
       "      <th>diagnosticID</th>\n",
       "    </tr>\n",
       "  </thead>\n",
       "  <tbody>\n",
       "    <tr>\n",
       "      <th>18</th>\n",
       "      <td>18687</td>\n",
       "      <td>Mammals</td>\n",
       "      <td>7.12972</td>\n",
       "      <td>-73.12583</td>\n",
       "      <td>Unknown</td>\n",
       "      <td>PreservedSpecimen</td>\n",
       "      <td>6-Sep-60</td>\n",
       "      <td>LACM</td>\n",
       "      <td>Not Collected</td>\n",
       "      <td>Colombia | Santander Dept | Bucaramanga</td>\n",
       "      <td>...</td>\n",
       "      <td>07 07 47 N</td>\n",
       "      <td>b98b7c7d-92e8-4cf4-a873-b5630b2cc708</td>\n",
       "      <td>NaN</td>\n",
       "      <td>NaN</td>\n",
       "      <td>None</td>\n",
       "      <td>1018</td>\n",
       "      <td>Extracted with Traiter</td>\n",
       "      <td>18</td>\n",
       "      <td>mm</td>\n",
       "      <td>18</td>\n",
       "    </tr>\n",
       "    <tr>\n",
       "      <th>29</th>\n",
       "      <td>2335</td>\n",
       "      <td>Mammals</td>\n",
       "      <td>NaN</td>\n",
       "      <td>NaN</td>\n",
       "      <td>Unknown</td>\n",
       "      <td>PreservedSpecimen</td>\n",
       "      <td>1/28/67</td>\n",
       "      <td>OMNH</td>\n",
       "      <td>Not Collected</td>\n",
       "      <td>NaN</td>\n",
       "      <td>...</td>\n",
       "      <td>NaN</td>\n",
       "      <td>urn:catalog:OMNH:Mammals:2335</td>\n",
       "      <td>NaN</td>\n",
       "      <td></td>\n",
       "      <td>None</td>\n",
       "      <td>800 ft</td>\n",
       "      <td>Extracted with Traiter</td>\n",
       "      <td>29</td>\n",
       "      <td>mm</td>\n",
       "      <td>29</td>\n",
       "    </tr>\n",
       "    <tr>\n",
       "      <th>30</th>\n",
       "      <td>18914</td>\n",
       "      <td>Mammals</td>\n",
       "      <td>NaN</td>\n",
       "      <td>NaN</td>\n",
       "      <td>Unknown</td>\n",
       "      <td>PreservedSpecimen</td>\n",
       "      <td>1/1/76</td>\n",
       "      <td>OMNH</td>\n",
       "      <td>Not Collected</td>\n",
       "      <td>NaN</td>\n",
       "      <td>...</td>\n",
       "      <td>NaN</td>\n",
       "      <td>urn:catalog:OMNH:Mammals:18914</td>\n",
       "      <td>NaN</td>\n",
       "      <td>NaN</td>\n",
       "      <td>None</td>\n",
       "      <td>1600 m</td>\n",
       "      <td>Extracted with Traiter</td>\n",
       "      <td>30</td>\n",
       "      <td>mm</td>\n",
       "      <td>30</td>\n",
       "    </tr>\n",
       "    <tr>\n",
       "      <th>441</th>\n",
       "      <td>70886</td>\n",
       "      <td>Mammals</td>\n",
       "      <td>NaN</td>\n",
       "      <td>NaN</td>\n",
       "      <td>Unknown</td>\n",
       "      <td>PreservedSpecimen</td>\n",
       "      <td>6-May-75</td>\n",
       "      <td>LACM</td>\n",
       "      <td>Not Collected</td>\n",
       "      <td>Mexico | Colima | Cerro Grande</td>\n",
       "      <td>...</td>\n",
       "      <td>NaN</td>\n",
       "      <td>2752cee3-6c8b-479c-9dd4-cf56bd548459</td>\n",
       "      <td>NaN</td>\n",
       "      <td>NaN</td>\n",
       "      <td>None</td>\n",
       "      <td>2377</td>\n",
       "      <td>Extracted with Traiter</td>\n",
       "      <td>441</td>\n",
       "      <td>mm</td>\n",
       "      <td>441</td>\n",
       "    </tr>\n",
       "    <tr>\n",
       "      <th>442</th>\n",
       "      <td>56081</td>\n",
       "      <td>Mammals</td>\n",
       "      <td>NaN</td>\n",
       "      <td>NaN</td>\n",
       "      <td>Unknown</td>\n",
       "      <td>PreservedSpecimen</td>\n",
       "      <td>7-May-75</td>\n",
       "      <td>LACM</td>\n",
       "      <td>Not Collected</td>\n",
       "      <td>Mexico | Colima | Cerro Grande</td>\n",
       "      <td>...</td>\n",
       "      <td>NaN</td>\n",
       "      <td>7fd7ad74-f6e2-4742-b16d-beb6c19b5e32</td>\n",
       "      <td>NaN</td>\n",
       "      <td></td>\n",
       "      <td>None</td>\n",
       "      <td>2377</td>\n",
       "      <td>Extracted with Traiter</td>\n",
       "      <td>442</td>\n",
       "      <td>mm</td>\n",
       "      <td>442</td>\n",
       "    </tr>\n",
       "    <tr>\n",
       "      <th>...</th>\n",
       "      <td>...</td>\n",
       "      <td>...</td>\n",
       "      <td>...</td>\n",
       "      <td>...</td>\n",
       "      <td>...</td>\n",
       "      <td>...</td>\n",
       "      <td>...</td>\n",
       "      <td>...</td>\n",
       "      <td>...</td>\n",
       "      <td>...</td>\n",
       "      <td>...</td>\n",
       "      <td>...</td>\n",
       "      <td>...</td>\n",
       "      <td>...</td>\n",
       "      <td>...</td>\n",
       "      <td>...</td>\n",
       "      <td>...</td>\n",
       "      <td>...</td>\n",
       "      <td>...</td>\n",
       "      <td>...</td>\n",
       "      <td>...</td>\n",
       "    </tr>\n",
       "    <tr>\n",
       "      <th>522733</th>\n",
       "      <td>267</td>\n",
       "      <td>Mamíferos</td>\n",
       "      <td>15.10140</td>\n",
       "      <td>-90.31860</td>\n",
       "      <td>Unknown</td>\n",
       "      <td>PreservedSpecimen</td>\n",
       "      <td>24-Jun-78</td>\n",
       "      <td>USAC</td>\n",
       "      <td>Not Collected</td>\n",
       "      <td>GUATEMALA | Baja Verapaz | Salamá | 0.6 km N, ...</td>\n",
       "      <td>...</td>\n",
       "      <td>15.1014°N</td>\n",
       "      <td>urn:catalog:USAC:Mamíferos:267</td>\n",
       "      <td>NaN</td>\n",
       "      <td>NaN</td>\n",
       "      <td>body length</td>\n",
       "      <td>61.0</td>\n",
       "      <td>Extracted with Traiter</td>\n",
       "      <td>522733</td>\n",
       "      <td>mm</td>\n",
       "      <td>522733</td>\n",
       "    </tr>\n",
       "    <tr>\n",
       "      <th>522734</th>\n",
       "      <td>1541</td>\n",
       "      <td>Mamíferos</td>\n",
       "      <td>15.40530</td>\n",
       "      <td>-91.96250</td>\n",
       "      <td>Unknown</td>\n",
       "      <td>PreservedSpecimen</td>\n",
       "      <td>25-Aug-03</td>\n",
       "      <td>USAC</td>\n",
       "      <td>Not Collected</td>\n",
       "      <td>GUATEMALA | Huehuetenango | Cuilco | Sosí Chiq...</td>\n",
       "      <td>...</td>\n",
       "      <td>15.4053°N</td>\n",
       "      <td>urn:catalog:USAC:Mamíferos:1541</td>\n",
       "      <td>NaN</td>\n",
       "      <td></td>\n",
       "      <td>body length</td>\n",
       "      <td>94.0</td>\n",
       "      <td>Extracted with Traiter</td>\n",
       "      <td>522734</td>\n",
       "      <td>mm</td>\n",
       "      <td>522734</td>\n",
       "    </tr>\n",
       "    <tr>\n",
       "      <th>522735</th>\n",
       "      <td>3345</td>\n",
       "      <td>Mamíferos</td>\n",
       "      <td>17.69640</td>\n",
       "      <td>-89.53810</td>\n",
       "      <td>Unknown</td>\n",
       "      <td>PreservedSpecimen</td>\n",
       "      <td>15-Jun-04</td>\n",
       "      <td>USAC</td>\n",
       "      <td>Not Collected</td>\n",
       "      <td>GUATEMALA | Petén | Flores | Biotopo Dos Lagun...</td>\n",
       "      <td>...</td>\n",
       "      <td>17.6964°N</td>\n",
       "      <td>urn:catalog:USAC:Mamíferos:3345</td>\n",
       "      <td>NaN</td>\n",
       "      <td></td>\n",
       "      <td>body length</td>\n",
       "      <td>63.0</td>\n",
       "      <td>Extracted with Traiter</td>\n",
       "      <td>522735</td>\n",
       "      <td>mm</td>\n",
       "      <td>522735</td>\n",
       "    </tr>\n",
       "    <tr>\n",
       "      <th>522736</th>\n",
       "      <td>2943</td>\n",
       "      <td>Mamíferos</td>\n",
       "      <td>17.69640</td>\n",
       "      <td>-89.53810</td>\n",
       "      <td>Unknown</td>\n",
       "      <td>PreservedSpecimen</td>\n",
       "      <td>15-Jun-04</td>\n",
       "      <td>USAC</td>\n",
       "      <td>Not Collected</td>\n",
       "      <td>GUATEMALA | Petén | Flores | Biotopo Dos Lagun...</td>\n",
       "      <td>...</td>\n",
       "      <td>17.6964°N</td>\n",
       "      <td>urn:catalog:USAC:Mamíferos:2943</td>\n",
       "      <td>NaN</td>\n",
       "      <td></td>\n",
       "      <td>body length</td>\n",
       "      <td>63.0</td>\n",
       "      <td>Extracted with Traiter</td>\n",
       "      <td>522736</td>\n",
       "      <td>mm</td>\n",
       "      <td>522736</td>\n",
       "    </tr>\n",
       "    <tr>\n",
       "      <th>522737</th>\n",
       "      <td>2947</td>\n",
       "      <td>Mamíferos</td>\n",
       "      <td>17.69330</td>\n",
       "      <td>-89.53110</td>\n",
       "      <td>Unknown</td>\n",
       "      <td>PreservedSpecimen</td>\n",
       "      <td>14-Jun-04</td>\n",
       "      <td>USAC</td>\n",
       "      <td>Not Collected</td>\n",
       "      <td>GUATEMALA | Petén | Flores | Biotopo Dos Lagun...</td>\n",
       "      <td>...</td>\n",
       "      <td>17.6933°N</td>\n",
       "      <td>urn:catalog:USAC:Mamíferos:2947</td>\n",
       "      <td>NaN</td>\n",
       "      <td></td>\n",
       "      <td>body length</td>\n",
       "      <td>69.0</td>\n",
       "      <td>Extracted with Traiter</td>\n",
       "      <td>522737</td>\n",
       "      <td>mm</td>\n",
       "      <td>522737</td>\n",
       "    </tr>\n",
       "  </tbody>\n",
       "</table>\n",
       "<p>233339 rows × 33 columns</p>\n",
       "</div>"
      ],
      "text/plain": [
       "       catalogNumber collectionCode  decimalLatitude  decimalLongitude  \\\n",
       "18             18687        Mammals          7.12972         -73.12583   \n",
       "29              2335        Mammals              NaN               NaN   \n",
       "30             18914        Mammals              NaN               NaN   \n",
       "441            70886        Mammals              NaN               NaN   \n",
       "442            56081        Mammals              NaN               NaN   \n",
       "...              ...            ...              ...               ...   \n",
       "522733           267      Mamíferos         15.10140         -90.31860   \n",
       "522734          1541      Mamíferos         15.40530         -91.96250   \n",
       "522735          3345      Mamíferos         17.69640         -89.53810   \n",
       "522736          2943      Mamíferos         17.69640         -89.53810   \n",
       "522737          2947      Mamíferos         17.69330         -89.53110   \n",
       "\n",
       "       yearCollected      basisOfRecord verbatimEventDate institutionCode  \\\n",
       "18           Unknown  PreservedSpecimen          6-Sep-60            LACM   \n",
       "29           Unknown  PreservedSpecimen           1/28/67            OMNH   \n",
       "30           Unknown  PreservedSpecimen            1/1/76            OMNH   \n",
       "441          Unknown  PreservedSpecimen          6-May-75            LACM   \n",
       "442          Unknown  PreservedSpecimen          7-May-75            LACM   \n",
       "...              ...                ...               ...             ...   \n",
       "522733       Unknown  PreservedSpecimen         24-Jun-78            USAC   \n",
       "522734       Unknown  PreservedSpecimen         25-Aug-03            USAC   \n",
       "522735       Unknown  PreservedSpecimen         15-Jun-04            USAC   \n",
       "522736       Unknown  PreservedSpecimen         15-Jun-04            USAC   \n",
       "522737       Unknown  PreservedSpecimen         14-Jun-04            USAC   \n",
       "\n",
       "            lifeStage                                   verbatimLocality  ...  \\\n",
       "18      Not Collected            Colombia | Santander Dept | Bucaramanga  ...   \n",
       "29      Not Collected                                                NaN  ...   \n",
       "30      Not Collected                                                NaN  ...   \n",
       "441     Not Collected                     Mexico | Colima | Cerro Grande  ...   \n",
       "442     Not Collected                     Mexico | Colima | Cerro Grande  ...   \n",
       "...               ...                                                ...  ...   \n",
       "522733  Not Collected  GUATEMALA | Baja Verapaz | Salamá | 0.6 km N, ...  ...   \n",
       "522734  Not Collected  GUATEMALA | Huehuetenango | Cuilco | Sosí Chiq...  ...   \n",
       "522735  Not Collected  GUATEMALA | Petén | Flores | Biotopo Dos Lagun...  ...   \n",
       "522736  Not Collected  GUATEMALA | Petén | Flores | Biotopo Dos Lagun...  ...   \n",
       "522737  Not Collected  GUATEMALA | Petén | Flores | Biotopo Dos Lagun...  ...   \n",
       "\n",
       "       verbatimLatitude                          occurrenceID  \\\n",
       "18           07 07 47 N  b98b7c7d-92e8-4cf4-a873-b5630b2cc708   \n",
       "29                  NaN         urn:catalog:OMNH:Mammals:2335   \n",
       "30                  NaN        urn:catalog:OMNH:Mammals:18914   \n",
       "441                 NaN  2752cee3-6c8b-479c-9dd4-cf56bd548459   \n",
       "442                 NaN  7fd7ad74-f6e2-4742-b16d-beb6c19b5e32   \n",
       "...                 ...                                   ...   \n",
       "522733        15.1014°N        urn:catalog:USAC:Mamíferos:267   \n",
       "522734        15.4053°N       urn:catalog:USAC:Mamíferos:1541   \n",
       "522735        17.6964°N       urn:catalog:USAC:Mamíferos:3345   \n",
       "522736        17.6964°N       urn:catalog:USAC:Mamíferos:2943   \n",
       "522737        17.6933°N       urn:catalog:USAC:Mamíferos:2947   \n",
       "\n",
       "       occurrenceRemarks reproductiveCondition measurementType  \\\n",
       "18                   NaN                   NaN            None   \n",
       "29                   NaN                                  None   \n",
       "30                   NaN                   NaN            None   \n",
       "441                  NaN                   NaN            None   \n",
       "442                  NaN                                  None   \n",
       "...                  ...                   ...             ...   \n",
       "522733               NaN                   NaN     body length   \n",
       "522734               NaN                           body length   \n",
       "522735               NaN                           body length   \n",
       "522736               NaN                           body length   \n",
       "522737               NaN                           body length   \n",
       "\n",
       "       measurementValue       measurementMethod     ind measurementUnit  \\\n",
       "18                 1018  Extracted with Traiter      18              mm   \n",
       "29               800 ft  Extracted with Traiter      29              mm   \n",
       "30               1600 m  Extracted with Traiter      30              mm   \n",
       "441                2377  Extracted with Traiter     441              mm   \n",
       "442                2377  Extracted with Traiter     442              mm   \n",
       "...                 ...                     ...     ...             ...   \n",
       "522733             61.0  Extracted with Traiter  522733              mm   \n",
       "522734             94.0  Extracted with Traiter  522734              mm   \n",
       "522735             63.0  Extracted with Traiter  522735              mm   \n",
       "522736             63.0  Extracted with Traiter  522736              mm   \n",
       "522737             69.0  Extracted with Traiter  522737              mm   \n",
       "\n",
       "        diagnosticID  \n",
       "18                18  \n",
       "29                29  \n",
       "30                30  \n",
       "441              441  \n",
       "442              442  \n",
       "...              ...  \n",
       "522733        522733  \n",
       "522734        522734  \n",
       "522735        522735  \n",
       "522736        522736  \n",
       "522737        522737  \n",
       "\n",
       "[233339 rows x 33 columns]"
      ]
     },
     "execution_count": 84,
     "metadata": {},
     "output_type": "execute_result"
    }
   ],
   "source": [
    "df_long"
   ]
  },
  {
   "cell_type": "code",
   "execution_count": null,
   "metadata": {},
   "outputs": [],
   "source": []
  }
 ],
 "metadata": {
  "kernelspec": {
   "display_name": "Python 3",
   "language": "python",
   "name": "python3"
  },
  "language_info": {
   "codemirror_mode": {
    "name": "ipython",
    "version": 3
   },
   "file_extension": ".py",
   "mimetype": "text/x-python",
   "name": "python",
   "nbconvert_exporter": "python",
   "pygments_lexer": "ipython3",
   "version": "3.8.10"
  }
 },
 "nbformat": 4,
 "nbformat_minor": 4
}
