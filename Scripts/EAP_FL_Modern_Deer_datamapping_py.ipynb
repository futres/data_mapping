{
 "cells": [
  {
   "cell_type": "markdown",
   "metadata": {},
   "source": [
    "Data Wrangling Notebook for EAP Deer Data\n",
    "<br />\n",
    "Neeka Sewnath\n",
    "<br />\n",
    "nsewnath@ufl.edu"
   ]
  },
  {
   "cell_type": "code",
   "execution_count": 3,
   "metadata": {},
   "outputs": [],
   "source": [
    "import pandas as pd\n",
    "import numpy as np \n",
    "import uuid\n",
    "import re"
   ]
  },
  {
   "cell_type": "markdown",
   "metadata": {},
   "source": [
    "Import EAP Florida Modern Deer Data"
   ]
  },
  {
   "cell_type": "code",
   "execution_count": 7,
   "metadata": {},
   "outputs": [],
   "source": [
    "deerData = pd.read_csv(\"../Original_Data/EAP_Florida_Modern_Deer_Measurements_FORFUTRES_1_23_2020.csv\")"
   ]
  },
  {
   "cell_type": "markdown",
   "metadata": {},
   "source": [
    "Create GEOME required ageUnit column and populate it with \"year\""
   ]
  },
  {
   "cell_type": "code",
   "execution_count": null,
   "metadata": {},
   "outputs": [],
   "source": [
    "deerData = deerData.assign(ageUnit = \"year\")"
   ]
  },
  {
   "cell_type": "markdown",
   "metadata": {},
   "source": [
    "Create yearCollected column and populate it with extracted year from eventDate"
   ]
  },
  {
   "cell_type": "code",
   "execution_count": null,
   "metadata": {},
   "outputs": [],
   "source": [
    "deerData = deerData.assign(yearCollected = \"\")\n",
    "\n",
    "def find_year(date):\n",
    "    \"\"\"Converts scientific name to binomial nomenclature format\"\"\"\n",
    "    date = str(date)\n",
    "    slash = re.compile('/')\n",
    "    \n",
    "    #Finds '/' in string and assigns last value to year \n",
    "        if slash.findall(date):\n",
    "        date = date.split('/')\n",
    "        return date[2]\n",
    "\n",
    "# Assign year to yearCollected column\n",
    "deerData[\"yearCollected\"]  = deerData[\"eventDate\"].apply(find_year)"
   ]
  },
  {
   "cell_type": "markdown",
   "metadata": {},
   "source": [
    "Standardize Sex Column"
   ]
  },
  {
   "cell_type": "code",
   "execution_count": 4,
   "metadata": {},
   "outputs": [],
   "source": [
    "female = deerData['sex']==\"F\"\n",
    "male = deerData['sex'] == \"M\"\n",
    "deerData['sex'][(female == False) & (male == False)] = \"not collected\"\n",
    "deerData['sex'][female == True] = \"female\"\n",
    "deerData['sex'][male == True] = \"male\""
   ]
  },
  {
   "cell_type": "markdown",
   "metadata": {},
   "source": [
    "Stadardize Side Column"
   ]
  },
  {
   "cell_type": "code",
   "execution_count": 5,
   "metadata": {},
   "outputs": [],
   "source": [
    "right = deerData['side'] == \"R\"\n",
    "left = deerData['side'] == \"L\"\n",
    "deerData['side'][(right == False) & (left == False)] = \"\"\n",
    "deerData['side'][right == True] = \"right\"\n",
    "deerData['side'][left == True] = \"left\""
   ]
  },
  {
   "cell_type": "markdown",
   "metadata": {},
   "source": [
    "Set up verbatimAge column"
   ]
  },
  {
   "cell_type": "code",
   "execution_count": 8,
   "metadata": {},
   "outputs": [],
   "source": [
    "deerData[\"verbatimAgeValue\"] = deerData['ageValue']"
   ]
  },
  {
   "cell_type": "markdown",
   "metadata": {},
   "source": [
    "Standardize Reproduction Condition column"
   ]
  },
  {
   "cell_type": "code",
   "execution_count": 10,
   "metadata": {},
   "outputs": [
    {
     "data": {
      "text/plain": [
       "34                     \n",
       "35                     \n",
       "36                     \n",
       "37                     \n",
       "38                     \n",
       "             ...       \n",
       "243                    \n",
       "244    non-reproductive\n",
       "245    non-reproductive\n",
       "246    non-reproductive\n",
       "247    non-reproductive\n",
       "Name: Reproductive Condition, Length: 214, dtype: object"
      ]
     },
     "execution_count": 10,
     "metadata": {},
     "output_type": "execute_result"
    }
   ],
   "source": [
    "reproduction_data=deerData[\"reproductiveCondition\"]\n",
    "not_pregnant_filter = reproduction_data.str.contains(\"not|non\")\n",
    "pregnant_filter = reproduction_data.str.contains(\"fetus|several\")\n",
    "space_filter = reproduction_data.str.contains(\"--\")\n",
    "\n",
    "# Reassigning data\n",
    "deerData[\"reproductiveCondition\"][not_pregnant_filter==True]=\"non-reproductive\"\n",
    "deerData[\"reproductiveCondition\"][pregnant_filter==True]=\"pregnant\"\n",
    "deerData[\"reproductiveCondition\"][space_filter==True]=\"\""
   ]
  },
  {
   "cell_type": "markdown",
   "metadata": {},
   "source": [
    "Standardize lifeStage column"
   ]
  },
  {
   "cell_type": "code",
   "execution_count": 11,
   "metadata": {},
   "outputs": [],
   "source": [
    "young_adult = deerData['[Age] Life Stage'] == \"young adult\"\n",
    "dash_age = deerData['[Age] Life Stage'] == \"--\"\n",
    "deerData['[Age] Life Stage'][young_adult == True] = \"adult\"\n",
    "deerData['[Age] Life Stage'][dash_age == True] = \"\""
   ]
  },
  {
   "cell_type": "markdown",
   "metadata": {},
   "source": [
    "Select specified columns for final dataset"
   ]
  },
  {
   "cell_type": "code",
   "execution_count": 13,
   "metadata": {},
   "outputs": [],
   "source": [
    "#Create column list\n",
    "cols = deerData.columns.tolist()\n",
    "\n",
    "#Specify desired columns\n",
    "cols = ['occurenceid',\n",
    "        'references',\n",
    "        'scientificName',\n",
    "        'catalogNumber',\n",
    "        'sex',\n",
    "        'ageValue',\n",
    "        'lifeStage',\n",
    "        'occurrenceRemarks',\n",
    "        'ageUnit',\n",
    "        'country',\n",
    "        'stateProvince',\n",
    "        'locality',\n",
    "        'verbatimLocality',       \n",
    "        'decimalLatitude',\n",
    "        'decimalLongitude',\n",
    "        'verbatimEventDate',\n",
    "        'yearCollected',\n",
    "        'samplingProtocol',\n",
    "        'reproductiveCondition',\n",
    "        'eventRemarks',\n",
    "        \n",
    "        'Side',\n",
    "        'Total Fresh Weight (g)',\n",
    "        'Height (mm) [define?]',\n",
    "        'TL (mm) [Total Length]',\n",
    "        'HF (mm) [Hind Foot Length]',\n",
    "        'Measurement Remarks',\n",
    "        'Measurements by',\n",
    "        'Measurement Date',\n",
    "        'Measurement Method',\n",
    "        'Measurement Accuracy',\n",
    "        'otherCatalogNumbers']\n",
    "\n",
    "#Subset dataframe\n",
    "deerData = deerData[cols]"
   ]
  },
  {
   "cell_type": "code",
   "execution_count": 14,
   "metadata": {},
   "outputs": [],
   "source": [
    "#Matching template and column terms\n",
    "\n",
    "#Renaming columns \n",
    "deerData = deerData.rename(columns = {'occurenceid':'occurrenceID',\n",
    "                                      'ageValue':'verbatimAgeValue'\n",
    "                                      'occurrenceRemarks':'ageEstimationMethod',\n",
    "                                      'side': 'measurementSide',\n",
    "                                      'Measurement Remarks': 'measurementRemarks',\n",
    "                                      'Measurements by': 'measurementDeterminedBy',\n",
    "                                      'Measurement Date': 'measurementDeterminedDate',\n",
    "                                      'Measurement Method': 'measurementMethod',\n",
    "                                      'Measurement Accuracy': 'measurementAccuracy'})"
   ]
  },
  {
   "cell_type": "code",
   "execution_count": 15,
   "metadata": {},
   "outputs": [],
   "source": [
    "#Matching trait and ontology terms\n",
    "\n",
    "#Renaming columns\n",
    "deerData = deerData.rename(columns={'Total Fresh Weight (g)': 'body mass',\n",
    "                                    'Height (mm) [define?]': 'body height',\n",
    "                                    'TL (mm) [Total Length]': 'body length',\n",
    "                                    'HF (mm) [Hind Foot Length]': 'pes length'})\n"
   ]
  },
  {
   "cell_type": "code",
   "execution_count": 16,
   "metadata": {},
   "outputs": [],
   "source": [
    "#Create materialSampleID which is a UUID for each measurement\n",
    "#Create eventID and populate it with materialSampleID\n",
    "\n",
    "deerData=deerData.assign(materialSampleID = '')\n",
    "deerData['materialSampleID'] = [uuid.uuid4() for _ in range(len(deerData.index))]\n",
    "\n",
    "for ind in deerData.index:\n",
    "    x=deerData['materialSampleID'][ind]\n",
    "    y=str(x)\n",
    "    z=y.replace(\"-\", '_')\n",
    "    \n",
    "    deerData['materialSampleID'][ind] = z\n",
    "\n",
    "deerData=deerData.assign(eventID = deerData[\"materialSampleID\"])"
   ]
  },
  {
   "cell_type": "code",
   "execution_count": 17,
   "metadata": {},
   "outputs": [],
   "source": [
    "#Add GEOME required columns\n",
    "deerData=deerData.assign(measurementMethod=\"Unknown\")\n",
    "deerData=deerData.assign(basisOfRecord=\"PreservedSpecimen\")"
   ]
  },
  {
   "cell_type": "code",
   "execution_count": 18,
   "metadata": {},
   "outputs": [],
   "source": [
    "#create long version so that each trait has its own row\n",
    "\n",
    "#creating long version, first specifiying keep variables, then naming variable and value\n",
    "longVers=pd.melt(deerData, \n",
    "                id_vars=['occurrenceID',\n",
    "                         'eventID',\n",
    "                         'references',\n",
    "                         'scientificName',\n",
    "                         'catalogNumber',\n",
    "                         'otherCatalogNumbers',\n",
    "                         'sex',\n",
    "                         'ageValue',\n",
    "                         'ageUnit',\n",
    "                         'verbatimAgeValue',\n",
    "                         'lifeStage',\n",
    "                         'country',\n",
    "                         'ageEstimationMethod',\n",
    "                         'stateProvince',\n",
    "                         'locality',\n",
    "                         'verbatimLocality',\n",
    "                         'verbatimLatitude',\n",
    "                         'verbatimLongitude',\n",
    "                         'decimalLatitude',\n",
    "                         'decimalLongitude',\n",
    "                         'minimumElevationInMeters',\n",
    "                         'maximumElevationInMeters',\n",
    "                         'verbatimElevation',\n",
    "                         'minimumDepthInMeters',\n",
    "                         'maximumDepthInMeters',\n",
    "                         'verbatimDepth',\n",
    "                         'verbatimEventDate',\n",
    "                         'yearCollected',\n",
    "                         'samplingProtocol',\n",
    "                         'eventRemarks',\n",
    "                         'reproductiveCondition',\n",
    "                         'measurementRemarks',\n",
    "                         'measurementSide',\n",
    "                         'measurementMethod',\n",
    "                         'measurementAccuracy',\n",
    "                         'measurementDeterminedDate',\n",
    "                         'measurementDeterminedBy',\n",
    "                         'basisOfRecord',\n",
    "                         'materialSampleID'], \n",
    "                var_name = 'measurementType', \n",
    "                value_name = 'measurementValue')"
   ]
  },
  {
   "cell_type": "code",
   "execution_count": 19,
   "metadata": {},
   "outputs": [],
   "source": [
    "#Populating measurementUnit column with appropriate measurement units in long version\n",
    "longVers=longVers.assign(measurementUnit=\"\")\n",
    "\n",
    "for ind in longVers.index:\n",
    "    if longVers['measurementType'][ind] == \"body mass\":\n",
    "        longVers['measurementUnit'][ind]=\"g\"\n",
    "    else:\n",
    "        longVers['measurementUnit'][ind]=\"mm\""
   ]
  },
  {
   "cell_type": "code",
   "execution_count": 20,
   "metadata": {},
   "outputs": [],
   "source": [
    "#Create diagnosticID which is a unique number for each measurement\n",
    "longVers=longVers.assign(diagnosticID = '')\n",
    "longVers['diagnosticID'] = np.arange(len(longVers))"
   ]
  },
  {
   "cell_type": "code",
   "execution_count": 25,
   "metadata": {},
   "outputs": [],
   "source": [
    "#If measurement value equals N/a or --, delete entire row\n",
    "longVers = longVers.dropna(subset=['measurementValue'])\n",
    "longVers = longVers[longVers.measurementValue != \"--\"]\n",
    "\n",
    "#Drop first row of data, it contains no measurementValue but is still retained\n",
    "longVers = longVers.drop(longVers.index[0])"
   ]
  },
  {
   "cell_type": "code",
   "execution_count": 26,
   "metadata": {},
   "outputs": [],
   "source": [
    "#Writing long data csv file\n",
    "longVers.to_csv('../Mapped Data/FuTRES_EAP_Deer_Emery.csv')"
   ]
  },
  {
   "cell_type": "code",
   "execution_count": null,
   "metadata": {},
   "outputs": [],
   "source": []
  },
  {
   "cell_type": "code",
   "execution_count": null,
   "metadata": {},
   "outputs": [],
   "source": []
  }
 ],
 "metadata": {
  "kernelspec": {
   "display_name": "Python 3",
   "language": "python",
   "name": "python3"
  },
  "language_info": {
   "codemirror_mode": {
    "name": "ipython",
    "version": 3
   },
   "file_extension": ".py",
   "mimetype": "text/x-python",
   "name": "python",
   "nbconvert_exporter": "python",
   "pygments_lexer": "ipython3",
   "version": "3.8.3"
  }
 },
 "nbformat": 4,
 "nbformat_minor": 2
}
