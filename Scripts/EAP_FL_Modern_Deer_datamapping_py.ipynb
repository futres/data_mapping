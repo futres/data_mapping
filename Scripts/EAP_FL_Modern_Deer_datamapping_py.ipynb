{
 "cells": [
  {
   "cell_type": "markdown",
   "metadata": {},
   "source": [
    "# To Code:\n",
    "\n",
    "## template mapping files are in the git repository\n",
    "\n",
    "## original data in _CyVerse Discovery Environment_ \n",
    "### data file is: \"EAP Florida Modern Deer Measurements_VforFuTRES_Dec2019.xlsx\"\n",
    "\n",
    "### _ageUnit_\n",
    "- create column for _ageUnit_\n",
    "- all in \"year\" (spelled out and singular)\n",
    "\n",
    "### _measurementUnit_\n",
    "- create column _measurementUnit_\n",
    "- measurements either in \"g\" or \"mm\" (abbreviated)\n",
    "\n",
    "### _yearCollected_\n",
    "- in _Standardized Collection Date_\n",
    "- create new column yearCollected\n",
    "- separate out year\n",
    "- include century as well (e.g., 1999)\n",
    "\n",
    "### _otherCatalogNumbers_\n",
    "- concatenated list of:\n",
    "    - [UF#]\n",
    "\n",
    "### _verbatimLatitude_\n",
    "- in _Verbatim Coordinates [Latitude/Longitude]_\n",
    "- create new column verbatimLatitude\n",
    "- separate out latitude coordinates\n",
    "\n",
    "### _verbatimLongitude_\n",
    "- in _Verbatim Coordinates [Latitude/Longitude]_\n",
    "- create new column verbatimLongitude\n",
    "- separate out longitude coordinates\n",
    "\n",
    "### _unused columns_\n",
    "- Common Name\n",
    "- [Kingdom]\n",
    "- [Phylum]\n",
    "- [Class]\n",
    "- [Order]\n",
    "- [Family]\n",
    "- [Genus]\n",
    "- Specific Epithet [species]\n",
    "- Infraspecific Epithet [subspecies]\n",
    "- Taxon Rank\n",
    "- [Collector Number]\n",
    "- [# Specimens]\n",
    "- Organism ID\n",
    "- Identified By\n",
    "- Year/Month/Day Identified\n",
    "- Identification Remarks\n",
    "- Country Code\n",
    "- [County]\n",
    "- Municipality [City]\n",
    "- Land owner\n",
    "- Geodetic Datum\n",
    "- Coordinate Uncertainty in Meters\n",
    "- Coordinate Precision\n",
    "- Elevation Accuracy\n",
    "- Depth of Bottom in Meters\n",
    "- Minimum Distance Above Surface in Meters\n",
    "- Maximum Distance Above Surface in Meters\n",
    "- Georeference Protocol\n",
    "- Georeference Verified?\n",
    "- Location Remarks\n",
    "- Accession Date\n",
    "- [Collector]\n",
    "- Event Entered By\n",
    "- Habitat/Subhabitat/Substratum\n",
    "- Establishment Means\n",
    "- Permit Information\n",
    "- [Specimen Location]\n",
    "- [Data location]\n",
    "- [on_loan]\n",
    "- [time_stamp]\n",
    "- Associated Taxa\n",
    "- Images\n",
    "- Occurrence Remarks\n",
    "- Additional Notes Available?\n",
    "- Skeletal Element Name\n"
   ]
  },
  {
   "cell_type": "markdown",
   "metadata": {},
   "source": [
    "Data Wrangling Notebook for Aepyceros Data\n",
    "<br />\n",
    "Neeka Sewnath\n",
    "<br />\n",
    "nsewnath@ufl.edu"
   ]
  },
  {
   "cell_type": "code",
   "execution_count": 3,
   "metadata": {},
   "outputs": [],
   "source": [
    "import pandas as pd\n",
    "import numpy as np \n",
    "import uuid\n",
    "import re"
   ]
  },
  {
   "cell_type": "markdown",
   "metadata": {},
   "source": [
    "Import EAP Florida Modern Deer Data"
   ]
  },
  {
   "cell_type": "code",
   "execution_count": 7,
   "metadata": {},
   "outputs": [],
   "source": [
    "deerData = pd.read_csv(\"../Original_Data/EAP_Florida_Modern_Deer_Measurements_FORFUTRES_1_23_2020.csv\")\n",
    "\n",
    "#Drop unnecessary rows \n",
    "deerData = deerData.iloc[33:]\n",
    "\n",
    "#Create new header\n",
    "new_header = deerData.iloc[0] \n",
    "deerData = deerData[1:] \n",
    "deerData.columns = new_header"
   ]
  },
  {
   "cell_type": "markdown",
   "metadata": {},
   "source": [
    "Create GEOME required ageUnit column and populate it with \"year\""
   ]
  },
  {
   "cell_type": "code",
   "execution_count": null,
   "metadata": {},
   "outputs": [],
   "source": [
    "deerData=deerData.assign(ageUnit = \"year\")"
   ]
  },
  {
   "cell_type": "markdown",
   "metadata": {},
   "source": [
    "Create otherCatalogNumbers column"
   ]
  },
  {
   "cell_type": "code",
   "execution_count": null,
   "metadata": {},
   "outputs": [],
   "source": [
    "deerData=deerData.assign(otherCatalogNumbers = \"\") "
   ]
  },
  {
   "cell_type": "markdown",
   "metadata": {},
   "source": [
    "Create yearCollected column and populate it with extracted year"
   ]
  },
  {
   "cell_type": "code",
   "execution_count": null,
   "metadata": {},
   "outputs": [],
   "source": [
    "deerData=deerData.assign(yearCollected = \"\")\n",
    "\n",
    "\n",
    "def find_year(year):\n",
    "    \"\"\"Converts scientific name to binomial nomenclature format\"\"\"\n",
    "    year = str(year)\n",
    "    slash = re.compile('/')\n",
    "    \n",
    "    #Finds '/' in string and assigns last value to year \n",
    "        if slash.findall(year):\n",
    "        c=b.split('/')\n",
    "        return c[2]\n",
    "\n",
    "# Assign year to yearCollected column\n",
    "deerData[\"yearCollected\"]  = deerData[\"yearCollected\"].apply(find_year)\n",
    "\n",
    "    #populating yearCollected column with year \n",
    "#    a=deerData['Standardized Collection Date'][ind]\n",
    "#    b=str(a)\n",
    "#    slash=re.compile('/')\n",
    "    \n",
    "#    if slash.findall(b):\n",
    "#        c=b.split('/')\n",
    "#        deerData['yearCollected'][ind]=c[2]"
   ]
  },
  {
   "cell_type": "markdown",
   "metadata": {},
   "source": [
    "Create and populate verbatimLatitude and verbatimLongitude columns by spliting 'Verbatim Coordinates [Latitude/Longitude]'"
   ]
  },
  {
   "cell_type": "code",
   "execution_count": 3,
   "metadata": {},
   "outputs": [],
   "source": [
    "#Create verbatimLatitude column to deer data\n",
    "deerData=deerData.assign(verbatimLatitude = \"\")\n",
    "#Create verbatimLongitude column to deer data\n",
    "deerData=deerData.assign(verbatimLongitude = \"\")\n",
    "\n",
    "for ind in deerData.index:\n",
    "    x=deerData['Verbatim Coordinates [Latitude/Longitude]'][ind]\n",
    "    y=str(x)\n",
    "    z=str(y).split()\n",
    "    deerData['verbatimLatitude'][ind]=z[0]\n",
    "    deerData['verbatimLongitude'][ind]=z[1]"
   ]
  },
  {
   "cell_type": "code",
   "execution_count": 4,
   "metadata": {},
   "outputs": [],
   "source": [
    "# Clean up sex column \n",
    "female = deerData['[Sex]']==\"F\"\n",
    "male = deerData['[Sex]'] == \"M\"\n",
    "deerData['[Sex]'][(female == False)&(male==False)]=\"not collected\"\n",
    "deerData['[Sex]'][female == True]=\"female\"\n",
    "deerData['[Sex]'][male == True]=\"male\""
   ]
  },
  {
   "cell_type": "code",
   "execution_count": 5,
   "metadata": {},
   "outputs": [],
   "source": [
    "# Clean up Side column\n",
    "right = deerData['Side']==\"R\"\n",
    "left = deerData['Side'] == \"L\"\n",
    "deerData['Side'][(right == False)&(left ==False)]=\"\"\n",
    "deerData['Side'][right == True]=\"right\"\n",
    "deerData['Side'][left == True]=\"left\""
   ]
  },
  {
   "cell_type": "code",
   "execution_count": 6,
   "metadata": {},
   "outputs": [],
   "source": [
    "# Remove -- in Minimum Elevation in Meters and Maximum Elevation in Meters\n",
    "dash_min = deerData['Minimum Elevation in Meters']==\"--\"\n",
    "dash_max = deerData['Maximum Elevation in Meters']==\"--\"\n",
    "deerData['Minimum Elevation in Meters'][dash_min == True]=\"\"\n",
    "deerData['Maximum Elevation in Meters'][dash_max == True]=\"\""
   ]
  },
  {
   "cell_type": "code",
   "execution_count": 7,
   "metadata": {},
   "outputs": [],
   "source": [
    "# Remove -- in Minimum Depth in Meters and Maximum Depth in Meters\n",
    "dash_min = deerData['Minimum Depth in Meters']==\"--\"\n",
    "dash_max = deerData['Maximum Depth in Meters']==\"--\"\n",
    "deerData['Minimum Depth in Meters'][dash_min == True]=\"\"\n",
    "deerData['Maximum Depth in Meters'][dash_max == True]=\"\""
   ]
  },
  {
   "cell_type": "code",
   "execution_count": 8,
   "metadata": {},
   "outputs": [],
   "source": [
    "# Set up verbatimAge column\n",
    "deerData[\"verbatimAgeValue\"]=deerData['[Age] Value in Years [in EA database, all age info goes in one category = Age]']"
   ]
  },
  {
   "cell_type": "code",
   "execution_count": 9,
   "metadata": {},
   "outputs": [],
   "source": [
    "# Clean up Age column\n",
    "age_filter = deerData['[Age] Value in Years [in EA database, all age info goes in one category = Age]'].str.contains(\"-\")\n",
    "deerData['[Age] Value in Years [in EA database, all age info goes in one category = Age]'][age_filter] = \"\""
   ]
  },
  {
   "cell_type": "code",
   "execution_count": 10,
   "metadata": {},
   "outputs": [
    {
     "data": {
      "text/plain": [
       "34                     \n",
       "35                     \n",
       "36                     \n",
       "37                     \n",
       "38                     \n",
       "             ...       \n",
       "243                    \n",
       "244    non-reproductive\n",
       "245    non-reproductive\n",
       "246    non-reproductive\n",
       "247    non-reproductive\n",
       "Name: Reproductive Condition, Length: 214, dtype: object"
      ]
     },
     "execution_count": 10,
     "metadata": {},
     "output_type": "execute_result"
    }
   ],
   "source": [
    "# Clean up Reproductive Condition column\n",
    "\n",
    "reproduction_data=deerData[\"Reproductive Condition\"]\n",
    "not_pregnant_filter = reproduction_data.str.contains(\"not|non\")\n",
    "pregnant_filter = reproduction_data.str.contains(\"fetus|several\")\n",
    "space_filter = reproduction_data.str.contains(\"--\")\n",
    "\n",
    "# Reassigning data\n",
    "deerData[\"Reproductive Condition\"][not_pregnant_filter==True]=\"non-reproductive\"\n",
    "deerData[\"Reproductive Condition\"][pregnant_filter==True]=\"pregnant\"\n",
    "deerData[\"Reproductive Condition\"][space_filter==True]=\"\"\n",
    "\n",
    "deerData[\"Reproductive Condition\"]"
   ]
  },
  {
   "cell_type": "code",
   "execution_count": 11,
   "metadata": {},
   "outputs": [],
   "source": [
    "# Clean up life stage\n",
    "\n",
    "young_adult = deerData['[Age] Life Stage']==\"\\\"young adult\\\"\"\n",
    "dash_age = deerData['[Age] Life Stage']==\"--\"\n",
    "deerData['[Age] Life Stage'][young_adult == True]=\"adult\"\n",
    "deerData['[Age] Life Stage'][dash_age == True]=\"\"\n"
   ]
  },
  {
   "cell_type": "code",
   "execution_count": 12,
   "metadata": {},
   "outputs": [],
   "source": [
    "# add otherCatalogNumbers column\n",
    "deerData=deerData.assign(otherCatalogNumbers = deerData['[UF#]'].fillna(''))"
   ]
  },
  {
   "cell_type": "code",
   "execution_count": 13,
   "metadata": {},
   "outputs": [],
   "source": [
    "#Rearrange columns so that template columns are first, followed by measurement values\n",
    "\n",
    "#Create column list\n",
    "cols = deerData.columns.tolist()\n",
    "\n",
    "#Specify desired columns\n",
    "cols = ['Occurrence ID',\n",
    "        'Other References to this Occurrence',\n",
    "        'Taxon [in EA database this is taxon + Species]',\n",
    "        'EA Cat number [in EA database, this is catalog+catalog extension]',\n",
    "        '[Sex]',\n",
    "        '[Age] Value in Years [in EA database, all age info goes in one category = Age]',\n",
    "        '[Age] Life Stage',\n",
    "        '[Age] Age Remarks',\n",
    "        'ageUnit',\n",
    "        'verbatimAgeValue',\n",
    "        '[Country]',\n",
    "        'State [also in EA database as Country/State]',\n",
    "        'Locality [in EAP database as City/Modifier]',\n",
    "        'Verbatim Locality',\n",
    "        'verbatimLatitude',\n",
    "        'verbatimLongitude',\n",
    "        'Latitude',\n",
    "        'Longitude',\n",
    "        'Minimum Elevation in Meters',\n",
    "        'Maximum Elevation in Meters',\n",
    "        '[Elevation]',\n",
    "        'Minimum Depth in Meters',\n",
    "        'Maximum Depth in Meters',\n",
    "        'Verbatim Depth',\n",
    "        'Collection Date [EAP database has only one date category, randomly used for whatever]',\n",
    "        'yearCollected',\n",
    "        'Sampling Protocol',\n",
    "        'Reproductive Condition',\n",
    "        'Event Remarks',\n",
    "        'Side',\n",
    "        'Total Fresh Weight (g)',\n",
    "        'Height (mm) [define?]',\n",
    "        'TL (mm) [Total Length]',\n",
    "        'HF (mm) [Hind Foot Length]',\n",
    "        'Measurement Remarks',\n",
    "        'Measurements by',\n",
    "        'Measurement Date',\n",
    "        'Measurement Method',\n",
    "        'Measurement Accuracy',\n",
    "        'otherCatalogNumbers']\n",
    "\n",
    "#Subset dataframe\n",
    "deerData = deerData[cols]"
   ]
  },
  {
   "cell_type": "code",
   "execution_count": 14,
   "metadata": {},
   "outputs": [],
   "source": [
    "#Matching template and column terms\n",
    "\n",
    "#Renaming columns \n",
    "deerData = deerData.rename(columns = {'Occurrence ID':'occurrenceID',\n",
    "                                      'Other References to this Occurrence': 'references',\n",
    "                                      'Taxon [in EA database this is taxon + Species]': 'scientificName',\n",
    "                                      'EA Cat number [in EA database, this is catalog+catalog extension]':'catalogNumber',\n",
    "                                      '[Sex]':'sex',\n",
    "                                      '[Age] Value in Years [in EA database, all age info goes in one category = Age]':'ageValue',\n",
    "                                      '[Age] Life Stage':'lifeStage',\n",
    "                                      '[Age] Age Remarks':'ageEstimationMethod',\n",
    "                                      '[Country]':'country',    \n",
    "                                      'State [also in EA database as Country/State]':'stateProvince',\n",
    "                                      'Locality [in EAP database as City/Modifier]':'locality',\n",
    "                                      'Verbatim Locality':'verbatimLocality',\n",
    "                                      'Latitude':'decimalLatitude',\n",
    "                                      'Longitude':'decimalLongitude',\n",
    "                                      'Minimum Elevation in Meters':'minimumElevationInMeters',\n",
    "                                      'Maximum Elevation in Meters': 'maximumElevationInMeters',\n",
    "                                      '[Elevation]': 'verbatimElevation',\n",
    "                                      'Minimum Depth in Meters': 'minimumDepthInMeters',\n",
    "                                      'Maximum Depth in Meters': 'maximumDepthInMeters',\n",
    "                                      'Verbatim Depth':'verbatimDepth',\n",
    "                                      'Collection Date [EAP database has only one date category, randomly used for whatever]':'verbatimEventDate',\n",
    "                                      'Sampling Protocol':'samplingProtocol',\n",
    "                                      'Reproductive Condition':'reproductiveCondition',\n",
    "                                      'Event Remarks':'eventRemarks',\n",
    "                                      'Side': 'measurementSide',\n",
    "                                      'Measurement Remarks': 'measurementRemarks',\n",
    "                                      'Measurements by': 'measurementDeterminedBy',\n",
    "                                      'Measurement Date': 'measurementDeterminedDate',\n",
    "                                      'Measurement Method': 'measurementMethod',\n",
    "                                      'Measurement Accuracy': 'measurementAccuracy'})"
   ]
  },
  {
   "cell_type": "code",
   "execution_count": 15,
   "metadata": {},
   "outputs": [],
   "source": [
    "#Matching trait and ontology terms\n",
    "\n",
    "#Renaming columns\n",
    "deerData = deerData.rename(columns={'Total Fresh Weight (g)': 'body mass',\n",
    "                                    'Height (mm) [define?]': 'body height',\n",
    "                                    'TL (mm) [Total Length]': 'body length',\n",
    "                                    'HF (mm) [Hind Foot Length]': 'pes length'})\n"
   ]
  },
  {
   "cell_type": "code",
   "execution_count": 16,
   "metadata": {},
   "outputs": [],
   "source": [
    "#Create materialSampleID which is a UUID for each measurement\n",
    "#Create eventID and populate it with materialSampleID\n",
    "\n",
    "deerData=deerData.assign(materialSampleID = '')\n",
    "deerData['materialSampleID'] = [uuid.uuid4() for _ in range(len(deerData.index))]\n",
    "\n",
    "for ind in deerData.index:\n",
    "    x=deerData['materialSampleID'][ind]\n",
    "    y=str(x)\n",
    "    z=y.replace(\"-\", '_')\n",
    "    \n",
    "    deerData['materialSampleID'][ind] = z\n",
    "\n",
    "deerData=deerData.assign(eventID = deerData[\"materialSampleID\"])"
   ]
  },
  {
   "cell_type": "code",
   "execution_count": 17,
   "metadata": {},
   "outputs": [],
   "source": [
    "#Add GEOME required columns\n",
    "deerData=deerData.assign(measurementMethod=\"Unknown\")\n",
    "deerData=deerData.assign(basisOfRecord=\"PreservedSpecimen\")"
   ]
  },
  {
   "cell_type": "code",
   "execution_count": 18,
   "metadata": {},
   "outputs": [],
   "source": [
    "#create long version so that each trait has its own row\n",
    "\n",
    "#creating long version, first specifiying keep variables, then naming variable and value\n",
    "longVers=pd.melt(deerData, \n",
    "                id_vars=['occurrenceID',\n",
    "                         'eventID',\n",
    "                         'references',\n",
    "                         'scientificName',\n",
    "                         'catalogNumber',\n",
    "                         'otherCatalogNumbers',\n",
    "                         'sex',\n",
    "                         'ageValue',\n",
    "                         'ageUnit',\n",
    "                         'verbatimAgeValue',\n",
    "                         'lifeStage',\n",
    "                         'country',\n",
    "                         'ageEstimationMethod',\n",
    "                         'stateProvince',\n",
    "                         'locality',\n",
    "                         'verbatimLocality',\n",
    "                         'verbatimLatitude',\n",
    "                         'verbatimLongitude',\n",
    "                         'decimalLatitude',\n",
    "                         'decimalLongitude',\n",
    "                         'minimumElevationInMeters',\n",
    "                         'maximumElevationInMeters',\n",
    "                         'verbatimElevation',\n",
    "                         'minimumDepthInMeters',\n",
    "                         'maximumDepthInMeters',\n",
    "                         'verbatimDepth',\n",
    "                         'verbatimEventDate',\n",
    "                         'yearCollected',\n",
    "                         'samplingProtocol',\n",
    "                         'eventRemarks',\n",
    "                         'reproductiveCondition',\n",
    "                         'measurementRemarks',\n",
    "                         'measurementSide',\n",
    "                         'measurementMethod',\n",
    "                         'measurementAccuracy',\n",
    "                         'measurementDeterminedDate',\n",
    "                         'measurementDeterminedBy',\n",
    "                         'basisOfRecord',\n",
    "                         'materialSampleID'], \n",
    "                var_name = 'measurementType', \n",
    "                value_name = 'measurementValue')"
   ]
  },
  {
   "cell_type": "code",
   "execution_count": 19,
   "metadata": {},
   "outputs": [],
   "source": [
    "#Populating measurementUnit column with appropriate measurement units in long version\n",
    "longVers=longVers.assign(measurementUnit=\"\")\n",
    "\n",
    "for ind in longVers.index:\n",
    "    if longVers['measurementType'][ind] == \"body mass\":\n",
    "        longVers['measurementUnit'][ind]=\"g\"\n",
    "    else:\n",
    "        longVers['measurementUnit'][ind]=\"mm\""
   ]
  },
  {
   "cell_type": "code",
   "execution_count": 20,
   "metadata": {},
   "outputs": [],
   "source": [
    "#Create diagnosticID which is a unique number for each measurement\n",
    "longVers=longVers.assign(diagnosticID = '')\n",
    "longVers['diagnosticID'] = np.arange(len(longVers))"
   ]
  },
  {
   "cell_type": "code",
   "execution_count": 25,
   "metadata": {},
   "outputs": [],
   "source": [
    "#If measurement value equals N/a or --, delete entire row\n",
    "longVers = longVers.dropna(subset=['measurementValue'])\n",
    "longVers = longVers[longVers.measurementValue != \"--\"]\n",
    "\n",
    "#Drop first row of data, it contains no measurementValue but is still retained\n",
    "longVers = longVers.drop(longVers.index[0])"
   ]
  },
  {
   "cell_type": "code",
   "execution_count": 26,
   "metadata": {},
   "outputs": [],
   "source": [
    "#Writing long data csv file\n",
    "longVers.to_csv('../Mapped Data/FuTRES_EAP_Deer_Emery.csv')"
   ]
  },
  {
   "cell_type": "code",
   "execution_count": null,
   "metadata": {},
   "outputs": [],
   "source": []
  },
  {
   "cell_type": "code",
   "execution_count": null,
   "metadata": {},
   "outputs": [],
   "source": []
  }
 ],
 "metadata": {
  "kernelspec": {
   "display_name": "Python 3",
   "language": "python",
   "name": "python3"
  },
  "language_info": {
   "codemirror_mode": {
    "name": "ipython",
    "version": 3
   },
   "file_extension": ".py",
   "mimetype": "text/x-python",
   "name": "python",
   "nbconvert_exporter": "python",
   "pygments_lexer": "ipython3",
   "version": "3.8.3"
  }
 },
 "nbformat": 4,
 "nbformat_minor": 2
}
