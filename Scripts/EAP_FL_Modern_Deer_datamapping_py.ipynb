{
 "cells": [
  {
   "cell_type": "markdown",
   "metadata": {},
   "source": [
    "Data Wrangling Notebook for EAP Deer Data\n",
    "<br />\n",
    "Neeka Sewnath\n",
    "<br />\n",
    "nsewnath@ufl.edu"
   ]
  },
  {
   "cell_type": "code",
   "execution_count": 24,
   "metadata": {},
   "outputs": [],
   "source": [
    "import pandas as pd\n",
    "import numpy as np \n",
    "import uuid\n",
    "import re"
   ]
  },
  {
   "cell_type": "markdown",
   "metadata": {},
   "source": [
    "Silencing warnings that are unnecessary"
   ]
  },
  {
   "cell_type": "code",
   "execution_count": 25,
   "metadata": {},
   "outputs": [],
   "source": [
    "try:\n",
    "    import warnings\n",
    "    warnings.filterwarnings('ignore')\n",
    "except:\n",
    "    pass"
   ]
  },
  {
   "cell_type": "markdown",
   "metadata": {},
   "source": [
    "Import EAP Florida Modern Deer Data"
   ]
  },
  {
   "cell_type": "code",
   "execution_count": 26,
   "metadata": {},
   "outputs": [],
   "source": [
    "deerData = pd.read_csv(\"../Original_Data/EAP_Florida_Modern_Deer_Measurements_FORFUTRES_1_23_2020.csv\")"
   ]
  },
  {
   "cell_type": "markdown",
   "metadata": {},
   "source": [
    "Create GEOME required ageUnit column and populate it with \"year\""
   ]
  },
  {
   "cell_type": "code",
   "execution_count": 27,
   "metadata": {},
   "outputs": [],
   "source": [
    "deerData = deerData.assign(ageUnit = \"year\")"
   ]
  },
  {
   "cell_type": "markdown",
   "metadata": {},
   "source": [
    "Create yearCollected column and populate it with extracted year from eventDate"
   ]
  },
  {
   "cell_type": "code",
   "execution_count": 28,
   "metadata": {},
   "outputs": [],
   "source": [
    "deerData = deerData.assign(yearCollected = \"\")\n",
    "\n",
    "def find_year(date):\n",
    "    \"\"\"Converts scientific name to binomial nomenclature format\"\"\"\n",
    "    date = str(date)\n",
    "    slash = re.compile('/')\n",
    "    \n",
    "    #Finds '/' in string and assigns last value to year \n",
    "    if slash.findall(date):\n",
    "        date = date.split('/')\n",
    "        return date[2]\n",
    "\n",
    "# Assign year to yearCollected column\n",
    "deerData[\"yearCollected\"]  = deerData[\"eventDate\"].apply(find_year)"
   ]
  },
  {
   "cell_type": "markdown",
   "metadata": {},
   "source": [
    "Create individualID column and populate it with UUID value"
   ]
  },
  {
   "cell_type": "code",
   "execution_count": 29,
   "metadata": {},
   "outputs": [],
   "source": [
    "deerData=deerData.assign(individualID = '')\n",
    "deerData['individualID'] = [uuid.uuid4().hex for _ in range(len(deerData.index))]"
   ]
  },
  {
   "cell_type": "markdown",
   "metadata": {},
   "source": [
    "Standardize Sex Column"
   ]
  },
  {
   "cell_type": "code",
   "execution_count": 30,
   "metadata": {},
   "outputs": [],
   "source": [
    "female = deerData['sex']==\"F\"\n",
    "male = deerData['sex'] == \"M\"\n",
    "deerData['sex'][(female == False) & (male == False)] = \"not collected\"\n",
    "deerData['sex'][female == True] = \"female\"\n",
    "deerData['sex'][male == True] = \"male\""
   ]
  },
  {
   "cell_type": "markdown",
   "metadata": {},
   "source": [
    "Stadardize Side Column"
   ]
  },
  {
   "cell_type": "code",
   "execution_count": 31,
   "metadata": {},
   "outputs": [],
   "source": [
    "right = deerData['Side'] == \"R\"\n",
    "left = deerData['Side'] == \"L\"\n",
    "deerData['Side'][(right == False) & (left == False)] = \"\"\n",
    "deerData['Side'][right == True] = \"right\"\n",
    "deerData['Side'][left == True] = \"left\""
   ]
  },
  {
   "cell_type": "markdown",
   "metadata": {},
   "source": [
    "Set up verbatimAge column"
   ]
  },
  {
   "cell_type": "code",
   "execution_count": 32,
   "metadata": {},
   "outputs": [],
   "source": [
    "deerData[\"verbatimAgeValue\"] = deerData['ageValue']"
   ]
  },
  {
   "cell_type": "markdown",
   "metadata": {},
   "source": [
    "Standardize Reproduction Condition column"
   ]
  },
  {
   "cell_type": "code",
   "execution_count": 33,
   "metadata": {},
   "outputs": [],
   "source": [
    "reproduction_data=deerData[\"reproductiveCondition\"]\n",
    "not_pregnant_filter = reproduction_data.str.contains(\"not|non\")\n",
    "pregnant_filter = reproduction_data.str.contains(\"fetus|several\")\n",
    "space_filter = reproduction_data.str.contains(\"--\")\n",
    "\n",
    "# Reassigning data\n",
    "deerData[\"reproductiveCondition\"][not_pregnant_filter==True]=\"non-reproductive\"\n",
    "deerData[\"reproductiveCondition\"][pregnant_filter==True]=\"pregnant\"\n",
    "deerData[\"reproductiveCondition\"][space_filter==True]=\"\""
   ]
  },
  {
   "cell_type": "markdown",
   "metadata": {},
   "source": [
    "Standardize lifeStage column"
   ]
  },
  {
   "cell_type": "code",
   "execution_count": 34,
   "metadata": {},
   "outputs": [],
   "source": [
    "young_adult = deerData['lifeStage'] == \"young adult\"\n",
    "dash_age = deerData['lifeStage'] == \"--\"\n",
    "deerData['lifeStage'][young_adult == True] = \"adult\"\n",
    "deerData['lifeStage'][dash_age == True] = \"\""
   ]
  },
  {
   "cell_type": "markdown",
   "metadata": {},
   "source": [
    "Select specified columns for final dataset"
   ]
  },
  {
   "cell_type": "code",
   "execution_count": 35,
   "metadata": {},
   "outputs": [],
   "source": [
    "#Create column list\n",
    "cols = deerData.columns.tolist()\n",
    "\n",
    "#Specify desired columns\n",
    "cols = ['occurrenceId',\n",
    "        'references',\n",
    "        'individualID',\n",
    "        'scientificName',\n",
    "        'catalogNumber',\n",
    "        'sex',\n",
    "        'ageValue',\n",
    "        'lifeStage',\n",
    "        'occurrenceRemarks',\n",
    "        'ageUnit',\n",
    "        'country',\n",
    "        'stateProvince',\n",
    "        'locality',\n",
    "        'verbatimLocality',       \n",
    "        'decimalLatitude',\n",
    "        'decimalLongitude',\n",
    "        'verbatimEventDate',\n",
    "        'yearCollected',\n",
    "        'samplingProtocol',\n",
    "        'reproductiveCondition',\n",
    "        'eventRemarks',\n",
    "        'Side',\n",
    "        'Total Fresh Weight (g)',\n",
    "        'Height (mm) [define?]',\n",
    "        'TL (mm) [Total Length]',\n",
    "        'HF (mm) [Hind Foot Length]',\n",
    "        'TA (mm) [Tail Length]',\n",
    "        'En (mm) [Ear Notch = Ear Length]',\n",
    "#        'Calcaneus GL, (greatest length, von den Driesch, 1976), mm',\n",
    "#        'Calcaneus GB, (greatest breadth, von den Driesch 1976), mm',\n",
    "        'Tibia GL, (greatest length, von den Driesch 1976), mm',\n",
    "#        'Astragalus greatest depth medial',\n",
    "#        'Astragalus Dm; Astragalus Dm (greatest depth of the medial side, von den Driesch 1976), mm',\n",
    "#        'Astragalus GLI; Astragalus GLl, (greatest length of the lateral side, von den Driesch 1976), mm; Astragalus greatest length lateral',\n",
    "#         'Maximal medial depth',\n",
    "#         'Astragalus distal articular breadth',\n",
    "#         'Breadth astragalus of facies articularis distalis',\n",
    "#         'Breadth of astragalus distal articular surface',\n",
    "#         'Tibia SD; Tibia SD, (smallest breadth of the diaphysis, von den Driesch 1976), mm',\n",
    "#         'Tibia Ll; Tibia Ll, (length of the lateral side, von den Driesch 1976 *note she says only in horses), mm',\n",
    "#         'Tibia Bp; Tibia Bp, (greatest breadth of the proximal end, von den Driesch 1976), mm',\n",
    "#         'Tibia Bd; Tibia Bd, (greatest breadth of the distal end, von den Driesch 1976), mm',\n",
    "#         'Tibia Dd; Tibia Dd, (greatest depth of the distal end, von den Driesch 1976), mm',\n",
    "#          'Humerus.GLC',\n",
    "#          'Astragalus GH',\n",
    "#          'Astragalus Bfd',\n",
    "#          'Astragalus distal articular depth',\n",
    "        'Measurement Remarks',\n",
    "        'Measurements by',\n",
    "        'Measurement Date',\n",
    "        'Measurement Method',\n",
    "        'Measurement Accuracy',\n",
    "        'otherCatalogNumbers']\n",
    "\n",
    "#Subset dataframe\n",
    "deerData = deerData[cols]"
   ]
  },
  {
   "cell_type": "markdown",
   "metadata": {},
   "source": [
    "Matching column names to template "
   ]
  },
  {
   "cell_type": "code",
   "execution_count": 36,
   "metadata": {},
   "outputs": [],
   "source": [
    "#Matching template and column terms\n",
    "\n",
    "#Renaming columns \n",
    "deerData = deerData.rename(columns = {'occurrenceId':'occurrenceID',\n",
    "                                      'ageValue':'verbatimAgeValue',\n",
    "                                      'occurrenceRemarks':'ageEstimationMethod',\n",
    "                                      'Side': 'measurementSide',\n",
    "                                      'Measurement Remarks': 'measurementRemarks',\n",
    "                                      'Measurements by': 'measurementDeterminedBy',\n",
    "                                      'Measurement Date': 'measurementDeterminedDate',\n",
    "                                      'Measurement Method': 'measurementMethod',\n",
    "                                      'Measurement Accuracy': 'measurementAccuracy'})"
   ]
  },
  {
   "cell_type": "code",
   "execution_count": 37,
   "metadata": {},
   "outputs": [],
   "source": [
    "#Matching trait and ontology terms\n",
    "\n",
    "#Renaming columns\n",
    "deerData = deerData.rename(columns={'Total Fresh Weight (g)': 'body mass',\n",
    "                                    'Height (mm) [define?]': 'body height',\n",
    "                                    'TL (mm) [Total Length]': 'body length with tail',\n",
    "                                    'TA (mm) [Tail Length]' : 'tail length',\n",
    "                                    'HF (mm) [Hind Foot Length]': 'pes length',\n",
    "                                    'En (mm) [Ear Notch = Ear Length]': 'ear length to notch',\n",
    "#                                     'Calcaneus GL, (greatest length, von den Driesch, 1976), mm':'calcaneus length',\n",
    "#                                     'Calcaneus GB, (greatest breadth, von den Driesch 1976), mm':'breadth of calcaneus body',\n",
    "#                                     'Humerus.GLC':'humerus length from trochlea to caput',\n",
    "#                                     #'Astragalus greatest depth medial':'talus medial depth',\n",
    "#                                     'Maximal medial depth':'talus medial depth',\n",
    "#                                     'Astragalus GH':'talus length',\n",
    "#                                     'Tibia Bd; Tibia Bd, (greatest breadth of the distal end, von den Driesch 1976), mm':'tibia distal breadth',\n",
    "#                                     'Tibia Dd; Tibia Dd, (greatest depth of the distal end, von den Driesch 1976), mm':'tibia distal depth',\n",
    "#                                     'Tibia Bp; Tibia Bp, (greatest breadth of the proximal end, von den Driesch 1976), mm':'tibia proximal breadth',\n",
    "#                                     'Tibia SD; Tibia SD, (smallest breadth of the diaphysis, von den Driesch 1976), mm':'tibia diaphysis breadth',\n",
    "#                                     'Breadth of astragalus distal articular surface':'talus distal articular breadth (non-plantigrade)',\n",
    "#                                     'Astragalus Bfd':'talus distal articular breadth (non-plantigrade)',\n",
    "#                                     'Astragalus distal articular depth':'talus distal articular breadth (non-plantigrade)',\n",
    "#                                     'Astragalus distal articular breadth':'talus distal articular breadth (non-plantigrade)',\n",
    "#                                     'Tibia Ll; Tibia Ll, (length of the lateral side, von den Driesch 1976 *note she says only in horses), mm':'tibia lateral length',\n",
    "#                                     'Breadth astragalus of facies articularis distalis':'talus distal articular breadth (non-plantigrade)',\n",
    "                                    #'Astragalus Dm; Astragalus Dm (greatest depth of the medial side, von den Driesch 1976), mm':'talus medial depth',\n",
    "                                    #'Astragalus GLI; Astragalus GLl, (greatest length of the lateral side, von den Driesch 1976), mm; Astragalus greatest length lateral':'talus lateral length',\n",
    "                                    'Tibia GL, (greatest length, von den Driesch 1976), mm':'tibia length'})\n"
   ]
  },
  {
   "cell_type": "markdown",
   "metadata": {},
   "source": [
    "Create necessary materialSampleID column and populate with UUID (use hex to remove dashes). Create necessary eventID column and populate with materialSampleID column\n"
   ]
  },
  {
   "cell_type": "code",
   "execution_count": 38,
   "metadata": {},
   "outputs": [],
   "source": [
    "deerData=deerData.assign(materialSampleID = '')\n",
    "deerData['materialSampleID'] = [uuid.uuid4().hex for _ in range(len(deerData.index))]\n",
    "\n",
    "deerData=deerData.assign(eventID = deerData[\"materialSampleID\"])"
   ]
  },
  {
   "cell_type": "markdown",
   "metadata": {},
   "source": [
    "Add GEOME required columns"
   ]
  },
  {
   "cell_type": "code",
   "execution_count": 39,
   "metadata": {},
   "outputs": [],
   "source": [
    "deerData=deerData.assign(measurementMethod=\"Unknown\")\n",
    "deerData=deerData.assign(basisOfRecord=\"PreservedSpecimen\")"
   ]
  },
  {
   "cell_type": "markdown",
   "metadata": {},
   "source": [
    "Create a long version of the data frame"
   ]
  },
  {
   "cell_type": "code",
   "execution_count": 40,
   "metadata": {},
   "outputs": [],
   "source": [
    "#Creating long version, first specifiying keep variables, then naming variable and value\n",
    "longVers=pd.melt(deerData, \n",
    "                id_vars=['occurrenceID',\n",
    "                         'eventID',\n",
    "                         'references',\n",
    "                         'individualID',\n",
    "                         'scientificName',\n",
    "                         'catalogNumber',\n",
    "                         'otherCatalogNumbers',\n",
    "                         'sex',\n",
    "                         'verbatimAgeValue',\n",
    "                         'ageUnit',\n",
    "                         'lifeStage',\n",
    "                         'country',\n",
    "                         'ageEstimationMethod',\n",
    "                         'stateProvince',\n",
    "                         'locality',\n",
    "                         'verbatimLocality',\n",
    "                         'decimalLatitude',\n",
    "                         'decimalLongitude',\n",
    "                         'verbatimEventDate',\n",
    "                         'yearCollected',\n",
    "                         'samplingProtocol',\n",
    "                         'eventRemarks',\n",
    "                         'reproductiveCondition',\n",
    "                         'measurementRemarks',\n",
    "                         'measurementSide',\n",
    "                         'measurementMethod',\n",
    "                         'measurementAccuracy',\n",
    "                         'measurementDeterminedDate',\n",
    "                         'measurementDeterminedBy',\n",
    "                         'basisOfRecord',\n",
    "                         'materialSampleID'], \n",
    "                var_name = 'measurementType', \n",
    "                value_name = 'measurementValue')"
   ]
  },
  {
   "cell_type": "markdown",
   "metadata": {},
   "source": [
    "Populating measurementUnit column with appropriate measurement units in long version"
   ]
  },
  {
   "cell_type": "code",
   "execution_count": 41,
   "metadata": {},
   "outputs": [],
   "source": [
    "longVers=longVers.assign(measurementUnit=\"\")\n",
    "\n",
    "#Create filters\n",
    "long_body_mass_filter=longVers['measurementType']==\"body mass\"\n",
    "long_no_body_filter=longVers['measurementType']!=\"body mass\"\n",
    "\n",
    "#Assign units using filters\n",
    "longVers['measurementUnit'][long_body_mass_filter] = \"g\"\n",
    "longVers['measurementUnit'][long_no_body_filter] = \"mm\""
   ]
  },
  {
   "cell_type": "markdown",
   "metadata": {},
   "source": [
    "Create diagnosticID which is a unique number for each measurement"
   ]
  },
  {
   "cell_type": "code",
   "execution_count": 42,
   "metadata": {},
   "outputs": [],
   "source": [
    "longVers=longVers.assign(diagnosticID = '')\n",
    "longVers['diagnosticID'] = np.arange(len(longVers))"
   ]
  },
  {
   "cell_type": "markdown",
   "metadata": {},
   "source": [
    "If measurement value equals N/a or --, delete entire row"
   ]
  },
  {
   "cell_type": "code",
   "execution_count": 43,
   "metadata": {},
   "outputs": [],
   "source": [
    "longVers = longVers.dropna(subset=['measurementValue'])\n",
    "longVers = longVers[longVers.measurementValue != \"--\"]\n",
    "longVers = longVers[longVers.measurementValue != \"unf.\"]\n",
    "longVers = longVers[longVers.measurementValue != \"UNF\"]"
   ]
  },
  {
   "cell_type": "markdown",
   "metadata": {},
   "source": [
    "Write file as csv for GEOME upload"
   ]
  },
  {
   "cell_type": "code",
   "execution_count": 44,
   "metadata": {},
   "outputs": [],
   "source": [
    "#Writing long data csv file\n",
    "longVers.to_csv('../Mapped_Data/FuTRES_EAP_Deer_Emery.csv')"
   ]
  },
  {
   "cell_type": "code",
   "execution_count": null,
   "metadata": {},
   "outputs": [],
   "source": []
  }
 ],
 "metadata": {
  "kernelspec": {
   "display_name": "Python 3",
   "language": "python",
   "name": "python3"
  },
  "language_info": {
   "codemirror_mode": {
    "name": "ipython",
    "version": 3
   },
   "file_extension": ".py",
   "mimetype": "text/x-python",
   "name": "python",
   "nbconvert_exporter": "python",
   "pygments_lexer": "ipython3",
   "version": "3.8.10"
  }
 },
 "nbformat": 4,
 "nbformat_minor": 2
}
