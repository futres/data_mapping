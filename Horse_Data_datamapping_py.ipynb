{
 "cells": [
  {
   "cell_type": "code",
   "execution_count": 13,
   "metadata": {},
   "outputs": [],
   "source": [
    "import pandas as pd"
   ]
  },
  {
   "cell_type": "code",
   "execution_count": 14,
   "metadata": {},
   "outputs": [],
   "source": [
    "#Import Horse Data\n",
    "horseData = pd.read_csv(\"Horse data_Helena.csv\")"
   ]
  },
  {
   "cell_type": "code",
   "execution_count": 15,
   "metadata": {},
   "outputs": [],
   "source": [
    "#Rearrange columns so that template columns are first, followed by measurement values\n",
    "\n",
    "#Create column list\n",
    "cols = horseData.columns.tolist()\n",
    "\n",
    "#Specify desired columns\n",
    "cols = ['institutionCode',\n",
    "        'collectionCode',\n",
    "        'specimenID',\n",
    "        'side',\n",
    "        'scientificName',\n",
    "        'decimalLatitude',\n",
    "        'decimalLongitude',\n",
    "        'sitename',\n",
    "        'verbatimLocality',\n",
    "        'basisOfRecord',\n",
    "        'measurementType',\n",
    "        'measurementValue',\n",
    "        'measurementUnit',\n",
    "        'lithostratigraphicTerms',\n",
    "        'formation',\n",
    "        'member',\n",
    "        'references'\n",
    "       ]\n",
    "\n",
    "#Subset dataframe\n",
    "horseData = horseData[cols]"
   ]
  },
  {
   "cell_type": "code",
   "execution_count": 16,
   "metadata": {},
   "outputs": [],
   "source": [
    "#Matching template and column terms\n",
    "\n",
    "#Renaming columns \n",
    "horseData = horseData.rename(columns = {'specimenID':'catalogNumber',\n",
    "                                        'side':'measurementSide',\n",
    "                                        'sitename':'locality'})"
   ]
  },
  {
   "cell_type": "code",
   "execution_count": 17,
   "metadata": {},
   "outputs": [],
   "source": [
    "#Matching trait and ontology terms\n",
    "\n",
    "#Renaming columns\n",
    "#horseData = horseData.rename(columns={})\n",
    "\n",
    "#NOTE: No trait data renamed. See measurementType in csv file"
   ]
  },
  {
   "cell_type": "code",
   "execution_count": 18,
   "metadata": {},
   "outputs": [],
   "source": [
    "#create long version so that each trait has its own row\n",
    "\n",
    "#creating long version, first specifiying keep variables, then naming variable and value\n",
    "longVers=pd.melt(horseData, \n",
    "                id_vars=['institutionCode',\n",
    "                         'collectionCode',\n",
    "                         'catalogNumber',\n",
    "                         'measurementSide',\n",
    "                         'scientificName',\n",
    "                         'decimalLatitude',\n",
    "                         'decimalLongitude',\n",
    "                         'locality',\n",
    "                         'verbatimLocality',\n",
    "                         'basisOfRecord',\n",
    "                         'measurementType',\n",
    "                         'measurementValue',\n",
    "                         'measurementUnit',\n",
    "                         'lithostratigraphicTerms',\n",
    "                         'formation',\n",
    "                         'member',\n",
    "                         'references'], \n",
    "                var_name = 'trait', \n",
    "                value_name = 'measurement')\n",
    "\n",
    "#Writing long data csv file\n",
    "longVers.to_csv('Horse_Data_Long.csv');"
   ]
  },
  {
   "cell_type": "code",
   "execution_count": null,
   "metadata": {},
   "outputs": [],
   "source": []
  }
 ],
 "metadata": {
  "kernelspec": {
   "display_name": "Python 3",
   "language": "python",
   "name": "python3"
  },
  "language_info": {
   "codemirror_mode": {
    "name": "ipython",
    "version": 3
   },
   "file_extension": ".py",
   "mimetype": "text/x-python",
   "name": "python",
   "nbconvert_exporter": "python",
   "pygments_lexer": "ipython3",
   "version": "3.7.5"
  }
 },
 "nbformat": 4,
 "nbformat_minor": 2
}
