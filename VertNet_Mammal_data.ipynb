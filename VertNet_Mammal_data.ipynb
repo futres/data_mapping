{
 "cells": [
  {
   "cell_type": "code",
   "execution_count": 1,
   "metadata": {},
   "outputs": [],
   "source": [
    "import pandas as pd"
   ]
  },
  {
   "cell_type": "markdown",
   "metadata": {},
   "source": [
    "## For large datasets\n",
    "- compress file\n",
    "- create script that checks if it is valid, if not reloads it, if _still_ not then waits a bit (exponential background)\n",
    "wget : bash command that dl files from websites (in terminal: brew install wget)\n",
    "get file && unzip\n",
    "\n",
    "*Note*: need hash (fingerprint) for file & stable link to version of dataset"
   ]
  },
  {
   "cell_type": "code",
   "execution_count": null,
   "metadata": {},
   "outputs": [],
   "source": [
    "%%bash\n",
    "wget "
   ]
  },
  {
   "cell_type": "code",
   "execution_count": null,
   "metadata": {},
   "outputs": [],
   "source": [
    "#Import Mammal VertNet Data\n",
    "mammal = pd.read_csv(\"https://de.cyverse.org/dl/d/338C987D-F776-4439-910F-3AD2CD1D06E2/mammals_no_bats_2019-03-13.csv\")"
   ]
  },
  {
   "cell_type": "code",
   "execution_count": null,
   "metadata": {},
   "outputs": [],
   "source": [
    "#Rearrange columns so that template columns are first, followed by measurement values\n",
    "\n",
    "#Create column list\n",
    "cols = mammal.columns.tolist()\n",
    "\n",
    "#Specify desired columns\n",
    "cols = ['catalognumber',\n",
    "        'collectioncode',\n",
    "        'decimallatitude',\n",
    "        'decimallongitude',\n",
    "        'maximumelevation',\n",
    "        'minimumelevation,'\n",
    "        'eventdate',\n",
    "        'institutioncode',\n",
    "        'lifestage',\n",
    "        'locality',\n",
    "        'sex',\n",
    "        'scientificname',\n",
    "        'references',\n",
    "        '1st_body_mass',\n",
    "        '1st_ear_length',\n",
    "        '1st_hind_foot_length',\n",
    "        '1st_tail_length',\n",
    "        '1st_total_length']\n",
    "\n",
    "#Subset dataframe\n",
    "mammal = mammal[cols]\n"
   ]
  },
  {
   "cell_type": "code",
   "execution_count": null,
   "metadata": {},
   "outputs": [],
   "source": [
    "#Matching template and column terms\n",
    "\n",
    "#Renaming columns \n",
    "mammal = mammal.rename(columns = {'catalognumber': 'catalogNumber',\n",
    "                                 'collectioncode':'collectionCode',\n",
    "                                 'decimallatitude':'decimalLatitude',\n",
    "                                 'decimallongitude':'decimalLongitude',\n",
    "                                 'maximumelevation':'maximumElevationInMeters'\n",
    "                                 'minimumelevation':'minimumElevationInMeters'\n",
    "                                 'eventdate':'verbatimEventDate',\n",
    "                                 'institutioncode' :'institutionCode',\n",
    "                                 'lifestage':'lifeStage',\n",
    "                                 'locality':'verbatimLocality',\n",
    "                                 'scientificname':'scientificName'})"
   ]
  },
  {
   "cell_type": "code",
   "execution_count": null,
   "metadata": {},
   "outputs": [],
   "source": [
    "#Matching trait and ontology terms\n",
    "\n",
    "#Renaming columns\n",
    "mammal = mammal.rename(columns={'1st_body_mass':'body mass',\n",
    "                                '1st_ear_length': 'ear length',\n",
    "                                '1st_hind_foot_length':'hind foot length',\n",
    "                                '1st_tail_length':'tail length',\n",
    "                                '1st_total_length':'full body length'})"
   ]
  },
  {
   "cell_type": "code",
   "execution_count": null,
   "metadata": {},
   "outputs": [],
   "source": [
    "#create long version so that each trait has its own row\n",
    "\n",
    "#creating long version, first specifiying keep variables, then naming variable and value\n",
    "\n",
    "longVersMammal=pd.melt(mammal,\n",
    "                      id_vars=['catalogNumber',\n",
    "                      'collectionCode',\n",
    "                      'decimalLatitude',\n",
    "                      'decimalLongitude',\n",
    "                      'maximumElevationInMeters', \n",
    "                      'minimumElevationInMeters',\n",
    "                      'verbatimEventDate',\n",
    "                      'institutionCode',\n",
    "                      'lifeStage',\n",
    "                      'verbatimLocality',\n",
    "                      'sex',\n",
    "                      'scientificName',\n",
    "                      'references'], \n",
    "                var_name = 'trait',\n",
    "                value_name = 'measurement')\n",
    "\n",
    "#Writing long data csv file\n",
    "longVersMammal.to_csv('Mammal_Data_Long.csv')"
   ]
  },
  {
   "cell_type": "code",
   "execution_count": null,
   "metadata": {},
   "outputs": [],
   "source": []
  }
 ],
 "metadata": {
  "kernelspec": {
   "display_name": "Python 3",
   "language": "python",
   "name": "python3"
  },
  "language_info": {
   "codemirror_mode": {
    "name": "ipython",
    "version": 3
   },
   "file_extension": ".py",
   "mimetype": "text/x-python",
   "name": "python",
   "nbconvert_exporter": "python",
   "pygments_lexer": "ipython3",
   "version": "3.7.1"
  }
 },
 "nbformat": 4,
 "nbformat_minor": 2
}
